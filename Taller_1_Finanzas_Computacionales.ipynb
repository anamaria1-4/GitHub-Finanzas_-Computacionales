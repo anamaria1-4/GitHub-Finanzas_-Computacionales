{
  "cells": [
    {
      "cell_type": "markdown",
      "metadata": {
        "id": "view-in-github",
        "colab_type": "text"
      },
      "source": [
        "<a href=\"https://colab.research.google.com/github/anamaria1-4/GitHub-Finanzas_-Computacionales/blob/main/Taller_1_Finanzas_Computacionales.ipynb\" target=\"_parent\"><img src=\"https://colab.research.google.com/assets/colab-badge.svg\" alt=\"Open In Colab\"/></a>"
      ]
    },
    {
      "cell_type": "markdown",
      "metadata": {
        "id": "TsBD1Rpg5PX5"
      },
      "source": [
        "<img src=\"https://www.uexternado.edu.co/wp-content/uploads/2020/07/logo-uec.png\" width=\"180\" height=\"80\"> \n",
        "\n",
        "<center>\n",
        "\n",
        "<br><br>\n",
        "\n",
        "<b>Taller 1</b>\n",
        "<div style=\"font-size:175%;color:write; background-color: #0064b0;\">Pregrado en Finanzas y Relaciones Internacionales</div>\n",
        "<div style=\"font-size:175%;color:white; background-color: #0064b0;\">Finanzas Computacionales</div>\n",
        "<div style=\"font-size:175%;color:white; background-color: #0064b0;\">Profesor: Carlos Andrés Zapata Quimbayo</div>\n",
        "<div style=\"font-size:250%;color:white; background-color: #0064b0;\">Estudiantes: Daniel Steven Jorge Cardona y Ana María Rojas Giraldo</div>\n",
        "<div style=\"font-size:175%;color:white; background-color: #0064b0;\">2022</div> \n",
        "</center>\n"
      ]
    },
    {
      "cell_type": "markdown",
      "metadata": {
        "id": "W-tq8qq4QtuX"
      },
      "source": [
        "* Se importan las librerias necesarias."
      ]
    },
    {
      "cell_type": "code",
      "execution_count": 1,
      "metadata": {
        "id": "4wiA9x3X68v5"
      },
      "outputs": [],
      "source": [
        "import warnings \n",
        "import scipy.stats\n",
        "import numpy as np\n",
        "import pandas as pd \n",
        "import seaborn as sn\n",
        "import seaborn as sns\n",
        "from scipy import stats \n",
        "from scipy.stats import norm\n",
        "warnings.filterwarnings(\"ignore\")\n",
        "from matplotlib import pyplot as plt\n",
        "from numpy.core.function_base import linspace"
      ]
    },
    {
      "cell_type": "markdown",
      "metadata": {
        "id": "4cfAcqjBQ702"
      },
      "source": [
        "* Se importan yfinance para adquirir la información."
      ]
    },
    {
      "cell_type": "code",
      "execution_count": 2,
      "metadata": {
        "id": "r5F8j0G87C7k"
      },
      "outputs": [],
      "source": [
        "!pip install yfinance\n",
        "import yfinance as yf"
      ]
    },
    {
      "cell_type": "markdown",
      "metadata": {
        "id": "RLsiwTMcTrgH"
      },
      "source": [
        "# 1. A partir de Ticker se extrae toda la infomación de las compañias"
      ]
    },
    {
      "cell_type": "code",
      "execution_count": 164,
      "metadata": {
        "id": "5bCj4S_04HI9"
      },
      "outputs": [],
      "source": [
        "MCD= yf.Ticker(\"MCD\")\n",
        "GE= yf.Ticker(\"GE\")\n",
        "IBM= yf.Ticker(\"IBM\")\n",
        "T= yf.Ticker(\"T\")"
      ]
    },
    {
      "cell_type": "markdown",
      "metadata": {
        "id": "fs-3HeVmVRT-"
      },
      "source": [
        "* Se ajusta la escala de tiempo los activos de las compañias y se presenta el precio ajustado de las acciones."
      ]
    },
    {
      "cell_type": "code",
      "source": [
        "activos = [\"MCD\", \"GE\",\"IBM\",\"T\"]\n",
        "precios = yf.download(activos,start=\"2010-01-01\",end=\"2022-01-01\", interval=\"1Mo\").dropna()\n",
        "precios_adj = precios.loc[:,\"Adj Close\"]\n",
        "precios_adj"
      ],
      "metadata": {
        "id": "b4wJD5rfkBoT",
        "colab": {
          "base_uri": "https://localhost:8080/",
          "height": 0
        },
        "outputId": "8d02a69d-87ef-4208-e1ab-7f547fd6f201"
      },
      "execution_count": 165,
      "outputs": [
        {
          "output_type": "stream",
          "name": "stdout",
          "text": [
            "[*********************100%***********************]  4 of 4 completed\n"
          ]
        },
        {
          "output_type": "execute_result",
          "data": {
            "text/plain": [
              "                    GE         IBM         MCD          T\n",
              "Date                                                     \n",
              "2010-01-01   91.124504   76.034485   43.710945   7.295421\n",
              "2010-02-01   91.011169   78.997849   44.705189   7.279533\n",
              "2010-03-01  103.782219   80.031372   47.111698   7.581747\n",
              "2010-04-01  107.545769   80.499374   49.844341   7.646299\n",
              "2010-05-01   93.232941   78.165512   47.217594   7.283844\n",
              "...                ...         ...         ...        ...\n",
              "2021-08-01  105.016113  126.196457  232.276596  19.121510\n",
              "2021-09-01  102.645004  126.366844  237.139908  18.835596\n",
              "2021-10-01  104.559380  113.787476  241.506790  17.615221\n",
              "2021-11-01   94.708633  111.410385  240.572433  16.332380\n",
              "2021-12-01   94.190178  128.862717  265.117676  17.598621\n",
              "\n",
              "[144 rows x 4 columns]"
            ],
            "text/html": [
              "\n",
              "  <div id=\"df-1523e1b2-4897-415c-833c-a0443ded0220\">\n",
              "    <div class=\"colab-df-container\">\n",
              "      <div>\n",
              "<style scoped>\n",
              "    .dataframe tbody tr th:only-of-type {\n",
              "        vertical-align: middle;\n",
              "    }\n",
              "\n",
              "    .dataframe tbody tr th {\n",
              "        vertical-align: top;\n",
              "    }\n",
              "\n",
              "    .dataframe thead th {\n",
              "        text-align: right;\n",
              "    }\n",
              "</style>\n",
              "<table border=\"1\" class=\"dataframe\">\n",
              "  <thead>\n",
              "    <tr style=\"text-align: right;\">\n",
              "      <th></th>\n",
              "      <th>GE</th>\n",
              "      <th>IBM</th>\n",
              "      <th>MCD</th>\n",
              "      <th>T</th>\n",
              "    </tr>\n",
              "    <tr>\n",
              "      <th>Date</th>\n",
              "      <th></th>\n",
              "      <th></th>\n",
              "      <th></th>\n",
              "      <th></th>\n",
              "    </tr>\n",
              "  </thead>\n",
              "  <tbody>\n",
              "    <tr>\n",
              "      <th>2010-01-01</th>\n",
              "      <td>91.124504</td>\n",
              "      <td>76.034485</td>\n",
              "      <td>43.710945</td>\n",
              "      <td>7.295421</td>\n",
              "    </tr>\n",
              "    <tr>\n",
              "      <th>2010-02-01</th>\n",
              "      <td>91.011169</td>\n",
              "      <td>78.997849</td>\n",
              "      <td>44.705189</td>\n",
              "      <td>7.279533</td>\n",
              "    </tr>\n",
              "    <tr>\n",
              "      <th>2010-03-01</th>\n",
              "      <td>103.782219</td>\n",
              "      <td>80.031372</td>\n",
              "      <td>47.111698</td>\n",
              "      <td>7.581747</td>\n",
              "    </tr>\n",
              "    <tr>\n",
              "      <th>2010-04-01</th>\n",
              "      <td>107.545769</td>\n",
              "      <td>80.499374</td>\n",
              "      <td>49.844341</td>\n",
              "      <td>7.646299</td>\n",
              "    </tr>\n",
              "    <tr>\n",
              "      <th>2010-05-01</th>\n",
              "      <td>93.232941</td>\n",
              "      <td>78.165512</td>\n",
              "      <td>47.217594</td>\n",
              "      <td>7.283844</td>\n",
              "    </tr>\n",
              "    <tr>\n",
              "      <th>...</th>\n",
              "      <td>...</td>\n",
              "      <td>...</td>\n",
              "      <td>...</td>\n",
              "      <td>...</td>\n",
              "    </tr>\n",
              "    <tr>\n",
              "      <th>2021-08-01</th>\n",
              "      <td>105.016113</td>\n",
              "      <td>126.196457</td>\n",
              "      <td>232.276596</td>\n",
              "      <td>19.121510</td>\n",
              "    </tr>\n",
              "    <tr>\n",
              "      <th>2021-09-01</th>\n",
              "      <td>102.645004</td>\n",
              "      <td>126.366844</td>\n",
              "      <td>237.139908</td>\n",
              "      <td>18.835596</td>\n",
              "    </tr>\n",
              "    <tr>\n",
              "      <th>2021-10-01</th>\n",
              "      <td>104.559380</td>\n",
              "      <td>113.787476</td>\n",
              "      <td>241.506790</td>\n",
              "      <td>17.615221</td>\n",
              "    </tr>\n",
              "    <tr>\n",
              "      <th>2021-11-01</th>\n",
              "      <td>94.708633</td>\n",
              "      <td>111.410385</td>\n",
              "      <td>240.572433</td>\n",
              "      <td>16.332380</td>\n",
              "    </tr>\n",
              "    <tr>\n",
              "      <th>2021-12-01</th>\n",
              "      <td>94.190178</td>\n",
              "      <td>128.862717</td>\n",
              "      <td>265.117676</td>\n",
              "      <td>17.598621</td>\n",
              "    </tr>\n",
              "  </tbody>\n",
              "</table>\n",
              "<p>144 rows × 4 columns</p>\n",
              "</div>\n",
              "      <button class=\"colab-df-convert\" onclick=\"convertToInteractive('df-1523e1b2-4897-415c-833c-a0443ded0220')\"\n",
              "              title=\"Convert this dataframe to an interactive table.\"\n",
              "              style=\"display:none;\">\n",
              "        \n",
              "  <svg xmlns=\"http://www.w3.org/2000/svg\" height=\"24px\"viewBox=\"0 0 24 24\"\n",
              "       width=\"24px\">\n",
              "    <path d=\"M0 0h24v24H0V0z\" fill=\"none\"/>\n",
              "    <path d=\"M18.56 5.44l.94 2.06.94-2.06 2.06-.94-2.06-.94-.94-2.06-.94 2.06-2.06.94zm-11 1L8.5 8.5l.94-2.06 2.06-.94-2.06-.94L8.5 2.5l-.94 2.06-2.06.94zm10 10l.94 2.06.94-2.06 2.06-.94-2.06-.94-.94-2.06-.94 2.06-2.06.94z\"/><path d=\"M17.41 7.96l-1.37-1.37c-.4-.4-.92-.59-1.43-.59-.52 0-1.04.2-1.43.59L10.3 9.45l-7.72 7.72c-.78.78-.78 2.05 0 2.83L4 21.41c.39.39.9.59 1.41.59.51 0 1.02-.2 1.41-.59l7.78-7.78 2.81-2.81c.8-.78.8-2.07 0-2.86zM5.41 20L4 18.59l7.72-7.72 1.47 1.35L5.41 20z\"/>\n",
              "  </svg>\n",
              "      </button>\n",
              "      \n",
              "  <style>\n",
              "    .colab-df-container {\n",
              "      display:flex;\n",
              "      flex-wrap:wrap;\n",
              "      gap: 12px;\n",
              "    }\n",
              "\n",
              "    .colab-df-convert {\n",
              "      background-color: #E8F0FE;\n",
              "      border: none;\n",
              "      border-radius: 50%;\n",
              "      cursor: pointer;\n",
              "      display: none;\n",
              "      fill: #1967D2;\n",
              "      height: 32px;\n",
              "      padding: 0 0 0 0;\n",
              "      width: 32px;\n",
              "    }\n",
              "\n",
              "    .colab-df-convert:hover {\n",
              "      background-color: #E2EBFA;\n",
              "      box-shadow: 0px 1px 2px rgba(60, 64, 67, 0.3), 0px 1px 3px 1px rgba(60, 64, 67, 0.15);\n",
              "      fill: #174EA6;\n",
              "    }\n",
              "\n",
              "    [theme=dark] .colab-df-convert {\n",
              "      background-color: #3B4455;\n",
              "      fill: #D2E3FC;\n",
              "    }\n",
              "\n",
              "    [theme=dark] .colab-df-convert:hover {\n",
              "      background-color: #434B5C;\n",
              "      box-shadow: 0px 1px 3px 1px rgba(0, 0, 0, 0.15);\n",
              "      filter: drop-shadow(0px 1px 2px rgba(0, 0, 0, 0.3));\n",
              "      fill: #FFFFFF;\n",
              "    }\n",
              "  </style>\n",
              "\n",
              "      <script>\n",
              "        const buttonEl =\n",
              "          document.querySelector('#df-1523e1b2-4897-415c-833c-a0443ded0220 button.colab-df-convert');\n",
              "        buttonEl.style.display =\n",
              "          google.colab.kernel.accessAllowed ? 'block' : 'none';\n",
              "\n",
              "        async function convertToInteractive(key) {\n",
              "          const element = document.querySelector('#df-1523e1b2-4897-415c-833c-a0443ded0220');\n",
              "          const dataTable =\n",
              "            await google.colab.kernel.invokeFunction('convertToInteractive',\n",
              "                                                     [key], {});\n",
              "          if (!dataTable) return;\n",
              "\n",
              "          const docLinkHtml = 'Like what you see? Visit the ' +\n",
              "            '<a target=\"_blank\" href=https://colab.research.google.com/notebooks/data_table.ipynb>data table notebook</a>'\n",
              "            + ' to learn more about interactive tables.';\n",
              "          element.innerHTML = '';\n",
              "          dataTable['output_type'] = 'display_data';\n",
              "          await google.colab.output.renderOutput(dataTable, element);\n",
              "          const docLink = document.createElement('div');\n",
              "          docLink.innerHTML = docLinkHtml;\n",
              "          element.appendChild(docLink);\n",
              "        }\n",
              "      </script>\n",
              "    </div>\n",
              "  </div>\n",
              "  "
            ]
          },
          "metadata": {},
          "execution_count": 165
        }
      ]
    },
    {
      "cell_type": "markdown",
      "metadata": {
        "id": "Fes_nsLE_N1U"
      },
      "source": [
        "## a. Se calculan los retornos logarítmicos de las compañias. "
      ]
    },
    {
      "cell_type": "code",
      "execution_count": 166,
      "metadata": {
        "id": "3f7tH532BOJa",
        "colab": {
          "base_uri": "https://localhost:8080/",
          "height": 0
        },
        "outputId": "7cafd39d-6ad4-43bd-a3c0-a4faf2ed600a"
      },
      "outputs": [
        {
          "output_type": "execute_result",
          "data": {
            "text/plain": [
              "                  GE       IBM       MCD         T\n",
              "Date                                              \n",
              "2010-02-01 -0.001245  0.038234  0.022491 -0.002180\n",
              "2010-03-01  0.131312  0.012998  0.052432  0.040677\n",
              "2010-04-01  0.035622  0.005831  0.056384  0.008478\n",
              "2010-05-01 -0.142815 -0.029421 -0.054138 -0.048563\n",
              "2010-06-01 -0.125612 -0.009200 -0.006700 -0.004537\n",
              "...              ...       ...       ...       ...\n",
              "2021-08-01  0.017320 -0.004408 -0.021868  0.001370\n",
              "2021-09-01 -0.022837  0.001349  0.020721 -0.015065\n",
              "2021-10-01  0.018479 -0.104857  0.018247 -0.066985\n",
              "2021-11-01 -0.098950 -0.021112 -0.003876 -0.075614\n",
              "2021-12-01 -0.005489  0.145527  0.097153  0.074671\n",
              "\n",
              "[143 rows x 4 columns]"
            ],
            "text/html": [
              "\n",
              "  <div id=\"df-504ba091-b1f5-4c7f-9047-f5dc049f48c5\">\n",
              "    <div class=\"colab-df-container\">\n",
              "      <div>\n",
              "<style scoped>\n",
              "    .dataframe tbody tr th:only-of-type {\n",
              "        vertical-align: middle;\n",
              "    }\n",
              "\n",
              "    .dataframe tbody tr th {\n",
              "        vertical-align: top;\n",
              "    }\n",
              "\n",
              "    .dataframe thead th {\n",
              "        text-align: right;\n",
              "    }\n",
              "</style>\n",
              "<table border=\"1\" class=\"dataframe\">\n",
              "  <thead>\n",
              "    <tr style=\"text-align: right;\">\n",
              "      <th></th>\n",
              "      <th>GE</th>\n",
              "      <th>IBM</th>\n",
              "      <th>MCD</th>\n",
              "      <th>T</th>\n",
              "    </tr>\n",
              "    <tr>\n",
              "      <th>Date</th>\n",
              "      <th></th>\n",
              "      <th></th>\n",
              "      <th></th>\n",
              "      <th></th>\n",
              "    </tr>\n",
              "  </thead>\n",
              "  <tbody>\n",
              "    <tr>\n",
              "      <th>2010-02-01</th>\n",
              "      <td>-0.001245</td>\n",
              "      <td>0.038234</td>\n",
              "      <td>0.022491</td>\n",
              "      <td>-0.002180</td>\n",
              "    </tr>\n",
              "    <tr>\n",
              "      <th>2010-03-01</th>\n",
              "      <td>0.131312</td>\n",
              "      <td>0.012998</td>\n",
              "      <td>0.052432</td>\n",
              "      <td>0.040677</td>\n",
              "    </tr>\n",
              "    <tr>\n",
              "      <th>2010-04-01</th>\n",
              "      <td>0.035622</td>\n",
              "      <td>0.005831</td>\n",
              "      <td>0.056384</td>\n",
              "      <td>0.008478</td>\n",
              "    </tr>\n",
              "    <tr>\n",
              "      <th>2010-05-01</th>\n",
              "      <td>-0.142815</td>\n",
              "      <td>-0.029421</td>\n",
              "      <td>-0.054138</td>\n",
              "      <td>-0.048563</td>\n",
              "    </tr>\n",
              "    <tr>\n",
              "      <th>2010-06-01</th>\n",
              "      <td>-0.125612</td>\n",
              "      <td>-0.009200</td>\n",
              "      <td>-0.006700</td>\n",
              "      <td>-0.004537</td>\n",
              "    </tr>\n",
              "    <tr>\n",
              "      <th>...</th>\n",
              "      <td>...</td>\n",
              "      <td>...</td>\n",
              "      <td>...</td>\n",
              "      <td>...</td>\n",
              "    </tr>\n",
              "    <tr>\n",
              "      <th>2021-08-01</th>\n",
              "      <td>0.017320</td>\n",
              "      <td>-0.004408</td>\n",
              "      <td>-0.021868</td>\n",
              "      <td>0.001370</td>\n",
              "    </tr>\n",
              "    <tr>\n",
              "      <th>2021-09-01</th>\n",
              "      <td>-0.022837</td>\n",
              "      <td>0.001349</td>\n",
              "      <td>0.020721</td>\n",
              "      <td>-0.015065</td>\n",
              "    </tr>\n",
              "    <tr>\n",
              "      <th>2021-10-01</th>\n",
              "      <td>0.018479</td>\n",
              "      <td>-0.104857</td>\n",
              "      <td>0.018247</td>\n",
              "      <td>-0.066985</td>\n",
              "    </tr>\n",
              "    <tr>\n",
              "      <th>2021-11-01</th>\n",
              "      <td>-0.098950</td>\n",
              "      <td>-0.021112</td>\n",
              "      <td>-0.003876</td>\n",
              "      <td>-0.075614</td>\n",
              "    </tr>\n",
              "    <tr>\n",
              "      <th>2021-12-01</th>\n",
              "      <td>-0.005489</td>\n",
              "      <td>0.145527</td>\n",
              "      <td>0.097153</td>\n",
              "      <td>0.074671</td>\n",
              "    </tr>\n",
              "  </tbody>\n",
              "</table>\n",
              "<p>143 rows × 4 columns</p>\n",
              "</div>\n",
              "      <button class=\"colab-df-convert\" onclick=\"convertToInteractive('df-504ba091-b1f5-4c7f-9047-f5dc049f48c5')\"\n",
              "              title=\"Convert this dataframe to an interactive table.\"\n",
              "              style=\"display:none;\">\n",
              "        \n",
              "  <svg xmlns=\"http://www.w3.org/2000/svg\" height=\"24px\"viewBox=\"0 0 24 24\"\n",
              "       width=\"24px\">\n",
              "    <path d=\"M0 0h24v24H0V0z\" fill=\"none\"/>\n",
              "    <path d=\"M18.56 5.44l.94 2.06.94-2.06 2.06-.94-2.06-.94-.94-2.06-.94 2.06-2.06.94zm-11 1L8.5 8.5l.94-2.06 2.06-.94-2.06-.94L8.5 2.5l-.94 2.06-2.06.94zm10 10l.94 2.06.94-2.06 2.06-.94-2.06-.94-.94-2.06-.94 2.06-2.06.94z\"/><path d=\"M17.41 7.96l-1.37-1.37c-.4-.4-.92-.59-1.43-.59-.52 0-1.04.2-1.43.59L10.3 9.45l-7.72 7.72c-.78.78-.78 2.05 0 2.83L4 21.41c.39.39.9.59 1.41.59.51 0 1.02-.2 1.41-.59l7.78-7.78 2.81-2.81c.8-.78.8-2.07 0-2.86zM5.41 20L4 18.59l7.72-7.72 1.47 1.35L5.41 20z\"/>\n",
              "  </svg>\n",
              "      </button>\n",
              "      \n",
              "  <style>\n",
              "    .colab-df-container {\n",
              "      display:flex;\n",
              "      flex-wrap:wrap;\n",
              "      gap: 12px;\n",
              "    }\n",
              "\n",
              "    .colab-df-convert {\n",
              "      background-color: #E8F0FE;\n",
              "      border: none;\n",
              "      border-radius: 50%;\n",
              "      cursor: pointer;\n",
              "      display: none;\n",
              "      fill: #1967D2;\n",
              "      height: 32px;\n",
              "      padding: 0 0 0 0;\n",
              "      width: 32px;\n",
              "    }\n",
              "\n",
              "    .colab-df-convert:hover {\n",
              "      background-color: #E2EBFA;\n",
              "      box-shadow: 0px 1px 2px rgba(60, 64, 67, 0.3), 0px 1px 3px 1px rgba(60, 64, 67, 0.15);\n",
              "      fill: #174EA6;\n",
              "    }\n",
              "\n",
              "    [theme=dark] .colab-df-convert {\n",
              "      background-color: #3B4455;\n",
              "      fill: #D2E3FC;\n",
              "    }\n",
              "\n",
              "    [theme=dark] .colab-df-convert:hover {\n",
              "      background-color: #434B5C;\n",
              "      box-shadow: 0px 1px 3px 1px rgba(0, 0, 0, 0.15);\n",
              "      filter: drop-shadow(0px 1px 2px rgba(0, 0, 0, 0.3));\n",
              "      fill: #FFFFFF;\n",
              "    }\n",
              "  </style>\n",
              "\n",
              "      <script>\n",
              "        const buttonEl =\n",
              "          document.querySelector('#df-504ba091-b1f5-4c7f-9047-f5dc049f48c5 button.colab-df-convert');\n",
              "        buttonEl.style.display =\n",
              "          google.colab.kernel.accessAllowed ? 'block' : 'none';\n",
              "\n",
              "        async function convertToInteractive(key) {\n",
              "          const element = document.querySelector('#df-504ba091-b1f5-4c7f-9047-f5dc049f48c5');\n",
              "          const dataTable =\n",
              "            await google.colab.kernel.invokeFunction('convertToInteractive',\n",
              "                                                     [key], {});\n",
              "          if (!dataTable) return;\n",
              "\n",
              "          const docLinkHtml = 'Like what you see? Visit the ' +\n",
              "            '<a target=\"_blank\" href=https://colab.research.google.com/notebooks/data_table.ipynb>data table notebook</a>'\n",
              "            + ' to learn more about interactive tables.';\n",
              "          element.innerHTML = '';\n",
              "          dataTable['output_type'] = 'display_data';\n",
              "          await google.colab.output.renderOutput(dataTable, element);\n",
              "          const docLink = document.createElement('div');\n",
              "          docLink.innerHTML = docLinkHtml;\n",
              "          element.appendChild(docLink);\n",
              "        }\n",
              "      </script>\n",
              "    </div>\n",
              "  </div>\n",
              "  "
            ]
          },
          "metadata": {},
          "execution_count": 166
        }
      ],
      "source": [
        "retornos=np.log(precios_adj/precios_adj.shift()).dropna() \n",
        "retornos"
      ]
    },
    {
      "cell_type": "code",
      "execution_count": 167,
      "metadata": {
        "colab": {
          "base_uri": "https://localhost:8080/",
          "height": 0
        },
        "id": "54DFXTe997CQ",
        "outputId": "32c5a55c-23f7-4683-ebd2-8243b5a17f9e"
      },
      "outputs": [
        {
          "output_type": "display_data",
          "data": {
            "text/plain": [
              "<Figure size 576x360 with 1 Axes>"
            ],
            "image/png": "[encoded data removed]"
          },
          "metadata": {
            "needs_background": "light"
          }
        }
      ],
      "source": [
        "retornos_plot = precios_adj.pct_change().dropna()\n",
        "retornos_plot.plot(figsize=(8,5));"
      ]
    },
    {
      "cell_type": "markdown",
      "source": [
        "Es importante acotar que, para calcular la rentabilidad de las acciones de las respectivas compañias, se utilizan los retornos continuos o logarítmicos y no los retornos discretos de los precios ajustados. Esto se debe a que, principalmente, para modelar el comportamiento de los precios de las acciones, comportamiento que cambia con frecuencia, es conveniente hacerlo de forma continua con el tiempo, para así poder determinar la volatilidad o el valor de libre riesgo que se asume. Lo anterior, permite determinar las acciones que pueden representar mayor rentabilidad con la tasa de riesgo más baja posible. A partir de la gráfica anteriormente expuesta, se pueden observar los clusters de volatilidad, es decir, existen periodos en los cuales la volatilidad de las acciones es alta en comparación con los demás periodos."
      ],
      "metadata": {
        "id": "7cXefOHmi6Ej"
      }
    },
    {
      "cell_type": "markdown",
      "source": [
        "## b. Calcule las estadísticas descriptivas (media, mediana, desv. estándar, curtosis, simetría) para cada uno de ellos. Presente los estadísticos en una tabla para todos los activos. "
      ],
      "metadata": {
        "id": "xoiZsaH7_f6C"
      }
    },
    {
      "cell_type": "code",
      "source": [
        "retornos_estadisticas={\"GE\":pd.Series([retornos[\"GE\"].mean(),retornos[\"GE\"].median(),np.std(retornos[\"GE\"]),retornos[\"GE\"].kurt(),retornos[\"GE\"].skew()],index=[\"Media\",\"Mediana\",\"Desviación Estándar\",\"Curtosis\",\"Asimetría\"]),\"IBM\":pd.Series([retornos[\"IBM\"].mean(),retornos[\"IBM\"].median(),np.std(retornos[\"IBM\"]),retornos[\"IBM\"].kurt(),retornos[\"IBM\"].skew()],index=[\"Media\",\"Mediana\",\"Desviación Estándar\",\"Curtosis\",\"Asimetría\"]),\"MCD\":pd.Series([retornos[\"MCD\"].mean(),retornos[\"MCD\"].median(),np.std(retornos[\"MCD\"]),retornos[\"MCD\"].kurt(),retornos[\"MCD\"].skew()],index=[\"Media\",\"Mediana\",\"Desviación Estándar\",\"Curtosis\",\"Asimetría\"]),\"T\":pd.Series([retornos[\"T\"].mean(),retornos[\"T\"].median(),np.std(retornos[\"T\"]),retornos[\"T\"].kurt(),retornos[\"T\"].skew()],index=[\"Media\",\"Mediana\",\"Desviación Estándar\",\"Curtosis\",\"Asimetría\"])}\n",
        "df=pd.DataFrame(retornos_estadisticas)\n",
        "df"
      ],
      "metadata": {
        "colab": {
          "base_uri": "https://localhost:8080/",
          "height": 0
        },
        "id": "_yOJ0k6QdH5f",
        "outputId": "cff32384-9a46-4520-e3ef-121e17d232c9"
      },
      "execution_count": 168,
      "outputs": [
        {
          "output_type": "execute_result",
          "data": {
            "text/plain": [
              "                           GE       IBM       MCD         T\n",
              "Media                0.000231  0.003689  0.012605  0.006158\n",
              "Mediana             -0.001929  0.002620  0.011742  0.006483\n",
              "Desviación Estándar  0.086632  0.060324  0.042339  0.048129\n",
              "Curtosis             3.040755  2.653589  1.596995  1.549799\n",
              "Asimetría           -0.088296 -0.564634 -0.410193 -0.707906"
            ],
            "text/html": [
              "\n",
              "  <div id=\"df-2c673e66-0ace-4f6f-8827-c046cf3c54a6\">\n",
              "    <div class=\"colab-df-container\">\n",
              "      <div>\n",
              "<style scoped>\n",
              "    .dataframe tbody tr th:only-of-type {\n",
              "        vertical-align: middle;\n",
              "    }\n",
              "\n",
              "    .dataframe tbody tr th {\n",
              "        vertical-align: top;\n",
              "    }\n",
              "\n",
              "    .dataframe thead th {\n",
              "        text-align: right;\n",
              "    }\n",
              "</style>\n",
              "<table border=\"1\" class=\"dataframe\">\n",
              "  <thead>\n",
              "    <tr style=\"text-align: right;\">\n",
              "      <th></th>\n",
              "      <th>GE</th>\n",
              "      <th>IBM</th>\n",
              "      <th>MCD</th>\n",
              "      <th>T</th>\n",
              "    </tr>\n",
              "  </thead>\n",
              "  <tbody>\n",
              "    <tr>\n",
              "      <th>Media</th>\n",
              "      <td>0.000231</td>\n",
              "      <td>0.003689</td>\n",
              "      <td>0.012605</td>\n",
              "      <td>0.006158</td>\n",
              "    </tr>\n",
              "    <tr>\n",
              "      <th>Mediana</th>\n",
              "      <td>-0.001929</td>\n",
              "      <td>0.002620</td>\n",
              "      <td>0.011742</td>\n",
              "      <td>0.006483</td>\n",
              "    </tr>\n",
              "    <tr>\n",
              "      <th>Desviación Estándar</th>\n",
              "      <td>0.086632</td>\n",
              "      <td>0.060324</td>\n",
              "      <td>0.042339</td>\n",
              "      <td>0.048129</td>\n",
              "    </tr>\n",
              "    <tr>\n",
              "      <th>Curtosis</th>\n",
              "      <td>3.040755</td>\n",
              "      <td>2.653589</td>\n",
              "      <td>1.596995</td>\n",
              "      <td>1.549799</td>\n",
              "    </tr>\n",
              "    <tr>\n",
              "      <th>Asimetría</th>\n",
              "      <td>-0.088296</td>\n",
              "      <td>-0.564634</td>\n",
              "      <td>-0.410193</td>\n",
              "      <td>-0.707906</td>\n",
              "    </tr>\n",
              "  </tbody>\n",
              "</table>\n",
              "</div>\n",
              "      <button class=\"colab-df-convert\" onclick=\"convertToInteractive('df-2c673e66-0ace-4f6f-8827-c046cf3c54a6')\"\n",
              "              title=\"Convert this dataframe to an interactive table.\"\n",
              "              style=\"display:none;\">\n",
              "        \n",
              "  <svg xmlns=\"http://www.w3.org/2000/svg\" height=\"24px\"viewBox=\"0 0 24 24\"\n",
              "       width=\"24px\">\n",
              "    <path d=\"M0 0h24v24H0V0z\" fill=\"none\"/>\n",
              "    <path d=\"M18.56 5.44l.94 2.06.94-2.06 2.06-.94-2.06-.94-.94-2.06-.94 2.06-2.06.94zm-11 1L8.5 8.5l.94-2.06 2.06-.94-2.06-.94L8.5 2.5l-.94 2.06-2.06.94zm10 10l.94 2.06.94-2.06 2.06-.94-2.06-.94-.94-2.06-.94 2.06-2.06.94z\"/><path d=\"M17.41 7.96l-1.37-1.37c-.4-.4-.92-.59-1.43-.59-.52 0-1.04.2-1.43.59L10.3 9.45l-7.72 7.72c-.78.78-.78 2.05 0 2.83L4 21.41c.39.39.9.59 1.41.59.51 0 1.02-.2 1.41-.59l7.78-7.78 2.81-2.81c.8-.78.8-2.07 0-2.86zM5.41 20L4 18.59l7.72-7.72 1.47 1.35L5.41 20z\"/>\n",
              "  </svg>\n",
              "      </button>\n",
              "      \n",
              "  <style>\n",
              "    .colab-df-container {\n",
              "      display:flex;\n",
              "      flex-wrap:wrap;\n",
              "      gap: 12px;\n",
              "    }\n",
              "\n",
              "    .colab-df-convert {\n",
              "      background-color: #E8F0FE;\n",
              "      border: none;\n",
              "      border-radius: 50%;\n",
              "      cursor: pointer;\n",
              "      display: none;\n",
              "      fill: #1967D2;\n",
              "      height: 32px;\n",
              "      padding: 0 0 0 0;\n",
              "      width: 32px;\n",
              "    }\n",
              "\n",
              "    .colab-df-convert:hover {\n",
              "      background-color: #E2EBFA;\n",
              "      box-shadow: 0px 1px 2px rgba(60, 64, 67, 0.3), 0px 1px 3px 1px rgba(60, 64, 67, 0.15);\n",
              "      fill: #174EA6;\n",
              "    }\n",
              "\n",
              "    [theme=dark] .colab-df-convert {\n",
              "      background-color: #3B4455;\n",
              "      fill: #D2E3FC;\n",
              "    }\n",
              "\n",
              "    [theme=dark] .colab-df-convert:hover {\n",
              "      background-color: #434B5C;\n",
              "      box-shadow: 0px 1px 3px 1px rgba(0, 0, 0, 0.15);\n",
              "      filter: drop-shadow(0px 1px 2px rgba(0, 0, 0, 0.3));\n",
              "      fill: #FFFFFF;\n",
              "    }\n",
              "  </style>\n",
              "\n",
              "      <script>\n",
              "        const buttonEl =\n",
              "          document.querySelector('#df-2c673e66-0ace-4f6f-8827-c046cf3c54a6 button.colab-df-convert');\n",
              "        buttonEl.style.display =\n",
              "          google.colab.kernel.accessAllowed ? 'block' : 'none';\n",
              "\n",
              "        async function convertToInteractive(key) {\n",
              "          const element = document.querySelector('#df-2c673e66-0ace-4f6f-8827-c046cf3c54a6');\n",
              "          const dataTable =\n",
              "            await google.colab.kernel.invokeFunction('convertToInteractive',\n",
              "                                                     [key], {});\n",
              "          if (!dataTable) return;\n",
              "\n",
              "          const docLinkHtml = 'Like what you see? Visit the ' +\n",
              "            '<a target=\"_blank\" href=https://colab.research.google.com/notebooks/data_table.ipynb>data table notebook</a>'\n",
              "            + ' to learn more about interactive tables.';\n",
              "          element.innerHTML = '';\n",
              "          dataTable['output_type'] = 'display_data';\n",
              "          await google.colab.output.renderOutput(dataTable, element);\n",
              "          const docLink = document.createElement('div');\n",
              "          docLink.innerHTML = docLinkHtml;\n",
              "          element.appendChild(docLink);\n",
              "        }\n",
              "      </script>\n",
              "    </div>\n",
              "  </div>\n",
              "  "
            ]
          },
          "metadata": {},
          "execution_count": 168
        }
      ]
    },
    {
      "cell_type": "code",
      "source": [
        "x= pd.DataFrame()\n",
        "Media = retornos.mean()\n",
        "Mediana = retornos.median()\n",
        "Verificación = Media>Mediana\n",
        "\n",
        "x[\"Media\"] = Media\n",
        "x[\"Mediana\"] = Mediana\n",
        "x[\"Media>Mediana\"] = Verificación\n",
        "print(x)"
      ],
      "metadata": {
        "colab": {
          "base_uri": "https://localhost:8080/"
        },
        "id": "POWI7_eFEt6A",
        "outputId": "7b01a836-5636-47bc-e1b7-e4519c290c0e"
      },
      "execution_count": 169,
      "outputs": [
        {
          "output_type": "stream",
          "name": "stdout",
          "text": [
            "        Media   Mediana  Media>Mediana\n",
            "GE   0.000231 -0.001929           True\n",
            "IBM  0.003689  0.002620           True\n",
            "MCD  0.012605  0.011742           True\n",
            "T    0.006158  0.006483          False\n"
          ]
        }
      ]
    },
    {
      "cell_type": "markdown",
      "source": [
        "* **Curtosis:** esta medida de apuntamiento estudia las frecuencias alrededor de la media. Para la distribución normal estándar se menciona que la curtosis es exactamente igual a 0. No obstante, se puede observar que, las distribuciones de frecuencia de las acciones analizadas, no pertenencen a una distribución normal ya que su curtosis no es 0. Las distribución de frecuencia de estas acciones se encuentran clasificadas dentro de **Leptocúrtica**, es decir, los retornos de las acciones están mucho más concentradas alrededor del promedio y conforman una distribución mucho más apuntada que la normal.\n",
        "\n",
        "* **Asimetría:** Existe una distribución de frecuencias simétricas cuando la mediana y la media siempre coinciden. No obstante, se observa que para estos activos no existe una distribución de simetría. Por lo tanto, para los activos **GE**, **IBM** y **MCD** se aprecia una distribución asimética a la derecha, ya que la media es mayor a la mediana, es decir hay valores más separados de la media a la derecha. No obstante, el activo **T** tiene una distribución diferente; su distribución es asimetríca a la izquierda, ya que la media es menor a la mediana, es decir hay valores más separados de la media a la izquierda.\n",
        "\n",
        "* **Desviación Estándar:** Para analizar la variabilidad de las acciones con respecto a la media, la desviación estándar es una medida óptima. A partir de los datos obtenidos se puede observar que AT&T Inc y McDonald's cuentan con la dispersión de datos más baja; al encontrarse entre un rango de 0% - 5% se puede determinar una dispersión de datos mínima. Por otro lado, General Electric y International Business Machines tienen la dispesión de datos más alta entre los stocks; al encontrarse entre 5% y 15% se puede determinar que la dispersión del conjunto de datos es moderada. En caso de tener una desviación estándar mayor al 15% la dispersión de los datos sería alta, es decir, más volatil. \n",
        "\n"
      ],
      "metadata": {
        "id": "HQkqwok0wWQr"
      }
    },
    {
      "cell_type": "markdown",
      "source": [
        "## c. Presente en un Data Frame los retornos esperados y las volatilidades anualizadas "
      ],
      "metadata": {
        "id": "cIHgiuN2oOjb"
      }
    },
    {
      "cell_type": "markdown",
      "source": [
        "#### Media y Sigma de **General Electric** anualizada."
      ],
      "metadata": {
        "id": "-JFlWLsXep1j"
      }
    },
    {
      "cell_type": "code",
      "source": [
        "meanGE,sigmaGE=retornos[\"GE\"].mean(), retornos[\"GE\"].std()\n",
        "meanGE,sigmaGE\n",
        "meanGE*12, sigmaGE*np.sqrt(12)"
      ],
      "metadata": {
        "id": "hQcBzLAQ__Xl",
        "colab": {
          "base_uri": "https://localhost:8080/"
        },
        "outputId": "fdc3fb3c-1acc-4418-aad3-53269c23a163"
      },
      "execution_count": 170,
      "outputs": [
        {
          "output_type": "execute_result",
          "data": {
            "text/plain": [
              "(0.0027767126880143085, 0.3011573141305375)"
            ]
          },
          "metadata": {},
          "execution_count": 170
        }
      ]
    },
    {
      "cell_type": "markdown",
      "source": [
        "#### Retorno equivalente y conversión **General Electric** "
      ],
      "metadata": {
        "id": "-TFyUMocnueu"
      }
    },
    {
      "cell_type": "code",
      "source": [
        "np.log(1+meanGE*12)"
      ],
      "metadata": {
        "colab": {
          "base_uri": "https://localhost:8080/"
        },
        "id": "tKAZ9Pgwn1fH",
        "outputId": "33e0f1c3-c3a9-41c8-9cec-7c8dfc9a0458"
      },
      "execution_count": 171,
      "outputs": [
        {
          "output_type": "execute_result",
          "data": {
            "text/plain": [
              "0.002772864742784814"
            ]
          },
          "metadata": {},
          "execution_count": 171
        }
      ]
    },
    {
      "cell_type": "markdown",
      "source": [
        "#### Media y Sigma de **International Business Machines Corporation** anualizada."
      ],
      "metadata": {
        "id": "jXclDEj2fcQa"
      }
    },
    {
      "cell_type": "code",
      "source": [
        "meanIBM,sigmaIBM=retornos[\"IBM\"].mean(), retornos[\"IBM\"].std()\n",
        "meanIBM,sigmaIBM\n",
        "meanIBM*12, sigmaIBM*np.sqrt(12)"
      ],
      "metadata": {
        "colab": {
          "base_uri": "https://localhost:8080/"
        },
        "id": "qVFVqY94fGNO",
        "outputId": "286f5c97-ddb8-4850-e0d0-d0aba9d2d087"
      },
      "execution_count": 172,
      "outputs": [
        {
          "output_type": "execute_result",
          "data": {
            "text/plain": [
              "(0.04427082296124382, 0.20970342752713647)"
            ]
          },
          "metadata": {},
          "execution_count": 172
        }
      ]
    },
    {
      "cell_type": "markdown",
      "source": [
        "#### Retorno equivalente y conversión **International Business Machines Corporation** "
      ],
      "metadata": {
        "id": "9JVRD6KNn6HQ"
      }
    },
    {
      "cell_type": "code",
      "source": [
        "np.log(1+meanIBM*12)"
      ],
      "metadata": {
        "colab": {
          "base_uri": "https://localhost:8080/"
        },
        "id": "IQpxs2WRn-fc",
        "outputId": "8d672af4-c735-4a6e-c60a-b82ad8c3454d"
      },
      "execution_count": 173,
      "outputs": [
        {
          "output_type": "execute_result",
          "data": {
            "text/plain": [
              "0.043318864786467313"
            ]
          },
          "metadata": {},
          "execution_count": 173
        }
      ]
    },
    {
      "cell_type": "markdown",
      "source": [
        "#### Media y Sigma de **McDonald's Corporation** anualizada."
      ],
      "metadata": {
        "id": "NOi-zUJ5gIgB"
      }
    },
    {
      "cell_type": "code",
      "source": [
        "meanMCD,sigmaMCD=retornos[\"MCD\"].mean(), retornos[\"MCD\"].std()\n",
        "meanMCD,sigmaMCD\n",
        "meanMCD*12, sigmaMCD*np.sqrt(12)"
      ],
      "metadata": {
        "colab": {
          "base_uri": "https://localhost:8080/"
        },
        "id": "JiHw91Ozf8We",
        "outputId": "58886fef-8fb2-404c-d9ed-29643101703e"
      },
      "execution_count": 174,
      "outputs": [
        {
          "output_type": "execute_result",
          "data": {
            "text/plain": [
              "(0.15126505641435925, 0.14718346282973344)"
            ]
          },
          "metadata": {},
          "execution_count": 174
        }
      ]
    },
    {
      "cell_type": "markdown",
      "source": [
        "#### Retorno equivalente y conversión **McDonald's Corporation**"
      ],
      "metadata": {
        "id": "Y-cBXlo9o1rS"
      }
    },
    {
      "cell_type": "code",
      "source": [
        "np.log(1+meanMCD*12)"
      ],
      "metadata": {
        "colab": {
          "base_uri": "https://localhost:8080/"
        },
        "id": "YP5Xa9nhpjTp",
        "outputId": "55400a7c-b48e-4919-c6fe-1a4ef30be8b9"
      },
      "execution_count": 175,
      "outputs": [
        {
          "output_type": "execute_result",
          "data": {
            "text/plain": [
              "0.14086138682052068"
            ]
          },
          "metadata": {},
          "execution_count": 175
        }
      ]
    },
    {
      "cell_type": "markdown",
      "source": [
        "#### Media y Sigma de **AT&T Inc.** anualizada."
      ],
      "metadata": {
        "id": "m9n4CurQnTd8"
      }
    },
    {
      "cell_type": "code",
      "source": [
        "meanT,sigmaT=retornos[\"T\"].mean(), retornos[\"T\"].std()\n",
        "meanT,sigmaT\n",
        "meanT*12, sigmaT*np.sqrt(12)"
      ],
      "metadata": {
        "colab": {
          "base_uri": "https://localhost:8080/"
        },
        "id": "Pz_sF_mfnazr",
        "outputId": "b42860f7-18e2-4f88-e151-ab65f6fbe0cd"
      },
      "execution_count": 176,
      "outputs": [
        {
          "output_type": "execute_result",
          "data": {
            "text/plain": [
              "(0.07389429311632428, 0.16731129041989015)"
            ]
          },
          "metadata": {},
          "execution_count": 176
        }
      ]
    },
    {
      "cell_type": "markdown",
      "source": [
        "#### Retorno equivalente y conversión **AT&T Inc.**"
      ],
      "metadata": {
        "id": "Bz50uAZPptuS"
      }
    },
    {
      "cell_type": "code",
      "source": [
        "np.log(1+meanT*12)"
      ],
      "metadata": {
        "colab": {
          "base_uri": "https://localhost:8080/"
        },
        "id": "NxWfCPPoqArN",
        "outputId": "dde19c48-e599-4444-b5ae-789c1a6f3e38"
      },
      "execution_count": 177,
      "outputs": [
        {
          "output_type": "execute_result",
          "data": {
            "text/plain": [
              "0.07129156770116078"
            ]
          },
          "metadata": {},
          "execution_count": 177
        }
      ]
    },
    {
      "cell_type": "markdown",
      "source": [
        "* Se dividen los precios ajustados de cada activos."
      ],
      "metadata": {
        "id": "uRo-JIGQq-qW"
      }
    },
    {
      "cell_type": "code",
      "source": [
        "precios_adjGE, precios_adjIBM, precios_adjMCD, precios_adjT= precios_adj.loc[:,\"GE\"], precios_adj.loc[:,\"IBM\"], precios_adj.loc[:,\"MCD\"], precios_adj.loc[:,\"T\"]\n",
        "precios_adjGE, precios_adjIBM, precios_adjMCD, precios_adjT"
      ],
      "metadata": {
        "id": "Lc6MurmqqA7W",
        "colab": {
          "base_uri": "https://localhost:8080/"
        },
        "outputId": "56851f5e-6567-4350-b8eb-6c13735bca02"
      },
      "execution_count": 178,
      "outputs": [
        {
          "output_type": "execute_result",
          "data": {
            "text/plain": [
              "(Date\n",
              " 2010-01-01     91.124504\n",
              " 2010-02-01     91.011169\n",
              " 2010-03-01    103.782219\n",
              " 2010-04-01    107.545769\n",
              " 2010-05-01     93.232941\n",
              "                  ...    \n",
              " 2021-08-01    105.016113\n",
              " 2021-09-01    102.645004\n",
              " 2021-10-01    104.559380\n",
              " 2021-11-01     94.708633\n",
              " 2021-12-01     94.190178\n",
              " Name: GE, Length: 144, dtype: float64, Date\n",
              " 2010-01-01     76.034485\n",
              " 2010-02-01     78.997849\n",
              " 2010-03-01     80.031372\n",
              " 2010-04-01     80.499374\n",
              " 2010-05-01     78.165512\n",
              "                  ...    \n",
              " 2021-08-01    126.196457\n",
              " 2021-09-01    126.366844\n",
              " 2021-10-01    113.787476\n",
              " 2021-11-01    111.410385\n",
              " 2021-12-01    128.862717\n",
              " Name: IBM, Length: 144, dtype: float64, Date\n",
              " 2010-01-01     43.710945\n",
              " 2010-02-01     44.705189\n",
              " 2010-03-01     47.111698\n",
              " 2010-04-01     49.844341\n",
              " 2010-05-01     47.217594\n",
              "                  ...    \n",
              " 2021-08-01    232.276596\n",
              " 2021-09-01    237.139908\n",
              " 2021-10-01    241.506790\n",
              " 2021-11-01    240.572433\n",
              " 2021-12-01    265.117676\n",
              " Name: MCD, Length: 144, dtype: float64, Date\n",
              " 2010-01-01     7.295421\n",
              " 2010-02-01     7.279533\n",
              " 2010-03-01     7.581747\n",
              " 2010-04-01     7.646299\n",
              " 2010-05-01     7.283844\n",
              "                 ...    \n",
              " 2021-08-01    19.121510\n",
              " 2021-09-01    18.835596\n",
              " 2021-10-01    17.615221\n",
              " 2021-11-01    16.332380\n",
              " 2021-12-01    17.598621\n",
              " Name: T, Length: 144, dtype: float64)"
            ]
          },
          "metadata": {},
          "execution_count": 178
        }
      ]
    },
    {
      "cell_type": "markdown",
      "source": [
        "#### Volatilidad **General Electric**."
      ],
      "metadata": {
        "id": "AJFeDuLrrK9U"
      }
    },
    {
      "cell_type": "code",
      "source": [
        "retornosGE = np.log(precios_adjGE/precios_adjGE.shift(1)).dropna()\n",
        "sigma_dGE = retornosGE.std()\n",
        "mean_dGE=retornosGE.mean()\n",
        "mean_dGE\n",
        "sigma_dGE*np.sqrt(12)"
      ],
      "metadata": {
        "colab": {
          "base_uri": "https://localhost:8080/"
        },
        "id": "r14gwn2drNjw",
        "outputId": "99854525-5d3a-440d-c72d-56b030480df0"
      },
      "execution_count": 179,
      "outputs": [
        {
          "output_type": "execute_result",
          "data": {
            "text/plain": [
              "0.3011573141305375"
            ]
          },
          "metadata": {},
          "execution_count": 179
        }
      ]
    },
    {
      "cell_type": "code",
      "source": [
        "retornosGE.plot();"
      ],
      "metadata": {
        "colab": {
          "base_uri": "https://localhost:8080/",
          "height": 0
        },
        "id": "AhQB8IWzrSDc",
        "outputId": "6984545d-4e16-46b8-e297-bef6346c43d4"
      },
      "execution_count": 180,
      "outputs": [
        {
          "output_type": "display_data",
          "data": {
            "text/plain": [
              "<Figure size 432x288 with 1 Axes>"
            ],
            "image/png": "[encoded data removed]"
          },
          "metadata": {
            "needs_background": "light"
          }
        }
      ]
    },
    {
      "cell_type": "markdown",
      "source": [
        "#### Volatilidad **International Business Machines Corporation**."
      ],
      "metadata": {
        "id": "xT279ooIrw7S"
      }
    },
    {
      "cell_type": "code",
      "source": [
        "retornosIBM = np.log(precios_adjIBM/precios_adjIBM.shift(1)).dropna()\n",
        "sigma_dIBM = retornosIBM.std()\n",
        "mean_dIBM=retornosIBM.mean()\n",
        "mean_dIBM\n",
        "sigma_dIBM*np.sqrt(12)"
      ],
      "metadata": {
        "colab": {
          "base_uri": "https://localhost:8080/"
        },
        "id": "TQwe_ivvrbZ3",
        "outputId": "8186fb34-0682-4c8a-f52e-1ecad7b9d548"
      },
      "execution_count": 181,
      "outputs": [
        {
          "output_type": "execute_result",
          "data": {
            "text/plain": [
              "0.20970342752713647"
            ]
          },
          "metadata": {},
          "execution_count": 181
        }
      ]
    },
    {
      "cell_type": "code",
      "source": [
        "retornosIBM.plot();"
      ],
      "metadata": {
        "colab": {
          "base_uri": "https://localhost:8080/",
          "height": 0
        },
        "id": "XlMchg92r5P8",
        "outputId": "e4c9d479-9bdb-4b51-e286-09c7bd7c5ba0"
      },
      "execution_count": 182,
      "outputs": [
        {
          "output_type": "display_data",
          "data": {
            "text/plain": [
              "<Figure size 432x288 with 1 Axes>"
            ],
            "image/png": "[encoded data removed]"
          },
          "metadata": {
            "needs_background": "light"
          }
        }
      ]
    },
    {
      "cell_type": "markdown",
      "source": [
        "#### Volatilidad **McDonald's Corporation**"
      ],
      "metadata": {
        "id": "hZCJERZwsEx9"
      }
    },
    {
      "cell_type": "code",
      "source": [
        "retornosMCD = np.log(precios_adjMCD/precios_adjMCD.shift(1)).dropna()\n",
        "sigma_dMCD = retornosMCD.std()\n",
        "mean_dMCD=retornosMCD.mean()\n",
        "mean_dMCD\n",
        "sigma_dMCD*np.sqrt(12)"
      ],
      "metadata": {
        "colab": {
          "base_uri": "https://localhost:8080/"
        },
        "id": "u0-90r0vr8tQ",
        "outputId": "30d28c83-fe31-4c2c-c01d-b208d2ec384b"
      },
      "execution_count": 183,
      "outputs": [
        {
          "output_type": "execute_result",
          "data": {
            "text/plain": [
              "0.14718346282973344"
            ]
          },
          "metadata": {},
          "execution_count": 183
        }
      ]
    },
    {
      "cell_type": "code",
      "source": [
        "retornosMCD.plot();"
      ],
      "metadata": {
        "colab": {
          "base_uri": "https://localhost:8080/",
          "height": 0
        },
        "id": "Dwho8OmtsMZH",
        "outputId": "8d1b74a2-c3f8-4669-c3f2-f69d784367ad"
      },
      "execution_count": 184,
      "outputs": [
        {
          "output_type": "display_data",
          "data": {
            "text/plain": [
              "<Figure size 432x288 with 1 Axes>"
            ],
            "image/png": "[encoded data removed]"
          },
          "metadata": {
            "needs_background": "light"
          }
        }
      ]
    },
    {
      "cell_type": "markdown",
      "source": [
        "#### Volatilidad **AT&T Inc.**"
      ],
      "metadata": {
        "id": "s0I8-Bbsscg4"
      }
    },
    {
      "cell_type": "code",
      "source": [
        "retornosT = np.log(precios_adjT/precios_adjT.shift(1)).dropna()\n",
        "sigma_dT = retornosT.std()\n",
        "mean_dT=retornosT.mean()\n",
        "mean_dT\n",
        "sigma_dT*np.sqrt(12)"
      ],
      "metadata": {
        "colab": {
          "base_uri": "https://localhost:8080/"
        },
        "id": "O9GktTEtsQUD",
        "outputId": "d89b76f0-6779-484b-f309-f2c57b7b8018"
      },
      "execution_count": 185,
      "outputs": [
        {
          "output_type": "execute_result",
          "data": {
            "text/plain": [
              "0.16731129041989015"
            ]
          },
          "metadata": {},
          "execution_count": 185
        }
      ]
    },
    {
      "cell_type": "code",
      "source": [
        "retornosT.plot();"
      ],
      "metadata": {
        "colab": {
          "base_uri": "https://localhost:8080/",
          "height": 0
        },
        "id": "lxRHswHgsivw",
        "outputId": "657170cd-5afd-4659-ea2e-dfb8ccb4ac12"
      },
      "execution_count": 186,
      "outputs": [
        {
          "output_type": "display_data",
          "data": {
            "text/plain": [
              "<Figure size 432x288 with 1 Axes>"
            ],
            "image/png": "[encoded data removed]"
          },
          "metadata": {
            "needs_background": "light"
          }
        }
      ]
    },
    {
      "cell_type": "markdown",
      "source": [
        "* **DataFrame**"
      ],
      "metadata": {
        "id": "xvXS1Jx3OwXB"
      }
    },
    {
      "cell_type": "code",
      "source": [
        "retornos_esperados_y_volatilidades={\"GE\":pd.Series([np.log(1+meanGE*12),sigma_dGE*np.sqrt(12)],index=[\"Retorno Esperado\", \"Volatilidades Anualizadas\"]),\"IBM\":pd.Series([np.log(1+meanIBM*12),sigma_dIBM*np.sqrt(12)],index=[\"Retorno Esperado\", \"Volatilidades Anualizadas\"]), \"MCD\":pd.Series([np.log(1+meanMCD*12),sigma_dMCD*np.sqrt(12)],index=[\"Retorno Esperado\", \"Volatilidades Anualizadas\"]),\"T\":pd.Series([np.log(1+meanT*12),sigma_dT*np.sqrt(12)],index=[\"Retorno Esperado\", \"Volatilidades Anualizadas\"])}\n",
        "df1=pd.DataFrame(retornos_esperados_y_volatilidades)\n",
        "df1"
      ],
      "metadata": {
        "colab": {
          "base_uri": "https://localhost:8080/",
          "height": 0
        },
        "id": "YNV2YDuasmXp",
        "outputId": "6c29daf6-d258-4d9e-cd2b-30abcab90ebc"
      },
      "execution_count": 187,
      "outputs": [
        {
          "output_type": "execute_result",
          "data": {
            "text/plain": [
              "                                 GE       IBM       MCD         T\n",
              "Retorno Esperado           0.002773  0.043319  0.140861  0.071292\n",
              "Volatilidades Anualizadas  0.301157  0.209703  0.147183  0.167311"
            ],
            "text/html": [
              "\n",
              "  <div id=\"df-c2752d64-815f-45ce-8d01-6c22da697042\">\n",
              "    <div class=\"colab-df-container\">\n",
              "      <div>\n",
              "<style scoped>\n",
              "    .dataframe tbody tr th:only-of-type {\n",
              "        vertical-align: middle;\n",
              "    }\n",
              "\n",
              "    .dataframe tbody tr th {\n",
              "        vertical-align: top;\n",
              "    }\n",
              "\n",
              "    .dataframe thead th {\n",
              "        text-align: right;\n",
              "    }\n",
              "</style>\n",
              "<table border=\"1\" class=\"dataframe\">\n",
              "  <thead>\n",
              "    <tr style=\"text-align: right;\">\n",
              "      <th></th>\n",
              "      <th>GE</th>\n",
              "      <th>IBM</th>\n",
              "      <th>MCD</th>\n",
              "      <th>T</th>\n",
              "    </tr>\n",
              "  </thead>\n",
              "  <tbody>\n",
              "    <tr>\n",
              "      <th>Retorno Esperado</th>\n",
              "      <td>0.002773</td>\n",
              "      <td>0.043319</td>\n",
              "      <td>0.140861</td>\n",
              "      <td>0.071292</td>\n",
              "    </tr>\n",
              "    <tr>\n",
              "      <th>Volatilidades Anualizadas</th>\n",
              "      <td>0.301157</td>\n",
              "      <td>0.209703</td>\n",
              "      <td>0.147183</td>\n",
              "      <td>0.167311</td>\n",
              "    </tr>\n",
              "  </tbody>\n",
              "</table>\n",
              "</div>\n",
              "      <button class=\"colab-df-convert\" onclick=\"convertToInteractive('df-c2752d64-815f-45ce-8d01-6c22da697042')\"\n",
              "              title=\"Convert this dataframe to an interactive table.\"\n",
              "              style=\"display:none;\">\n",
              "        \n",
              "  <svg xmlns=\"http://www.w3.org/2000/svg\" height=\"24px\"viewBox=\"0 0 24 24\"\n",
              "       width=\"24px\">\n",
              "    <path d=\"M0 0h24v24H0V0z\" fill=\"none\"/>\n",
              "    <path d=\"M18.56 5.44l.94 2.06.94-2.06 2.06-.94-2.06-.94-.94-2.06-.94 2.06-2.06.94zm-11 1L8.5 8.5l.94-2.06 2.06-.94-2.06-.94L8.5 2.5l-.94 2.06-2.06.94zm10 10l.94 2.06.94-2.06 2.06-.94-2.06-.94-.94-2.06-.94 2.06-2.06.94z\"/><path d=\"M17.41 7.96l-1.37-1.37c-.4-.4-.92-.59-1.43-.59-.52 0-1.04.2-1.43.59L10.3 9.45l-7.72 7.72c-.78.78-.78 2.05 0 2.83L4 21.41c.39.39.9.59 1.41.59.51 0 1.02-.2 1.41-.59l7.78-7.78 2.81-2.81c.8-.78.8-2.07 0-2.86zM5.41 20L4 18.59l7.72-7.72 1.47 1.35L5.41 20z\"/>\n",
              "  </svg>\n",
              "      </button>\n",
              "      \n",
              "  <style>\n",
              "    .colab-df-container {\n",
              "      display:flex;\n",
              "      flex-wrap:wrap;\n",
              "      gap: 12px;\n",
              "    }\n",
              "\n",
              "    .colab-df-convert {\n",
              "      background-color: #E8F0FE;\n",
              "      border: none;\n",
              "      border-radius: 50%;\n",
              "      cursor: pointer;\n",
              "      display: none;\n",
              "      fill: #1967D2;\n",
              "      height: 32px;\n",
              "      padding: 0 0 0 0;\n",
              "      width: 32px;\n",
              "    }\n",
              "\n",
              "    .colab-df-convert:hover {\n",
              "      background-color: #E2EBFA;\n",
              "      box-shadow: 0px 1px 2px rgba(60, 64, 67, 0.3), 0px 1px 3px 1px rgba(60, 64, 67, 0.15);\n",
              "      fill: #174EA6;\n",
              "    }\n",
              "\n",
              "    [theme=dark] .colab-df-convert {\n",
              "      background-color: #3B4455;\n",
              "      fill: #D2E3FC;\n",
              "    }\n",
              "\n",
              "    [theme=dark] .colab-df-convert:hover {\n",
              "      background-color: #434B5C;\n",
              "      box-shadow: 0px 1px 3px 1px rgba(0, 0, 0, 0.15);\n",
              "      filter: drop-shadow(0px 1px 2px rgba(0, 0, 0, 0.3));\n",
              "      fill: #FFFFFF;\n",
              "    }\n",
              "  </style>\n",
              "\n",
              "      <script>\n",
              "        const buttonEl =\n",
              "          document.querySelector('#df-c2752d64-815f-45ce-8d01-6c22da697042 button.colab-df-convert');\n",
              "        buttonEl.style.display =\n",
              "          google.colab.kernel.accessAllowed ? 'block' : 'none';\n",
              "\n",
              "        async function convertToInteractive(key) {\n",
              "          const element = document.querySelector('#df-c2752d64-815f-45ce-8d01-6c22da697042');\n",
              "          const dataTable =\n",
              "            await google.colab.kernel.invokeFunction('convertToInteractive',\n",
              "                                                     [key], {});\n",
              "          if (!dataTable) return;\n",
              "\n",
              "          const docLinkHtml = 'Like what you see? Visit the ' +\n",
              "            '<a target=\"_blank\" href=https://colab.research.google.com/notebooks/data_table.ipynb>data table notebook</a>'\n",
              "            + ' to learn more about interactive tables.';\n",
              "          element.innerHTML = '';\n",
              "          dataTable['output_type'] = 'display_data';\n",
              "          await google.colab.output.renderOutput(dataTable, element);\n",
              "          const docLink = document.createElement('div');\n",
              "          docLink.innerHTML = docLinkHtml;\n",
              "          element.appendChild(docLink);\n",
              "        }\n",
              "      </script>\n",
              "    </div>\n",
              "  </div>\n",
              "  "
            ]
          },
          "metadata": {},
          "execution_count": 187
        }
      ]
    },
    {
      "cell_type": "markdown",
      "source": [
        "General Electric tiene el porcentaje de volatilidad más alto (30,11%) entre los demás activos analizados. No obstante, tiene el retorno esperado más bajo (0,27%). Por lo tanto, no es el activo más eficiente, ya que al realizar una inversión,  si se desea una rentabilidad mayor, se debe asumir un riesgo mayor, pero para este caso no es así, ya que al asumir un mayor riesgo se recibirá una rentabilidad menor. Por otro lado, se determina que los activos de la compañia McDonald's  tienen una rentabilidad esperada mayor con un menor riesgo entre los stocks, lo cual permite determinar que tiene mejor eficiencia entre los otros activos. Toda inversión conlleva un riesgo, por lo tanto, es importante conocer bien la relación riesgo/retorno para tomar la mejor desición al momento de invertir. "
      ],
      "metadata": {
        "id": "HlyRndf9fif8"
      }
    },
    {
      "cell_type": "markdown",
      "source": [
        "## d. Calcule la matriz de correlaciones de Pearson y de Sperman "
      ],
      "metadata": {
        "id": "f9DmSLv5589c"
      }
    },
    {
      "cell_type": "markdown",
      "source": [
        "#### Correlación de Pearson"
      ],
      "metadata": {
        "id": "PQ-R39a0tI8K"
      }
    },
    {
      "cell_type": "code",
      "source": [
        "retornos.corr()"
      ],
      "metadata": {
        "colab": {
          "base_uri": "https://localhost:8080/",
          "height": 0
        },
        "id": "gpzRvbXntLt6",
        "outputId": "5a6715af-828f-4239-fff7-e21000bfa174"
      },
      "execution_count": 188,
      "outputs": [
        {
          "output_type": "execute_result",
          "data": {
            "text/plain": [
              "           GE       IBM       MCD         T\n",
              "GE   1.000000  0.363578  0.151318  0.346994\n",
              "IBM  0.363578  1.000000  0.322563  0.412459\n",
              "MCD  0.151318  0.322563  1.000000  0.338351\n",
              "T    0.346994  0.412459  0.338351  1.000000"
            ],
            "text/html": [
              "\n",
              "  <div id=\"df-e652ef05-d02b-4470-95ce-88c894fbf1f7\">\n",
              "    <div class=\"colab-df-container\">\n",
              "      <div>\n",
              "<style scoped>\n",
              "    .dataframe tbody tr th:only-of-type {\n",
              "        vertical-align: middle;\n",
              "    }\n",
              "\n",
              "    .dataframe tbody tr th {\n",
              "        vertical-align: top;\n",
              "    }\n",
              "\n",
              "    .dataframe thead th {\n",
              "        text-align: right;\n",
              "    }\n",
              "</style>\n",
              "<table border=\"1\" class=\"dataframe\">\n",
              "  <thead>\n",
              "    <tr style=\"text-align: right;\">\n",
              "      <th></th>\n",
              "      <th>GE</th>\n",
              "      <th>IBM</th>\n",
              "      <th>MCD</th>\n",
              "      <th>T</th>\n",
              "    </tr>\n",
              "  </thead>\n",
              "  <tbody>\n",
              "    <tr>\n",
              "      <th>GE</th>\n",
              "      <td>1.000000</td>\n",
              "      <td>0.363578</td>\n",
              "      <td>0.151318</td>\n",
              "      <td>0.346994</td>\n",
              "    </tr>\n",
              "    <tr>\n",
              "      <th>IBM</th>\n",
              "      <td>0.363578</td>\n",
              "      <td>1.000000</td>\n",
              "      <td>0.322563</td>\n",
              "      <td>0.412459</td>\n",
              "    </tr>\n",
              "    <tr>\n",
              "      <th>MCD</th>\n",
              "      <td>0.151318</td>\n",
              "      <td>0.322563</td>\n",
              "      <td>1.000000</td>\n",
              "      <td>0.338351</td>\n",
              "    </tr>\n",
              "    <tr>\n",
              "      <th>T</th>\n",
              "      <td>0.346994</td>\n",
              "      <td>0.412459</td>\n",
              "      <td>0.338351</td>\n",
              "      <td>1.000000</td>\n",
              "    </tr>\n",
              "  </tbody>\n",
              "</table>\n",
              "</div>\n",
              "      <button class=\"colab-df-convert\" onclick=\"convertToInteractive('df-e652ef05-d02b-4470-95ce-88c894fbf1f7')\"\n",
              "              title=\"Convert this dataframe to an interactive table.\"\n",
              "              style=\"display:none;\">\n",
              "        \n",
              "  <svg xmlns=\"http://www.w3.org/2000/svg\" height=\"24px\"viewBox=\"0 0 24 24\"\n",
              "       width=\"24px\">\n",
              "    <path d=\"M0 0h24v24H0V0z\" fill=\"none\"/>\n",
              "    <path d=\"M18.56 5.44l.94 2.06.94-2.06 2.06-.94-2.06-.94-.94-2.06-.94 2.06-2.06.94zm-11 1L8.5 8.5l.94-2.06 2.06-.94-2.06-.94L8.5 2.5l-.94 2.06-2.06.94zm10 10l.94 2.06.94-2.06 2.06-.94-2.06-.94-.94-2.06-.94 2.06-2.06.94z\"/><path d=\"M17.41 7.96l-1.37-1.37c-.4-.4-.92-.59-1.43-.59-.52 0-1.04.2-1.43.59L10.3 9.45l-7.72 7.72c-.78.78-.78 2.05 0 2.83L4 21.41c.39.39.9.59 1.41.59.51 0 1.02-.2 1.41-.59l7.78-7.78 2.81-2.81c.8-.78.8-2.07 0-2.86zM5.41 20L4 18.59l7.72-7.72 1.47 1.35L5.41 20z\"/>\n",
              "  </svg>\n",
              "      </button>\n",
              "      \n",
              "  <style>\n",
              "    .colab-df-container {\n",
              "      display:flex;\n",
              "      flex-wrap:wrap;\n",
              "      gap: 12px;\n",
              "    }\n",
              "\n",
              "    .colab-df-convert {\n",
              "      background-color: #E8F0FE;\n",
              "      border: none;\n",
              "      border-radius: 50%;\n",
              "      cursor: pointer;\n",
              "      display: none;\n",
              "      fill: #1967D2;\n",
              "      height: 32px;\n",
              "      padding: 0 0 0 0;\n",
              "      width: 32px;\n",
              "    }\n",
              "\n",
              "    .colab-df-convert:hover {\n",
              "      background-color: #E2EBFA;\n",
              "      box-shadow: 0px 1px 2px rgba(60, 64, 67, 0.3), 0px 1px 3px 1px rgba(60, 64, 67, 0.15);\n",
              "      fill: #174EA6;\n",
              "    }\n",
              "\n",
              "    [theme=dark] .colab-df-convert {\n",
              "      background-color: #3B4455;\n",
              "      fill: #D2E3FC;\n",
              "    }\n",
              "\n",
              "    [theme=dark] .colab-df-convert:hover {\n",
              "      background-color: #434B5C;\n",
              "      box-shadow: 0px 1px 3px 1px rgba(0, 0, 0, 0.15);\n",
              "      filter: drop-shadow(0px 1px 2px rgba(0, 0, 0, 0.3));\n",
              "      fill: #FFFFFF;\n",
              "    }\n",
              "  </style>\n",
              "\n",
              "      <script>\n",
              "        const buttonEl =\n",
              "          document.querySelector('#df-e652ef05-d02b-4470-95ce-88c894fbf1f7 button.colab-df-convert');\n",
              "        buttonEl.style.display =\n",
              "          google.colab.kernel.accessAllowed ? 'block' : 'none';\n",
              "\n",
              "        async function convertToInteractive(key) {\n",
              "          const element = document.querySelector('#df-e652ef05-d02b-4470-95ce-88c894fbf1f7');\n",
              "          const dataTable =\n",
              "            await google.colab.kernel.invokeFunction('convertToInteractive',\n",
              "                                                     [key], {});\n",
              "          if (!dataTable) return;\n",
              "\n",
              "          const docLinkHtml = 'Like what you see? Visit the ' +\n",
              "            '<a target=\"_blank\" href=https://colab.research.google.com/notebooks/data_table.ipynb>data table notebook</a>'\n",
              "            + ' to learn more about interactive tables.';\n",
              "          element.innerHTML = '';\n",
              "          dataTable['output_type'] = 'display_data';\n",
              "          await google.colab.output.renderOutput(dataTable, element);\n",
              "          const docLink = document.createElement('div');\n",
              "          docLink.innerHTML = docLinkHtml;\n",
              "          element.appendChild(docLink);\n",
              "        }\n",
              "      </script>\n",
              "    </div>\n",
              "  </div>\n",
              "  "
            ]
          },
          "metadata": {},
          "execution_count": 188
        }
      ]
    },
    {
      "cell_type": "markdown",
      "source": [
        "El coeficiente de correlación está ligado directamente con el grado de asociación lineal de los stocks, es decir, permite conocer si la relación entre las acciones es directa o inversamente proporcional. \n",
        "\n",
        "Los stocks de las compañias analizadas tienen una relación lineal positiva reducida o miníma entre ellas, ya que se encuentran entre 0 y 0.5. No obstante, existe una relación más fuerte entre **AT&T** y **International Business Machines** con una correlación de 0.412. Es importante acotar que, si la correlación entre los datos se encuentra entre 0.6 y 0.9 existe una relación moderada. Para obtener una correlación alta o fuerte es necesario obtentener una correlación entre 0.9 y 1. En el caso en el que sea una negativa existe una correlación inversa entre las variables, por ejemplos, si los stocks de General Electrics aumentan, los stocks de McDonald's disminuyen."
      ],
      "metadata": {
        "id": "KXpoYJxM2Uzm"
      }
    },
    {
      "cell_type": "markdown",
      "source": [
        "#### Correlación de Sperman"
      ],
      "metadata": {
        "id": "pSLOUIzRtYRI"
      }
    },
    {
      "cell_type": "code",
      "source": [
        "retornos.corr(method=\"spearman\")"
      ],
      "metadata": {
        "colab": {
          "base_uri": "https://localhost:8080/",
          "height": 0
        },
        "id": "MYxmbe7etSXx",
        "outputId": "b1107eb5-f33e-43fb-c5a2-9f1279e0c4c1"
      },
      "execution_count": 189,
      "outputs": [
        {
          "output_type": "execute_result",
          "data": {
            "text/plain": [
              "           GE       IBM       MCD         T\n",
              "GE   1.000000  0.343396  0.091615  0.312855\n",
              "IBM  0.343396  1.000000  0.260223  0.358745\n",
              "MCD  0.091615  0.260223  1.000000  0.299497\n",
              "T    0.312855  0.358745  0.299497  1.000000"
            ],
            "text/html": [
              "\n",
              "  <div id=\"df-c339f24c-ef0b-4891-9e2f-9c387349cdcd\">\n",
              "    <div class=\"colab-df-container\">\n",
              "      <div>\n",
              "<style scoped>\n",
              "    .dataframe tbody tr th:only-of-type {\n",
              "        vertical-align: middle;\n",
              "    }\n",
              "\n",
              "    .dataframe tbody tr th {\n",
              "        vertical-align: top;\n",
              "    }\n",
              "\n",
              "    .dataframe thead th {\n",
              "        text-align: right;\n",
              "    }\n",
              "</style>\n",
              "<table border=\"1\" class=\"dataframe\">\n",
              "  <thead>\n",
              "    <tr style=\"text-align: right;\">\n",
              "      <th></th>\n",
              "      <th>GE</th>\n",
              "      <th>IBM</th>\n",
              "      <th>MCD</th>\n",
              "      <th>T</th>\n",
              "    </tr>\n",
              "  </thead>\n",
              "  <tbody>\n",
              "    <tr>\n",
              "      <th>GE</th>\n",
              "      <td>1.000000</td>\n",
              "      <td>0.343396</td>\n",
              "      <td>0.091615</td>\n",
              "      <td>0.312855</td>\n",
              "    </tr>\n",
              "    <tr>\n",
              "      <th>IBM</th>\n",
              "      <td>0.343396</td>\n",
              "      <td>1.000000</td>\n",
              "      <td>0.260223</td>\n",
              "      <td>0.358745</td>\n",
              "    </tr>\n",
              "    <tr>\n",
              "      <th>MCD</th>\n",
              "      <td>0.091615</td>\n",
              "      <td>0.260223</td>\n",
              "      <td>1.000000</td>\n",
              "      <td>0.299497</td>\n",
              "    </tr>\n",
              "    <tr>\n",
              "      <th>T</th>\n",
              "      <td>0.312855</td>\n",
              "      <td>0.358745</td>\n",
              "      <td>0.299497</td>\n",
              "      <td>1.000000</td>\n",
              "    </tr>\n",
              "  </tbody>\n",
              "</table>\n",
              "</div>\n",
              "      <button class=\"colab-df-convert\" onclick=\"convertToInteractive('df-c339f24c-ef0b-4891-9e2f-9c387349cdcd')\"\n",
              "              title=\"Convert this dataframe to an interactive table.\"\n",
              "              style=\"display:none;\">\n",
              "        \n",
              "  <svg xmlns=\"http://www.w3.org/2000/svg\" height=\"24px\"viewBox=\"0 0 24 24\"\n",
              "       width=\"24px\">\n",
              "    <path d=\"M0 0h24v24H0V0z\" fill=\"none\"/>\n",
              "    <path d=\"M18.56 5.44l.94 2.06.94-2.06 2.06-.94-2.06-.94-.94-2.06-.94 2.06-2.06.94zm-11 1L8.5 8.5l.94-2.06 2.06-.94-2.06-.94L8.5 2.5l-.94 2.06-2.06.94zm10 10l.94 2.06.94-2.06 2.06-.94-2.06-.94-.94-2.06-.94 2.06-2.06.94z\"/><path d=\"M17.41 7.96l-1.37-1.37c-.4-.4-.92-.59-1.43-.59-.52 0-1.04.2-1.43.59L10.3 9.45l-7.72 7.72c-.78.78-.78 2.05 0 2.83L4 21.41c.39.39.9.59 1.41.59.51 0 1.02-.2 1.41-.59l7.78-7.78 2.81-2.81c.8-.78.8-2.07 0-2.86zM5.41 20L4 18.59l7.72-7.72 1.47 1.35L5.41 20z\"/>\n",
              "  </svg>\n",
              "      </button>\n",
              "      \n",
              "  <style>\n",
              "    .colab-df-container {\n",
              "      display:flex;\n",
              "      flex-wrap:wrap;\n",
              "      gap: 12px;\n",
              "    }\n",
              "\n",
              "    .colab-df-convert {\n",
              "      background-color: #E8F0FE;\n",
              "      border: none;\n",
              "      border-radius: 50%;\n",
              "      cursor: pointer;\n",
              "      display: none;\n",
              "      fill: #1967D2;\n",
              "      height: 32px;\n",
              "      padding: 0 0 0 0;\n",
              "      width: 32px;\n",
              "    }\n",
              "\n",
              "    .colab-df-convert:hover {\n",
              "      background-color: #E2EBFA;\n",
              "      box-shadow: 0px 1px 2px rgba(60, 64, 67, 0.3), 0px 1px 3px 1px rgba(60, 64, 67, 0.15);\n",
              "      fill: #174EA6;\n",
              "    }\n",
              "\n",
              "    [theme=dark] .colab-df-convert {\n",
              "      background-color: #3B4455;\n",
              "      fill: #D2E3FC;\n",
              "    }\n",
              "\n",
              "    [theme=dark] .colab-df-convert:hover {\n",
              "      background-color: #434B5C;\n",
              "      box-shadow: 0px 1px 3px 1px rgba(0, 0, 0, 0.15);\n",
              "      filter: drop-shadow(0px 1px 2px rgba(0, 0, 0, 0.3));\n",
              "      fill: #FFFFFF;\n",
              "    }\n",
              "  </style>\n",
              "\n",
              "      <script>\n",
              "        const buttonEl =\n",
              "          document.querySelector('#df-c339f24c-ef0b-4891-9e2f-9c387349cdcd button.colab-df-convert');\n",
              "        buttonEl.style.display =\n",
              "          google.colab.kernel.accessAllowed ? 'block' : 'none';\n",
              "\n",
              "        async function convertToInteractive(key) {\n",
              "          const element = document.querySelector('#df-c339f24c-ef0b-4891-9e2f-9c387349cdcd');\n",
              "          const dataTable =\n",
              "            await google.colab.kernel.invokeFunction('convertToInteractive',\n",
              "                                                     [key], {});\n",
              "          if (!dataTable) return;\n",
              "\n",
              "          const docLinkHtml = 'Like what you see? Visit the ' +\n",
              "            '<a target=\"_blank\" href=https://colab.research.google.com/notebooks/data_table.ipynb>data table notebook</a>'\n",
              "            + ' to learn more about interactive tables.';\n",
              "          element.innerHTML = '';\n",
              "          dataTable['output_type'] = 'display_data';\n",
              "          await google.colab.output.renderOutput(dataTable, element);\n",
              "          const docLink = document.createElement('div');\n",
              "          docLink.innerHTML = docLinkHtml;\n",
              "          element.appendChild(docLink);\n",
              "        }\n",
              "      </script>\n",
              "    </div>\n",
              "  </div>\n",
              "  "
            ]
          },
          "metadata": {},
          "execution_count": 189
        }
      ]
    },
    {
      "cell_type": "markdown",
      "source": [
        "El coeficiente de Spearman tiene la misma intensión del coeficiente de correlación de Pearson. No obstante, esta es una medida para los casos donde se tienen tanto variables discretas o continuas en una escala al menos de tipo ordinal, ya que el coeficiente de correlación de Pearson solo se define para variables cuantitativas continuas. Es un método no paramétrico muy utilizado cuando no se satisface la condición de normalidad necesaria para aplicar la correlación de Pearson. El coeficiente de correlación por rangos de Spearman varía de -1.0 a\n",
        "+1.0 y se interpreta igual que el coeficiente de correlación de Pearson, en que el valor positivo\n",
        "cercano a 1.0 indica una fuerte relación: si un rango crece el otro crece. Las corrrelaciones cercanas a -1.0 indican una fuerte relación pero negativa entre los rangos: cuando un rango crece el otro disminuye. Por  lo tanto, se puede determniar que la relación más débil existente entre los activos se encuentra entre **General Electric** y **McDonald's** con una correlación de 0.0916. Aunque en general las correlaciones son débiles, los stocks con mayor correlación se encuentra entre **International Business Machines** y **AT&T**, al igual que en la correlación de Pearson. Es importante acotar que las correlaciones de Spearman son menores a las correlaciones de Pearson. "
      ],
      "metadata": {
        "id": "42tEqHE3H9vK"
      }
    },
    {
      "cell_type": "markdown",
      "source": [
        "## e. Grafique el histograma de frecuencia de los retornos para dos de las cuatro acciones. "
      ],
      "metadata": {
        "id": "o_h_amm06BQ1"
      }
    },
    {
      "cell_type": "markdown",
      "source": [
        "* Sturge's Rulef: Se calcula el número óptimo de contenedores para el historgrama."
      ],
      "metadata": {
        "id": "In0ibCuxUFMH"
      }
    },
    {
      "cell_type": "code",
      "source": [
        "np.log(143)*3.32+1"
      ],
      "metadata": {
        "colab": {
          "base_uri": "https://localhost:8080/"
        },
        "id": "VPv_jtHcTlm3",
        "outputId": "1b073f97-c798-4060-fd56-b60ca4ffbd87"
      },
      "execution_count": 190,
      "outputs": [
        {
          "output_type": "execute_result",
          "data": {
            "text/plain": [
              "17.47664417246289"
            ]
          },
          "metadata": {},
          "execution_count": 190
        }
      ]
    },
    {
      "cell_type": "markdown",
      "source": [
        "* Se calculan las frecuencias de los retornos logarítmicos."
      ],
      "metadata": {
        "id": "bBHLYh40Qhg8"
      }
    },
    {
      "cell_type": "code",
      "source": [
        "sns.histplot(retornos[\"GE\"],kde=True);"
      ],
      "metadata": {
        "colab": {
          "base_uri": "https://localhost:8080/",
          "height": 0
        },
        "id": "ebg9aBSwtuKB",
        "outputId": "49cb4773-ed45-439b-d237-a71869492029"
      },
      "execution_count": 191,
      "outputs": [
        {
          "output_type": "display_data",
          "data": {
            "text/plain": [
              "<Figure size 432x288 with 1 Axes>"
            ],
            "image/png": "[encoded data removed]"
          },
          "metadata": {
            "needs_background": "light"
          }
        }
      ]
    },
    {
      "cell_type": "markdown",
      "source": [
        "* Se normalizan las frecuencias"
      ],
      "metadata": {
        "id": "dOfmaBHV5O1P"
      }
    },
    {
      "cell_type": "code",
      "source": [
        "ret= np.log(precios_adj/precios_adj.shift()).dropna()\n",
        "sns.histplot(data=ret, x=\"GE\", kde=True, bins=18);"
      ],
      "metadata": {
        "colab": {
          "base_uri": "https://localhost:8080/",
          "height": 0
        },
        "id": "zzI47LJ8tugd",
        "outputId": "f8318de0-ef00-45f2-ad8d-364f2e74182f"
      },
      "execution_count": 192,
      "outputs": [
        {
          "output_type": "display_data",
          "data": {
            "text/plain": [
              "<Figure size 432x288 with 1 Axes>"
            ],
            "image/png": "[encoded data removed]"
          },
          "metadata": {
            "needs_background": "light"
          }
        }
      ]
    },
    {
      "cell_type": "markdown",
      "source": [
        "A partir de la gráfica se puede observar que tan bien se encuentran ajustados los datos. Es importante normalizar los datos para lograr una aproximaxión de la distribución normal. No obstante, al trabajar con periodicidad diaria el exceso de curtosis aumenta, por lo tanto, se puede corregir cambiando la periodicidad a mensual como se esta trabajando. Si los datos se encuentran alineados indica que entre la distribución teórica y acumulada los supuestos se cumplen muy bien. Después de normalizar la gráfica se puede afirmar que existe un problema curtosis a la derecha, por lo tanto, invalidará el supuesto de normalidad. Dentro del análisis de stocks siempre habrá un exceso de curtosis, pero la media y la desviación estándar son serán suficientes para solucionar este problema."
      ],
      "metadata": {
        "id": "jETAYWcD5v5L"
      }
    },
    {
      "cell_type": "markdown",
      "source": [
        "* Se calculan los retornos logarítmicos."
      ],
      "metadata": {
        "id": "EZ9sEJWgYdhP"
      }
    },
    {
      "cell_type": "code",
      "source": [
        "sns.histplot(retornos[\"T\"],kde=True);"
      ],
      "metadata": {
        "colab": {
          "base_uri": "https://localhost:8080/",
          "height": 0
        },
        "id": "MlamzZZYusHn",
        "outputId": "68290d04-516e-486b-c88b-e647ee09377a"
      },
      "execution_count": 193,
      "outputs": [
        {
          "output_type": "display_data",
          "data": {
            "text/plain": [
              "<Figure size 432x288 with 1 Axes>"
            ],
            "image/png": "[encoded data removed]"
          },
          "metadata": {
            "needs_background": "light"
          }
        }
      ]
    },
    {
      "cell_type": "markdown",
      "source": [
        "* Se normalizan las frecuencias"
      ],
      "metadata": {
        "id": "DQ5nqCbXYtHZ"
      }
    },
    {
      "cell_type": "code",
      "source": [
        "ret= np.log(precios_adj/precios_adj.shift()).dropna()\n",
        "sns.histplot(data=ret, x=\"T\", kde=True, bins=18);"
      ],
      "metadata": {
        "colab": {
          "base_uri": "https://localhost:8080/",
          "height": 0
        },
        "id": "Np2LwEm4u2Hj",
        "outputId": "3776f0d9-5814-45d0-d8bc-a89a614dab2f"
      },
      "execution_count": 194,
      "outputs": [
        {
          "output_type": "display_data",
          "data": {
            "text/plain": [
              "<Figure size 432x288 with 1 Axes>"
            ],
            "image/png": "[encoded data removed]"
          },
          "metadata": {
            "needs_background": "light"
          }
        }
      ]
    },
    {
      "cell_type": "markdown",
      "source": [
        "Después de normalizar la gráfica se puede afirmar que existe un problema curtosis a la izquierda, como se menciono en el punto b, por lo tanto, invalidará el supuesto de normalidad. No obstante, existe una gran concentración de datos con respecto a su media, es decir, los datos se acercaron a 0.0061."
      ],
      "metadata": {
        "id": "wUl42zxyF08f"
      }
    },
    {
      "cell_type": "code",
      "source": [
        "ret['GE'].plot(kind='kde',label=\"MCD\")\n",
        "ret['T'].plot(kind='kde',label=\"T\")\n",
        "plt.legend();"
      ],
      "metadata": {
        "colab": {
          "base_uri": "https://localhost:8080/",
          "height": 0
        },
        "id": "G1zXiFT5vODe",
        "outputId": "762956ef-d8f7-4685-9cbb-84b9ff4c6a7a"
      },
      "execution_count": 195,
      "outputs": [
        {
          "output_type": "display_data",
          "data": {
            "text/plain": [
              "<Figure size 432x288 with 1 Axes>"
            ],
            "image/png": "[encoded data removed]"
          },
          "metadata": {
            "needs_background": "light"
          }
        }
      ]
    },
    {
      "cell_type": "markdown",
      "source": [
        "**McDonald's** tiene una distribución empirica más normal que **AT&T**. Además, AT&T tiene mayor volatilidad, ya que la distancia es mayor. "
      ],
      "metadata": {
        "id": "8Ctz0kU-HJKJ"
      }
    },
    {
      "cell_type": "markdown",
      "source": [
        "## f. Implemente las pruebas de normalidad de Kolmogorov-Smirnov para todos los activos. Consolide los resultados en un Data Frame para todos.\n"
      ],
      "metadata": {
        "id": "OsGyeO17nHj-"
      }
    },
    {
      "cell_type": "code",
      "source": [
        "KS={\"GE\":stats.kstest(retornos[\"GE\"],\"norm\"),\"IBM\":stats.kstest(retornos[\"IBM\"],\"norm\"),\"MCD\":stats.kstest(retornos[\"MCD\"],\"norm\"), \"T\":stats.kstest(retornos[\"T\"],\"norm\")}\n",
        "KS_PN=pd.DataFrame(KS, index=[\"Estadisticas\",\"P-Valor\"])\n",
        "KS_PN"
      ],
      "metadata": {
        "colab": {
          "base_uri": "https://localhost:8080/",
          "height": 0
        },
        "id": "K7KWwzJeSUst",
        "outputId": "e9727a4a-f97d-41cc-db96-600a714158f9"
      },
      "execution_count": 196,
      "outputs": [
        {
          "output_type": "execute_result",
          "data": {
            "text/plain": [
              "                        GE           IBM           MCD             T\n",
              "Estadisticas  4.159825e-01  4.372657e-01  4.543298e-01  4.606995e-01\n",
              "P-Valor       6.375005e-23  2.144125e-25  1.736399e-27  2.713389e-28"
            ],
            "text/html": [
              "\n",
              "  <div id=\"df-d4990712-f9d0-47e9-92c4-d6b917e26a61\">\n",
              "    <div class=\"colab-df-container\">\n",
              "      <div>\n",
              "<style scoped>\n",
              "    .dataframe tbody tr th:only-of-type {\n",
              "        vertical-align: middle;\n",
              "    }\n",
              "\n",
              "    .dataframe tbody tr th {\n",
              "        vertical-align: top;\n",
              "    }\n",
              "\n",
              "    .dataframe thead th {\n",
              "        text-align: right;\n",
              "    }\n",
              "</style>\n",
              "<table border=\"1\" class=\"dataframe\">\n",
              "  <thead>\n",
              "    <tr style=\"text-align: right;\">\n",
              "      <th></th>\n",
              "      <th>GE</th>\n",
              "      <th>IBM</th>\n",
              "      <th>MCD</th>\n",
              "      <th>T</th>\n",
              "    </tr>\n",
              "  </thead>\n",
              "  <tbody>\n",
              "    <tr>\n",
              "      <th>Estadisticas</th>\n",
              "      <td>4.159825e-01</td>\n",
              "      <td>4.372657e-01</td>\n",
              "      <td>4.543298e-01</td>\n",
              "      <td>4.606995e-01</td>\n",
              "    </tr>\n",
              "    <tr>\n",
              "      <th>P-Valor</th>\n",
              "      <td>6.375005e-23</td>\n",
              "      <td>2.144125e-25</td>\n",
              "      <td>1.736399e-27</td>\n",
              "      <td>2.713389e-28</td>\n",
              "    </tr>\n",
              "  </tbody>\n",
              "</table>\n",
              "</div>\n",
              "      <button class=\"colab-df-convert\" onclick=\"convertToInteractive('df-d4990712-f9d0-47e9-92c4-d6b917e26a61')\"\n",
              "              title=\"Convert this dataframe to an interactive table.\"\n",
              "              style=\"display:none;\">\n",
              "        \n",
              "  <svg xmlns=\"http://www.w3.org/2000/svg\" height=\"24px\"viewBox=\"0 0 24 24\"\n",
              "       width=\"24px\">\n",
              "    <path d=\"M0 0h24v24H0V0z\" fill=\"none\"/>\n",
              "    <path d=\"M18.56 5.44l.94 2.06.94-2.06 2.06-.94-2.06-.94-.94-2.06-.94 2.06-2.06.94zm-11 1L8.5 8.5l.94-2.06 2.06-.94-2.06-.94L8.5 2.5l-.94 2.06-2.06.94zm10 10l.94 2.06.94-2.06 2.06-.94-2.06-.94-.94-2.06-.94 2.06-2.06.94z\"/><path d=\"M17.41 7.96l-1.37-1.37c-.4-.4-.92-.59-1.43-.59-.52 0-1.04.2-1.43.59L10.3 9.45l-7.72 7.72c-.78.78-.78 2.05 0 2.83L4 21.41c.39.39.9.59 1.41.59.51 0 1.02-.2 1.41-.59l7.78-7.78 2.81-2.81c.8-.78.8-2.07 0-2.86zM5.41 20L4 18.59l7.72-7.72 1.47 1.35L5.41 20z\"/>\n",
              "  </svg>\n",
              "      </button>\n",
              "      \n",
              "  <style>\n",
              "    .colab-df-container {\n",
              "      display:flex;\n",
              "      flex-wrap:wrap;\n",
              "      gap: 12px;\n",
              "    }\n",
              "\n",
              "    .colab-df-convert {\n",
              "      background-color: #E8F0FE;\n",
              "      border: none;\n",
              "      border-radius: 50%;\n",
              "      cursor: pointer;\n",
              "      display: none;\n",
              "      fill: #1967D2;\n",
              "      height: 32px;\n",
              "      padding: 0 0 0 0;\n",
              "      width: 32px;\n",
              "    }\n",
              "\n",
              "    .colab-df-convert:hover {\n",
              "      background-color: #E2EBFA;\n",
              "      box-shadow: 0px 1px 2px rgba(60, 64, 67, 0.3), 0px 1px 3px 1px rgba(60, 64, 67, 0.15);\n",
              "      fill: #174EA6;\n",
              "    }\n",
              "\n",
              "    [theme=dark] .colab-df-convert {\n",
              "      background-color: #3B4455;\n",
              "      fill: #D2E3FC;\n",
              "    }\n",
              "\n",
              "    [theme=dark] .colab-df-convert:hover {\n",
              "      background-color: #434B5C;\n",
              "      box-shadow: 0px 1px 3px 1px rgba(0, 0, 0, 0.15);\n",
              "      filter: drop-shadow(0px 1px 2px rgba(0, 0, 0, 0.3));\n",
              "      fill: #FFFFFF;\n",
              "    }\n",
              "  </style>\n",
              "\n",
              "      <script>\n",
              "        const buttonEl =\n",
              "          document.querySelector('#df-d4990712-f9d0-47e9-92c4-d6b917e26a61 button.colab-df-convert');\n",
              "        buttonEl.style.display =\n",
              "          google.colab.kernel.accessAllowed ? 'block' : 'none';\n",
              "\n",
              "        async function convertToInteractive(key) {\n",
              "          const element = document.querySelector('#df-d4990712-f9d0-47e9-92c4-d6b917e26a61');\n",
              "          const dataTable =\n",
              "            await google.colab.kernel.invokeFunction('convertToInteractive',\n",
              "                                                     [key], {});\n",
              "          if (!dataTable) return;\n",
              "\n",
              "          const docLinkHtml = 'Like what you see? Visit the ' +\n",
              "            '<a target=\"_blank\" href=https://colab.research.google.com/notebooks/data_table.ipynb>data table notebook</a>'\n",
              "            + ' to learn more about interactive tables.';\n",
              "          element.innerHTML = '';\n",
              "          dataTable['output_type'] = 'display_data';\n",
              "          await google.colab.output.renderOutput(dataTable, element);\n",
              "          const docLink = document.createElement('div');\n",
              "          docLink.innerHTML = docLinkHtml;\n",
              "          element.appendChild(docLink);\n",
              "        }\n",
              "      </script>\n",
              "    </div>\n",
              "  </div>\n",
              "  "
            ]
          },
          "metadata": {},
          "execution_count": 196
        }
      ]
    },
    {
      "cell_type": "markdown",
      "source": [
        "** FALTAAAAA**"
      ],
      "metadata": {
        "id": "4CslocEpcqxU"
      }
    },
    {
      "cell_type": "markdown",
      "source": [
        "# 2. Con la misma información del punto 1:"
      ],
      "metadata": {
        "id": "YVTWnNKWoZOU"
      }
    },
    {
      "cell_type": "markdown",
      "source": [
        "## a. Calcule la volatilidad mensual y anualizada de las series de retornos usando las medidas de:\n",
        "####  i) desviación estándar\n",
        "#### ii) Parkinson\n",
        "#### iii) Garman-Klass\n",
        "#### iv) Volatilidad ponderada exponencial (EWMA) con una lambda de 0.94. \n",
        "\n",
        "#### Presente los resultados en un Data Frame\n"
      ],
      "metadata": {
        "id": "0L8tsW6W6RdL"
      }
    },
    {
      "cell_type": "markdown",
      "source": [
        "#### **i). Desviación estándar**"
      ],
      "metadata": {
        "id": "CuaFfN8QY7SZ"
      }
    },
    {
      "cell_type": "code",
      "source": [
        "retornos_m=np.log(precios_adj/precios_adj.shift(1)).dropna()\n",
        "sdm = retornos_m.std()\n",
        "sda = sdm*np.sqrt(12)"
      ],
      "metadata": {
        "id": "y0pz5rLfAVB2"
      },
      "execution_count": 135,
      "outputs": []
    },
    {
      "cell_type": "code",
      "source": [
        "roll_std = (retornos.rolling(window=18).std())\n",
        "roll_std.plot();"
      ],
      "metadata": {
        "colab": {
          "base_uri": "https://localhost:8080/",
          "height": 279
        },
        "id": "ebDa6ABRY517",
        "outputId": "4f7f3090-d4e4-400c-852a-6cb441c7df02"
      },
      "execution_count": 144,
      "outputs": [
        {
          "output_type": "display_data",
          "data": {
            "text/plain": [
              "<Figure size 432x288 with 1 Axes>"
            ],
            "image/png": "[encoded data removed]"
          },
          "metadata": {
            "needs_background": "light"
          }
        }
      ]
    },
    {
      "cell_type": "markdown",
      "source": [
        "#### **ii). Medida de Parkinson**"
      ],
      "metadata": {
        "id": "_z-R596STt2g"
      }
    },
    {
      "cell_type": "code",
      "source": [
        "lnHL = np.log(precios[\"High\"]/precios[\"Low\"]).dropna()\n",
        "sigmaPark_d = ((1/(4*np.log(2)))*lnHL**2)**0.5\n",
        "pdm = sigmaPark_d.mean()\n",
        "pda = sigmaPark_d.mean()*np.sqrt(12)"
      ],
      "metadata": {
        "id": "_a4ZAh0oA6YG"
      },
      "execution_count": 142,
      "outputs": []
    },
    {
      "cell_type": "code",
      "source": [
        "sigmaPark_d.plot();"
      ],
      "metadata": {
        "colab": {
          "base_uri": "https://localhost:8080/",
          "height": 279
        },
        "id": "mi5zPYp2fEGd",
        "outputId": "d513a3d0-f5e2-4035-c6d3-baf8331b69d8"
      },
      "execution_count": 99,
      "outputs": [
        {
          "output_type": "display_data",
          "data": {
            "text/plain": [
              "<Figure size 432x288 with 1 Axes>"
            ],
            "image/png": "[encoded data removed]"
          },
          "metadata": {
            "needs_background": "light"
          }
        }
      ]
    },
    {
      "cell_type": "markdown",
      "source": [
        "#### **iii). Medida de Garman-Klass**"
      ],
      "metadata": {
        "id": "HS2Ro56-T4Sn"
      }
    },
    {
      "cell_type": "code",
      "source": [
        "lnHL = np.log(precios[\"High\"]/precios[\"Low\"]).dropna() \n",
        "lnCO = np.log(precios[\"Close\"]/precios[\"Open\"]).dropna() \n",
        "sigmaGK_d = (0.5*lnHL**2-(2*np.log(2)-1)*lnCO**2)**0.5\n",
        "gkdm = sigmaGK_d.mean() \n",
        "gkda = sigmaGK_d.mean()*np.sqrt(12)"
      ],
      "metadata": {
        "id": "nzDnzeK4fnju"
      },
      "execution_count": 149,
      "outputs": []
    },
    {
      "cell_type": "code",
      "source": [
        "sigmaGK_d.plot();"
      ],
      "metadata": {
        "colab": {
          "base_uri": "https://localhost:8080/",
          "height": 279
        },
        "id": "fDPn4-7yCXNn",
        "outputId": "abb17024-24c0-4192-8578-518bef8c3f33"
      },
      "execution_count": 151,
      "outputs": [
        {
          "output_type": "display_data",
          "data": {
            "text/plain": [
              "<Figure size 432x288 with 1 Axes>"
            ],
            "image/png": "[encoded data removed]"
          },
          "metadata": {
            "needs_background": "light"
          }
        }
      ]
    },
    {
      "cell_type": "markdown",
      "source": [
        "#### **iv). Volatilidad ponderada exponencial (EWMA)**"
      ],
      "metadata": {
        "id": "09J12KGrUF2Z"
      }
    },
    {
      "cell_type": "code",
      "source": [
        "def EWMAvol(retornos,Lambda):\n",
        "  m = len(retornos) \n",
        "  b = np.arange(m-1,-1,-1) \n",
        "  l = np.repeat(Lambda,m)\n",
        "\n",
        "  varewma = ((np.power(retornos,2)*(np.power(l,b))).sum())*(1-Lambda) \n",
        "  EWMAvol = np.sqrt(varewma)\n",
        "  return(EWMAvol) \n",
        "Lambda = 0.94\n",
        "sigmaewmaGEm = EWMAvol(retornos[\"GE\"],Lambda)\n",
        "sigmaewmaIBMm = EWMAvol(retornos[\"IBM\"],Lambda)\n",
        "sigmaewmaMCDm = EWMAvol(retornos[\"MCD\"],Lambda)\n",
        "sigmaewmaTm = EWMAvol(retornos[\"T\"],Lambda)\n",
        "sigmaewmaGEa = EWMAvol(retornos[\"GE\"],Lambda)*np.sqrt(12)\n",
        "sigmaewmaIBMa= EWMAvol(retornos[\"IBM\"],Lambda)*np.sqrt(12)\n",
        "sigmaewmaMCDa = EWMAvol(retornos[\"MCD\"],Lambda)*np.sqrt(12)\n",
        "sigmaewmaTa = EWMAvol(retornos[\"T\"],Lambda)*np.sqrt(12)"
      ],
      "metadata": {
        "id": "Mc2p_FkpClai"
      },
      "execution_count": 154,
      "outputs": []
    },
    {
      "cell_type": "markdown",
      "source": [
        "#### **DataFrame Mensual**"
      ],
      "metadata": {
        "id": "wMDGq9f6yHUf"
      }
    },
    {
      "cell_type": "code",
      "source": [
        "RM={\"Desviación Estándar\":sdm,\"Parkinson\":pdm, \"Garman-Klass\":gkdm, \"EWMA\":pd.Series([sigmaewmaGEm,sigmaewmaIBMm,sigmaewmaMCDm,sigmaewmaTm],index=[\"GE\",\"IBM\",\"MCD\",\"T\"])}\n",
        "DFM=pd.DataFrame(RM)\n",
        "DFM"
      ],
      "metadata": {
        "colab": {
          "base_uri": "https://localhost:8080/",
          "height": 175
        },
        "id": "bKCxuYHgojGV",
        "outputId": "952a9246-9abb-417e-e69d-4b6490ce8254"
      },
      "execution_count": 159,
      "outputs": [
        {
          "output_type": "execute_result",
          "data": {
            "text/plain": [
              "     Desviación Estándar  Parkinson  Garman-Klass      EWMA\n",
              "GE              0.086937   0.077246      0.079226  0.105384\n",
              "IBM             0.060536   0.054225      0.055247  0.074008\n",
              "MCD             0.042488   0.042616      0.044034  0.052483\n",
              "T               0.048299   0.048447      0.049890  0.054351"
            ],
            "text/html": [
              "\n",
              "  <div id=\"df-7cbe0b13-a866-4cd5-9aa5-ebfa2a972edf\">\n",
              "    <div class=\"colab-df-container\">\n",
              "      <div>\n",
              "<style scoped>\n",
              "    .dataframe tbody tr th:only-of-type {\n",
              "        vertical-align: middle;\n",
              "    }\n",
              "\n",
              "    .dataframe tbody tr th {\n",
              "        vertical-align: top;\n",
              "    }\n",
              "\n",
              "    .dataframe thead th {\n",
              "        text-align: right;\n",
              "    }\n",
              "</style>\n",
              "<table border=\"1\" class=\"dataframe\">\n",
              "  <thead>\n",
              "    <tr style=\"text-align: right;\">\n",
              "      <th></th>\n",
              "      <th>Desviación Estándar</th>\n",
              "      <th>Parkinson</th>\n",
              "      <th>Garman-Klass</th>\n",
              "      <th>EWMA</th>\n",
              "    </tr>\n",
              "  </thead>\n",
              "  <tbody>\n",
              "    <tr>\n",
              "      <th>GE</th>\n",
              "      <td>0.086937</td>\n",
              "      <td>0.077246</td>\n",
              "      <td>0.079226</td>\n",
              "      <td>0.105384</td>\n",
              "    </tr>\n",
              "    <tr>\n",
              "      <th>IBM</th>\n",
              "      <td>0.060536</td>\n",
              "      <td>0.054225</td>\n",
              "      <td>0.055247</td>\n",
              "      <td>0.074008</td>\n",
              "    </tr>\n",
              "    <tr>\n",
              "      <th>MCD</th>\n",
              "      <td>0.042488</td>\n",
              "      <td>0.042616</td>\n",
              "      <td>0.044034</td>\n",
              "      <td>0.052483</td>\n",
              "    </tr>\n",
              "    <tr>\n",
              "      <th>T</th>\n",
              "      <td>0.048299</td>\n",
              "      <td>0.048447</td>\n",
              "      <td>0.049890</td>\n",
              "      <td>0.054351</td>\n",
              "    </tr>\n",
              "  </tbody>\n",
              "</table>\n",
              "</div>\n",
              "      <button class=\"colab-df-convert\" onclick=\"convertToInteractive('df-7cbe0b13-a866-4cd5-9aa5-ebfa2a972edf')\"\n",
              "              title=\"Convert this dataframe to an interactive table.\"\n",
              "              style=\"display:none;\">\n",
              "        \n",
              "  <svg xmlns=\"http://www.w3.org/2000/svg\" height=\"24px\"viewBox=\"0 0 24 24\"\n",
              "       width=\"24px\">\n",
              "    <path d=\"M0 0h24v24H0V0z\" fill=\"none\"/>\n",
              "    <path d=\"M18.56 5.44l.94 2.06.94-2.06 2.06-.94-2.06-.94-.94-2.06-.94 2.06-2.06.94zm-11 1L8.5 8.5l.94-2.06 2.06-.94-2.06-.94L8.5 2.5l-.94 2.06-2.06.94zm10 10l.94 2.06.94-2.06 2.06-.94-2.06-.94-.94-2.06-.94 2.06-2.06.94z\"/><path d=\"M17.41 7.96l-1.37-1.37c-.4-.4-.92-.59-1.43-.59-.52 0-1.04.2-1.43.59L10.3 9.45l-7.72 7.72c-.78.78-.78 2.05 0 2.83L4 21.41c.39.39.9.59 1.41.59.51 0 1.02-.2 1.41-.59l7.78-7.78 2.81-2.81c.8-.78.8-2.07 0-2.86zM5.41 20L4 18.59l7.72-7.72 1.47 1.35L5.41 20z\"/>\n",
              "  </svg>\n",
              "      </button>\n",
              "      \n",
              "  <style>\n",
              "    .colab-df-container {\n",
              "      display:flex;\n",
              "      flex-wrap:wrap;\n",
              "      gap: 12px;\n",
              "    }\n",
              "\n",
              "    .colab-df-convert {\n",
              "      background-color: #E8F0FE;\n",
              "      border: none;\n",
              "      border-radius: 50%;\n",
              "      cursor: pointer;\n",
              "      display: none;\n",
              "      fill: #1967D2;\n",
              "      height: 32px;\n",
              "      padding: 0 0 0 0;\n",
              "      width: 32px;\n",
              "    }\n",
              "\n",
              "    .colab-df-convert:hover {\n",
              "      background-color: #E2EBFA;\n",
              "      box-shadow: 0px 1px 2px rgba(60, 64, 67, 0.3), 0px 1px 3px 1px rgba(60, 64, 67, 0.15);\n",
              "      fill: #174EA6;\n",
              "    }\n",
              "\n",
              "    [theme=dark] .colab-df-convert {\n",
              "      background-color: #3B4455;\n",
              "      fill: #D2E3FC;\n",
              "    }\n",
              "\n",
              "    [theme=dark] .colab-df-convert:hover {\n",
              "      background-color: #434B5C;\n",
              "      box-shadow: 0px 1px 3px 1px rgba(0, 0, 0, 0.15);\n",
              "      filter: drop-shadow(0px 1px 2px rgba(0, 0, 0, 0.3));\n",
              "      fill: #FFFFFF;\n",
              "    }\n",
              "  </style>\n",
              "\n",
              "      <script>\n",
              "        const buttonEl =\n",
              "          document.querySelector('#df-7cbe0b13-a866-4cd5-9aa5-ebfa2a972edf button.colab-df-convert');\n",
              "        buttonEl.style.display =\n",
              "          google.colab.kernel.accessAllowed ? 'block' : 'none';\n",
              "\n",
              "        async function convertToInteractive(key) {\n",
              "          const element = document.querySelector('#df-7cbe0b13-a866-4cd5-9aa5-ebfa2a972edf');\n",
              "          const dataTable =\n",
              "            await google.colab.kernel.invokeFunction('convertToInteractive',\n",
              "                                                     [key], {});\n",
              "          if (!dataTable) return;\n",
              "\n",
              "          const docLinkHtml = 'Like what you see? Visit the ' +\n",
              "            '<a target=\"_blank\" href=https://colab.research.google.com/notebooks/data_table.ipynb>data table notebook</a>'\n",
              "            + ' to learn more about interactive tables.';\n",
              "          element.innerHTML = '';\n",
              "          dataTable['output_type'] = 'display_data';\n",
              "          await google.colab.output.renderOutput(dataTable, element);\n",
              "          const docLink = document.createElement('div');\n",
              "          docLink.innerHTML = docLinkHtml;\n",
              "          element.appendChild(docLink);\n",
              "        }\n",
              "      </script>\n",
              "    </div>\n",
              "  </div>\n",
              "  "
            ]
          },
          "metadata": {},
          "execution_count": 159
        }
      ]
    },
    {
      "cell_type": "markdown",
      "source": [
        "#### **DataFrame Anualizado**"
      ],
      "metadata": {
        "id": "0yt9u3d3x7dS"
      }
    },
    {
      "cell_type": "code",
      "source": [
        "RA={\"Desviación Estándar\":sda,\"Parkinson\":pda, \"Garman-Klass\":gkda, \"EWMA\":pd.Series([sigmaewmaGEa,sigmaewmaIBMa,sigmaewmaMCDa,sigmaewmaTa],index=[\"GE\",\"IBM\",\"MCD\",\"T\"])}\n",
        "DFA=pd.DataFrame(RA)\n",
        "DFA"
      ],
      "metadata": {
        "colab": {
          "base_uri": "https://localhost:8080/",
          "height": 175
        },
        "id": "Ie0NsRPupuKE",
        "outputId": "85221286-1b6a-446a-b41b-3fae9982923b"
      },
      "execution_count": 160,
      "outputs": [
        {
          "output_type": "execute_result",
          "data": {
            "text/plain": [
              "     Desviación Estándar  Parkinson  Garman-Klass      EWMA\n",
              "GE              0.301157   0.267589      0.274446  0.365061\n",
              "IBM             0.209703   0.187842      0.191380  0.256371\n",
              "MCD             0.147183   0.147625      0.152538  0.181807\n",
              "T               0.167311   0.167825      0.172823  0.188278"
            ],
            "text/html": [
              "\n",
              "  <div id=\"df-4cda96f4-d6f9-4ebd-86ab-c6beb05a8668\">\n",
              "    <div class=\"colab-df-container\">\n",
              "      <div>\n",
              "<style scoped>\n",
              "    .dataframe tbody tr th:only-of-type {\n",
              "        vertical-align: middle;\n",
              "    }\n",
              "\n",
              "    .dataframe tbody tr th {\n",
              "        vertical-align: top;\n",
              "    }\n",
              "\n",
              "    .dataframe thead th {\n",
              "        text-align: right;\n",
              "    }\n",
              "</style>\n",
              "<table border=\"1\" class=\"dataframe\">\n",
              "  <thead>\n",
              "    <tr style=\"text-align: right;\">\n",
              "      <th></th>\n",
              "      <th>Desviación Estándar</th>\n",
              "      <th>Parkinson</th>\n",
              "      <th>Garman-Klass</th>\n",
              "      <th>EWMA</th>\n",
              "    </tr>\n",
              "  </thead>\n",
              "  <tbody>\n",
              "    <tr>\n",
              "      <th>GE</th>\n",
              "      <td>0.301157</td>\n",
              "      <td>0.267589</td>\n",
              "      <td>0.274446</td>\n",
              "      <td>0.365061</td>\n",
              "    </tr>\n",
              "    <tr>\n",
              "      <th>IBM</th>\n",
              "      <td>0.209703</td>\n",
              "      <td>0.187842</td>\n",
              "      <td>0.191380</td>\n",
              "      <td>0.256371</td>\n",
              "    </tr>\n",
              "    <tr>\n",
              "      <th>MCD</th>\n",
              "      <td>0.147183</td>\n",
              "      <td>0.147625</td>\n",
              "      <td>0.152538</td>\n",
              "      <td>0.181807</td>\n",
              "    </tr>\n",
              "    <tr>\n",
              "      <th>T</th>\n",
              "      <td>0.167311</td>\n",
              "      <td>0.167825</td>\n",
              "      <td>0.172823</td>\n",
              "      <td>0.188278</td>\n",
              "    </tr>\n",
              "  </tbody>\n",
              "</table>\n",
              "</div>\n",
              "      <button class=\"colab-df-convert\" onclick=\"convertToInteractive('df-4cda96f4-d6f9-4ebd-86ab-c6beb05a8668')\"\n",
              "              title=\"Convert this dataframe to an interactive table.\"\n",
              "              style=\"display:none;\">\n",
              "        \n",
              "  <svg xmlns=\"http://www.w3.org/2000/svg\" height=\"24px\"viewBox=\"0 0 24 24\"\n",
              "       width=\"24px\">\n",
              "    <path d=\"M0 0h24v24H0V0z\" fill=\"none\"/>\n",
              "    <path d=\"M18.56 5.44l.94 2.06.94-2.06 2.06-.94-2.06-.94-.94-2.06-.94 2.06-2.06.94zm-11 1L8.5 8.5l.94-2.06 2.06-.94-2.06-.94L8.5 2.5l-.94 2.06-2.06.94zm10 10l.94 2.06.94-2.06 2.06-.94-2.06-.94-.94-2.06-.94 2.06-2.06.94z\"/><path d=\"M17.41 7.96l-1.37-1.37c-.4-.4-.92-.59-1.43-.59-.52 0-1.04.2-1.43.59L10.3 9.45l-7.72 7.72c-.78.78-.78 2.05 0 2.83L4 21.41c.39.39.9.59 1.41.59.51 0 1.02-.2 1.41-.59l7.78-7.78 2.81-2.81c.8-.78.8-2.07 0-2.86zM5.41 20L4 18.59l7.72-7.72 1.47 1.35L5.41 20z\"/>\n",
              "  </svg>\n",
              "      </button>\n",
              "      \n",
              "  <style>\n",
              "    .colab-df-container {\n",
              "      display:flex;\n",
              "      flex-wrap:wrap;\n",
              "      gap: 12px;\n",
              "    }\n",
              "\n",
              "    .colab-df-convert {\n",
              "      background-color: #E8F0FE;\n",
              "      border: none;\n",
              "      border-radius: 50%;\n",
              "      cursor: pointer;\n",
              "      display: none;\n",
              "      fill: #1967D2;\n",
              "      height: 32px;\n",
              "      padding: 0 0 0 0;\n",
              "      width: 32px;\n",
              "    }\n",
              "\n",
              "    .colab-df-convert:hover {\n",
              "      background-color: #E2EBFA;\n",
              "      box-shadow: 0px 1px 2px rgba(60, 64, 67, 0.3), 0px 1px 3px 1px rgba(60, 64, 67, 0.15);\n",
              "      fill: #174EA6;\n",
              "    }\n",
              "\n",
              "    [theme=dark] .colab-df-convert {\n",
              "      background-color: #3B4455;\n",
              "      fill: #D2E3FC;\n",
              "    }\n",
              "\n",
              "    [theme=dark] .colab-df-convert:hover {\n",
              "      background-color: #434B5C;\n",
              "      box-shadow: 0px 1px 3px 1px rgba(0, 0, 0, 0.15);\n",
              "      filter: drop-shadow(0px 1px 2px rgba(0, 0, 0, 0.3));\n",
              "      fill: #FFFFFF;\n",
              "    }\n",
              "  </style>\n",
              "\n",
              "      <script>\n",
              "        const buttonEl =\n",
              "          document.querySelector('#df-4cda96f4-d6f9-4ebd-86ab-c6beb05a8668 button.colab-df-convert');\n",
              "        buttonEl.style.display =\n",
              "          google.colab.kernel.accessAllowed ? 'block' : 'none';\n",
              "\n",
              "        async function convertToInteractive(key) {\n",
              "          const element = document.querySelector('#df-4cda96f4-d6f9-4ebd-86ab-c6beb05a8668');\n",
              "          const dataTable =\n",
              "            await google.colab.kernel.invokeFunction('convertToInteractive',\n",
              "                                                     [key], {});\n",
              "          if (!dataTable) return;\n",
              "\n",
              "          const docLinkHtml = 'Like what you see? Visit the ' +\n",
              "            '<a target=\"_blank\" href=https://colab.research.google.com/notebooks/data_table.ipynb>data table notebook</a>'\n",
              "            + ' to learn more about interactive tables.';\n",
              "          element.innerHTML = '';\n",
              "          dataTable['output_type'] = 'display_data';\n",
              "          await google.colab.output.renderOutput(dataTable, element);\n",
              "          const docLink = document.createElement('div');\n",
              "          docLink.innerHTML = docLinkHtml;\n",
              "          element.appendChild(docLink);\n",
              "        }\n",
              "      </script>\n",
              "    </div>\n",
              "  </div>\n",
              "  "
            ]
          },
          "metadata": {},
          "execution_count": 160
        }
      ]
    },
    {
      "cell_type": "markdown",
      "source": [
        "Las volatilidades mensuales de los stocks demuestran que **General Electric** obtuvo la mayor volatilidad en los diferentes métodos utilizados, asi mismo, para las volatilidades anuales. No obstante, el método EWMA toma la mayor volatilidad entre los mismos, ya que el modelo le da más peso a la periodicidad reciente, es decir, si el tiempo es reciente se le da un mayor peso a los datos y si el tiempo es antiguo se le da un menor peso a los datos. Por otro lado, el modelo de Parkinson y Garman-Klass tienen volatilidades cercanas entre ellas mismas, esto se debe principalmente a que el modelo de medida Garman-Klass se ajusta a la medida de Parkinson para capturar mejor la variabilidad de los activos, es decir, se puede tomar como la correción del modelo de Parkinson; al trabajar con periodicidad mensual se tiene que restar el valor esperado de la serie. Se esperaría que los stocks de General Electric al adquirir mayor riesgo tenga un retorno mayor, no obstante, en los puntos anteriores se demostro que no es asi. Ahora bien, es importante acotar que las empresas no pertencen al mismo sector, lo cual su volatilidad se podría afectar por los movimientos que presenta el mercado en cada respectivo sector."
      ],
      "metadata": {
        "id": "6vBXlDXxrHb0"
      }
    },
    {
      "cell_type": "markdown",
      "source": [
        "## b. Para un solo activo de su elección, presente las gráficas para las últimas tres medidas de volatilidad."
      ],
      "metadata": {
        "id": "LuO8R4-uTUBR"
      }
    },
    {
      "cell_type": "markdown",
      "source": [
        "#### **Medida de Parkinson**"
      ],
      "metadata": {
        "id": "-G_GxOxgUQw0"
      }
    },
    {
      "cell_type": "code",
      "source": [
        "sigmaPark_d[\"GE\"].plot();"
      ],
      "metadata": {
        "colab": {
          "base_uri": "https://localhost:8080/",
          "height": 0
        },
        "id": "USAmqreFTUTc",
        "outputId": "7db91f73-1eeb-4c79-fb3b-c97ce0b24387"
      },
      "execution_count": 161,
      "outputs": [
        {
          "output_type": "display_data",
          "data": {
            "text/plain": [
              "<Figure size 432x288 with 1 Axes>"
            ],
            "image/png": "[encoded data removed]"
          },
          "metadata": {
            "needs_background": "light"
          }
        }
      ]
    },
    {
      "cell_type": "markdown",
      "source": [
        "#### **Medida de Garman-Klass**"
      ],
      "metadata": {
        "id": "h6phN7HDUeFD"
      }
    },
    {
      "cell_type": "code",
      "source": [
        "sigmaGK_d[\"GE\"].plot();"
      ],
      "metadata": {
        "colab": {
          "base_uri": "https://localhost:8080/",
          "height": 279
        },
        "id": "RciTFKo_UUtW",
        "outputId": "8898dafe-9663-47cb-91f2-8c82421d790d"
      },
      "execution_count": 162,
      "outputs": [
        {
          "output_type": "display_data",
          "data": {
            "text/plain": [
              "<Figure size 432x288 with 1 Axes>"
            ],
            "image/png": "[encoded data removed]"
          },
          "metadata": {
            "needs_background": "light"
          }
        }
      ]
    },
    {
      "cell_type": "markdown",
      "source": [
        "#### **Volatilidad ponderada exponencial (EWMA)**"
      ],
      "metadata": {
        "id": "ioTGeWsiUoqq"
      }
    },
    {
      "cell_type": "code",
      "source": [
        "varewma = ((np.power(retornos[\"GE\"],2)*(np.power(l,b))))*(1-0.94)\n",
        "varewma.plot();"
      ],
      "metadata": {
        "colab": {
          "base_uri": "https://localhost:8080/",
          "height": 279
        },
        "id": "bdxfv2_AUqyA",
        "outputId": "bf264ab6-2fd4-4410-867d-856aaa925143"
      },
      "execution_count": 163,
      "outputs": [
        {
          "output_type": "display_data",
          "data": {
            "text/plain": [
              "<Figure size 432x288 with 1 Axes>"
            ],
            "image/png": "[encoded data removed]"
          },
          "metadata": {
            "needs_background": "light"
          }
        }
      ]
    },
    {
      "cell_type": "markdown",
      "source": [
        "Como se menciono anteriormente el modelo Garman-Klass se ajusta al modelo de Parkinson. Por lo tanto, se observa que la serie se encuentra suavizada, es decir, se corrige en la baja. Por otro lado, se puede observar clusters de volatilidad mayormente notorios en el 2018, esto a causa de las pérdidas que tuvo la empresa en 2018. Estas pérdidas significaron el doble de las del 2017. Además la compañia se encontraba atravesando por un proceso de investigación judicial por la posible violación del acta de Reforma, Recuperación y Cumplimiento de las Instituciones Financieras de 1989 a raíz de la creación y venta de hipotecas de alto riesgo. Por consiguiente, alcanzo un acuerdo con la justicia de aproximadamente 1.500 millones de dólares. Por lo tanto, sus acciones empezaron a tener cambios fuertes en el tiempo debido a los diferentes problemas por lo cuales atravesaba la empresa. Cabe resaltar la crisis causada por el COVID-19 afecto todos los sectores del mundo, en especial, la economía de los países, es por esta razón que se encuentran altas volatilidades en este periodo atípico. "
      ],
      "metadata": {
        "id": "fKyRJaRg7ckO"
      }
    }
  ],
  "metadata": {
    "colab": {
      "name": "Taller 1 - Finanzas Computacionales",
      "provenance": [],
      "collapsed_sections": [
        "Fes_nsLE_N1U",
        "xoiZsaH7_f6C",
        "cIHgiuN2oOjb",
        "Bz50uAZPptuS",
        "f9DmSLv5589c",
        "OsGyeO17nHj-",
        "YVTWnNKWoZOU",
        "0L8tsW6W6RdL",
        "_z-R596STt2g",
        "HS2Ro56-T4Sn",
        "LuO8R4-uTUBR"
      ],
      "include_colab_link": true
    },
    "kernelspec": {
      "display_name": "Python 3",
      "name": "python3"
    },
    "language_info": {
      "name": "python"
    }
  },
  "nbformat": 4,
  "nbformat_minor": 0
}