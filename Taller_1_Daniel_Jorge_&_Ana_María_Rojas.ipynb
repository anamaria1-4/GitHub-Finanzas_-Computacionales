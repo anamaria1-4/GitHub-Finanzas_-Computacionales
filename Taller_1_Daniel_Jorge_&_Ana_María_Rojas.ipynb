{
  "nbformat": 4,
  "nbformat_minor": 0,
  "metadata": {
    "colab": {
      "name": "Taller 1 - Daniel Jorge & Ana María Rojas",
      "provenance": [],
      "collapsed_sections": [
        "RLsiwTMcTrgH",
        "Fes_nsLE_N1U",
        "xoiZsaH7_f6C",
        "cIHgiuN2oOjb",
        "f9DmSLv5589c",
        "o_h_amm06BQ1",
        "OsGyeO17nHj-",
        "YVTWnNKWoZOU",
        "0L8tsW6W6RdL",
        "CuaFfN8QY7SZ",
        "_z-R596STt2g",
        "HS2Ro56-T4Sn",
        "09J12KGrUF2Z",
        "wMDGq9f6yHUf",
        "0yt9u3d3x7dS",
        "LuO8R4-uTUBR",
        "-G_GxOxgUQw0",
        "h6phN7HDUeFD",
        "ioTGeWsiUoqq"
      ],
      "authorship_tag": "ABX9TyOVhn7ov28DgUA+CBHoGVJi",
      "include_colab_link": true
    },
    "kernelspec": {
      "name": "python3",
      "display_name": "Python 3"
    },
    "language_info": {
      "name": "python"
    }
  },
  "cells": [
    {
      "cell_type": "markdown",
      "metadata": {
        "id": "view-in-github",
        "colab_type": "text"
      },
      "source": [
        "<a href=\"https://colab.research.google.com/github/anamaria1-4/GitHub-Finanzas_-Computacionales/blob/main/Taller_1_Daniel_Jorge_%26_Ana_Mar%C3%ADa_Rojas.ipynb\" target=\"_parent\"><img src=\"https://colab.research.google.com/assets/colab-badge.svg\" alt=\"Open In Colab\"/></a>"
      ]
    },
    {
      "cell_type": "markdown",
      "metadata": {
        "id": "TsBD1Rpg5PX5"
      },
      "source": [
        "<img src=\"https://www.uexternado.edu.co/wp-content/uploads/2020/07/logo-uec.png\" width=\"180\" height=\"80\"> \n",
        "\n",
        "<center>\n",
        "\n",
        "<br><br>\n",
        "\n",
        "<b>Taller 1</b>\n",
        "<div style=\"font-size:175%;color:write; background-color: #0064b0;\">Pregrado en Finanzas y Relaciones Internacionales</div>\n",
        "<div style=\"font-size:175%;color:white; background-color: #0064b0;\">Finanzas Computacionales</div>\n",
        "<div style=\"font-size:175%;color:white; background-color: #0064b0;\">Profesor: Carlos Andrés Zapata Quimbayo</div>\n",
        "<div style=\"font-size:250%;color:white; background-color: #0064b0;\">Estudiantes: Daniel Steven Jorge Cardona y Ana María Rojas Giraldo</div>\n",
        "<div style=\"font-size:175%;color:white; background-color: #0064b0;\">2022</div> \n",
        "</center>\n"
      ]
    },
    {
      "cell_type": "markdown",
      "metadata": {
        "id": "W-tq8qq4QtuX"
      },
      "source": [
        "* Se importan las librerias necesarias."
      ]
    },
    {
      "cell_type": "code",
      "execution_count": 1,
      "metadata": {
        "id": "4wiA9x3X68v5"
      },
      "outputs": [],
      "source": [
        "import warnings \n",
        "import scipy.stats\n",
        "import numpy as np\n",
        "import pandas as pd \n",
        "import seaborn as sn\n",
        "import seaborn as sns\n",
        "from scipy import stats \n",
        "from scipy.stats import norm\n",
        "warnings.filterwarnings(\"ignore\")\n",
        "from matplotlib import pyplot as plt\n",
        "from numpy.core.function_base import linspace"
      ]
    },
    {
      "cell_type": "markdown",
      "metadata": {
        "id": "4cfAcqjBQ702"
      },
      "source": [
        "* Se importan yfinance para adquirir la información."
      ]
    },
    {
      "cell_type": "code",
      "execution_count": null,
      "metadata": {
        "id": "r5F8j0G87C7k"
      },
      "outputs": [],
      "source": [
        "!pip install yfinance\n",
        "import yfinance as yf"
      ]
    },
    {
      "cell_type": "markdown",
      "metadata": {
        "id": "RLsiwTMcTrgH"
      },
      "source": [
        "# 1. A partir de Ticker se extrae toda la infomación de las compañias"
      ]
    },
    {
      "cell_type": "code",
      "execution_count": 69,
      "metadata": {
        "id": "5bCj4S_04HI9"
      },
      "outputs": [],
      "source": [
        "MCD= yf.Ticker(\"MCD\")\n",
        "GE= yf.Ticker(\"GE\")\n",
        "IBM= yf.Ticker(\"IBM\")\n",
        "T= yf.Ticker(\"T\")"
      ]
    },
    {
      "cell_type": "markdown",
      "metadata": {
        "id": "fs-3HeVmVRT-"
      },
      "source": [
        "* Se ajusta la escala de tiempo los activos de las compañias y se presenta el precio ajustado de las acciones."
      ]
    },
    {
      "cell_type": "code",
      "source": [
        "activos = [\"MCD\", \"GE\",\"IBM\",\"T\"]\n",
        "precios = yf.download(activos,start=\"2010-01-01\",end=\"2022-01-01\", interval=\"1Mo\").dropna()\n",
        "precios_adj = precios.loc[:,\"Adj Close\"]\n",
        "precios_adj"
      ],
      "metadata": {
        "id": "b4wJD5rfkBoT",
        "colab": {
          "base_uri": "https://localhost:8080/",
          "height": 472
        },
        "outputId": "d9d2f4cf-f251-44b6-a10f-7868219da0d3"
      },
      "execution_count": 70,
      "outputs": [
        {
          "output_type": "stream",
          "name": "stdout",
          "text": [
            "[*********************100%***********************]  4 of 4 completed\n"
          ]
        },
        {
          "output_type": "execute_result",
          "data": {
            "text/plain": [
              "                    GE         IBM         MCD          T\n",
              "Date                                                     \n",
              "2010-01-01   91.124512   76.034492   43.710957   7.295420\n",
              "2010-02-01   91.011154   78.997818   44.705189   7.279534\n",
              "2010-03-01  103.782249   80.031326   47.111691   7.581749\n",
              "2010-04-01  107.545715   80.499359   49.844326   7.646300\n",
              "2010-05-01   93.232941   78.165504   47.217598   7.283845\n",
              "...                ...         ...         ...        ...\n",
              "2021-08-01  105.016113  126.196465  232.276596  19.121511\n",
              "2021-09-01  102.644997  126.366852  237.139893  18.835596\n",
              "2021-10-01  104.559372  113.787468  241.506790  17.615221\n",
              "2021-11-01   94.708633  111.410385  240.572433  16.332382\n",
              "2021-12-01   94.190178  128.862717  265.117676  17.598623\n",
              "\n",
              "[144 rows x 4 columns]"
            ],
            "text/html": [
              "\n",
              "  <div id=\"df-e871e25a-3cc1-4239-ab5d-9c611b773dac\">\n",
              "    <div class=\"colab-df-container\">\n",
              "      <div>\n",
              "<style scoped>\n",
              "    .dataframe tbody tr th:only-of-type {\n",
              "        vertical-align: middle;\n",
              "    }\n",
              "\n",
              "    .dataframe tbody tr th {\n",
              "        vertical-align: top;\n",
              "    }\n",
              "\n",
              "    .dataframe thead th {\n",
              "        text-align: right;\n",
              "    }\n",
              "</style>\n",
              "<table border=\"1\" class=\"dataframe\">\n",
              "  <thead>\n",
              "    <tr style=\"text-align: right;\">\n",
              "      <th></th>\n",
              "      <th>GE</th>\n",
              "      <th>IBM</th>\n",
              "      <th>MCD</th>\n",
              "      <th>T</th>\n",
              "    </tr>\n",
              "    <tr>\n",
              "      <th>Date</th>\n",
              "      <th></th>\n",
              "      <th></th>\n",
              "      <th></th>\n",
              "      <th></th>\n",
              "    </tr>\n",
              "  </thead>\n",
              "  <tbody>\n",
              "    <tr>\n",
              "      <th>2010-01-01</th>\n",
              "      <td>91.124512</td>\n",
              "      <td>76.034492</td>\n",
              "      <td>43.710957</td>\n",
              "      <td>7.295420</td>\n",
              "    </tr>\n",
              "    <tr>\n",
              "      <th>2010-02-01</th>\n",
              "      <td>91.011154</td>\n",
              "      <td>78.997818</td>\n",
              "      <td>44.705189</td>\n",
              "      <td>7.279534</td>\n",
              "    </tr>\n",
              "    <tr>\n",
              "      <th>2010-03-01</th>\n",
              "      <td>103.782249</td>\n",
              "      <td>80.031326</td>\n",
              "      <td>47.111691</td>\n",
              "      <td>7.581749</td>\n",
              "    </tr>\n",
              "    <tr>\n",
              "      <th>2010-04-01</th>\n",
              "      <td>107.545715</td>\n",
              "      <td>80.499359</td>\n",
              "      <td>49.844326</td>\n",
              "      <td>7.646300</td>\n",
              "    </tr>\n",
              "    <tr>\n",
              "      <th>2010-05-01</th>\n",
              "      <td>93.232941</td>\n",
              "      <td>78.165504</td>\n",
              "      <td>47.217598</td>\n",
              "      <td>7.283845</td>\n",
              "    </tr>\n",
              "    <tr>\n",
              "      <th>...</th>\n",
              "      <td>...</td>\n",
              "      <td>...</td>\n",
              "      <td>...</td>\n",
              "      <td>...</td>\n",
              "    </tr>\n",
              "    <tr>\n",
              "      <th>2021-08-01</th>\n",
              "      <td>105.016113</td>\n",
              "      <td>126.196465</td>\n",
              "      <td>232.276596</td>\n",
              "      <td>19.121511</td>\n",
              "    </tr>\n",
              "    <tr>\n",
              "      <th>2021-09-01</th>\n",
              "      <td>102.644997</td>\n",
              "      <td>126.366852</td>\n",
              "      <td>237.139893</td>\n",
              "      <td>18.835596</td>\n",
              "    </tr>\n",
              "    <tr>\n",
              "      <th>2021-10-01</th>\n",
              "      <td>104.559372</td>\n",
              "      <td>113.787468</td>\n",
              "      <td>241.506790</td>\n",
              "      <td>17.615221</td>\n",
              "    </tr>\n",
              "    <tr>\n",
              "      <th>2021-11-01</th>\n",
              "      <td>94.708633</td>\n",
              "      <td>111.410385</td>\n",
              "      <td>240.572433</td>\n",
              "      <td>16.332382</td>\n",
              "    </tr>\n",
              "    <tr>\n",
              "      <th>2021-12-01</th>\n",
              "      <td>94.190178</td>\n",
              "      <td>128.862717</td>\n",
              "      <td>265.117676</td>\n",
              "      <td>17.598623</td>\n",
              "    </tr>\n",
              "  </tbody>\n",
              "</table>\n",
              "<p>144 rows × 4 columns</p>\n",
              "</div>\n",
              "      <button class=\"colab-df-convert\" onclick=\"convertToInteractive('df-e871e25a-3cc1-4239-ab5d-9c611b773dac')\"\n",
              "              title=\"Convert this dataframe to an interactive table.\"\n",
              "              style=\"display:none;\">\n",
              "        \n",
              "  <svg xmlns=\"http://www.w3.org/2000/svg\" height=\"24px\"viewBox=\"0 0 24 24\"\n",
              "       width=\"24px\">\n",
              "    <path d=\"M0 0h24v24H0V0z\" fill=\"none\"/>\n",
              "    <path d=\"M18.56 5.44l.94 2.06.94-2.06 2.06-.94-2.06-.94-.94-2.06-.94 2.06-2.06.94zm-11 1L8.5 8.5l.94-2.06 2.06-.94-2.06-.94L8.5 2.5l-.94 2.06-2.06.94zm10 10l.94 2.06.94-2.06 2.06-.94-2.06-.94-.94-2.06-.94 2.06-2.06.94z\"/><path d=\"M17.41 7.96l-1.37-1.37c-.4-.4-.92-.59-1.43-.59-.52 0-1.04.2-1.43.59L10.3 9.45l-7.72 7.72c-.78.78-.78 2.05 0 2.83L4 21.41c.39.39.9.59 1.41.59.51 0 1.02-.2 1.41-.59l7.78-7.78 2.81-2.81c.8-.78.8-2.07 0-2.86zM5.41 20L4 18.59l7.72-7.72 1.47 1.35L5.41 20z\"/>\n",
              "  </svg>\n",
              "      </button>\n",
              "      \n",
              "  <style>\n",
              "    .colab-df-container {\n",
              "      display:flex;\n",
              "      flex-wrap:wrap;\n",
              "      gap: 12px;\n",
              "    }\n",
              "\n",
              "    .colab-df-convert {\n",
              "      background-color: #E8F0FE;\n",
              "      border: none;\n",
              "      border-radius: 50%;\n",
              "      cursor: pointer;\n",
              "      display: none;\n",
              "      fill: #1967D2;\n",
              "      height: 32px;\n",
              "      padding: 0 0 0 0;\n",
              "      width: 32px;\n",
              "    }\n",
              "\n",
              "    .colab-df-convert:hover {\n",
              "      background-color: #E2EBFA;\n",
              "      box-shadow: 0px 1px 2px rgba(60, 64, 67, 0.3), 0px 1px 3px 1px rgba(60, 64, 67, 0.15);\n",
              "      fill: #174EA6;\n",
              "    }\n",
              "\n",
              "    [theme=dark] .colab-df-convert {\n",
              "      background-color: #3B4455;\n",
              "      fill: #D2E3FC;\n",
              "    }\n",
              "\n",
              "    [theme=dark] .colab-df-convert:hover {\n",
              "      background-color: #434B5C;\n",
              "      box-shadow: 0px 1px 3px 1px rgba(0, 0, 0, 0.15);\n",
              "      filter: drop-shadow(0px 1px 2px rgba(0, 0, 0, 0.3));\n",
              "      fill: #FFFFFF;\n",
              "    }\n",
              "  </style>\n",
              "\n",
              "      <script>\n",
              "        const buttonEl =\n",
              "          document.querySelector('#df-e871e25a-3cc1-4239-ab5d-9c611b773dac button.colab-df-convert');\n",
              "        buttonEl.style.display =\n",
              "          google.colab.kernel.accessAllowed ? 'block' : 'none';\n",
              "\n",
              "        async function convertToInteractive(key) {\n",
              "          const element = document.querySelector('#df-e871e25a-3cc1-4239-ab5d-9c611b773dac');\n",
              "          const dataTable =\n",
              "            await google.colab.kernel.invokeFunction('convertToInteractive',\n",
              "                                                     [key], {});\n",
              "          if (!dataTable) return;\n",
              "\n",
              "          const docLinkHtml = 'Like what you see? Visit the ' +\n",
              "            '<a target=\"_blank\" href=https://colab.research.google.com/notebooks/data_table.ipynb>data table notebook</a>'\n",
              "            + ' to learn more about interactive tables.';\n",
              "          element.innerHTML = '';\n",
              "          dataTable['output_type'] = 'display_data';\n",
              "          await google.colab.output.renderOutput(dataTable, element);\n",
              "          const docLink = document.createElement('div');\n",
              "          docLink.innerHTML = docLinkHtml;\n",
              "          element.appendChild(docLink);\n",
              "        }\n",
              "      </script>\n",
              "    </div>\n",
              "  </div>\n",
              "  "
            ]
          },
          "metadata": {},
          "execution_count": 70
        }
      ]
    },
    {
      "cell_type": "markdown",
      "metadata": {
        "id": "Fes_nsLE_N1U"
      },
      "source": [
        "## a. Se calculan los retornos logarítmicos de las compañias. "
      ]
    },
    {
      "cell_type": "code",
      "execution_count": 71,
      "metadata": {
        "id": "3f7tH532BOJa",
        "colab": {
          "base_uri": "https://localhost:8080/",
          "height": 455
        },
        "outputId": "93ef7224-2313-41c2-db41-18c92d62278e"
      },
      "outputs": [
        {
          "output_type": "execute_result",
          "data": {
            "text/plain": [
              "                  GE       IBM       MCD         T\n",
              "Date                                              \n",
              "2010-02-01 -0.001245  0.038233  0.022491 -0.002180\n",
              "2010-03-01  0.131313  0.012998  0.052432  0.040677\n",
              "2010-04-01  0.035621  0.005831  0.056383  0.008478\n",
              "2010-05-01 -0.142815 -0.029421 -0.054138 -0.048563\n",
              "2010-06-01 -0.125612 -0.009200 -0.006700 -0.004537\n",
              "...              ...       ...       ...       ...\n",
              "2021-08-01  0.017320 -0.004408 -0.021868  0.001370\n",
              "2021-09-01 -0.022837  0.001349  0.020721 -0.015065\n",
              "2021-10-01  0.018479 -0.104857  0.018247 -0.066985\n",
              "2021-11-01 -0.098950 -0.021112 -0.003876 -0.075614\n",
              "2021-12-01 -0.005489  0.145527  0.097153  0.074671\n",
              "\n",
              "[143 rows x 4 columns]"
            ],
            "text/html": [
              "\n",
              "  <div id=\"df-8dae1a2d-8d10-408b-9477-a16dc5066a36\">\n",
              "    <div class=\"colab-df-container\">\n",
              "      <div>\n",
              "<style scoped>\n",
              "    .dataframe tbody tr th:only-of-type {\n",
              "        vertical-align: middle;\n",
              "    }\n",
              "\n",
              "    .dataframe tbody tr th {\n",
              "        vertical-align: top;\n",
              "    }\n",
              "\n",
              "    .dataframe thead th {\n",
              "        text-align: right;\n",
              "    }\n",
              "</style>\n",
              "<table border=\"1\" class=\"dataframe\">\n",
              "  <thead>\n",
              "    <tr style=\"text-align: right;\">\n",
              "      <th></th>\n",
              "      <th>GE</th>\n",
              "      <th>IBM</th>\n",
              "      <th>MCD</th>\n",
              "      <th>T</th>\n",
              "    </tr>\n",
              "    <tr>\n",
              "      <th>Date</th>\n",
              "      <th></th>\n",
              "      <th></th>\n",
              "      <th></th>\n",
              "      <th></th>\n",
              "    </tr>\n",
              "  </thead>\n",
              "  <tbody>\n",
              "    <tr>\n",
              "      <th>2010-02-01</th>\n",
              "      <td>-0.001245</td>\n",
              "      <td>0.038233</td>\n",
              "      <td>0.022491</td>\n",
              "      <td>-0.002180</td>\n",
              "    </tr>\n",
              "    <tr>\n",
              "      <th>2010-03-01</th>\n",
              "      <td>0.131313</td>\n",
              "      <td>0.012998</td>\n",
              "      <td>0.052432</td>\n",
              "      <td>0.040677</td>\n",
              "    </tr>\n",
              "    <tr>\n",
              "      <th>2010-04-01</th>\n",
              "      <td>0.035621</td>\n",
              "      <td>0.005831</td>\n",
              "      <td>0.056383</td>\n",
              "      <td>0.008478</td>\n",
              "    </tr>\n",
              "    <tr>\n",
              "      <th>2010-05-01</th>\n",
              "      <td>-0.142815</td>\n",
              "      <td>-0.029421</td>\n",
              "      <td>-0.054138</td>\n",
              "      <td>-0.048563</td>\n",
              "    </tr>\n",
              "    <tr>\n",
              "      <th>2010-06-01</th>\n",
              "      <td>-0.125612</td>\n",
              "      <td>-0.009200</td>\n",
              "      <td>-0.006700</td>\n",
              "      <td>-0.004537</td>\n",
              "    </tr>\n",
              "    <tr>\n",
              "      <th>...</th>\n",
              "      <td>...</td>\n",
              "      <td>...</td>\n",
              "      <td>...</td>\n",
              "      <td>...</td>\n",
              "    </tr>\n",
              "    <tr>\n",
              "      <th>2021-08-01</th>\n",
              "      <td>0.017320</td>\n",
              "      <td>-0.004408</td>\n",
              "      <td>-0.021868</td>\n",
              "      <td>0.001370</td>\n",
              "    </tr>\n",
              "    <tr>\n",
              "      <th>2021-09-01</th>\n",
              "      <td>-0.022837</td>\n",
              "      <td>0.001349</td>\n",
              "      <td>0.020721</td>\n",
              "      <td>-0.015065</td>\n",
              "    </tr>\n",
              "    <tr>\n",
              "      <th>2021-10-01</th>\n",
              "      <td>0.018479</td>\n",
              "      <td>-0.104857</td>\n",
              "      <td>0.018247</td>\n",
              "      <td>-0.066985</td>\n",
              "    </tr>\n",
              "    <tr>\n",
              "      <th>2021-11-01</th>\n",
              "      <td>-0.098950</td>\n",
              "      <td>-0.021112</td>\n",
              "      <td>-0.003876</td>\n",
              "      <td>-0.075614</td>\n",
              "    </tr>\n",
              "    <tr>\n",
              "      <th>2021-12-01</th>\n",
              "      <td>-0.005489</td>\n",
              "      <td>0.145527</td>\n",
              "      <td>0.097153</td>\n",
              "      <td>0.074671</td>\n",
              "    </tr>\n",
              "  </tbody>\n",
              "</table>\n",
              "<p>143 rows × 4 columns</p>\n",
              "</div>\n",
              "      <button class=\"colab-df-convert\" onclick=\"convertToInteractive('df-8dae1a2d-8d10-408b-9477-a16dc5066a36')\"\n",
              "              title=\"Convert this dataframe to an interactive table.\"\n",
              "              style=\"display:none;\">\n",
              "        \n",
              "  <svg xmlns=\"http://www.w3.org/2000/svg\" height=\"24px\"viewBox=\"0 0 24 24\"\n",
              "       width=\"24px\">\n",
              "    <path d=\"M0 0h24v24H0V0z\" fill=\"none\"/>\n",
              "    <path d=\"M18.56 5.44l.94 2.06.94-2.06 2.06-.94-2.06-.94-.94-2.06-.94 2.06-2.06.94zm-11 1L8.5 8.5l.94-2.06 2.06-.94-2.06-.94L8.5 2.5l-.94 2.06-2.06.94zm10 10l.94 2.06.94-2.06 2.06-.94-2.06-.94-.94-2.06-.94 2.06-2.06.94z\"/><path d=\"M17.41 7.96l-1.37-1.37c-.4-.4-.92-.59-1.43-.59-.52 0-1.04.2-1.43.59L10.3 9.45l-7.72 7.72c-.78.78-.78 2.05 0 2.83L4 21.41c.39.39.9.59 1.41.59.51 0 1.02-.2 1.41-.59l7.78-7.78 2.81-2.81c.8-.78.8-2.07 0-2.86zM5.41 20L4 18.59l7.72-7.72 1.47 1.35L5.41 20z\"/>\n",
              "  </svg>\n",
              "      </button>\n",
              "      \n",
              "  <style>\n",
              "    .colab-df-container {\n",
              "      display:flex;\n",
              "      flex-wrap:wrap;\n",
              "      gap: 12px;\n",
              "    }\n",
              "\n",
              "    .colab-df-convert {\n",
              "      background-color: #E8F0FE;\n",
              "      border: none;\n",
              "      border-radius: 50%;\n",
              "      cursor: pointer;\n",
              "      display: none;\n",
              "      fill: #1967D2;\n",
              "      height: 32px;\n",
              "      padding: 0 0 0 0;\n",
              "      width: 32px;\n",
              "    }\n",
              "\n",
              "    .colab-df-convert:hover {\n",
              "      background-color: #E2EBFA;\n",
              "      box-shadow: 0px 1px 2px rgba(60, 64, 67, 0.3), 0px 1px 3px 1px rgba(60, 64, 67, 0.15);\n",
              "      fill: #174EA6;\n",
              "    }\n",
              "\n",
              "    [theme=dark] .colab-df-convert {\n",
              "      background-color: #3B4455;\n",
              "      fill: #D2E3FC;\n",
              "    }\n",
              "\n",
              "    [theme=dark] .colab-df-convert:hover {\n",
              "      background-color: #434B5C;\n",
              "      box-shadow: 0px 1px 3px 1px rgba(0, 0, 0, 0.15);\n",
              "      filter: drop-shadow(0px 1px 2px rgba(0, 0, 0, 0.3));\n",
              "      fill: #FFFFFF;\n",
              "    }\n",
              "  </style>\n",
              "\n",
              "      <script>\n",
              "        const buttonEl =\n",
              "          document.querySelector('#df-8dae1a2d-8d10-408b-9477-a16dc5066a36 button.colab-df-convert');\n",
              "        buttonEl.style.display =\n",
              "          google.colab.kernel.accessAllowed ? 'block' : 'none';\n",
              "\n",
              "        async function convertToInteractive(key) {\n",
              "          const element = document.querySelector('#df-8dae1a2d-8d10-408b-9477-a16dc5066a36');\n",
              "          const dataTable =\n",
              "            await google.colab.kernel.invokeFunction('convertToInteractive',\n",
              "                                                     [key], {});\n",
              "          if (!dataTable) return;\n",
              "\n",
              "          const docLinkHtml = 'Like what you see? Visit the ' +\n",
              "            '<a target=\"_blank\" href=https://colab.research.google.com/notebooks/data_table.ipynb>data table notebook</a>'\n",
              "            + ' to learn more about interactive tables.';\n",
              "          element.innerHTML = '';\n",
              "          dataTable['output_type'] = 'display_data';\n",
              "          await google.colab.output.renderOutput(dataTable, element);\n",
              "          const docLink = document.createElement('div');\n",
              "          docLink.innerHTML = docLinkHtml;\n",
              "          element.appendChild(docLink);\n",
              "        }\n",
              "      </script>\n",
              "    </div>\n",
              "  </div>\n",
              "  "
            ]
          },
          "metadata": {},
          "execution_count": 71
        }
      ],
      "source": [
        "retornos=np.log(precios_adj/precios_adj.shift()).dropna() \n",
        "retornos"
      ]
    },
    {
      "cell_type": "code",
      "execution_count": 72,
      "metadata": {
        "colab": {
          "base_uri": "https://localhost:8080/",
          "height": 336
        },
        "id": "54DFXTe997CQ",
        "outputId": "2534586e-9553-476b-c888-882e1a62bad2"
      },
      "outputs": [
        {
          "output_type": "display_data",
          "data": {
            "text/plain": [
              "<Figure size 576x360 with 1 Axes>"
            ],
            "image/png": "[encoded data removed]"
          },
          "metadata": {
            "needs_background": "light"
          }
        }
      ],
      "source": [
        "retornos_plot = precios_adj.pct_change().dropna()\n",
        "retornos_plot.plot(figsize=(8,5));"
      ]
    },
    {
      "cell_type": "markdown",
      "source": [
        "Es importante acotar que, para calcular la rentabilidad de las acciones de las respectivas compañias, se utilizan los retornos continuos o logarítmicos y no los retornos discretos de los precios ajustados. Esto se debe a que, principalmente, para modelar el comportamiento de los precios de las acciones, comportamiento que cambia con frecuencia, es conveniente hacerlo de forma continua con el tiempo, para así poder determinar la volatilidad o el valor de libre riesgo que se asume. Lo anterior, permite determinar las acciones que pueden representar mayor rentabilidad con la tasa de riesgo más baja posible. A partir de la gráfica anteriormente expuesta, se pueden observar los clusters de volatilidad, es decir, existen periodos en los cuales la volatilidad de las acciones es alta en comparación con los demás periodos."
      ],
      "metadata": {
        "id": "7cXefOHmi6Ej"
      }
    },
    {
      "cell_type": "markdown",
      "source": [
        "## b. Calcule las estadísticas descriptivas (media, mediana, desv. estándar, curtosis, simetría) para cada uno de ellos. Presente los estadísticos en una tabla para todos los activos. "
      ],
      "metadata": {
        "id": "xoiZsaH7_f6C"
      }
    },
    {
      "cell_type": "code",
      "source": [
        "retornos_estadisticas={\"GE\":pd.Series([retornos[\"GE\"].mean(),retornos[\"GE\"].median(),np.std(retornos[\"GE\"]),retornos[\"GE\"].kurt(),retornos[\"GE\"].skew()],index=[\"Media\",\"Mediana\",\"Desviación Estándar\",\"Curtosis\",\"Asimetría\"]),\"IBM\":pd.Series([retornos[\"IBM\"].mean(),retornos[\"IBM\"].median(),np.std(retornos[\"IBM\"]),retornos[\"IBM\"].kurt(),retornos[\"IBM\"].skew()],index=[\"Media\",\"Mediana\",\"Desviación Estándar\",\"Curtosis\",\"Asimetría\"]),\"MCD\":pd.Series([retornos[\"MCD\"].mean(),retornos[\"MCD\"].median(),np.std(retornos[\"MCD\"]),retornos[\"MCD\"].kurt(),retornos[\"MCD\"].skew()],index=[\"Media\",\"Mediana\",\"Desviación Estándar\",\"Curtosis\",\"Asimetría\"]),\"T\":pd.Series([retornos[\"T\"].mean(),retornos[\"T\"].median(),np.std(retornos[\"T\"]),retornos[\"T\"].kurt(),retornos[\"T\"].skew()],index=[\"Media\",\"Mediana\",\"Desviación Estándar\",\"Curtosis\",\"Asimetría\"])}\n",
        "df=pd.DataFrame(retornos_estadisticas)\n",
        "df"
      ],
      "metadata": {
        "colab": {
          "base_uri": "https://localhost:8080/",
          "height": 206
        },
        "id": "_yOJ0k6QdH5f",
        "outputId": "9a4769d9-e553-417d-b375-1ea2895d577e"
      },
      "execution_count": 73,
      "outputs": [
        {
          "output_type": "execute_result",
          "data": {
            "text/plain": [
              "                           GE       IBM       MCD         T\n",
              "Media                0.000231  0.003689  0.012605  0.006158\n",
              "Mediana             -0.001930  0.002619  0.011742  0.006484\n",
              "Desviación Estándar  0.086632  0.060324  0.042339  0.048129\n",
              "Curtosis             3.040760  2.653584  1.596993  1.549810\n",
              "Asimetría           -0.088296 -0.564633 -0.410194 -0.707909"
            ],
            "text/html": [
              "\n",
              "  <div id=\"df-e059efe9-9580-4b2e-99be-fa14f4fce9ae\">\n",
              "    <div class=\"colab-df-container\">\n",
              "      <div>\n",
              "<style scoped>\n",
              "    .dataframe tbody tr th:only-of-type {\n",
              "        vertical-align: middle;\n",
              "    }\n",
              "\n",
              "    .dataframe tbody tr th {\n",
              "        vertical-align: top;\n",
              "    }\n",
              "\n",
              "    .dataframe thead th {\n",
              "        text-align: right;\n",
              "    }\n",
              "</style>\n",
              "<table border=\"1\" class=\"dataframe\">\n",
              "  <thead>\n",
              "    <tr style=\"text-align: right;\">\n",
              "      <th></th>\n",
              "      <th>GE</th>\n",
              "      <th>IBM</th>\n",
              "      <th>MCD</th>\n",
              "      <th>T</th>\n",
              "    </tr>\n",
              "  </thead>\n",
              "  <tbody>\n",
              "    <tr>\n",
              "      <th>Media</th>\n",
              "      <td>0.000231</td>\n",
              "      <td>0.003689</td>\n",
              "      <td>0.012605</td>\n",
              "      <td>0.006158</td>\n",
              "    </tr>\n",
              "    <tr>\n",
              "      <th>Mediana</th>\n",
              "      <td>-0.001930</td>\n",
              "      <td>0.002619</td>\n",
              "      <td>0.011742</td>\n",
              "      <td>0.006484</td>\n",
              "    </tr>\n",
              "    <tr>\n",
              "      <th>Desviación Estándar</th>\n",
              "      <td>0.086632</td>\n",
              "      <td>0.060324</td>\n",
              "      <td>0.042339</td>\n",
              "      <td>0.048129</td>\n",
              "    </tr>\n",
              "    <tr>\n",
              "      <th>Curtosis</th>\n",
              "      <td>3.040760</td>\n",
              "      <td>2.653584</td>\n",
              "      <td>1.596993</td>\n",
              "      <td>1.549810</td>\n",
              "    </tr>\n",
              "    <tr>\n",
              "      <th>Asimetría</th>\n",
              "      <td>-0.088296</td>\n",
              "      <td>-0.564633</td>\n",
              "      <td>-0.410194</td>\n",
              "      <td>-0.707909</td>\n",
              "    </tr>\n",
              "  </tbody>\n",
              "</table>\n",
              "</div>\n",
              "      <button class=\"colab-df-convert\" onclick=\"convertToInteractive('df-e059efe9-9580-4b2e-99be-fa14f4fce9ae')\"\n",
              "              title=\"Convert this dataframe to an interactive table.\"\n",
              "              style=\"display:none;\">\n",
              "        \n",
              "  <svg xmlns=\"http://www.w3.org/2000/svg\" height=\"24px\"viewBox=\"0 0 24 24\"\n",
              "       width=\"24px\">\n",
              "    <path d=\"M0 0h24v24H0V0z\" fill=\"none\"/>\n",
              "    <path d=\"M18.56 5.44l.94 2.06.94-2.06 2.06-.94-2.06-.94-.94-2.06-.94 2.06-2.06.94zm-11 1L8.5 8.5l.94-2.06 2.06-.94-2.06-.94L8.5 2.5l-.94 2.06-2.06.94zm10 10l.94 2.06.94-2.06 2.06-.94-2.06-.94-.94-2.06-.94 2.06-2.06.94z\"/><path d=\"M17.41 7.96l-1.37-1.37c-.4-.4-.92-.59-1.43-.59-.52 0-1.04.2-1.43.59L10.3 9.45l-7.72 7.72c-.78.78-.78 2.05 0 2.83L4 21.41c.39.39.9.59 1.41.59.51 0 1.02-.2 1.41-.59l7.78-7.78 2.81-2.81c.8-.78.8-2.07 0-2.86zM5.41 20L4 18.59l7.72-7.72 1.47 1.35L5.41 20z\"/>\n",
              "  </svg>\n",
              "      </button>\n",
              "      \n",
              "  <style>\n",
              "    .colab-df-container {\n",
              "      display:flex;\n",
              "      flex-wrap:wrap;\n",
              "      gap: 12px;\n",
              "    }\n",
              "\n",
              "    .colab-df-convert {\n",
              "      background-color: #E8F0FE;\n",
              "      border: none;\n",
              "      border-radius: 50%;\n",
              "      cursor: pointer;\n",
              "      display: none;\n",
              "      fill: #1967D2;\n",
              "      height: 32px;\n",
              "      padding: 0 0 0 0;\n",
              "      width: 32px;\n",
              "    }\n",
              "\n",
              "    .colab-df-convert:hover {\n",
              "      background-color: #E2EBFA;\n",
              "      box-shadow: 0px 1px 2px rgba(60, 64, 67, 0.3), 0px 1px 3px 1px rgba(60, 64, 67, 0.15);\n",
              "      fill: #174EA6;\n",
              "    }\n",
              "\n",
              "    [theme=dark] .colab-df-convert {\n",
              "      background-color: #3B4455;\n",
              "      fill: #D2E3FC;\n",
              "    }\n",
              "\n",
              "    [theme=dark] .colab-df-convert:hover {\n",
              "      background-color: #434B5C;\n",
              "      box-shadow: 0px 1px 3px 1px rgba(0, 0, 0, 0.15);\n",
              "      filter: drop-shadow(0px 1px 2px rgba(0, 0, 0, 0.3));\n",
              "      fill: #FFFFFF;\n",
              "    }\n",
              "  </style>\n",
              "\n",
              "      <script>\n",
              "        const buttonEl =\n",
              "          document.querySelector('#df-e059efe9-9580-4b2e-99be-fa14f4fce9ae button.colab-df-convert');\n",
              "        buttonEl.style.display =\n",
              "          google.colab.kernel.accessAllowed ? 'block' : 'none';\n",
              "\n",
              "        async function convertToInteractive(key) {\n",
              "          const element = document.querySelector('#df-e059efe9-9580-4b2e-99be-fa14f4fce9ae');\n",
              "          const dataTable =\n",
              "            await google.colab.kernel.invokeFunction('convertToInteractive',\n",
              "                                                     [key], {});\n",
              "          if (!dataTable) return;\n",
              "\n",
              "          const docLinkHtml = 'Like what you see? Visit the ' +\n",
              "            '<a target=\"_blank\" href=https://colab.research.google.com/notebooks/data_table.ipynb>data table notebook</a>'\n",
              "            + ' to learn more about interactive tables.';\n",
              "          element.innerHTML = '';\n",
              "          dataTable['output_type'] = 'display_data';\n",
              "          await google.colab.output.renderOutput(dataTable, element);\n",
              "          const docLink = document.createElement('div');\n",
              "          docLink.innerHTML = docLinkHtml;\n",
              "          element.appendChild(docLink);\n",
              "        }\n",
              "      </script>\n",
              "    </div>\n",
              "  </div>\n",
              "  "
            ]
          },
          "metadata": {},
          "execution_count": 73
        }
      ]
    },
    {
      "cell_type": "code",
      "source": [
        "x= pd.DataFrame()\n",
        "Media = retornos.mean()\n",
        "Mediana = retornos.median()\n",
        "Verificación = Media>Mediana\n",
        "\n",
        "x[\"Media\"] = Media\n",
        "x[\"Mediana\"] = Mediana\n",
        "x[\"Media>Mediana\"] = Verificación\n",
        "print(x)"
      ],
      "metadata": {
        "colab": {
          "base_uri": "https://localhost:8080/"
        },
        "id": "POWI7_eFEt6A",
        "outputId": "a636a910-93ee-4d5f-8dce-e8fb5b1752ca"
      },
      "execution_count": 74,
      "outputs": [
        {
          "output_type": "stream",
          "name": "stdout",
          "text": [
            "        Media   Mediana  Media>Mediana\n",
            "GE   0.000231 -0.001930           True\n",
            "IBM  0.003689  0.002619           True\n",
            "MCD  0.012605  0.011742           True\n",
            "T    0.006158  0.006484          False\n"
          ]
        }
      ]
    },
    {
      "cell_type": "markdown",
      "source": [
        "* **Curtosis:** esta medida de apuntamiento estudia las frecuencias alrededor de la media. Para la distribución normal estándar se menciona que la curtosis es exactamente igual a 0. No obstante, se puede observar que, las distribuciones de frecuencia de las acciones analizadas, no pertenencen a una distribución normal ya que su curtosis no es 0. Las distribución de frecuencia de estas acciones se encuentran clasificadas dentro de **Leptocúrtica**, es decir, los retornos de las acciones están mucho más concentradas alrededor del promedio y conforman una distribución mucho más apuntada que la normal.\n",
        "\n",
        "* **Asimetría:** Existe una distribución de frecuencias simétricas cuando la mediana y la media siempre coinciden. No obstante, se observa que para estos activos no existe una distribución de simetría. Por lo tanto, para los activos **GE**, **IBM** y **MCD** se aprecia una distribución asimética a la derecha, ya que la media es mayor a la mediana, es decir hay valores más separados de la media a la derecha. No obstante, el activo **T** tiene una distribución diferente; su distribución es asimetríca a la izquierda, ya que la media es menor a la mediana, es decir hay valores más separados de la media a la izquierda.\n",
        "\n",
        "* **Desviación Estándar:** Para analizar la variabilidad de las acciones con respecto a la media, la desviación estándar es una medida óptima. A partir de los datos obtenidos se puede observar que AT&T Inc y McDonald's cuentan con la dispersión de datos más baja; al encontrarse entre un rango de 0% - 5% se puede determinar una dispersión de datos mínima. Por otro lado, General Electric y International Business Machines tienen la dispesión de datos más alta entre los stocks; al encontrarse entre 5% y 15% se puede determinar que la dispersión del conjunto de datos es moderada. En caso de tener una desviación estándar mayor al 15% la dispersión de los datos sería alta, es decir, más volatil. \n",
        "\n"
      ],
      "metadata": {
        "id": "HQkqwok0wWQr"
      }
    },
    {
      "cell_type": "markdown",
      "source": [
        "## c. Presente en un Data Frame los retornos esperados y las volatilidades anualizadas "
      ],
      "metadata": {
        "id": "cIHgiuN2oOjb"
      }
    },
    {
      "cell_type": "markdown",
      "source": [
        "#### Media y Sigma de **General Electric** anualizada."
      ],
      "metadata": {
        "id": "-JFlWLsXep1j"
      }
    },
    {
      "cell_type": "code",
      "source": [
        "meanGE,sigmaGE=retornos[\"GE\"].mean(), retornos[\"GE\"].std()\n",
        "meanGE,sigmaGE\n",
        "meanGE*12, sigmaGE*np.sqrt(12)"
      ],
      "metadata": {
        "id": "hQcBzLAQ__Xl",
        "colab": {
          "base_uri": "https://localhost:8080/"
        },
        "outputId": "8646edb8-368c-4a66-ca73-03f93e7bf638"
      },
      "execution_count": 75,
      "outputs": [
        {
          "output_type": "execute_result",
          "data": {
            "text/plain": [
              "(0.0027767056621447253, 0.3011572647869667)"
            ]
          },
          "metadata": {},
          "execution_count": 75
        }
      ]
    },
    {
      "cell_type": "markdown",
      "source": [
        "#### Retorno equivalente y conversión **General Electric** "
      ],
      "metadata": {
        "id": "-TFyUMocnueu"
      }
    },
    {
      "cell_type": "code",
      "source": [
        "np.log(1+meanGE*12)"
      ],
      "metadata": {
        "colab": {
          "base_uri": "https://localhost:8080/"
        },
        "id": "tKAZ9Pgwn1fH",
        "outputId": "9a740d36-cda9-464e-ef3f-a99b1ee47f23"
      },
      "execution_count": 76,
      "outputs": [
        {
          "output_type": "execute_result",
          "data": {
            "text/plain": [
              "0.002772857736370148"
            ]
          },
          "metadata": {},
          "execution_count": 76
        }
      ]
    },
    {
      "cell_type": "markdown",
      "source": [
        "#### Media y Sigma de **International Business Machines Corporation** anualizada."
      ],
      "metadata": {
        "id": "jXclDEj2fcQa"
      }
    },
    {
      "cell_type": "code",
      "source": [
        "meanIBM,sigmaIBM=retornos[\"IBM\"].mean(), retornos[\"IBM\"].std()\n",
        "meanIBM,sigmaIBM\n",
        "meanIBM*12, sigmaIBM*np.sqrt(12)"
      ],
      "metadata": {
        "colab": {
          "base_uri": "https://localhost:8080/"
        },
        "id": "qVFVqY94fGNO",
        "outputId": "e5a89036-8f40-41bd-e9a5-c13b3178a8fb"
      },
      "execution_count": 77,
      "outputs": [
        {
          "output_type": "execute_result",
          "data": {
            "text/plain": [
              "(0.04427081454100047, 0.20970330291747083)"
            ]
          },
          "metadata": {},
          "execution_count": 77
        }
      ]
    },
    {
      "cell_type": "markdown",
      "source": [
        "#### Retorno equivalente y conversión **International Business Machines Corporation** "
      ],
      "metadata": {
        "id": "9JVRD6KNn6HQ"
      }
    },
    {
      "cell_type": "code",
      "source": [
        "np.log(1+meanIBM*12)"
      ],
      "metadata": {
        "colab": {
          "base_uri": "https://localhost:8080/"
        },
        "id": "IQpxs2WRn-fc",
        "outputId": "15ac14bf-6247-4552-d917-0569a8e6bc1e"
      },
      "execution_count": 78,
      "outputs": [
        {
          "output_type": "execute_result",
          "data": {
            "text/plain": [
              "0.04331885672319173"
            ]
          },
          "metadata": {},
          "execution_count": 78
        }
      ]
    },
    {
      "cell_type": "markdown",
      "source": [
        "#### Media y Sigma de **McDonald's Corporation** anualizada."
      ],
      "metadata": {
        "id": "NOi-zUJ5gIgB"
      }
    },
    {
      "cell_type": "code",
      "source": [
        "meanMCD,sigmaMCD=retornos[\"MCD\"].mean(), retornos[\"MCD\"].std()\n",
        "meanMCD,sigmaMCD\n",
        "meanMCD*12, sigmaMCD*np.sqrt(12)"
      ],
      "metadata": {
        "colab": {
          "base_uri": "https://localhost:8080/"
        },
        "id": "JiHw91Ozf8We",
        "outputId": "f806b261-4020-4f61-e4f4-a0db7e89a5bc"
      },
      "execution_count": 79,
      "outputs": [
        {
          "output_type": "execute_result",
          "data": {
            "text/plain": [
              "(0.15126503444404424, 0.14718336445516558)"
            ]
          },
          "metadata": {},
          "execution_count": 79
        }
      ]
    },
    {
      "cell_type": "markdown",
      "source": [
        "#### Retorno equivalente y conversión **McDonald's Corporation**"
      ],
      "metadata": {
        "id": "Y-cBXlo9o1rS"
      }
    },
    {
      "cell_type": "code",
      "source": [
        "np.log(1+meanMCD*12)"
      ],
      "metadata": {
        "colab": {
          "base_uri": "https://localhost:8080/"
        },
        "id": "YP5Xa9nhpjTp",
        "outputId": "25fa1798-76cc-4999-d0bd-68018fd15cb2"
      },
      "execution_count": 80,
      "outputs": [
        {
          "output_type": "execute_result",
          "data": {
            "text/plain": [
              "0.14086136773689178"
            ]
          },
          "metadata": {},
          "execution_count": 80
        }
      ]
    },
    {
      "cell_type": "markdown",
      "source": [
        "#### Media y Sigma de **AT&T Inc.** anualizada."
      ],
      "metadata": {
        "id": "m9n4CurQnTd8"
      }
    },
    {
      "cell_type": "code",
      "source": [
        "meanT,sigmaT=retornos[\"T\"].mean(), retornos[\"T\"].std()\n",
        "meanT,sigmaT\n",
        "meanT*12, sigmaT*np.sqrt(12)"
      ],
      "metadata": {
        "colab": {
          "base_uri": "https://localhost:8080/"
        },
        "id": "Pz_sF_mfnazr",
        "outputId": "ed1399a4-b1c7-4d19-a081-4851ec9a1978"
      },
      "execution_count": 81,
      "outputs": [
        {
          "output_type": "execute_result",
          "data": {
            "text/plain": [
              "(0.07389431866575537, 0.16731123778419732)"
            ]
          },
          "metadata": {},
          "execution_count": 81
        }
      ]
    },
    {
      "cell_type": "markdown",
      "source": [
        "#### Retorno equivalente y conversión **AT&T Inc.**"
      ],
      "metadata": {
        "id": "Bz50uAZPptuS"
      }
    },
    {
      "cell_type": "code",
      "source": [
        "np.log(1+meanT*12)"
      ],
      "metadata": {
        "colab": {
          "base_uri": "https://localhost:8080/"
        },
        "id": "NxWfCPPoqArN",
        "outputId": "ecb406b8-bacd-4d37-9c97-644fd15cb3ac"
      },
      "execution_count": 82,
      "outputs": [
        {
          "output_type": "execute_result",
          "data": {
            "text/plain": [
              "0.07129159149254426"
            ]
          },
          "metadata": {},
          "execution_count": 82
        }
      ]
    },
    {
      "cell_type": "markdown",
      "source": [
        "* Se dividen los precios ajustados de cada activos."
      ],
      "metadata": {
        "id": "uRo-JIGQq-qW"
      }
    },
    {
      "cell_type": "code",
      "source": [
        "precios_adjGE, precios_adjIBM, precios_adjMCD, precios_adjT= precios_adj.loc[:,\"GE\"], precios_adj.loc[:,\"IBM\"], precios_adj.loc[:,\"MCD\"], precios_adj.loc[:,\"T\"]"
      ],
      "metadata": {
        "id": "Lc6MurmqqA7W"
      },
      "execution_count": 115,
      "outputs": []
    },
    {
      "cell_type": "markdown",
      "source": [
        "#### Volatilidad **General Electric**."
      ],
      "metadata": {
        "id": "AJFeDuLrrK9U"
      }
    },
    {
      "cell_type": "code",
      "source": [
        "retornosGE = np.log(precios_adjGE/precios_adjGE.shift(1)).dropna()\n",
        "sigma_dGE = retornosGE.std()\n",
        "mean_dGE=retornosGE.mean()\n",
        "mean_dGE\n",
        "sigma_dGE*np.sqrt(12)"
      ],
      "metadata": {
        "colab": {
          "base_uri": "https://localhost:8080/"
        },
        "id": "r14gwn2drNjw",
        "outputId": "13875785-329d-4b24-e850-fb6a21c84aa5"
      },
      "execution_count": 84,
      "outputs": [
        {
          "output_type": "execute_result",
          "data": {
            "text/plain": [
              "0.3011572647869667"
            ]
          },
          "metadata": {},
          "execution_count": 84
        }
      ]
    },
    {
      "cell_type": "code",
      "source": [
        "retornosGE.plot();"
      ],
      "metadata": {
        "colab": {
          "base_uri": "https://localhost:8080/",
          "height": 279
        },
        "id": "AhQB8IWzrSDc",
        "outputId": "0a7871a8-a5d5-444b-cb15-b9042922da15"
      },
      "execution_count": 85,
      "outputs": [
        {
          "output_type": "display_data",
          "data": {
            "text/plain": [
              "<Figure size 432x288 with 1 Axes>"
            ],
            "image/png": "[encoded data removed]"
          },
          "metadata": {
            "needs_background": "light"
          }
        }
      ]
    },
    {
      "cell_type": "markdown",
      "source": [
        "#### Volatilidad **International Business Machines Corporation**."
      ],
      "metadata": {
        "id": "xT279ooIrw7S"
      }
    },
    {
      "cell_type": "code",
      "source": [
        "retornosIBM = np.log(precios_adjIBM/precios_adjIBM.shift(1)).dropna()\n",
        "sigma_dIBM = retornosIBM.std()\n",
        "mean_dIBM=retornosIBM.mean()\n",
        "mean_dIBM\n",
        "sigma_dIBM*np.sqrt(12)"
      ],
      "metadata": {
        "colab": {
          "base_uri": "https://localhost:8080/"
        },
        "id": "TQwe_ivvrbZ3",
        "outputId": "a6ed2f5e-c898-4338-a2d7-c5fab1ff2d03"
      },
      "execution_count": 86,
      "outputs": [
        {
          "output_type": "execute_result",
          "data": {
            "text/plain": [
              "0.20970330291747083"
            ]
          },
          "metadata": {},
          "execution_count": 86
        }
      ]
    },
    {
      "cell_type": "code",
      "source": [
        "retornosIBM.plot();"
      ],
      "metadata": {
        "colab": {
          "base_uri": "https://localhost:8080/",
          "height": 279
        },
        "id": "XlMchg92r5P8",
        "outputId": "4e187b57-7525-4330-e11b-d336b6263d29"
      },
      "execution_count": 87,
      "outputs": [
        {
          "output_type": "display_data",
          "data": {
            "text/plain": [
              "<Figure size 432x288 with 1 Axes>"
            ],
            "image/png": "[encoded data removed]"
          },
          "metadata": {
            "needs_background": "light"
          }
        }
      ]
    },
    {
      "cell_type": "markdown",
      "source": [
        "#### Volatilidad **McDonald's Corporation**"
      ],
      "metadata": {
        "id": "hZCJERZwsEx9"
      }
    },
    {
      "cell_type": "code",
      "source": [
        "retornosMCD = np.log(precios_adjMCD/precios_adjMCD.shift(1)).dropna()\n",
        "sigma_dMCD = retornosMCD.std()\n",
        "mean_dMCD=retornosMCD.mean()\n",
        "mean_dMCD\n",
        "sigma_dMCD*np.sqrt(12)"
      ],
      "metadata": {
        "colab": {
          "base_uri": "https://localhost:8080/"
        },
        "id": "u0-90r0vr8tQ",
        "outputId": "699dbafd-48b3-4494-8c66-798920b7edf1"
      },
      "execution_count": 88,
      "outputs": [
        {
          "output_type": "execute_result",
          "data": {
            "text/plain": [
              "0.14718336445516558"
            ]
          },
          "metadata": {},
          "execution_count": 88
        }
      ]
    },
    {
      "cell_type": "code",
      "source": [
        "retornosMCD.plot();"
      ],
      "metadata": {
        "colab": {
          "base_uri": "https://localhost:8080/",
          "height": 279
        },
        "id": "Dwho8OmtsMZH",
        "outputId": "7fdb0221-bda8-457a-fd8b-b5ed00257b26"
      },
      "execution_count": 89,
      "outputs": [
        {
          "output_type": "display_data",
          "data": {
            "text/plain": [
              "<Figure size 432x288 with 1 Axes>"
            ],
            "image/png": "[encoded data removed]"
          },
          "metadata": {
            "needs_background": "light"
          }
        }
      ]
    },
    {
      "cell_type": "markdown",
      "source": [
        "#### Volatilidad **AT&T Inc.**"
      ],
      "metadata": {
        "id": "s0I8-Bbsscg4"
      }
    },
    {
      "cell_type": "code",
      "source": [
        "retornosT = np.log(precios_adjT/precios_adjT.shift(1)).dropna()\n",
        "sigma_dT = retornosT.std()\n",
        "mean_dT=retornosT.mean()\n",
        "mean_dT\n",
        "sigma_dT*np.sqrt(12)"
      ],
      "metadata": {
        "colab": {
          "base_uri": "https://localhost:8080/"
        },
        "id": "O9GktTEtsQUD",
        "outputId": "511c719f-2091-4a1e-b218-7870cb7b2d68"
      },
      "execution_count": 90,
      "outputs": [
        {
          "output_type": "execute_result",
          "data": {
            "text/plain": [
              "0.16731123778419732"
            ]
          },
          "metadata": {},
          "execution_count": 90
        }
      ]
    },
    {
      "cell_type": "code",
      "source": [
        "retornosT.plot();"
      ],
      "metadata": {
        "colab": {
          "base_uri": "https://localhost:8080/",
          "height": 279
        },
        "id": "lxRHswHgsivw",
        "outputId": "23476bd6-a0d4-4a80-e05d-1d336e4fddf4"
      },
      "execution_count": 91,
      "outputs": [
        {
          "output_type": "display_data",
          "data": {
            "text/plain": [
              "<Figure size 432x288 with 1 Axes>"
            ],
            "image/png": "[encoded data removed]"
          },
          "metadata": {
            "needs_background": "light"
          }
        }
      ]
    },
    {
      "cell_type": "markdown",
      "source": [
        "* **DataFrame**"
      ],
      "metadata": {
        "id": "xvXS1Jx3OwXB"
      }
    },
    {
      "cell_type": "code",
      "source": [
        "retornos_esperados_y_volatilidades={\"GE\":pd.Series([np.log(1+meanGE*12),sigma_dGE*np.sqrt(12)],index=[\"Retorno Esperado\", \"Volatilidades Anualizadas\"]),\"IBM\":pd.Series([np.log(1+meanIBM*12),sigma_dIBM*np.sqrt(12)],index=[\"Retorno Esperado\", \"Volatilidades Anualizadas\"]), \"MCD\":pd.Series([np.log(1+meanMCD*12),sigma_dMCD*np.sqrt(12)],index=[\"Retorno Esperado\", \"Volatilidades Anualizadas\"]),\"T\":pd.Series([np.log(1+meanT*12),sigma_dT*np.sqrt(12)],index=[\"Retorno Esperado\", \"Volatilidades Anualizadas\"])}\n",
        "df1=pd.DataFrame(retornos_esperados_y_volatilidades)\n",
        "df1"
      ],
      "metadata": {
        "colab": {
          "base_uri": "https://localhost:8080/",
          "height": 112
        },
        "id": "YNV2YDuasmXp",
        "outputId": "048ff131-ec59-4dc3-9001-6f14327ff47d"
      },
      "execution_count": 92,
      "outputs": [
        {
          "output_type": "execute_result",
          "data": {
            "text/plain": [
              "                                 GE       IBM       MCD         T\n",
              "Retorno Esperado           0.002773  0.043319  0.140861  0.071292\n",
              "Volatilidades Anualizadas  0.301157  0.209703  0.147183  0.167311"
            ],
            "text/html": [
              "\n",
              "  <div id=\"df-5dfb4106-76c0-4393-931e-d4b86f36d89e\">\n",
              "    <div class=\"colab-df-container\">\n",
              "      <div>\n",
              "<style scoped>\n",
              "    .dataframe tbody tr th:only-of-type {\n",
              "        vertical-align: middle;\n",
              "    }\n",
              "\n",
              "    .dataframe tbody tr th {\n",
              "        vertical-align: top;\n",
              "    }\n",
              "\n",
              "    .dataframe thead th {\n",
              "        text-align: right;\n",
              "    }\n",
              "</style>\n",
              "<table border=\"1\" class=\"dataframe\">\n",
              "  <thead>\n",
              "    <tr style=\"text-align: right;\">\n",
              "      <th></th>\n",
              "      <th>GE</th>\n",
              "      <th>IBM</th>\n",
              "      <th>MCD</th>\n",
              "      <th>T</th>\n",
              "    </tr>\n",
              "  </thead>\n",
              "  <tbody>\n",
              "    <tr>\n",
              "      <th>Retorno Esperado</th>\n",
              "      <td>0.002773</td>\n",
              "      <td>0.043319</td>\n",
              "      <td>0.140861</td>\n",
              "      <td>0.071292</td>\n",
              "    </tr>\n",
              "    <tr>\n",
              "      <th>Volatilidades Anualizadas</th>\n",
              "      <td>0.301157</td>\n",
              "      <td>0.209703</td>\n",
              "      <td>0.147183</td>\n",
              "      <td>0.167311</td>\n",
              "    </tr>\n",
              "  </tbody>\n",
              "</table>\n",
              "</div>\n",
              "      <button class=\"colab-df-convert\" onclick=\"convertToInteractive('df-5dfb4106-76c0-4393-931e-d4b86f36d89e')\"\n",
              "              title=\"Convert this dataframe to an interactive table.\"\n",
              "              style=\"display:none;\">\n",
              "        \n",
              "  <svg xmlns=\"http://www.w3.org/2000/svg\" height=\"24px\"viewBox=\"0 0 24 24\"\n",
              "       width=\"24px\">\n",
              "    <path d=\"M0 0h24v24H0V0z\" fill=\"none\"/>\n",
              "    <path d=\"M18.56 5.44l.94 2.06.94-2.06 2.06-.94-2.06-.94-.94-2.06-.94 2.06-2.06.94zm-11 1L8.5 8.5l.94-2.06 2.06-.94-2.06-.94L8.5 2.5l-.94 2.06-2.06.94zm10 10l.94 2.06.94-2.06 2.06-.94-2.06-.94-.94-2.06-.94 2.06-2.06.94z\"/><path d=\"M17.41 7.96l-1.37-1.37c-.4-.4-.92-.59-1.43-.59-.52 0-1.04.2-1.43.59L10.3 9.45l-7.72 7.72c-.78.78-.78 2.05 0 2.83L4 21.41c.39.39.9.59 1.41.59.51 0 1.02-.2 1.41-.59l7.78-7.78 2.81-2.81c.8-.78.8-2.07 0-2.86zM5.41 20L4 18.59l7.72-7.72 1.47 1.35L5.41 20z\"/>\n",
              "  </svg>\n",
              "      </button>\n",
              "      \n",
              "  <style>\n",
              "    .colab-df-container {\n",
              "      display:flex;\n",
              "      flex-wrap:wrap;\n",
              "      gap: 12px;\n",
              "    }\n",
              "\n",
              "    .colab-df-convert {\n",
              "      background-color: #E8F0FE;\n",
              "      border: none;\n",
              "      border-radius: 50%;\n",
              "      cursor: pointer;\n",
              "      display: none;\n",
              "      fill: #1967D2;\n",
              "      height: 32px;\n",
              "      padding: 0 0 0 0;\n",
              "      width: 32px;\n",
              "    }\n",
              "\n",
              "    .colab-df-convert:hover {\n",
              "      background-color: #E2EBFA;\n",
              "      box-shadow: 0px 1px 2px rgba(60, 64, 67, 0.3), 0px 1px 3px 1px rgba(60, 64, 67, 0.15);\n",
              "      fill: #174EA6;\n",
              "    }\n",
              "\n",
              "    [theme=dark] .colab-df-convert {\n",
              "      background-color: #3B4455;\n",
              "      fill: #D2E3FC;\n",
              "    }\n",
              "\n",
              "    [theme=dark] .colab-df-convert:hover {\n",
              "      background-color: #434B5C;\n",
              "      box-shadow: 0px 1px 3px 1px rgba(0, 0, 0, 0.15);\n",
              "      filter: drop-shadow(0px 1px 2px rgba(0, 0, 0, 0.3));\n",
              "      fill: #FFFFFF;\n",
              "    }\n",
              "  </style>\n",
              "\n",
              "      <script>\n",
              "        const buttonEl =\n",
              "          document.querySelector('#df-5dfb4106-76c0-4393-931e-d4b86f36d89e button.colab-df-convert');\n",
              "        buttonEl.style.display =\n",
              "          google.colab.kernel.accessAllowed ? 'block' : 'none';\n",
              "\n",
              "        async function convertToInteractive(key) {\n",
              "          const element = document.querySelector('#df-5dfb4106-76c0-4393-931e-d4b86f36d89e');\n",
              "          const dataTable =\n",
              "            await google.colab.kernel.invokeFunction('convertToInteractive',\n",
              "                                                     [key], {});\n",
              "          if (!dataTable) return;\n",
              "\n",
              "          const docLinkHtml = 'Like what you see? Visit the ' +\n",
              "            '<a target=\"_blank\" href=https://colab.research.google.com/notebooks/data_table.ipynb>data table notebook</a>'\n",
              "            + ' to learn more about interactive tables.';\n",
              "          element.innerHTML = '';\n",
              "          dataTable['output_type'] = 'display_data';\n",
              "          await google.colab.output.renderOutput(dataTable, element);\n",
              "          const docLink = document.createElement('div');\n",
              "          docLink.innerHTML = docLinkHtml;\n",
              "          element.appendChild(docLink);\n",
              "        }\n",
              "      </script>\n",
              "    </div>\n",
              "  </div>\n",
              "  "
            ]
          },
          "metadata": {},
          "execution_count": 92
        }
      ]
    },
    {
      "cell_type": "markdown",
      "source": [
        "General Electric tiene el porcentaje de volatilidad más alto (30,11%) entre los demás activos analizados. No obstante, tiene el retorno esperado más bajo (0,27%). Por lo tanto, no es el activo más eficiente, ya que al realizar una inversión,  si se desea una rentabilidad mayor, se debe asumir un riesgo mayor, pero para este caso no es así, ya que al asumir un mayor riesgo se recibirá una rentabilidad menor. Por otro lado, se determina que los activos de la compañia McDonald's  tienen una rentabilidad esperada mayor con un menor riesgo entre los stocks, lo cual permite determinar que tiene mejor eficiencia entre los otros activos. Toda inversión conlleva un riesgo, por lo tanto, es importante conocer bien la relación riesgo/retorno para tomar la mejor desición al momento de invertir. "
      ],
      "metadata": {
        "id": "HlyRndf9fif8"
      }
    },
    {
      "cell_type": "markdown",
      "source": [
        "## d. Calcule la matriz de correlaciones de Pearson y de Sperman "
      ],
      "metadata": {
        "id": "f9DmSLv5589c"
      }
    },
    {
      "cell_type": "markdown",
      "source": [
        "#### Correlación de Pearson"
      ],
      "metadata": {
        "id": "PQ-R39a0tI8K"
      }
    },
    {
      "cell_type": "code",
      "source": [
        "retornos.corr()"
      ],
      "metadata": {
        "colab": {
          "base_uri": "https://localhost:8080/",
          "height": 175
        },
        "id": "gpzRvbXntLt6",
        "outputId": "f005698f-f052-47d6-e807-8f9eddd56b39"
      },
      "execution_count": 93,
      "outputs": [
        {
          "output_type": "execute_result",
          "data": {
            "text/plain": [
              "           GE       IBM       MCD         T\n",
              "GE   1.000000  0.363578  0.151317  0.346994\n",
              "IBM  0.363578  1.000000  0.322564  0.412459\n",
              "MCD  0.151317  0.322564  1.000000  0.338351\n",
              "T    0.346994  0.412459  0.338351  1.000000"
            ],
            "text/html": [
              "\n",
              "  <div id=\"df-3a22dccb-df5b-4c62-ac17-594505b62cd6\">\n",
              "    <div class=\"colab-df-container\">\n",
              "      <div>\n",
              "<style scoped>\n",
              "    .dataframe tbody tr th:only-of-type {\n",
              "        vertical-align: middle;\n",
              "    }\n",
              "\n",
              "    .dataframe tbody tr th {\n",
              "        vertical-align: top;\n",
              "    }\n",
              "\n",
              "    .dataframe thead th {\n",
              "        text-align: right;\n",
              "    }\n",
              "</style>\n",
              "<table border=\"1\" class=\"dataframe\">\n",
              "  <thead>\n",
              "    <tr style=\"text-align: right;\">\n",
              "      <th></th>\n",
              "      <th>GE</th>\n",
              "      <th>IBM</th>\n",
              "      <th>MCD</th>\n",
              "      <th>T</th>\n",
              "    </tr>\n",
              "  </thead>\n",
              "  <tbody>\n",
              "    <tr>\n",
              "      <th>GE</th>\n",
              "      <td>1.000000</td>\n",
              "      <td>0.363578</td>\n",
              "      <td>0.151317</td>\n",
              "      <td>0.346994</td>\n",
              "    </tr>\n",
              "    <tr>\n",
              "      <th>IBM</th>\n",
              "      <td>0.363578</td>\n",
              "      <td>1.000000</td>\n",
              "      <td>0.322564</td>\n",
              "      <td>0.412459</td>\n",
              "    </tr>\n",
              "    <tr>\n",
              "      <th>MCD</th>\n",
              "      <td>0.151317</td>\n",
              "      <td>0.322564</td>\n",
              "      <td>1.000000</td>\n",
              "      <td>0.338351</td>\n",
              "    </tr>\n",
              "    <tr>\n",
              "      <th>T</th>\n",
              "      <td>0.346994</td>\n",
              "      <td>0.412459</td>\n",
              "      <td>0.338351</td>\n",
              "      <td>1.000000</td>\n",
              "    </tr>\n",
              "  </tbody>\n",
              "</table>\n",
              "</div>\n",
              "      <button class=\"colab-df-convert\" onclick=\"convertToInteractive('df-3a22dccb-df5b-4c62-ac17-594505b62cd6')\"\n",
              "              title=\"Convert this dataframe to an interactive table.\"\n",
              "              style=\"display:none;\">\n",
              "        \n",
              "  <svg xmlns=\"http://www.w3.org/2000/svg\" height=\"24px\"viewBox=\"0 0 24 24\"\n",
              "       width=\"24px\">\n",
              "    <path d=\"M0 0h24v24H0V0z\" fill=\"none\"/>\n",
              "    <path d=\"M18.56 5.44l.94 2.06.94-2.06 2.06-.94-2.06-.94-.94-2.06-.94 2.06-2.06.94zm-11 1L8.5 8.5l.94-2.06 2.06-.94-2.06-.94L8.5 2.5l-.94 2.06-2.06.94zm10 10l.94 2.06.94-2.06 2.06-.94-2.06-.94-.94-2.06-.94 2.06-2.06.94z\"/><path d=\"M17.41 7.96l-1.37-1.37c-.4-.4-.92-.59-1.43-.59-.52 0-1.04.2-1.43.59L10.3 9.45l-7.72 7.72c-.78.78-.78 2.05 0 2.83L4 21.41c.39.39.9.59 1.41.59.51 0 1.02-.2 1.41-.59l7.78-7.78 2.81-2.81c.8-.78.8-2.07 0-2.86zM5.41 20L4 18.59l7.72-7.72 1.47 1.35L5.41 20z\"/>\n",
              "  </svg>\n",
              "      </button>\n",
              "      \n",
              "  <style>\n",
              "    .colab-df-container {\n",
              "      display:flex;\n",
              "      flex-wrap:wrap;\n",
              "      gap: 12px;\n",
              "    }\n",
              "\n",
              "    .colab-df-convert {\n",
              "      background-color: #E8F0FE;\n",
              "      border: none;\n",
              "      border-radius: 50%;\n",
              "      cursor: pointer;\n",
              "      display: none;\n",
              "      fill: #1967D2;\n",
              "      height: 32px;\n",
              "      padding: 0 0 0 0;\n",
              "      width: 32px;\n",
              "    }\n",
              "\n",
              "    .colab-df-convert:hover {\n",
              "      background-color: #E2EBFA;\n",
              "      box-shadow: 0px 1px 2px rgba(60, 64, 67, 0.3), 0px 1px 3px 1px rgba(60, 64, 67, 0.15);\n",
              "      fill: #174EA6;\n",
              "    }\n",
              "\n",
              "    [theme=dark] .colab-df-convert {\n",
              "      background-color: #3B4455;\n",
              "      fill: #D2E3FC;\n",
              "    }\n",
              "\n",
              "    [theme=dark] .colab-df-convert:hover {\n",
              "      background-color: #434B5C;\n",
              "      box-shadow: 0px 1px 3px 1px rgba(0, 0, 0, 0.15);\n",
              "      filter: drop-shadow(0px 1px 2px rgba(0, 0, 0, 0.3));\n",
              "      fill: #FFFFFF;\n",
              "    }\n",
              "  </style>\n",
              "\n",
              "      <script>\n",
              "        const buttonEl =\n",
              "          document.querySelector('#df-3a22dccb-df5b-4c62-ac17-594505b62cd6 button.colab-df-convert');\n",
              "        buttonEl.style.display =\n",
              "          google.colab.kernel.accessAllowed ? 'block' : 'none';\n",
              "\n",
              "        async function convertToInteractive(key) {\n",
              "          const element = document.querySelector('#df-3a22dccb-df5b-4c62-ac17-594505b62cd6');\n",
              "          const dataTable =\n",
              "            await google.colab.kernel.invokeFunction('convertToInteractive',\n",
              "                                                     [key], {});\n",
              "          if (!dataTable) return;\n",
              "\n",
              "          const docLinkHtml = 'Like what you see? Visit the ' +\n",
              "            '<a target=\"_blank\" href=https://colab.research.google.com/notebooks/data_table.ipynb>data table notebook</a>'\n",
              "            + ' to learn more about interactive tables.';\n",
              "          element.innerHTML = '';\n",
              "          dataTable['output_type'] = 'display_data';\n",
              "          await google.colab.output.renderOutput(dataTable, element);\n",
              "          const docLink = document.createElement('div');\n",
              "          docLink.innerHTML = docLinkHtml;\n",
              "          element.appendChild(docLink);\n",
              "        }\n",
              "      </script>\n",
              "    </div>\n",
              "  </div>\n",
              "  "
            ]
          },
          "metadata": {},
          "execution_count": 93
        }
      ]
    },
    {
      "cell_type": "markdown",
      "source": [
        "El coeficiente de correlación está ligado directamente con el grado de asociación lineal de los stocks, es decir, permite conocer si la relación entre las acciones es directa o inversamente proporcional. \n",
        "\n",
        "Los stocks de las compañias analizadas tienen una relación lineal positiva reducida o miníma entre ellas, ya que se encuentran entre 0 y 0.5. No obstante, existe una relación más fuerte entre **AT&T** y **International Business Machines** con una correlación de 0.412. Es importante acotar que, si la correlación entre los datos se encuentra entre 0.6 y 0.9 existe una relación moderada. Para obtener una correlación alta o fuerte es necesario obtentener una correlación entre 0.9 y 1. "
      ],
      "metadata": {
        "id": "KXpoYJxM2Uzm"
      }
    },
    {
      "cell_type": "markdown",
      "source": [
        "#### Correlación de Sperman"
      ],
      "metadata": {
        "id": "pSLOUIzRtYRI"
      }
    },
    {
      "cell_type": "code",
      "source": [
        "retornos.corr(method=\"spearman\")"
      ],
      "metadata": {
        "colab": {
          "base_uri": "https://localhost:8080/",
          "height": 175
        },
        "id": "MYxmbe7etSXx",
        "outputId": "1758784d-3d80-4b60-be4f-f8defaa8a88e"
      },
      "execution_count": 94,
      "outputs": [
        {
          "output_type": "execute_result",
          "data": {
            "text/plain": [
              "           GE       IBM       MCD         T\n",
              "GE   1.000000  0.343396  0.091615  0.312855\n",
              "IBM  0.343396  1.000000  0.260223  0.358745\n",
              "MCD  0.091615  0.260223  1.000000  0.299497\n",
              "T    0.312855  0.358745  0.299497  1.000000"
            ],
            "text/html": [
              "\n",
              "  <div id=\"df-83c6d420-c141-41b2-b2ed-4294f3cd6c89\">\n",
              "    <div class=\"colab-df-container\">\n",
              "      <div>\n",
              "<style scoped>\n",
              "    .dataframe tbody tr th:only-of-type {\n",
              "        vertical-align: middle;\n",
              "    }\n",
              "\n",
              "    .dataframe tbody tr th {\n",
              "        vertical-align: top;\n",
              "    }\n",
              "\n",
              "    .dataframe thead th {\n",
              "        text-align: right;\n",
              "    }\n",
              "</style>\n",
              "<table border=\"1\" class=\"dataframe\">\n",
              "  <thead>\n",
              "    <tr style=\"text-align: right;\">\n",
              "      <th></th>\n",
              "      <th>GE</th>\n",
              "      <th>IBM</th>\n",
              "      <th>MCD</th>\n",
              "      <th>T</th>\n",
              "    </tr>\n",
              "  </thead>\n",
              "  <tbody>\n",
              "    <tr>\n",
              "      <th>GE</th>\n",
              "      <td>1.000000</td>\n",
              "      <td>0.343396</td>\n",
              "      <td>0.091615</td>\n",
              "      <td>0.312855</td>\n",
              "    </tr>\n",
              "    <tr>\n",
              "      <th>IBM</th>\n",
              "      <td>0.343396</td>\n",
              "      <td>1.000000</td>\n",
              "      <td>0.260223</td>\n",
              "      <td>0.358745</td>\n",
              "    </tr>\n",
              "    <tr>\n",
              "      <th>MCD</th>\n",
              "      <td>0.091615</td>\n",
              "      <td>0.260223</td>\n",
              "      <td>1.000000</td>\n",
              "      <td>0.299497</td>\n",
              "    </tr>\n",
              "    <tr>\n",
              "      <th>T</th>\n",
              "      <td>0.312855</td>\n",
              "      <td>0.358745</td>\n",
              "      <td>0.299497</td>\n",
              "      <td>1.000000</td>\n",
              "    </tr>\n",
              "  </tbody>\n",
              "</table>\n",
              "</div>\n",
              "      <button class=\"colab-df-convert\" onclick=\"convertToInteractive('df-83c6d420-c141-41b2-b2ed-4294f3cd6c89')\"\n",
              "              title=\"Convert this dataframe to an interactive table.\"\n",
              "              style=\"display:none;\">\n",
              "        \n",
              "  <svg xmlns=\"http://www.w3.org/2000/svg\" height=\"24px\"viewBox=\"0 0 24 24\"\n",
              "       width=\"24px\">\n",
              "    <path d=\"M0 0h24v24H0V0z\" fill=\"none\"/>\n",
              "    <path d=\"M18.56 5.44l.94 2.06.94-2.06 2.06-.94-2.06-.94-.94-2.06-.94 2.06-2.06.94zm-11 1L8.5 8.5l.94-2.06 2.06-.94-2.06-.94L8.5 2.5l-.94 2.06-2.06.94zm10 10l.94 2.06.94-2.06 2.06-.94-2.06-.94-.94-2.06-.94 2.06-2.06.94z\"/><path d=\"M17.41 7.96l-1.37-1.37c-.4-.4-.92-.59-1.43-.59-.52 0-1.04.2-1.43.59L10.3 9.45l-7.72 7.72c-.78.78-.78 2.05 0 2.83L4 21.41c.39.39.9.59 1.41.59.51 0 1.02-.2 1.41-.59l7.78-7.78 2.81-2.81c.8-.78.8-2.07 0-2.86zM5.41 20L4 18.59l7.72-7.72 1.47 1.35L5.41 20z\"/>\n",
              "  </svg>\n",
              "      </button>\n",
              "      \n",
              "  <style>\n",
              "    .colab-df-container {\n",
              "      display:flex;\n",
              "      flex-wrap:wrap;\n",
              "      gap: 12px;\n",
              "    }\n",
              "\n",
              "    .colab-df-convert {\n",
              "      background-color: #E8F0FE;\n",
              "      border: none;\n",
              "      border-radius: 50%;\n",
              "      cursor: pointer;\n",
              "      display: none;\n",
              "      fill: #1967D2;\n",
              "      height: 32px;\n",
              "      padding: 0 0 0 0;\n",
              "      width: 32px;\n",
              "    }\n",
              "\n",
              "    .colab-df-convert:hover {\n",
              "      background-color: #E2EBFA;\n",
              "      box-shadow: 0px 1px 2px rgba(60, 64, 67, 0.3), 0px 1px 3px 1px rgba(60, 64, 67, 0.15);\n",
              "      fill: #174EA6;\n",
              "    }\n",
              "\n",
              "    [theme=dark] .colab-df-convert {\n",
              "      background-color: #3B4455;\n",
              "      fill: #D2E3FC;\n",
              "    }\n",
              "\n",
              "    [theme=dark] .colab-df-convert:hover {\n",
              "      background-color: #434B5C;\n",
              "      box-shadow: 0px 1px 3px 1px rgba(0, 0, 0, 0.15);\n",
              "      filter: drop-shadow(0px 1px 2px rgba(0, 0, 0, 0.3));\n",
              "      fill: #FFFFFF;\n",
              "    }\n",
              "  </style>\n",
              "\n",
              "      <script>\n",
              "        const buttonEl =\n",
              "          document.querySelector('#df-83c6d420-c141-41b2-b2ed-4294f3cd6c89 button.colab-df-convert');\n",
              "        buttonEl.style.display =\n",
              "          google.colab.kernel.accessAllowed ? 'block' : 'none';\n",
              "\n",
              "        async function convertToInteractive(key) {\n",
              "          const element = document.querySelector('#df-83c6d420-c141-41b2-b2ed-4294f3cd6c89');\n",
              "          const dataTable =\n",
              "            await google.colab.kernel.invokeFunction('convertToInteractive',\n",
              "                                                     [key], {});\n",
              "          if (!dataTable) return;\n",
              "\n",
              "          const docLinkHtml = 'Like what you see? Visit the ' +\n",
              "            '<a target=\"_blank\" href=https://colab.research.google.com/notebooks/data_table.ipynb>data table notebook</a>'\n",
              "            + ' to learn more about interactive tables.';\n",
              "          element.innerHTML = '';\n",
              "          dataTable['output_type'] = 'display_data';\n",
              "          await google.colab.output.renderOutput(dataTable, element);\n",
              "          const docLink = document.createElement('div');\n",
              "          docLink.innerHTML = docLinkHtml;\n",
              "          element.appendChild(docLink);\n",
              "        }\n",
              "      </script>\n",
              "    </div>\n",
              "  </div>\n",
              "  "
            ]
          },
          "metadata": {},
          "execution_count": 94
        }
      ]
    },
    {
      "cell_type": "markdown",
      "source": [
        "El coeficiente de Spearman tiene la misma intensión del coeficiente de correlación de Pearson. No obstante, esta es una medida para los casos donde se tienen tanto variables discretas o continuas en una escala al menos de tipo ordinal, ya que el coeficiente de correlación de Pearson solo se define para variables cuantitativas continuas. Es un método no paramétrico muy utilizado cuando no se satisface la condición de normalidad necesaria para aplicar la correlación de Pearson. El coeficiente de correlación por rangos de Spearman varía de -1.0 a\n",
        "+1.0 y se interpreta igual que el coeficiente de correlación de Pearson, en que el valor positivo\n",
        "cercano a 1.0 indica una fuerte relación: si un rango crece el otro crece. Las corrrelaciones cercanas a -1.0 indican una fuerte relación pero negativa entre los rangos: cuando un rango crece el otro disminuye. Por  lo tanto, se puede determniar que la relación más débil existente entre los activos se encuentra entre **General Electric** y **McDonald's** con una correlación de 0.0916. Aunque en general las correlaciones son débiles, los stocks con mayor correlación se encuentra entre **International Business Machines** y **AT&T**, al igual que en la correlación de Pearson. Es importante acotar que las correlaciones de Spearman son menores a las correlaciones de Pearson. "
      ],
      "metadata": {
        "id": "42tEqHE3H9vK"
      }
    },
    {
      "cell_type": "markdown",
      "source": [
        "## e. Grafique el histograma de frecuencia de los retornos para dos de las cuatro acciones. "
      ],
      "metadata": {
        "id": "o_h_amm06BQ1"
      }
    },
    {
      "cell_type": "markdown",
      "source": [
        "* Sturge's Rulef: Se calcula el número óptimo de contenedores para el historgrama."
      ],
      "metadata": {
        "id": "In0ibCuxUFMH"
      }
    },
    {
      "cell_type": "code",
      "source": [
        "np.log(143)*3.32+1"
      ],
      "metadata": {
        "colab": {
          "base_uri": "https://localhost:8080/"
        },
        "id": "VPv_jtHcTlm3",
        "outputId": "f7403308-d0f5-4acb-f63e-a2688db3975b"
      },
      "execution_count": 95,
      "outputs": [
        {
          "output_type": "execute_result",
          "data": {
            "text/plain": [
              "17.47664417246289"
            ]
          },
          "metadata": {},
          "execution_count": 95
        }
      ]
    },
    {
      "cell_type": "markdown",
      "source": [
        "* Se calculan las frecuencias de los retornos logarítmicos."
      ],
      "metadata": {
        "id": "bBHLYh40Qhg8"
      }
    },
    {
      "cell_type": "code",
      "source": [
        "sns.histplot(retornos[\"GE\"],kde=True);"
      ],
      "metadata": {
        "colab": {
          "base_uri": "https://localhost:8080/",
          "height": 279
        },
        "id": "ebg9aBSwtuKB",
        "outputId": "b69491d6-ce69-4069-edd4-01f0893bf05f"
      },
      "execution_count": 96,
      "outputs": [
        {
          "output_type": "display_data",
          "data": {
            "text/plain": [
              "<Figure size 432x288 with 1 Axes>"
            ],
            "image/png": "[encoded data removed]"
          },
          "metadata": {
            "needs_background": "light"
          }
        }
      ]
    },
    {
      "cell_type": "markdown",
      "source": [
        "* Se normalizan las frecuencias"
      ],
      "metadata": {
        "id": "dOfmaBHV5O1P"
      }
    },
    {
      "cell_type": "code",
      "source": [
        "ret= np.log(precios_adj/precios_adj.shift()).dropna()\n",
        "sns.histplot(data=ret, x=\"GE\", kde=True, bins=18);"
      ],
      "metadata": {
        "colab": {
          "base_uri": "https://localhost:8080/",
          "height": 280
        },
        "id": "zzI47LJ8tugd",
        "outputId": "60650928-b292-42a4-ef20-c86fe18c90f0"
      },
      "execution_count": 97,
      "outputs": [
        {
          "output_type": "display_data",
          "data": {
            "text/plain": [
              "<Figure size 432x288 with 1 Axes>"
            ],
            "image/png": "[encoded data removed]"
          },
          "metadata": {
            "needs_background": "light"
          }
        }
      ]
    },
    {
      "cell_type": "markdown",
      "source": [
        "A partir de la gráfica se puede observar que tan bien se encuentran ajustados los datos. Es importante normalizar los datos para lograr una aproximaxión de la distribución normal. No obstante, al trabajar con periodicidad diaria el exceso de curtosis aumenta, por lo tanto, se puede corregir cambiando la periodicidad a mensual como se esta trabajando. Si los datos se encuentran alineados indica que entre la distribución teórica y acumulada los supuestos se cumplen muy bien. Después de normalizar la gráfica se puede afirmar que existe un problema de curtosis a la derecha, por lo tanto, invalidará el supuesto de normalidad. Dentro del análisis de stocks siempre habrá un exceso de curtosis, pero la media y la desviación estándar son suficientes para solucionar este problema."
      ],
      "metadata": {
        "id": "jETAYWcD5v5L"
      }
    },
    {
      "cell_type": "markdown",
      "source": [
        "* Se calculan los retornos logarítmicos."
      ],
      "metadata": {
        "id": "EZ9sEJWgYdhP"
      }
    },
    {
      "cell_type": "code",
      "source": [
        "sns.histplot(retornos[\"T\"],kde=True);"
      ],
      "metadata": {
        "colab": {
          "base_uri": "https://localhost:8080/",
          "height": 279
        },
        "id": "MlamzZZYusHn",
        "outputId": "a5d44621-82e7-4da9-a96e-6e2c51930d70"
      },
      "execution_count": 98,
      "outputs": [
        {
          "output_type": "display_data",
          "data": {
            "text/plain": [
              "<Figure size 432x288 with 1 Axes>"
            ],
            "image/png": "[encoded data removed]"
          },
          "metadata": {
            "needs_background": "light"
          }
        }
      ]
    },
    {
      "cell_type": "markdown",
      "source": [
        "* Se normalizan las frecuencias"
      ],
      "metadata": {
        "id": "DQ5nqCbXYtHZ"
      }
    },
    {
      "cell_type": "code",
      "source": [
        "ret= np.log(precios_adj/precios_adj.shift()).dropna()\n",
        "sns.histplot(data=ret, x=\"T\", kde=True, bins=18);"
      ],
      "metadata": {
        "colab": {
          "base_uri": "https://localhost:8080/",
          "height": 279
        },
        "id": "Np2LwEm4u2Hj",
        "outputId": "1609c96e-581c-4360-b482-336547857b36"
      },
      "execution_count": 99,
      "outputs": [
        {
          "output_type": "display_data",
          "data": {
            "text/plain": [
              "<Figure size 432x288 with 1 Axes>"
            ],
            "image/png": "[encoded data removed]"
          },
          "metadata": {
            "needs_background": "light"
          }
        }
      ]
    },
    {
      "cell_type": "markdown",
      "source": [
        "Después de normalizar la gráfica se puede afirmar que existe un problema curtosis a la izquierda, como se menciono en el punto b, por lo tanto, invalidará el supuesto de normalidad. No obstante, existe una gran concentración de datos con respecto a su media, es decir, los datos se acercaron a 0.0061."
      ],
      "metadata": {
        "id": "wUl42zxyF08f"
      }
    },
    {
      "cell_type": "code",
      "source": [
        "ret['GE'].plot(kind='kde',label=\"MCD\")\n",
        "ret['T'].plot(kind='kde',label=\"T\")\n",
        "plt.legend();"
      ],
      "metadata": {
        "colab": {
          "base_uri": "https://localhost:8080/",
          "height": 265
        },
        "id": "G1zXiFT5vODe",
        "outputId": "ec2fcaec-70fb-4a69-c9ca-f7cf37975ad1"
      },
      "execution_count": 100,
      "outputs": [
        {
          "output_type": "display_data",
          "data": {
            "text/plain": [
              "<Figure size 432x288 with 1 Axes>"
            ],
            "image/png": "[encoded data removed]"
          },
          "metadata": {
            "needs_background": "light"
          }
        }
      ]
    },
    {
      "cell_type": "markdown",
      "source": [
        "**McDonald's** tiene una distribución empirica más normal que **AT&T**. Además, AT&T tiene mayor volatilidad, ya que la distancia es mayor. "
      ],
      "metadata": {
        "id": "8Ctz0kU-HJKJ"
      }
    },
    {
      "cell_type": "markdown",
      "source": [
        "## f. Implemente las pruebas de normalidad de Kolmogorov-Smirnov para todos los activos. Consolide los resultados en un Data Frame para todos.\n"
      ],
      "metadata": {
        "id": "OsGyeO17nHj-"
      }
    },
    {
      "cell_type": "code",
      "source": [
        "KS={\"GE\":stats.kstest(retornos[\"GE\"],\"norm\"),\"IBM\":stats.kstest(retornos[\"IBM\"],\"norm\"),\"MCD\":stats.kstest(retornos[\"MCD\"],\"norm\"), \"T\":stats.kstest(retornos[\"T\"],\"norm\")}\n",
        "KS_PN=pd.DataFrame(KS, index=[\"Statistic\",\"P-Value\"])\n",
        "KS_PN"
      ],
      "metadata": {
        "colab": {
          "base_uri": "https://localhost:8080/",
          "height": 112
        },
        "id": "K7KWwzJeSUst",
        "outputId": "2d0a23e5-8037-44a8-da3d-b13fd50dc1c8"
      },
      "execution_count": 101,
      "outputs": [
        {
          "output_type": "execute_result",
          "data": {
            "text/plain": [
              "                     GE           IBM           MCD             T\n",
              "Statistic  4.159826e-01  4.372657e-01  4.543298e-01  4.606995e-01\n",
              "P-Value    6.374905e-23  2.144155e-25  1.736383e-27  2.713426e-28"
            ],
            "text/html": [
              "\n",
              "  <div id=\"df-e92bc194-1b1b-4f1d-ad1f-60bc80e08e79\">\n",
              "    <div class=\"colab-df-container\">\n",
              "      <div>\n",
              "<style scoped>\n",
              "    .dataframe tbody tr th:only-of-type {\n",
              "        vertical-align: middle;\n",
              "    }\n",
              "\n",
              "    .dataframe tbody tr th {\n",
              "        vertical-align: top;\n",
              "    }\n",
              "\n",
              "    .dataframe thead th {\n",
              "        text-align: right;\n",
              "    }\n",
              "</style>\n",
              "<table border=\"1\" class=\"dataframe\">\n",
              "  <thead>\n",
              "    <tr style=\"text-align: right;\">\n",
              "      <th></th>\n",
              "      <th>GE</th>\n",
              "      <th>IBM</th>\n",
              "      <th>MCD</th>\n",
              "      <th>T</th>\n",
              "    </tr>\n",
              "  </thead>\n",
              "  <tbody>\n",
              "    <tr>\n",
              "      <th>Statistic</th>\n",
              "      <td>4.159826e-01</td>\n",
              "      <td>4.372657e-01</td>\n",
              "      <td>4.543298e-01</td>\n",
              "      <td>4.606995e-01</td>\n",
              "    </tr>\n",
              "    <tr>\n",
              "      <th>P-Value</th>\n",
              "      <td>6.374905e-23</td>\n",
              "      <td>2.144155e-25</td>\n",
              "      <td>1.736383e-27</td>\n",
              "      <td>2.713426e-28</td>\n",
              "    </tr>\n",
              "  </tbody>\n",
              "</table>\n",
              "</div>\n",
              "      <button class=\"colab-df-convert\" onclick=\"convertToInteractive('df-e92bc194-1b1b-4f1d-ad1f-60bc80e08e79')\"\n",
              "              title=\"Convert this dataframe to an interactive table.\"\n",
              "              style=\"display:none;\">\n",
              "        \n",
              "  <svg xmlns=\"http://www.w3.org/2000/svg\" height=\"24px\"viewBox=\"0 0 24 24\"\n",
              "       width=\"24px\">\n",
              "    <path d=\"M0 0h24v24H0V0z\" fill=\"none\"/>\n",
              "    <path d=\"M18.56 5.44l.94 2.06.94-2.06 2.06-.94-2.06-.94-.94-2.06-.94 2.06-2.06.94zm-11 1L8.5 8.5l.94-2.06 2.06-.94-2.06-.94L8.5 2.5l-.94 2.06-2.06.94zm10 10l.94 2.06.94-2.06 2.06-.94-2.06-.94-.94-2.06-.94 2.06-2.06.94z\"/><path d=\"M17.41 7.96l-1.37-1.37c-.4-.4-.92-.59-1.43-.59-.52 0-1.04.2-1.43.59L10.3 9.45l-7.72 7.72c-.78.78-.78 2.05 0 2.83L4 21.41c.39.39.9.59 1.41.59.51 0 1.02-.2 1.41-.59l7.78-7.78 2.81-2.81c.8-.78.8-2.07 0-2.86zM5.41 20L4 18.59l7.72-7.72 1.47 1.35L5.41 20z\"/>\n",
              "  </svg>\n",
              "      </button>\n",
              "      \n",
              "  <style>\n",
              "    .colab-df-container {\n",
              "      display:flex;\n",
              "      flex-wrap:wrap;\n",
              "      gap: 12px;\n",
              "    }\n",
              "\n",
              "    .colab-df-convert {\n",
              "      background-color: #E8F0FE;\n",
              "      border: none;\n",
              "      border-radius: 50%;\n",
              "      cursor: pointer;\n",
              "      display: none;\n",
              "      fill: #1967D2;\n",
              "      height: 32px;\n",
              "      padding: 0 0 0 0;\n",
              "      width: 32px;\n",
              "    }\n",
              "\n",
              "    .colab-df-convert:hover {\n",
              "      background-color: #E2EBFA;\n",
              "      box-shadow: 0px 1px 2px rgba(60, 64, 67, 0.3), 0px 1px 3px 1px rgba(60, 64, 67, 0.15);\n",
              "      fill: #174EA6;\n",
              "    }\n",
              "\n",
              "    [theme=dark] .colab-df-convert {\n",
              "      background-color: #3B4455;\n",
              "      fill: #D2E3FC;\n",
              "    }\n",
              "\n",
              "    [theme=dark] .colab-df-convert:hover {\n",
              "      background-color: #434B5C;\n",
              "      box-shadow: 0px 1px 3px 1px rgba(0, 0, 0, 0.15);\n",
              "      filter: drop-shadow(0px 1px 2px rgba(0, 0, 0, 0.3));\n",
              "      fill: #FFFFFF;\n",
              "    }\n",
              "  </style>\n",
              "\n",
              "      <script>\n",
              "        const buttonEl =\n",
              "          document.querySelector('#df-e92bc194-1b1b-4f1d-ad1f-60bc80e08e79 button.colab-df-convert');\n",
              "        buttonEl.style.display =\n",
              "          google.colab.kernel.accessAllowed ? 'block' : 'none';\n",
              "\n",
              "        async function convertToInteractive(key) {\n",
              "          const element = document.querySelector('#df-e92bc194-1b1b-4f1d-ad1f-60bc80e08e79');\n",
              "          const dataTable =\n",
              "            await google.colab.kernel.invokeFunction('convertToInteractive',\n",
              "                                                     [key], {});\n",
              "          if (!dataTable) return;\n",
              "\n",
              "          const docLinkHtml = 'Like what you see? Visit the ' +\n",
              "            '<a target=\"_blank\" href=https://colab.research.google.com/notebooks/data_table.ipynb>data table notebook</a>'\n",
              "            + ' to learn more about interactive tables.';\n",
              "          element.innerHTML = '';\n",
              "          dataTable['output_type'] = 'display_data';\n",
              "          await google.colab.output.renderOutput(dataTable, element);\n",
              "          const docLink = document.createElement('div');\n",
              "          docLink.innerHTML = docLinkHtml;\n",
              "          element.appendChild(docLink);\n",
              "        }\n",
              "      </script>\n",
              "    </div>\n",
              "  </div>\n",
              "  "
            ]
          },
          "metadata": {},
          "execution_count": 101
        }
      ]
    },
    {
      "cell_type": "markdown",
      "source": [
        "Se toma  como nivel de significancia α = 0.05.\n",
        "Se puede observar que los valores p de los stock se encuentran muy cercanos a 0. Un valor-p es una probabilidad que se usa para determinar si se rechaza o no la hipótesis nula. Por lo tanto, se rechaza la hipotesis nula ya que el valor-p es menor que al nivel de significancia del 5% tomado para el análisis. Por lo cual la distribución de frecuencias observada no es consistente con la distribución teórica, es decir no sigue una distribución normal."
      ],
      "metadata": {
        "id": "4CslocEpcqxU"
      }
    },
    {
      "cell_type": "markdown",
      "source": [
        "# 2. Con la misma información del punto 1:"
      ],
      "metadata": {
        "id": "YVTWnNKWoZOU"
      }
    },
    {
      "cell_type": "markdown",
      "source": [
        "## a. Calcule la volatilidad mensual y anualizada de las series de retornos usando las medidas de:\n",
        "####  i) desviación estándar\n",
        "#### ii) Parkinson\n",
        "#### iii) Garman-Klass\n",
        "#### iv) Volatilidad ponderada exponencial (EWMA) con una lambda de 0.94. \n",
        "\n",
        "#### Presente los resultados en un Data Frame\n"
      ],
      "metadata": {
        "id": "0L8tsW6W6RdL"
      }
    },
    {
      "cell_type": "markdown",
      "source": [
        "#### **i). Desviación estándar**"
      ],
      "metadata": {
        "id": "CuaFfN8QY7SZ"
      }
    },
    {
      "cell_type": "code",
      "source": [
        "retornos_m=np.log(precios_adj/precios_adj.shift(1)).dropna()\n",
        "sdm = retornos_m.std()\n",
        "sda = sdm*np.sqrt(12)\n",
        "sda"
      ],
      "metadata": {
        "id": "y0pz5rLfAVB2",
        "outputId": "ec3d11de-7efb-417f-850e-e8371e3de3e1",
        "colab": {
          "base_uri": "https://localhost:8080/"
        }
      },
      "execution_count": 102,
      "outputs": [
        {
          "output_type": "execute_result",
          "data": {
            "text/plain": [
              "GE     0.301157\n",
              "IBM    0.209703\n",
              "MCD    0.147183\n",
              "T      0.167311\n",
              "dtype: float64"
            ]
          },
          "metadata": {},
          "execution_count": 102
        }
      ]
    },
    {
      "cell_type": "code",
      "source": [
        "roll_std = (retornos.rolling(window=18).std())\n",
        "roll_std.plot();"
      ],
      "metadata": {
        "colab": {
          "base_uri": "https://localhost:8080/",
          "height": 279
        },
        "id": "ebDa6ABRY517",
        "outputId": "70f376bc-b630-4da5-f7bb-d401b1835dc9"
      },
      "execution_count": 103,
      "outputs": [
        {
          "output_type": "display_data",
          "data": {
            "text/plain": [
              "<Figure size 432x288 with 1 Axes>"
            ],
            "image/png": "[encoded data removed]"
          },
          "metadata": {
            "needs_background": "light"
          }
        }
      ]
    },
    {
      "cell_type": "markdown",
      "source": [
        "#### **ii). Medida de Parkinson**"
      ],
      "metadata": {
        "id": "_z-R596STt2g"
      }
    },
    {
      "cell_type": "code",
      "source": [
        "lnHL = np.log(precios[\"High\"]/precios[\"Low\"]).dropna()\n",
        "sigmaPark_d = (((1/(4*np.log(2)))*lnHL**2)-(retornos.mean()**2)).mean()**0.5\n",
        "pdm = sigmaPark_d\n",
        "pda = sigmaPark_d*np.sqrt(12)\n"
      ],
      "metadata": {
        "id": "FWdRwzlLNHaS"
      },
      "execution_count": 104,
      "outputs": []
    },
    {
      "cell_type": "markdown",
      "source": [
        "#### **iii). Medida de Garman-Klass**"
      ],
      "metadata": {
        "id": "HS2Ro56-T4Sn"
      }
    },
    {
      "cell_type": "code",
      "source": [
        "lnHL = np.log(precios[\"High\"]/precios[\"Low\"]).dropna() \n",
        "lnCO = np.log(precios[\"Close\"]/precios[\"Open\"]).dropna() \n",
        "sigmaGK_d = ((0.5*lnHL**2-(2*np.log(2)-1)*lnCO**2)-(retornos.mean()**2)).mean()**0.5\n",
        "gkdm = sigmaGK_d\n",
        "gkda = sigmaGK_d*np.sqrt(12)\n"
      ],
      "metadata": {
        "id": "nzDnzeK4fnju"
      },
      "execution_count": 105,
      "outputs": []
    },
    {
      "cell_type": "markdown",
      "source": [
        "#### **iv). Volatilidad ponderada exponencial (EWMA)**"
      ],
      "metadata": {
        "id": "09J12KGrUF2Z"
      }
    },
    {
      "cell_type": "code",
      "source": [
        "def EWMAvol(retornos,Lambda):\n",
        "  m = len(retornos) \n",
        "  b = np.arange(m-1,-1,-1) \n",
        "  l = np.repeat(Lambda,m)\n",
        "\n",
        "  varewma = ((np.power(retornos,2)*(np.power(l,b))).sum())*(1-Lambda) \n",
        "  EWMAvol = np.sqrt(varewma)\n",
        "  return(EWMAvol) \n",
        "Lambda = 0.94\n",
        "sigmaewmaGEm = EWMAvol(retornos[\"GE\"],Lambda)\n",
        "sigmaewmaIBMm = EWMAvol(retornos[\"IBM\"],Lambda)\n",
        "sigmaewmaMCDm = EWMAvol(retornos[\"MCD\"],Lambda)\n",
        "sigmaewmaTm = EWMAvol(retornos[\"T\"],Lambda)\n",
        "sigmaewmaGEa = EWMAvol(retornos[\"GE\"],Lambda)*np.sqrt(12)\n",
        "sigmaewmaIBMa= EWMAvol(retornos[\"IBM\"],Lambda)*np.sqrt(12)\n",
        "sigmaewmaMCDa = EWMAvol(retornos[\"MCD\"],Lambda)*np.sqrt(12)\n",
        "sigmaewmaTa = EWMAvol(retornos[\"T\"],Lambda)*np.sqrt(12)"
      ],
      "metadata": {
        "id": "Mc2p_FkpClai"
      },
      "execution_count": 106,
      "outputs": []
    },
    {
      "cell_type": "markdown",
      "source": [
        "#### **DataFrame Mensual**"
      ],
      "metadata": {
        "id": "wMDGq9f6yHUf"
      }
    },
    {
      "cell_type": "code",
      "source": [
        "RM={\"Desviación Estándar\":sdm,\"Parkinson\":pdm, \"Garman-Klass\":gkdm, \"EWMA\":pd.Series([sigmaewmaGEm,sigmaewmaIBMm,sigmaewmaMCDm,sigmaewmaTm],index=[\"GE\",\"IBM\",\"MCD\",\"T\"])}\n",
        "DFM=pd.DataFrame(RM)\n",
        "DFM"
      ],
      "metadata": {
        "colab": {
          "base_uri": "https://localhost:8080/",
          "height": 175
        },
        "id": "bKCxuYHgojGV",
        "outputId": "6e6d3c6f-5e29-4138-b4c7-105af56b9ca3"
      },
      "execution_count": 107,
      "outputs": [
        {
          "output_type": "execute_result",
          "data": {
            "text/plain": [
              "     Desviación Estándar  Parkinson  Garman-Klass      EWMA\n",
              "GE              0.086937   0.093021      0.094820  0.105384\n",
              "IBM             0.060536   0.062220      0.063019  0.074008\n",
              "MCD             0.042488   0.049406      0.052101  0.052483\n",
              "T               0.048299   0.054067      0.055676  0.054351"
            ],
            "text/html": [
              "\n",
              "  <div id=\"df-0283615e-3d9f-4d29-b3fd-c1570114d0fc\">\n",
              "    <div class=\"colab-df-container\">\n",
              "      <div>\n",
              "<style scoped>\n",
              "    .dataframe tbody tr th:only-of-type {\n",
              "        vertical-align: middle;\n",
              "    }\n",
              "\n",
              "    .dataframe tbody tr th {\n",
              "        vertical-align: top;\n",
              "    }\n",
              "\n",
              "    .dataframe thead th {\n",
              "        text-align: right;\n",
              "    }\n",
              "</style>\n",
              "<table border=\"1\" class=\"dataframe\">\n",
              "  <thead>\n",
              "    <tr style=\"text-align: right;\">\n",
              "      <th></th>\n",
              "      <th>Desviación Estándar</th>\n",
              "      <th>Parkinson</th>\n",
              "      <th>Garman-Klass</th>\n",
              "      <th>EWMA</th>\n",
              "    </tr>\n",
              "  </thead>\n",
              "  <tbody>\n",
              "    <tr>\n",
              "      <th>GE</th>\n",
              "      <td>0.086937</td>\n",
              "      <td>0.093021</td>\n",
              "      <td>0.094820</td>\n",
              "      <td>0.105384</td>\n",
              "    </tr>\n",
              "    <tr>\n",
              "      <th>IBM</th>\n",
              "      <td>0.060536</td>\n",
              "      <td>0.062220</td>\n",
              "      <td>0.063019</td>\n",
              "      <td>0.074008</td>\n",
              "    </tr>\n",
              "    <tr>\n",
              "      <th>MCD</th>\n",
              "      <td>0.042488</td>\n",
              "      <td>0.049406</td>\n",
              "      <td>0.052101</td>\n",
              "      <td>0.052483</td>\n",
              "    </tr>\n",
              "    <tr>\n",
              "      <th>T</th>\n",
              "      <td>0.048299</td>\n",
              "      <td>0.054067</td>\n",
              "      <td>0.055676</td>\n",
              "      <td>0.054351</td>\n",
              "    </tr>\n",
              "  </tbody>\n",
              "</table>\n",
              "</div>\n",
              "      <button class=\"colab-df-convert\" onclick=\"convertToInteractive('df-0283615e-3d9f-4d29-b3fd-c1570114d0fc')\"\n",
              "              title=\"Convert this dataframe to an interactive table.\"\n",
              "              style=\"display:none;\">\n",
              "        \n",
              "  <svg xmlns=\"http://www.w3.org/2000/svg\" height=\"24px\"viewBox=\"0 0 24 24\"\n",
              "       width=\"24px\">\n",
              "    <path d=\"M0 0h24v24H0V0z\" fill=\"none\"/>\n",
              "    <path d=\"M18.56 5.44l.94 2.06.94-2.06 2.06-.94-2.06-.94-.94-2.06-.94 2.06-2.06.94zm-11 1L8.5 8.5l.94-2.06 2.06-.94-2.06-.94L8.5 2.5l-.94 2.06-2.06.94zm10 10l.94 2.06.94-2.06 2.06-.94-2.06-.94-.94-2.06-.94 2.06-2.06.94z\"/><path d=\"M17.41 7.96l-1.37-1.37c-.4-.4-.92-.59-1.43-.59-.52 0-1.04.2-1.43.59L10.3 9.45l-7.72 7.72c-.78.78-.78 2.05 0 2.83L4 21.41c.39.39.9.59 1.41.59.51 0 1.02-.2 1.41-.59l7.78-7.78 2.81-2.81c.8-.78.8-2.07 0-2.86zM5.41 20L4 18.59l7.72-7.72 1.47 1.35L5.41 20z\"/>\n",
              "  </svg>\n",
              "      </button>\n",
              "      \n",
              "  <style>\n",
              "    .colab-df-container {\n",
              "      display:flex;\n",
              "      flex-wrap:wrap;\n",
              "      gap: 12px;\n",
              "    }\n",
              "\n",
              "    .colab-df-convert {\n",
              "      background-color: #E8F0FE;\n",
              "      border: none;\n",
              "      border-radius: 50%;\n",
              "      cursor: pointer;\n",
              "      display: none;\n",
              "      fill: #1967D2;\n",
              "      height: 32px;\n",
              "      padding: 0 0 0 0;\n",
              "      width: 32px;\n",
              "    }\n",
              "\n",
              "    .colab-df-convert:hover {\n",
              "      background-color: #E2EBFA;\n",
              "      box-shadow: 0px 1px 2px rgba(60, 64, 67, 0.3), 0px 1px 3px 1px rgba(60, 64, 67, 0.15);\n",
              "      fill: #174EA6;\n",
              "    }\n",
              "\n",
              "    [theme=dark] .colab-df-convert {\n",
              "      background-color: #3B4455;\n",
              "      fill: #D2E3FC;\n",
              "    }\n",
              "\n",
              "    [theme=dark] .colab-df-convert:hover {\n",
              "      background-color: #434B5C;\n",
              "      box-shadow: 0px 1px 3px 1px rgba(0, 0, 0, 0.15);\n",
              "      filter: drop-shadow(0px 1px 2px rgba(0, 0, 0, 0.3));\n",
              "      fill: #FFFFFF;\n",
              "    }\n",
              "  </style>\n",
              "\n",
              "      <script>\n",
              "        const buttonEl =\n",
              "          document.querySelector('#df-0283615e-3d9f-4d29-b3fd-c1570114d0fc button.colab-df-convert');\n",
              "        buttonEl.style.display =\n",
              "          google.colab.kernel.accessAllowed ? 'block' : 'none';\n",
              "\n",
              "        async function convertToInteractive(key) {\n",
              "          const element = document.querySelector('#df-0283615e-3d9f-4d29-b3fd-c1570114d0fc');\n",
              "          const dataTable =\n",
              "            await google.colab.kernel.invokeFunction('convertToInteractive',\n",
              "                                                     [key], {});\n",
              "          if (!dataTable) return;\n",
              "\n",
              "          const docLinkHtml = 'Like what you see? Visit the ' +\n",
              "            '<a target=\"_blank\" href=https://colab.research.google.com/notebooks/data_table.ipynb>data table notebook</a>'\n",
              "            + ' to learn more about interactive tables.';\n",
              "          element.innerHTML = '';\n",
              "          dataTable['output_type'] = 'display_data';\n",
              "          await google.colab.output.renderOutput(dataTable, element);\n",
              "          const docLink = document.createElement('div');\n",
              "          docLink.innerHTML = docLinkHtml;\n",
              "          element.appendChild(docLink);\n",
              "        }\n",
              "      </script>\n",
              "    </div>\n",
              "  </div>\n",
              "  "
            ]
          },
          "metadata": {},
          "execution_count": 107
        }
      ]
    },
    {
      "cell_type": "markdown",
      "source": [
        "#### **DataFrame Anualizado**"
      ],
      "metadata": {
        "id": "0yt9u3d3x7dS"
      }
    },
    {
      "cell_type": "code",
      "source": [
        "RA={\"Desviación Estándar\":sda,\"Parkinson\":pda, \"Garman-Klass\":gkda, \"EWMA\":pd.Series([sigmaewmaGEa,sigmaewmaIBMa,sigmaewmaMCDa,sigmaewmaTa],index=[\"GE\",\"IBM\",\"MCD\",\"T\"])}\n",
        "DFA=pd.DataFrame(RA)\n",
        "DFA"
      ],
      "metadata": {
        "colab": {
          "base_uri": "https://localhost:8080/",
          "height": 175
        },
        "id": "Ie0NsRPupuKE",
        "outputId": "a2ffb029-0523-4fcf-bdb8-c18e73de513e"
      },
      "execution_count": 108,
      "outputs": [
        {
          "output_type": "execute_result",
          "data": {
            "text/plain": [
              "     Desviación Estándar  Parkinson  Garman-Klass      EWMA\n",
              "GE              0.301157   0.322234      0.328467  0.365061\n",
              "IBM             0.209703   0.215535      0.218304  0.256371\n",
              "MCD             0.147183   0.171148      0.180484  0.181807\n",
              "T               0.167311   0.187294      0.192866  0.188278"
            ],
            "text/html": [
              "\n",
              "  <div id=\"df-ecbbfe0b-be51-47d7-9f43-ab4db9d8a57a\">\n",
              "    <div class=\"colab-df-container\">\n",
              "      <div>\n",
              "<style scoped>\n",
              "    .dataframe tbody tr th:only-of-type {\n",
              "        vertical-align: middle;\n",
              "    }\n",
              "\n",
              "    .dataframe tbody tr th {\n",
              "        vertical-align: top;\n",
              "    }\n",
              "\n",
              "    .dataframe thead th {\n",
              "        text-align: right;\n",
              "    }\n",
              "</style>\n",
              "<table border=\"1\" class=\"dataframe\">\n",
              "  <thead>\n",
              "    <tr style=\"text-align: right;\">\n",
              "      <th></th>\n",
              "      <th>Desviación Estándar</th>\n",
              "      <th>Parkinson</th>\n",
              "      <th>Garman-Klass</th>\n",
              "      <th>EWMA</th>\n",
              "    </tr>\n",
              "  </thead>\n",
              "  <tbody>\n",
              "    <tr>\n",
              "      <th>GE</th>\n",
              "      <td>0.301157</td>\n",
              "      <td>0.322234</td>\n",
              "      <td>0.328467</td>\n",
              "      <td>0.365061</td>\n",
              "    </tr>\n",
              "    <tr>\n",
              "      <th>IBM</th>\n",
              "      <td>0.209703</td>\n",
              "      <td>0.215535</td>\n",
              "      <td>0.218304</td>\n",
              "      <td>0.256371</td>\n",
              "    </tr>\n",
              "    <tr>\n",
              "      <th>MCD</th>\n",
              "      <td>0.147183</td>\n",
              "      <td>0.171148</td>\n",
              "      <td>0.180484</td>\n",
              "      <td>0.181807</td>\n",
              "    </tr>\n",
              "    <tr>\n",
              "      <th>T</th>\n",
              "      <td>0.167311</td>\n",
              "      <td>0.187294</td>\n",
              "      <td>0.192866</td>\n",
              "      <td>0.188278</td>\n",
              "    </tr>\n",
              "  </tbody>\n",
              "</table>\n",
              "</div>\n",
              "      <button class=\"colab-df-convert\" onclick=\"convertToInteractive('df-ecbbfe0b-be51-47d7-9f43-ab4db9d8a57a')\"\n",
              "              title=\"Convert this dataframe to an interactive table.\"\n",
              "              style=\"display:none;\">\n",
              "        \n",
              "  <svg xmlns=\"http://www.w3.org/2000/svg\" height=\"24px\"viewBox=\"0 0 24 24\"\n",
              "       width=\"24px\">\n",
              "    <path d=\"M0 0h24v24H0V0z\" fill=\"none\"/>\n",
              "    <path d=\"M18.56 5.44l.94 2.06.94-2.06 2.06-.94-2.06-.94-.94-2.06-.94 2.06-2.06.94zm-11 1L8.5 8.5l.94-2.06 2.06-.94-2.06-.94L8.5 2.5l-.94 2.06-2.06.94zm10 10l.94 2.06.94-2.06 2.06-.94-2.06-.94-.94-2.06-.94 2.06-2.06.94z\"/><path d=\"M17.41 7.96l-1.37-1.37c-.4-.4-.92-.59-1.43-.59-.52 0-1.04.2-1.43.59L10.3 9.45l-7.72 7.72c-.78.78-.78 2.05 0 2.83L4 21.41c.39.39.9.59 1.41.59.51 0 1.02-.2 1.41-.59l7.78-7.78 2.81-2.81c.8-.78.8-2.07 0-2.86zM5.41 20L4 18.59l7.72-7.72 1.47 1.35L5.41 20z\"/>\n",
              "  </svg>\n",
              "      </button>\n",
              "      \n",
              "  <style>\n",
              "    .colab-df-container {\n",
              "      display:flex;\n",
              "      flex-wrap:wrap;\n",
              "      gap: 12px;\n",
              "    }\n",
              "\n",
              "    .colab-df-convert {\n",
              "      background-color: #E8F0FE;\n",
              "      border: none;\n",
              "      border-radius: 50%;\n",
              "      cursor: pointer;\n",
              "      display: none;\n",
              "      fill: #1967D2;\n",
              "      height: 32px;\n",
              "      padding: 0 0 0 0;\n",
              "      width: 32px;\n",
              "    }\n",
              "\n",
              "    .colab-df-convert:hover {\n",
              "      background-color: #E2EBFA;\n",
              "      box-shadow: 0px 1px 2px rgba(60, 64, 67, 0.3), 0px 1px 3px 1px rgba(60, 64, 67, 0.15);\n",
              "      fill: #174EA6;\n",
              "    }\n",
              "\n",
              "    [theme=dark] .colab-df-convert {\n",
              "      background-color: #3B4455;\n",
              "      fill: #D2E3FC;\n",
              "    }\n",
              "\n",
              "    [theme=dark] .colab-df-convert:hover {\n",
              "      background-color: #434B5C;\n",
              "      box-shadow: 0px 1px 3px 1px rgba(0, 0, 0, 0.15);\n",
              "      filter: drop-shadow(0px 1px 2px rgba(0, 0, 0, 0.3));\n",
              "      fill: #FFFFFF;\n",
              "    }\n",
              "  </style>\n",
              "\n",
              "      <script>\n",
              "        const buttonEl =\n",
              "          document.querySelector('#df-ecbbfe0b-be51-47d7-9f43-ab4db9d8a57a button.colab-df-convert');\n",
              "        buttonEl.style.display =\n",
              "          google.colab.kernel.accessAllowed ? 'block' : 'none';\n",
              "\n",
              "        async function convertToInteractive(key) {\n",
              "          const element = document.querySelector('#df-ecbbfe0b-be51-47d7-9f43-ab4db9d8a57a');\n",
              "          const dataTable =\n",
              "            await google.colab.kernel.invokeFunction('convertToInteractive',\n",
              "                                                     [key], {});\n",
              "          if (!dataTable) return;\n",
              "\n",
              "          const docLinkHtml = 'Like what you see? Visit the ' +\n",
              "            '<a target=\"_blank\" href=https://colab.research.google.com/notebooks/data_table.ipynb>data table notebook</a>'\n",
              "            + ' to learn more about interactive tables.';\n",
              "          element.innerHTML = '';\n",
              "          dataTable['output_type'] = 'display_data';\n",
              "          await google.colab.output.renderOutput(dataTable, element);\n",
              "          const docLink = document.createElement('div');\n",
              "          docLink.innerHTML = docLinkHtml;\n",
              "          element.appendChild(docLink);\n",
              "        }\n",
              "      </script>\n",
              "    </div>\n",
              "  </div>\n",
              "  "
            ]
          },
          "metadata": {},
          "execution_count": 108
        }
      ]
    },
    {
      "cell_type": "markdown",
      "source": [
        "Las volatilidades mensuales de los stocks demuestran que **General Electric** obtuvo la mayor volatilidad en los diferentes métodos utilizados, asi mismo, para las volatilidades anuales. No obstante, el método EWMA toma la mayor volatilidad entre los mismos, ya que el modelo le da más peso a la periodicidad reciente, es decir, si el tiempo es reciente se le da un mayor peso a los datos y si el tiempo es antiguo se le da un menor peso a los datos. Por otro lado, el modelo de Parkinson y Garman-Klass tienen volatilidades cercanas entre ellas mismas, esto se debe principalmente a que el modelo de medida Garman-Klass se ajusta a la medida de Parkinson para capturar mejor la variabilidad de los activos, es decir, se puede tomar como la correción del modelo de Parkinson; al trabajar con periodicidad mensual se tiene que restar el valor esperado de la serie. Se esperaría que los stocks de General Electric al adquirir mayor riesgo tenga un retorno mayor, no obstante, en los puntos anteriores se demostro que no es asi. Ahora bien, es importante acotar que las empresas no pertencen al mismo sector, lo cual su volatilidad se podría afectar por los movimientos que presenta el mercado en cada respectivo sector."
      ],
      "metadata": {
        "id": "6vBXlDXxrHb0"
      }
    },
    {
      "cell_type": "markdown",
      "source": [
        "## b. Para un solo activo de su elección, presente las gráficas para las últimas tres medidas de volatilidad."
      ],
      "metadata": {
        "id": "LuO8R4-uTUBR"
      }
    },
    {
      "cell_type": "markdown",
      "source": [
        "#### **Medida de Parkinson**"
      ],
      "metadata": {
        "id": "-G_GxOxgUQw0"
      }
    },
    {
      "cell_type": "code",
      "source": [
        "lnHL = np.log(precios[\"High\"]/precios[\"Low\"]).dropna()\n",
        "sigmaPark_d = ((1/(4*np.log(2)))*lnHL[\"GE\"]**2)**0.5\n",
        "sigmaPark_d.plot();\n"
      ],
      "metadata": {
        "id": "Psj22hBP31d6",
        "outputId": "9c7a53d8-a482-40f0-a346-fbe55625911e",
        "colab": {
          "base_uri": "https://localhost:8080/",
          "height": 279
        }
      },
      "execution_count": 109,
      "outputs": [
        {
          "output_type": "display_data",
          "data": {
            "text/plain": [
              "<Figure size 432x288 with 1 Axes>"
            ],
            "image/png": "[encoded data removed]"
          },
          "metadata": {
            "needs_background": "light"
          }
        }
      ]
    },
    {
      "cell_type": "markdown",
      "source": [
        "#### **Medida de Garman-Klass**"
      ],
      "metadata": {
        "id": "h6phN7HDUeFD"
      }
    },
    {
      "cell_type": "code",
      "source": [
        "lnHL1 = np.log(precios[\"High\"]/precios[\"Low\"]).dropna()\n",
        "lnCO = np.log(precios[\"Close\"]/precios[\"Open\"]).dropna()\n",
        "sigmaGK_d = (0.5*lnHL1[\"GE\"]**2-(2*np.log(2)-1)*lnCO[\"GE\"]**2)**0.5\n",
        "sigmaGK_d.plot();"
      ],
      "metadata": {
        "colab": {
          "base_uri": "https://localhost:8080/",
          "height": 279
        },
        "id": "RciTFKo_UUtW",
        "outputId": "05f55ac6-f2ef-4780-8032-dbd4d77eac58"
      },
      "execution_count": 110,
      "outputs": [
        {
          "output_type": "display_data",
          "data": {
            "text/plain": [
              "<Figure size 432x288 with 1 Axes>"
            ],
            "image/png": "[encoded data removed]"
          },
          "metadata": {
            "needs_background": "light"
          }
        }
      ]
    },
    {
      "cell_type": "markdown",
      "source": [
        "#### **Volatilidad ponderada exponencial (EWMA)**"
      ],
      "metadata": {
        "id": "ioTGeWsiUoqq"
      }
    },
    {
      "cell_type": "code",
      "source": [
        "  m = len(retornos) \n",
        "  b = np.arange(m-1,-1,-1) \n",
        "  l = np.repeat(Lambda,m)\n",
        "Lambda = 0.94\n",
        "varewma = ((np.power(retornos[\"GE\"],2)*(np.power(l,b))))*(1-0.94)\n",
        "varewma.plot();"
      ],
      "metadata": {
        "id": "VgBHBh-f6QFt",
        "outputId": "51b645cb-ef62-49db-96a2-0829d08113df",
        "colab": {
          "base_uri": "https://localhost:8080/",
          "height": 279
        }
      },
      "execution_count": 113,
      "outputs": [
        {
          "output_type": "display_data",
          "data": {
            "text/plain": [
              "<Figure size 432x288 with 1 Axes>"
            ],
            "image/png": "[encoded data removed]"
          },
          "metadata": {
            "needs_background": "light"
          }
        }
      ]
    },
    {
      "cell_type": "markdown",
      "source": [
        "Como se menciono anteriormente el modelo Garman-Klass se ajusta al modelo de Parkinson. Por lo tanto, se observa que la serie se encuentra suavizada, es decir, se corrige en la baja. Por otro lado, se puede observar clusters de volatilidad mayormente notorios en el 2018, esto a causa de las pérdidas que tuvo la empresa en 2018. Estas pérdidas significaron el doble de las del 2017. Además la compañia se encontraba atravesando por un proceso de investigación judicial por la posible violación del acta de Reforma, Recuperación y Cumplimiento de las Instituciones Financieras de 1989 a raíz de la creación y venta de hipotecas de alto riesgo. Por consiguiente, alcanzo un acuerdo con la justicia de aproximadamente 1.500 millones de dólares. Por lo tanto, sus acciones empezaron a tener cambios fuertes en el tiempo debido a los diferentes problemas por lo cuales atravesaba la empresa. Cabe resaltar la crisis causada por el COVID-19 afecto todos los sectores del mundo, en especial, la economía de los países, es por esta razón que se encuentran altas volatilidades en este periodo atípico. "
      ],
      "metadata": {
        "id": "fKyRJaRg7ckO"
      }
    }
  ]
}