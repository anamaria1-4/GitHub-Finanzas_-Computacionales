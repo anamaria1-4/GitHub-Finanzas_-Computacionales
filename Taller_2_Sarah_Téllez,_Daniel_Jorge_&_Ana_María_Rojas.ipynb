{
  "nbformat": 4,
  "nbformat_minor": 0,
  "metadata": {
    "colab": {
      "provenance": [],
      "collapsed_sections": [
        "4cfAcqjBQ702",
        "SGWC5nENal6w",
        "jVMT10DwB1fl"
      ],
      "include_colab_link": true
    },
    "kernelspec": {
      "name": "python3",
      "display_name": "Python 3"
    },
    "language_info": {
      "name": "python"
    }
  },
  "cells": [
    {
      "cell_type": "markdown",
      "metadata": {
        "id": "view-in-github",
        "colab_type": "text"
      },
      "source": [
        "<a href=\"https://colab.research.google.com/github/anamaria1-4/GitHub-Finanzas_-Computacionales/blob/main/Taller_2_Sarah_T%C3%A9llez%2C_Daniel_Jorge_%26_Ana_Mar%C3%ADa_Rojas.ipynb\" target=\"_parent\"><img src=\"https://colab.research.google.com/assets/colab-badge.svg\" alt=\"Open In Colab\"/></a>"
      ]
    },
    {
      "cell_type": "markdown",
      "source": [
        "<img src=\"https://www.uexternado.edu.co/wp-content/uploads/2020/07/logo-uec.png\" width=\"180\" height=\"80\"> \n",
        "\n",
        "<center>\n",
        "\n",
        "<br><br>\n",
        "\n",
        "<b>Taller 2</b>\n",
        "<div style=\"font-size:175%;color:write; background-color: #0064b0;\">Pregrado en Finanzas y Relaciones Internacionales</div>\n",
        "<div style=\"font-size:175%;color:white; background-color: #0064b0;\">Finanzas Computacionales</div>\n",
        "<div style=\"font-size:175%;color:white; background-color: #0064b0;\">Profesor: Carlos Andrés Zapata Quimbayo</div>\n",
        "<div style=\"font-size:250%;color:white; background-color: #0064b0;\">Estudiantes: Sarah Téllez, Daniel Steven Jorge Cardona y Ana María Rojas Giraldo</div>\n",
        "<div style=\"font-size:175%;color:white; background-color: #0064b0;\">2022</div> \n",
        "</center>"
      ],
      "metadata": {
        "id": "nC-49aFrJDWc"
      }
    },
    {
      "cell_type": "markdown",
      "metadata": {
        "id": "W-tq8qq4QtuX"
      },
      "source": [
        "* Se importan las librerias necesarias."
      ]
    },
    {
      "cell_type": "code",
      "execution_count": null,
      "metadata": {
        "id": "4wiA9x3X68v5"
      },
      "outputs": [],
      "source": [
        "import warnings \n",
        "import numpy as np\n",
        "import cvxpy as cp\n",
        "!pip install yfinance\n",
        "import yfinance as yf\n",
        "import cvxopt as cvxop\n",
        "import scipy.stats\n",
        "import pandas as pd\n",
        "from scipy import stats \n",
        "from scipy.stats import norm\n",
        "import matplotlib.pyplot as plt\n",
        "from scipy.optimize import linprog\n",
        "from scipy.optimize import minimize\n",
        "from matplotlib.patches import Polygon\n",
        "from numpy.core.function_base import linspace\n",
        "from sklearn.linear_model import LinearRegression"
      ]
    },
    {
      "cell_type": "markdown",
      "metadata": {
        "id": "4cfAcqjBQ702"
      },
      "source": [
        "# Punto 1"
      ]
    },
    {
      "cell_type": "markdown",
      "source": [
        "### Dibujar la región factible el siguiente problema de programación lineal (LP) con dos variables:"
      ],
      "metadata": {
        "id": "QFxUQ7Fv1kxQ"
      }
    },
    {
      "cell_type": "markdown",
      "source": [
        "$$ \\max    2 x_1 - x_2 $$\n",
        "$$  x_1 + x_2 \\geq 1 $$\n",
        "$$ x_1 - x_2 \\leq 0 $$\n",
        "$$ 3x_1 + x_2 \\leq 6 $$\n",
        "$$ x_1, x_2 \\geq 0 $$"
      ],
      "metadata": {
        "id": "eeLDZlHUKL4q"
      }
    },
    {
      "cell_type": "markdown",
      "source": [
        "#### Región Factible"
      ],
      "metadata": {
        "id": "Y-TI4KU3yEZr"
      }
    },
    {
      "cell_type": "code",
      "source": [
        "#@Región Factible\n",
        "fig, ax = plt.subplots(figsize=(8, 6))\n",
        "ax.grid()\n",
        "# Draw constraint lines\n",
        "ax.hlines(0, -1, 4)\n",
        "ax.vlines(0, -1, 6.5)\n",
        "ax.plot(np.linspace(-0.5, 1.5, 100), 1-1*np.linspace(-0.5, 1.5, 100), color=\"darkred\")\n",
        "ax.plot(np.linspace(-0.5, 2.5, 100), 6-3*np.linspace(-0.5, 2.5, 100), color=\"darkblue\")\n",
        "ax.plot(np.linspace(-0.5, 2, 100), 1*np.linspace(-0.5, 2, 100), color=\"darkgreen\")\n",
        "ax.text(0.3,1,\"$  x_1 + x_2 \\geq 1 $\",size=12)\n",
        "ax.text(2.14,2,\"$  x_1 - x_2 \\leq 0 $\",size=12)\n",
        "ax.text(1.2,2.5,\"$ 3 x_1 + x_2 \\leq 6 $\",size=12)\n",
        "ax.text(-0.5,3,\"$x_2\\geq 0$\",size=12)\n",
        "ax.text(0.5,-0.7,\"$x_1\\geq 0$\",size=12)\n",
        "#Draw the feasible region\n",
        "feasible_set=Polygon(np.array([[0.5,0.5],\n",
        "                               [1.5,1.5],\n",
        "                               [2,0],\n",
        "                               [1,0]]),\n",
        "                     color=\"m\")\n",
        "ax.add_patch(feasible_set)\n",
        "\n",
        "# Draw the optimal solution\n",
        "ax.plot(1.5, 1.5, \"*\", color=\"yellow\")\n",
        "ax.text(1.55, 1.35, \"Solución Óptima\", size=12)\n",
        "\n",
        "plt.show()"
      ],
      "metadata": {
        "colab": {
          "base_uri": "https://localhost:8080/",
          "height": 0
        },
        "id": "9H1PHOeqJKP3",
        "outputId": "1ef0200d-2125-4e41-ac59-d3e9c97388da"
      },
      "execution_count": 2,
      "outputs": [
        {
          "output_type": "display_data",
          "data": {
            "text/plain": [
              "<Figure size 576x432 with 1 Axes>"
            ],
            "image/png": "[encoded data removed]"
          },
          "metadata": {
            "needs_background": "light"
          }
        }
      ]
    },
    {
      "cell_type": "markdown",
      "source": [
        "Se observa en color magenta la región factible del problema de desigualdades. Así mismo, se puede contemplar la solución óptima del problema, el cual es un punto factible que alcanza el mejor valor objetivo posible."
      ],
      "metadata": {
        "id": "c7QvQoiLX4QU"
      }
    },
    {
      "cell_type": "markdown",
      "source": [
        "# Punto 2\n"
      ],
      "metadata": {
        "id": "SGWC5nENal6w"
      }
    },
    {
      "cell_type": "markdown",
      "source": [
        "#### Restricciones"
      ],
      "metadata": {
        "id": "EDJgi8VjatAI"
      }
    },
    {
      "cell_type": "markdown",
      "source": [
        "$$ 0.5 x_1 + 0.3x_2 + 0.25x_3 + 0.6x_4 \\geq 0.35 * (80) (Cap. Grande)$$ \n",
        "$$ 0.3 x_1 + 0.1x_2 + 0.4x_3 + 0.2x_4 \\geq 0.30 * (80) (Cap. Mediana)$$\n",
        "$$ 0.2 x_1 + 0.6 x_2 + 0.35x_3 + 0.2x_4 \\geq 0.15 * (80) (Cap. Pequeña)$$"
      ],
      "metadata": {
        "id": "dsZMDEFSuwW3"
      }
    },
    {
      "cell_type": "code",
      "source": [
        "c=np.array([0.1,0.15,0.16,0.08]) #Retorno Esperado \n",
        "A=np.array ([[1,1,1,1]]) # Cuatro unos, porque son cuatro fondos\n",
        "b=np.array([80])"
      ],
      "metadata": {
        "id": "nAclsm2uUhur"
      },
      "execution_count": 3,
      "outputs": []
    },
    {
      "cell_type": "markdown",
      "source": [
        "#### Restricciones de Desigualdades"
      ],
      "metadata": {
        "id": "DoOPPiZ4VOre"
      }
    },
    {
      "cell_type": "code",
      "source": [
        "#Restricciones de Desigualdades. \n",
        "D=np.array([[0.5,0.3,0.25,0.6],\n",
        "            [0.3,0.1,0.4,0.2],\n",
        "            [0.2,0.6,0.35,0.2]]) "
      ],
      "metadata": {
        "id": "lHzP5Pi5VTYx"
      },
      "execution_count": 4,
      "outputs": []
    },
    {
      "cell_type": "markdown",
      "source": [
        "#### Resultados de la Restricción de Desigualdad"
      ],
      "metadata": {
        "id": "FG_trfOFVXXY"
      }
    },
    {
      "cell_type": "code",
      "source": [
        "d=np.array([28,24,12])\n",
        "\n",
        "resultado=linprog(-c,A_ub=-D,b_ub=-d,A_eq=A,b_eq=b,method='simplex') #c negativo por maximizar \n",
        "resultado"
      ],
      "metadata": {
        "colab": {
          "base_uri": "https://localhost:8080/"
        },
        "id": "Pxx0bfgHVbvA",
        "outputId": "8100214f-c8cf-42e1-f7ea-16f0ab452188"
      },
      "execution_count": 5,
      "outputs": [
        {
          "output_type": "execute_result",
          "data": {
            "text/plain": [
              "     con: array([0.])\n",
              "     fun: -10.989473684210527\n",
              " message: 'Optimization terminated successfully.'\n",
              "     nit: 7\n",
              "   slack: array([-3.55271368e-15, -3.55271368e-15,  1.60000000e+01])\n",
              "  status: 0\n",
              " success: True\n",
              "       x: array([ 0.        , 12.63157895, 46.31578947, 21.05263158])"
            ]
          },
          "metadata": {},
          "execution_count": 5
        }
      ]
    },
    {
      "cell_type": "code",
      "source": [
        "#En CVXPY\n",
        "# Construct the problem.\n",
        "n = 4\n",
        "x = cp.Variable(n)\n",
        "objective = cp.Maximize(c.T @ x )\n",
        "constraints = [A @ x == b,D@ x >= d,x>=0] #vectores. Escalar=cp.sum\n",
        "prob = cp.Problem(objective, constraints)"
      ],
      "metadata": {
        "id": "aQrOwwQUU4mS"
      },
      "execution_count": 6,
      "outputs": []
    },
    {
      "cell_type": "markdown",
      "source": [
        "#### Valor Objetivo Óptimo"
      ],
      "metadata": {
        "id": "gndVcRRn1El6"
      }
    },
    {
      "cell_type": "code",
      "source": [
        "result = prob.solve()\n",
        "result"
      ],
      "metadata": {
        "colab": {
          "base_uri": "https://localhost:8080/"
        },
        "id": "nIvc-gLe0DGr",
        "outputId": "301a831d-02c5-4db3-fcc4-fbd262544a18"
      },
      "execution_count": 7,
      "outputs": [
        {
          "output_type": "execute_result",
          "data": {
            "text/plain": [
              "10.9894736825593"
            ]
          },
          "metadata": {},
          "execution_count": 7
        }
      ]
    },
    {
      "cell_type": "markdown",
      "source": [
        "#### Pesos óptimos para la inversión"
      ],
      "metadata": {
        "id": "ONOTj1fh1Mjt"
      }
    },
    {
      "cell_type": "code",
      "source": [
        "round(pd.DataFrame(x.value),4)"
      ],
      "metadata": {
        "colab": {
          "base_uri": "https://localhost:8080/",
          "height": 0
        },
        "id": "ObqRnwtU1ZYu",
        "outputId": "3b72cae6-2d60-49f4-f2a9-3bc53097d366"
      },
      "execution_count": 8,
      "outputs": [
        {
          "output_type": "execute_result",
          "data": {
            "text/plain": [
              "         0\n",
              "0   0.0000\n",
              "1  12.6316\n",
              "2  46.3158\n",
              "3  21.0526"
            ],
            "text/html": [
              "\n",
              "  <div id=\"df-5b7a66b2-9a0e-4bf6-9d43-548c4a3591f5\">\n",
              "    <div class=\"colab-df-container\">\n",
              "      <div>\n",
              "<style scoped>\n",
              "    .dataframe tbody tr th:only-of-type {\n",
              "        vertical-align: middle;\n",
              "    }\n",
              "\n",
              "    .dataframe tbody tr th {\n",
              "        vertical-align: top;\n",
              "    }\n",
              "\n",
              "    .dataframe thead th {\n",
              "        text-align: right;\n",
              "    }\n",
              "</style>\n",
              "<table border=\"1\" class=\"dataframe\">\n",
              "  <thead>\n",
              "    <tr style=\"text-align: right;\">\n",
              "      <th></th>\n",
              "      <th>0</th>\n",
              "    </tr>\n",
              "  </thead>\n",
              "  <tbody>\n",
              "    <tr>\n",
              "      <th>0</th>\n",
              "      <td>0.0000</td>\n",
              "    </tr>\n",
              "    <tr>\n",
              "      <th>1</th>\n",
              "      <td>12.6316</td>\n",
              "    </tr>\n",
              "    <tr>\n",
              "      <th>2</th>\n",
              "      <td>46.3158</td>\n",
              "    </tr>\n",
              "    <tr>\n",
              "      <th>3</th>\n",
              "      <td>21.0526</td>\n",
              "    </tr>\n",
              "  </tbody>\n",
              "</table>\n",
              "</div>\n",
              "      <button class=\"colab-df-convert\" onclick=\"convertToInteractive('df-5b7a66b2-9a0e-4bf6-9d43-548c4a3591f5')\"\n",
              "              title=\"Convert this dataframe to an interactive table.\"\n",
              "              style=\"display:none;\">\n",
              "        \n",
              "  <svg xmlns=\"http://www.w3.org/2000/svg\" height=\"24px\"viewBox=\"0 0 24 24\"\n",
              "       width=\"24px\">\n",
              "    <path d=\"M0 0h24v24H0V0z\" fill=\"none\"/>\n",
              "    <path d=\"M18.56 5.44l.94 2.06.94-2.06 2.06-.94-2.06-.94-.94-2.06-.94 2.06-2.06.94zm-11 1L8.5 8.5l.94-2.06 2.06-.94-2.06-.94L8.5 2.5l-.94 2.06-2.06.94zm10 10l.94 2.06.94-2.06 2.06-.94-2.06-.94-.94-2.06-.94 2.06-2.06.94z\"/><path d=\"M17.41 7.96l-1.37-1.37c-.4-.4-.92-.59-1.43-.59-.52 0-1.04.2-1.43.59L10.3 9.45l-7.72 7.72c-.78.78-.78 2.05 0 2.83L4 21.41c.39.39.9.59 1.41.59.51 0 1.02-.2 1.41-.59l7.78-7.78 2.81-2.81c.8-.78.8-2.07 0-2.86zM5.41 20L4 18.59l7.72-7.72 1.47 1.35L5.41 20z\"/>\n",
              "  </svg>\n",
              "      </button>\n",
              "      \n",
              "  <style>\n",
              "    .colab-df-container {\n",
              "      display:flex;\n",
              "      flex-wrap:wrap;\n",
              "      gap: 12px;\n",
              "    }\n",
              "\n",
              "    .colab-df-convert {\n",
              "      background-color: #E8F0FE;\n",
              "      border: none;\n",
              "      border-radius: 50%;\n",
              "      cursor: pointer;\n",
              "      display: none;\n",
              "      fill: #1967D2;\n",
              "      height: 32px;\n",
              "      padding: 0 0 0 0;\n",
              "      width: 32px;\n",
              "    }\n",
              "\n",
              "    .colab-df-convert:hover {\n",
              "      background-color: #E2EBFA;\n",
              "      box-shadow: 0px 1px 2px rgba(60, 64, 67, 0.3), 0px 1px 3px 1px rgba(60, 64, 67, 0.15);\n",
              "      fill: #174EA6;\n",
              "    }\n",
              "\n",
              "    [theme=dark] .colab-df-convert {\n",
              "      background-color: #3B4455;\n",
              "      fill: #D2E3FC;\n",
              "    }\n",
              "\n",
              "    [theme=dark] .colab-df-convert:hover {\n",
              "      background-color: #434B5C;\n",
              "      box-shadow: 0px 1px 3px 1px rgba(0, 0, 0, 0.15);\n",
              "      filter: drop-shadow(0px 1px 2px rgba(0, 0, 0, 0.3));\n",
              "      fill: #FFFFFF;\n",
              "    }\n",
              "  </style>\n",
              "\n",
              "      <script>\n",
              "        const buttonEl =\n",
              "          document.querySelector('#df-5b7a66b2-9a0e-4bf6-9d43-548c4a3591f5 button.colab-df-convert');\n",
              "        buttonEl.style.display =\n",
              "          google.colab.kernel.accessAllowed ? 'block' : 'none';\n",
              "\n",
              "        async function convertToInteractive(key) {\n",
              "          const element = document.querySelector('#df-5b7a66b2-9a0e-4bf6-9d43-548c4a3591f5');\n",
              "          const dataTable =\n",
              "            await google.colab.kernel.invokeFunction('convertToInteractive',\n",
              "                                                     [key], {});\n",
              "          if (!dataTable) return;\n",
              "\n",
              "          const docLinkHtml = 'Like what you see? Visit the ' +\n",
              "            '<a target=\"_blank\" href=https://colab.research.google.com/notebooks/data_table.ipynb>data table notebook</a>'\n",
              "            + ' to learn more about interactive tables.';\n",
              "          element.innerHTML = '';\n",
              "          dataTable['output_type'] = 'display_data';\n",
              "          await google.colab.output.renderOutput(dataTable, element);\n",
              "          const docLink = document.createElement('div');\n",
              "          docLink.innerHTML = docLinkHtml;\n",
              "          element.appendChild(docLink);\n",
              "        }\n",
              "      </script>\n",
              "    </div>\n",
              "  </div>\n",
              "  "
            ]
          },
          "metadata": {},
          "execution_count": 8
        }
      ]
    },
    {
      "cell_type": "markdown",
      "source": [
        "Si se desea invertir 80 millones en cuatro fondos, la asignación factible para cada fondo con el retorno esperado más alto es: \n",
        "\n",
        "* **Fondo 1:** la mejor opción es no invertir nada en este fondo, ya que genera una reducción del -0.0026 en la rentabilidad de la inversión, es decir, no generaría una rentabilidad sino una pérdida. \n",
        "* **Fondo 2:** la mejor opción es invertir 12.63157895 millones en este fondo.\n",
        "* **Fondo 3:** la mejor opción es invertir 46.31578947 millones. Este es el fondo que mayor pesos tiene en la inversión, ya que generá mayor rentabilidad a menor o igual riesgo que los demás.\n",
        "* **Fondo 4:** la mejor opción es invertir 21.05263158 millones.\n",
        "Además, también se puede observar el valor objetivo óptimo de la inversión: 10.98947. "
      ],
      "metadata": {
        "id": "PGvZiMjypDJe"
      }
    },
    {
      "cell_type": "markdown",
      "source": [
        "# Punto 3\n"
      ],
      "metadata": {
        "id": "n0kc6P_412PJ"
      }
    },
    {
      "cell_type": "code",
      "source": [
        "b=np.array([150,100,-200,200,-50,-300]) #cambio de signo al cambiar de lado. \n",
        "c=np.array([0,0,0,0,0,0,0,0,0,0,0,0,0,1]) #Función objetivo \n",
        "rx= np.array([1.01])#tasa interés crédito\n",
        "ry= np.array([1.02])#tasa interés bono\n",
        "rz= np.array([1.003])#tasa rentabilidad\n",
        "A=np.array([[1,0,0,0,0, 1,0,0, -1,0,0,0,0,0],\n",
        "            [-rx,1,0,0,0, 0,1,0, rz,-1,0,0,0,0],\n",
        "            [0,-rx,1,0,0, 0,0,1, 0,rz,-1,0,0,0],\n",
        "            [0,0,-rx,1,0, -ry,0,0, 0,0,rz,-1,0,0],\n",
        "            [0,0,0,-rx,1, 0,-ry,0, 0,0,0,rz,-1,0],\n",
        "            [0,0,0,0,-rx, 0,0,-ry, 0,0,0,0,rz,-1]])"
      ],
      "metadata": {
        "id": "nwyBVIQP5KeT",
        "colab": {
          "base_uri": "https://localhost:8080/"
        },
        "outputId": "af0fbb13-9c31-4ec0-f3bf-88b54c5ab6ec"
      },
      "execution_count": 9,
      "outputs": [
        {
          "output_type": "stream",
          "name": "stderr",
          "text": [
            "/usr/local/lib/python3.7/dist-packages/ipykernel_launcher.py:11: VisibleDeprecationWarning: Creating an ndarray from ragged nested sequences (which is a list-or-tuple of lists-or-tuples-or ndarrays with different lengths or shapes) is deprecated. If you meant to do this, you must specify 'dtype=object' when creating the ndarray.\n",
            "  # This is added back by InteractiveShellApp.init_path()\n"
          ]
        }
      ]
    },
    {
      "cell_type": "markdown",
      "source": [
        "#### Solución CVXPY"
      ],
      "metadata": {
        "id": "Cg15eyXp6BXo"
      }
    },
    {
      "cell_type": "code",
      "source": [
        "n = len(c)\n",
        "x = cp.Variable(n) \n",
        "objective = cp.Maximize(c.T @ x )\n",
        "constraints = [A @ x == b,x>=0] \n",
        "prob = cp.Problem(objective, constraints)"
      ],
      "metadata": {
        "id": "HA3nyzaG6ArJ"
      },
      "execution_count": 10,
      "outputs": []
    },
    {
      "cell_type": "markdown",
      "source": [
        "#### Valor Objetivo Óptimo"
      ],
      "metadata": {
        "id": "JFieymoZ6eXd"
      }
    },
    {
      "cell_type": "code",
      "source": [
        "result = prob.solve()\n",
        "result"
      ],
      "metadata": {
        "colab": {
          "base_uri": "https://localhost:8080/"
        },
        "id": "Hb2BV-uT6e5z",
        "outputId": "ea7eee6f-ccb2-4c91-88bb-bfedcb9d70a1"
      },
      "execution_count": 11,
      "outputs": [
        {
          "output_type": "execute_result",
          "data": {
            "text/plain": [
              "92.49694913323782"
            ]
          },
          "metadata": {},
          "execution_count": 11
        }
      ]
    },
    {
      "cell_type": "markdown",
      "source": [
        "#### Solución "
      ],
      "metadata": {
        "id": "Stl7R6Gw6m8b"
      }
    },
    {
      "cell_type": "code",
      "source": [
        "sol=round(pd.DataFrame(x.value),6)\n",
        "sol"
      ],
      "metadata": {
        "colab": {
          "base_uri": "https://localhost:8080/",
          "height": 0
        },
        "id": "8TnnmhkC6o35",
        "outputId": "fab12c79-55fe-4e54-8c29-85d3ea67f41b"
      },
      "execution_count": 12,
      "outputs": [
        {
          "output_type": "execute_result",
          "data": {
            "text/plain": [
              "             0\n",
              "0     0.000001\n",
              "1    42.686747\n",
              "2     0.000000\n",
              "3     0.000000\n",
              "4     8.459517\n",
              "5   150.000000\n",
              "6    57.313253\n",
              "7   195.057783\n",
              "8     0.000001\n",
              "9     0.000000\n",
              "10  351.944169\n",
              "11    0.000001\n",
              "12    0.000000\n",
              "13   92.496949"
            ],
            "text/html": [
              "\n",
              "  <div id=\"df-0d1a36a5-811f-4ad7-a01d-c606f752275b\">\n",
              "    <div class=\"colab-df-container\">\n",
              "      <div>\n",
              "<style scoped>\n",
              "    .dataframe tbody tr th:only-of-type {\n",
              "        vertical-align: middle;\n",
              "    }\n",
              "\n",
              "    .dataframe tbody tr th {\n",
              "        vertical-align: top;\n",
              "    }\n",
              "\n",
              "    .dataframe thead th {\n",
              "        text-align: right;\n",
              "    }\n",
              "</style>\n",
              "<table border=\"1\" class=\"dataframe\">\n",
              "  <thead>\n",
              "    <tr style=\"text-align: right;\">\n",
              "      <th></th>\n",
              "      <th>0</th>\n",
              "    </tr>\n",
              "  </thead>\n",
              "  <tbody>\n",
              "    <tr>\n",
              "      <th>0</th>\n",
              "      <td>0.000001</td>\n",
              "    </tr>\n",
              "    <tr>\n",
              "      <th>1</th>\n",
              "      <td>42.686747</td>\n",
              "    </tr>\n",
              "    <tr>\n",
              "      <th>2</th>\n",
              "      <td>0.000000</td>\n",
              "    </tr>\n",
              "    <tr>\n",
              "      <th>3</th>\n",
              "      <td>0.000000</td>\n",
              "    </tr>\n",
              "    <tr>\n",
              "      <th>4</th>\n",
              "      <td>8.459517</td>\n",
              "    </tr>\n",
              "    <tr>\n",
              "      <th>5</th>\n",
              "      <td>150.000000</td>\n",
              "    </tr>\n",
              "    <tr>\n",
              "      <th>6</th>\n",
              "      <td>57.313253</td>\n",
              "    </tr>\n",
              "    <tr>\n",
              "      <th>7</th>\n",
              "      <td>195.057783</td>\n",
              "    </tr>\n",
              "    <tr>\n",
              "      <th>8</th>\n",
              "      <td>0.000001</td>\n",
              "    </tr>\n",
              "    <tr>\n",
              "      <th>9</th>\n",
              "      <td>0.000000</td>\n",
              "    </tr>\n",
              "    <tr>\n",
              "      <th>10</th>\n",
              "      <td>351.944169</td>\n",
              "    </tr>\n",
              "    <tr>\n",
              "      <th>11</th>\n",
              "      <td>0.000001</td>\n",
              "    </tr>\n",
              "    <tr>\n",
              "      <th>12</th>\n",
              "      <td>0.000000</td>\n",
              "    </tr>\n",
              "    <tr>\n",
              "      <th>13</th>\n",
              "      <td>92.496949</td>\n",
              "    </tr>\n",
              "  </tbody>\n",
              "</table>\n",
              "</div>\n",
              "      <button class=\"colab-df-convert\" onclick=\"convertToInteractive('df-0d1a36a5-811f-4ad7-a01d-c606f752275b')\"\n",
              "              title=\"Convert this dataframe to an interactive table.\"\n",
              "              style=\"display:none;\">\n",
              "        \n",
              "  <svg xmlns=\"http://www.w3.org/2000/svg\" height=\"24px\"viewBox=\"0 0 24 24\"\n",
              "       width=\"24px\">\n",
              "    <path d=\"M0 0h24v24H0V0z\" fill=\"none\"/>\n",
              "    <path d=\"M18.56 5.44l.94 2.06.94-2.06 2.06-.94-2.06-.94-.94-2.06-.94 2.06-2.06.94zm-11 1L8.5 8.5l.94-2.06 2.06-.94-2.06-.94L8.5 2.5l-.94 2.06-2.06.94zm10 10l.94 2.06.94-2.06 2.06-.94-2.06-.94-.94-2.06-.94 2.06-2.06.94z\"/><path d=\"M17.41 7.96l-1.37-1.37c-.4-.4-.92-.59-1.43-.59-.52 0-1.04.2-1.43.59L10.3 9.45l-7.72 7.72c-.78.78-.78 2.05 0 2.83L4 21.41c.39.39.9.59 1.41.59.51 0 1.02-.2 1.41-.59l7.78-7.78 2.81-2.81c.8-.78.8-2.07 0-2.86zM5.41 20L4 18.59l7.72-7.72 1.47 1.35L5.41 20z\"/>\n",
              "  </svg>\n",
              "      </button>\n",
              "      \n",
              "  <style>\n",
              "    .colab-df-container {\n",
              "      display:flex;\n",
              "      flex-wrap:wrap;\n",
              "      gap: 12px;\n",
              "    }\n",
              "\n",
              "    .colab-df-convert {\n",
              "      background-color: #E8F0FE;\n",
              "      border: none;\n",
              "      border-radius: 50%;\n",
              "      cursor: pointer;\n",
              "      display: none;\n",
              "      fill: #1967D2;\n",
              "      height: 32px;\n",
              "      padding: 0 0 0 0;\n",
              "      width: 32px;\n",
              "    }\n",
              "\n",
              "    .colab-df-convert:hover {\n",
              "      background-color: #E2EBFA;\n",
              "      box-shadow: 0px 1px 2px rgba(60, 64, 67, 0.3), 0px 1px 3px 1px rgba(60, 64, 67, 0.15);\n",
              "      fill: #174EA6;\n",
              "    }\n",
              "\n",
              "    [theme=dark] .colab-df-convert {\n",
              "      background-color: #3B4455;\n",
              "      fill: #D2E3FC;\n",
              "    }\n",
              "\n",
              "    [theme=dark] .colab-df-convert:hover {\n",
              "      background-color: #434B5C;\n",
              "      box-shadow: 0px 1px 3px 1px rgba(0, 0, 0, 0.15);\n",
              "      filter: drop-shadow(0px 1px 2px rgba(0, 0, 0, 0.3));\n",
              "      fill: #FFFFFF;\n",
              "    }\n",
              "  </style>\n",
              "\n",
              "      <script>\n",
              "        const buttonEl =\n",
              "          document.querySelector('#df-0d1a36a5-811f-4ad7-a01d-c606f752275b button.colab-df-convert');\n",
              "        buttonEl.style.display =\n",
              "          google.colab.kernel.accessAllowed ? 'block' : 'none';\n",
              "\n",
              "        async function convertToInteractive(key) {\n",
              "          const element = document.querySelector('#df-0d1a36a5-811f-4ad7-a01d-c606f752275b');\n",
              "          const dataTable =\n",
              "            await google.colab.kernel.invokeFunction('convertToInteractive',\n",
              "                                                     [key], {});\n",
              "          if (!dataTable) return;\n",
              "\n",
              "          const docLinkHtml = 'Like what you see? Visit the ' +\n",
              "            '<a target=\"_blank\" href=https://colab.research.google.com/notebooks/data_table.ipynb>data table notebook</a>'\n",
              "            + ' to learn more about interactive tables.';\n",
              "          element.innerHTML = '';\n",
              "          dataTable['output_type'] = 'display_data';\n",
              "          await google.colab.output.renderOutput(dataTable, element);\n",
              "          const docLink = document.createElement('div');\n",
              "          docLink.innerHTML = docLinkHtml;\n",
              "          element.appendChild(docLink);\n",
              "        }\n",
              "      </script>\n",
              "    </div>\n",
              "  </div>\n",
              "  "
            ]
          },
          "metadata": {},
          "execution_count": 12
        }
      ]
    },
    {
      "cell_type": "markdown",
      "source": [
        "#### Linprog"
      ],
      "metadata": {
        "id": "MWLmSZx_69cf"
      }
    },
    {
      "cell_type": "code",
      "source": [
        "c=np.array([0,0,0,0,0,0,0,0,0,0,0,0,0,1]) #Retorno esperado \n",
        "rx= np.array([1.01])# Tasa interés crédito\n",
        "ry= np.array([1.02])# Tasa interés bono\n",
        "rz= np.array([1.003])# Tasa rentabilidad\n",
        "A=np.array([[1,0,0,0,0, 1,0,0, -1,0,0,0,0,0],\n",
        "            [-rx,1,0,0,0, 0,1,0, rz,-1,0,0,0,0],\n",
        "            [0,-rx,1,0,0, 0,0,1, 0,rz,-1,0,0,0],\n",
        "            [0,0,-rx,1,0, -ry,0,0, 0,0,rz,-1,0,0],\n",
        "            [0,0,0,-rx,1, 0,-ry,0, 0,0,0,rz,-1,0],\n",
        "            [0,0,0,0,-rx, 0,0,-ry, 0,0,0,0,rz,-1]]) \n",
        "b=np.array([150,100,-200,200,-50,-300])\n",
        "\n",
        "\n",
        "resultado=linprog(-c,A_eq=A,b_eq=b,method='revised simplex') #c negativo por maximizar \n",
        "resultado"
      ],
      "metadata": {
        "colab": {
          "base_uri": "https://localhost:8080/"
        },
        "id": "V1NnZjiz6ySy",
        "outputId": "325eb51d-0e05-4e3e-83f4-0bdb53527489"
      },
      "execution_count": 13,
      "outputs": [
        {
          "output_type": "stream",
          "name": "stderr",
          "text": [
            "/usr/local/lib/python3.7/dist-packages/ipykernel_launcher.py:10: VisibleDeprecationWarning: Creating an ndarray from ragged nested sequences (which is a list-or-tuple of lists-or-tuples-or ndarrays with different lengths or shapes) is deprecated. If you meant to do this, you must specify 'dtype=object' when creating the ndarray.\n",
            "  # Remove the CWD from sys.path while we load stuff.\n"
          ]
        },
        {
          "output_type": "execute_result",
          "data": {
            "text/plain": [
              "     con: array([ 2.84217094e-14, -1.42108547e-14, -5.68434189e-14,  2.84217094e-14,\n",
              "        0.00000000e+00,  0.00000000e+00])\n",
              "     fun: -92.49694915254233\n",
              " message: 'Optimization terminated successfully.'\n",
              "     nit: 6\n",
              "   slack: array([], dtype=float64)\n",
              "  status: 0\n",
              " success: True\n",
              "       x: array([  0.        ,  50.98039216,   0.        ,   0.        ,\n",
              "         0.        , 150.        ,  49.01960784, 203.43436358,\n",
              "         0.        ,   0.        , 351.9441675 ,   0.        ,\n",
              "         0.        ,  92.49694915])"
            ]
          },
          "metadata": {},
          "execution_count": 13
        }
      ]
    },
    {
      "cell_type": "markdown",
      "source": [
        "La empresa XYZ puede alcanzar una riqueza óptima de **92.4969** en Junio. Para que la compañia pueda llegar a esta cifra deberá emitir papeles comercial (bonos) por un valor en **150.000** para el mes de Enero. Así mismo, es necesario que también se realicen en Febrero y Marzo por un valor de **57.3132** y **195.0577** para cada mes respectivamente. Además, se tendrá que sacar **42.6867** de la línea de crédito en Febrero y en Mayo **8.4595**. Por otro lado, el exceso de efetivo de Marzo **(351.944)** se podrá invertir durante un mes; para el mes de Mayo se paga el crédito y es así como para el mes de Junio la empresa lograría solucionar su problema de financiación y alcanzar el capital óptimo. Es importante acotar que, hay diferentes maneras de solucionar el problema mediante créditos y bonos en diferentes meses y con diferentes valores para así alcanzar el objetivo. No obstante, todas llegan a la misma solución óptima como se observa con linprog y el archivo de excel.\n",
        "\n"
      ],
      "metadata": {
        "id": "IXjlPdG69H_o"
      }
    },
    {
      "cell_type": "markdown",
      "source": [
        "# Punto 4"
      ],
      "metadata": {
        "id": "jVMT10DwB1fl"
      }
    },
    {
      "cell_type": "markdown",
      "source": [
        "#### Información histórica de General Motors (Precios y retornos)"
      ],
      "metadata": {
        "id": "ep1C9m31aXrr"
      }
    },
    {
      "cell_type": "code",
      "source": [
        "fechainicial = \"2015-12-01\"\n",
        "fechafinal = \"2020-12-31\"\n",
        "periodicidad = \"1Mo\"\n",
        "gm = [\"GM\"]\n",
        "p_gm = yf.download(gm,start=fechainicial ,end=fechafinal,interval=periodicidad)['Adj Close'].dropna()\n",
        "r_gm = np.log(p_gm/p_gm.shift(1)).dropna()"
      ],
      "metadata": {
        "colab": {
          "base_uri": "https://localhost:8080/"
        },
        "id": "atSgvLVtaLde",
        "outputId": "e9f4820a-93a9-44f2-c134-c95134953d2d"
      },
      "execution_count": 21,
      "outputs": [
        {
          "output_type": "stream",
          "name": "stdout",
          "text": [
            "\r[*********************100%***********************]  1 of 1 completed\n"
          ]
        }
      ]
    },
    {
      "cell_type": "markdown",
      "source": [
        "General Motors Company es una compañía estadounidense que fabrica automóviles, camiones y motores."
      ],
      "metadata": {
        "id": "4P3MhXEVAyhx"
      }
    },
    {
      "cell_type": "markdown",
      "source": [
        "#### Variables explicativas del activo (Standard & Poor's 500 y S&P Metals & Mining Select Industry Index)"
      ],
      "metadata": {
        "id": "2bo4Flj9A1L0"
      }
    },
    {
      "cell_type": "code",
      "source": [
        "# Standard & Poor's 500\n",
        "sp_500 = yf.download(\"^GSPC\",start=fechainicial,end=fechafinal,interval=periodicidad)['Adj Close'].dropna()\n",
        "r_sp_500 = np.log(sp_500/sp_500.shift(1)).dropna()\n",
        "r_sp_500.shape\n",
        "\n",
        "#S&P Metals & Mining Select Industry Index\n",
        "sp_mm = yf.download(\"XME\",start=fechainicial,end=fechafinal,interval=periodicidad)['Adj Close'].dropna()\n",
        "r_sp_mm = np.log(sp_mm/sp_mm.shift(1)).dropna()\n",
        "r_sp_mm.shape"
      ],
      "metadata": {
        "colab": {
          "base_uri": "https://localhost:8080/"
        },
        "id": "eCRo5cMlA2_j",
        "outputId": "65b8e334-270b-411f-eda8-488ab4f1c271"
      },
      "execution_count": 22,
      "outputs": [
        {
          "output_type": "stream",
          "name": "stdout",
          "text": [
            "[*********************100%***********************]  1 of 1 completed\n",
            "[*********************100%***********************]  1 of 1 completed\n"
          ]
        },
        {
          "output_type": "execute_result",
          "data": {
            "text/plain": [
              "(60,)"
            ]
          },
          "metadata": {},
          "execution_count": 22
        }
      ]
    },
    {
      "cell_type": "markdown",
      "source": [
        "*   **Standard & Poor's 500:** El índice se basa en la capitalización bursátil de 500 grandes empresas que poseen acciones que cotizan en las bolsas NYSE o NASDAQ, y captura aproximadamente el 80% de toda la capitalización de mercado en Estados Unidos. Se considera como el índice más representativo de la situación real del mercado.\n",
        "*   **S&P Metals & Mining Select Industry Index:** Este indice representa el segmento de metales y minería del S&P Total Market Index (“S&P TMI”). El S&P TMI está diseñado para rastrear el amplio mercado de acciones de EE. UU. El segmento de metales y minería del S&P TMI comprende las siguientes subindustrias: aluminio, carbón y combustibles consumibles, cobre, metales diversificados y minería, oro, metales y minerales preciosos, plata y acero."
      ],
      "metadata": {
        "id": "kAxBqrksA_9U"
      }
    },
    {
      "cell_type": "markdown",
      "source": [
        "#### Beta y alpha de General Motor y Standard & Poor's 500 "
      ],
      "metadata": {
        "id": "3bGlqZ6-BF6d"
      }
    },
    {
      "cell_type": "code",
      "source": [
        "from sklearn.linear_model import LinearRegression\n",
        "lm = LinearRegression()\n",
        "model = lm.fit(pd.DataFrame(r_sp_500), pd.DataFrame(r_gm))\n",
        "print(f'alpha = {model.intercept_}')\n",
        "print(f'betas = {model.coef_}')"
      ],
      "metadata": {
        "colab": {
          "base_uri": "https://localhost:8080/"
        },
        "id": "GvLgkYuJBS2O",
        "outputId": "98d7fcf7-77bb-4a46-dc85-f08ee57ea90e"
      },
      "execution_count": 23,
      "outputs": [
        {
          "output_type": "stream",
          "name": "stdout",
          "text": [
            "alpha = [-0.00868232]\n",
            "betas = [[1.50455399]]\n"
          ]
        }
      ]
    },
    {
      "cell_type": "markdown",
      "source": [
        "Se obtuvo un alfa de -0.00868. Este es el retorno mensual constante que ofrece Generar Motor con respecto al Standard & Poor's 500, por lo cual Generar se considera un activo subvaluado. \n",
        "\n",
        "Se obtuvo una beta de 1.50455. La beta al ser mayor a 1, significa que Generar Motor en promedio es más riesgoso que los activos que se encuentran en el Standard & Poor's 500, esto lo cataloga un activo agresivo. Como la beta es mayor a 1 el retorno de este activo tiene que ser mayor al retorno del Standard & Poor's 500. Por lo tanto, una variación del Standard & Poor's 500 provoca una variación mayor en Generar Motor. Sin embargo, lo anterior es favorable cuando el mercado está en etapa de crecimiento más no cuando está en etapa de recesión, por eso este activo posee un mayor riesgo sistemático."
      ],
      "metadata": {
        "id": "j6N37w8sBUDP"
      }
    },
    {
      "cell_type": "markdown",
      "source": [
        "#### Beta y alpha de General Motor y S&P Metals & Mining Select Industry Index"
      ],
      "metadata": {
        "id": "muiMwJfvBaWD"
      }
    },
    {
      "cell_type": "code",
      "source": [
        "from sklearn.linear_model import LinearRegression\n",
        "lm = LinearRegression()\n",
        "model = lm.fit(pd.DataFrame(r_sp_mm), pd.DataFrame(r_gm))\n",
        "print(f'alpha = {model.intercept_}')\n",
        "print(f'betas = {model.coef_}')"
      ],
      "metadata": {
        "colab": {
          "base_uri": "https://localhost:8080/"
        },
        "id": "Ufg7oXpPBb-d",
        "outputId": "9e166020-0c49-4216-a4ee-7c658297cfdb"
      },
      "execution_count": 24,
      "outputs": [
        {
          "output_type": "stream",
          "name": "stdout",
          "text": [
            "alpha = [-0.00252528]\n",
            "betas = [[0.60934894]]\n"
          ]
        }
      ]
    },
    {
      "cell_type": "markdown",
      "source": [
        "Se obtuvo un alfa de -0.00252. Este es el retorno mensual constante que ofrece Generar Motor con respecto al S&P Metals & Mining Select Industry Index, por lo cual Generar se considera un activo subvaluado. \n",
        "\n",
        "Se obtuvo una beta de 0.60934. La beta al ser menor a 1, significa que Generar Motor en promedio es menos riesgoso que los activos que se encuentran en el S&P Metals & Mining Select Industry Index, esto lo cataloga un no activo agresivo. Por lo tanto, una variación del S&P Metals & Mining Select Industry Index provoca una variación menor en Generar Motor. Lo anterior indica que dicho activo varía menos que el mercado en su conjunto, por eso este activo posee un menor riesgo sistemático."
      ],
      "metadata": {
        "id": "0V7f3361Bekm"
      }
    },
    {
      "cell_type": "markdown",
      "source": [
        "### Objetivo que la operación matricial sea igual a la estimación de los betas (Usando Standard & Poor's 500 y S&P Metals & Mining Select Industry Index)"
      ],
      "metadata": {
        "id": "HDTo6XU1BgqE"
      }
    },
    {
      "cell_type": "code",
      "source": [
        "indices = yf.download([\"^GSPC\",\"XME\"],start=fechainicial,end=fechafinal,interval=periodicidad)['Adj Close'].dropna()\n",
        "r_indices = np.log(indices/indices.shift(1)).dropna()\n",
        "r_indices.shape"
      ],
      "metadata": {
        "colab": {
          "base_uri": "https://localhost:8080/"
        },
        "id": "R1qFUbMhBp5r",
        "outputId": "4b20be50-de24-4c5a-ee72-b3b6afc4776c"
      },
      "execution_count": 25,
      "outputs": [
        {
          "output_type": "stream",
          "name": "stdout",
          "text": [
            "[*********************100%***********************]  2 of 2 completed\n"
          ]
        },
        {
          "output_type": "execute_result",
          "data": {
            "text/plain": [
              "(60, 2)"
            ]
          },
          "metadata": {},
          "execution_count": 25
        }
      ]
    },
    {
      "cell_type": "markdown",
      "source": [
        "#### Operación matricial:"
      ],
      "metadata": {
        "id": "7VccV8NrBsdB"
      }
    },
    {
      "cell_type": "code",
      "source": [
        "t = len(r_indices)\n",
        "unos = pd.DataFrame(np.repeat(1,t))\n",
        "r_indices2 = pd.DataFrame(r_indices)\n",
        "r_gm2 = pd.DataFrame(r_gm)\n",
        "variables = np.concatenate((unos,r_indices2),1)\n",
        "X = variables.T @ variables\n",
        "Xy = variables.T @ r_gm\n",
        "Sol= np.linalg.solve(X,Xy)\n",
        "Sol"
      ],
      "metadata": {
        "colab": {
          "base_uri": "https://localhost:8080/"
        },
        "id": "dqEMOS9iBuL3",
        "outputId": "52f19c13-9cc4-4bb6-bf09-8e2cd8c411c2"
      },
      "execution_count": 26,
      "outputs": [
        {
          "output_type": "execute_result",
          "data": {
            "text/plain": [
              "array([-0.00802702,  0.31310156,  0.97880491])"
            ]
          },
          "metadata": {},
          "execution_count": 26
        }
      ]
    },
    {
      "cell_type": "markdown",
      "source": [
        "#### Estimación de los betas con SkLearn:"
      ],
      "metadata": {
        "id": "-ua7q6scB2HW"
      }
    },
    {
      "cell_type": "code",
      "source": [
        "from sklearn.linear_model import LinearRegression\n",
        "lm = LinearRegression()\n",
        "model = lm.fit(pd.DataFrame(r_indices), pd.DataFrame(r_gm))\n",
        "print(f'alpha = {model.intercept_}')\n",
        "print(f'betas = {model.coef_}')"
      ],
      "metadata": {
        "colab": {
          "base_uri": "https://localhost:8080/"
        },
        "id": "5O5ZgsHKB9UB",
        "outputId": "5d075ceb-623b-4d19-f604-b68e88138dcd"
      },
      "execution_count": 27,
      "outputs": [
        {
          "output_type": "stream",
          "name": "stdout",
          "text": [
            "alpha = [-0.00802702]\n",
            "betas = [[0.31310156 0.97880491]]\n"
          ]
        }
      ]
    },
    {
      "cell_type": "markdown",
      "source": [
        "El alfa es el componente anormal de retorno que no está siendo explicado por el modelo del mercado (modelo CAPM). Se obtuvo un alfa de -0.00802. Este es el retorno mensual constante que ofrece Generar Motor con respecto al Standard & Poor's 500 y S&P Metals & Mining Select Industry Index, por lo tanto, Generar Motor obtuvo un rendimiento por debajo del esperado.\n",
        "\n",
        "Al tener un alfa negativo Generar Motor se considera un activo subvaluado, por lo tanto se puede implantar una estrategia de inversión que consiste en buscar acciones subvaluadas, ya que es posible adquirir esta acción por un costo relativamente bajo, con la finalidad de conseguir un mayor beneficio a futuro (estrategia de inversión Warren Buffett).\n",
        "\n",
        "Además, se obtuvo unas betas de 0.31310 y 0.97880. Una beta que es menor 1 significa que Generar Motor en promedio es menos riesgoso que los activos que se encuentran en el Standard & Poor's 500 y el S&P Metals & Mining Select Industry Index, por lo tanto, es un activo no agresivo. Es decir, una variación del Standard & Poor's 500 o el S&P Metals & Mining Select Industry Index provoca una variación menor a Generar Motor. Lo anterior indica que dicho activo varía menos que el mercado en su conjunto, por eso este activo posee un menor riesgo sistemático. "
      ],
      "metadata": {
        "id": "YoHAqrA0CFwt"
      }
    },
    {
      "cell_type": "markdown",
      "source": [
        "# Punto 5"
      ],
      "metadata": {
        "id": "QqnWWbOIB36L"
      }
    },
    {
      "cell_type": "markdown",
      "source": [
        "#### Solución CVXPY"
      ],
      "metadata": {
        "id": "T1Mk5xrZB_Cw"
      }
    },
    {
      "cell_type": "code",
      "source": [
        "b=np.array([100,200,800,100,800,1200])\n",
        "c=np.array([109, 94.8, 99.5, 93.1, 97.2, 92.9, 110, 104, 102, 95.2,0,0,0,0,0,0])\n",
        "A = np.array([[10, 7, 8, 6, 7, 5, 10, 8, 7, 100, -1, 0, 0, 0, 0, 0],\n",
        "[10, 7, 8, 6, 7, 5, 10, 8, 107, 0, 1, -1, 0, 0, 0, 0],\n",
        "[10, 7, 8, 6, 7, 5, 110, 108, 0, 0, 0, 1, -1, 0, 0, 0],\n",
        "[10, 7, 8, 6, 7, 105, 0, 0, 0, 0, 0, 0, 1, -1, 0, 0],\n",
        "[10, 7, 8, 106, 107, 0, 0, 0, 0, 0, 0, 0, 0, 1, -1, 0],\n",
        "[110, 107, 108, 0, 0, 0, 0, 0, 0, 0, 0, 0, 0, 0, 1, -1]])\n",
        "\n",
        "n = len(c)\n",
        "x = cp.Variable(n)\n",
        "\n",
        "objective = cp.Minimize(c.T @ x )\n",
        "constraints = [A @ x >=b,x>=0] \n",
        "prob = cp.Problem(objective, constraints)"
      ],
      "metadata": {
        "id": "5_ACcJxkB2Rw"
      },
      "execution_count": 31,
      "outputs": []
    },
    {
      "cell_type": "markdown",
      "source": [
        "#### Valor Objetivo Óptimo"
      ],
      "metadata": {
        "id": "aVgIYlbACZNX"
      }
    },
    {
      "cell_type": "code",
      "source": [
        "result = prob.solve()"
      ],
      "metadata": {
        "id": "Qd-SdkSRCUfW"
      },
      "execution_count": 32,
      "outputs": []
    },
    {
      "cell_type": "markdown",
      "source": [
        "#### Solución "
      ],
      "metadata": {
        "id": "joK03P8UCcW8"
      }
    },
    {
      "cell_type": "code",
      "source": [
        "sol=round(pd.DataFrame(x.value),6)\n",
        "sol"
      ],
      "metadata": {
        "colab": {
          "base_uri": "https://localhost:8080/",
          "height": 0
        },
        "id": "wjkyO-eACdJZ",
        "outputId": "6f510a20-513d-42fa-9ebc-f727e456a151"
      },
      "execution_count": 33,
      "outputs": [
        {
          "output_type": "execute_result",
          "data": {
            "text/plain": [
              "            0\n",
              "0    0.000000\n",
              "1   11.214953\n",
              "2    0.000000\n",
              "3    6.633845\n",
              "4    0.000001\n",
              "5    0.000000\n",
              "6    0.000000\n",
              "7    6.008683\n",
              "8    0.000000\n",
              "9    0.000000\n",
              "10  66.377215\n",
              "11  32.754430\n",
              "12   0.000001\n",
              "13  18.307746\n",
              "14   0.000002\n",
              "15   0.000000"
            ],
            "text/html": [
              "\n",
              "  <div id=\"df-ac56fc56-d1bb-4a46-9bb2-7c4b8c58e9d8\">\n",
              "    <div class=\"colab-df-container\">\n",
              "      <div>\n",
              "<style scoped>\n",
              "    .dataframe tbody tr th:only-of-type {\n",
              "        vertical-align: middle;\n",
              "    }\n",
              "\n",
              "    .dataframe tbody tr th {\n",
              "        vertical-align: top;\n",
              "    }\n",
              "\n",
              "    .dataframe thead th {\n",
              "        text-align: right;\n",
              "    }\n",
              "</style>\n",
              "<table border=\"1\" class=\"dataframe\">\n",
              "  <thead>\n",
              "    <tr style=\"text-align: right;\">\n",
              "      <th></th>\n",
              "      <th>0</th>\n",
              "    </tr>\n",
              "  </thead>\n",
              "  <tbody>\n",
              "    <tr>\n",
              "      <th>0</th>\n",
              "      <td>0.000000</td>\n",
              "    </tr>\n",
              "    <tr>\n",
              "      <th>1</th>\n",
              "      <td>11.214953</td>\n",
              "    </tr>\n",
              "    <tr>\n",
              "      <th>2</th>\n",
              "      <td>0.000000</td>\n",
              "    </tr>\n",
              "    <tr>\n",
              "      <th>3</th>\n",
              "      <td>6.633845</td>\n",
              "    </tr>\n",
              "    <tr>\n",
              "      <th>4</th>\n",
              "      <td>0.000001</td>\n",
              "    </tr>\n",
              "    <tr>\n",
              "      <th>5</th>\n",
              "      <td>0.000000</td>\n",
              "    </tr>\n",
              "    <tr>\n",
              "      <th>6</th>\n",
              "      <td>0.000000</td>\n",
              "    </tr>\n",
              "    <tr>\n",
              "      <th>7</th>\n",
              "      <td>6.008683</td>\n",
              "    </tr>\n",
              "    <tr>\n",
              "      <th>8</th>\n",
              "      <td>0.000000</td>\n",
              "    </tr>\n",
              "    <tr>\n",
              "      <th>9</th>\n",
              "      <td>0.000000</td>\n",
              "    </tr>\n",
              "    <tr>\n",
              "      <th>10</th>\n",
              "      <td>66.377215</td>\n",
              "    </tr>\n",
              "    <tr>\n",
              "      <th>11</th>\n",
              "      <td>32.754430</td>\n",
              "    </tr>\n",
              "    <tr>\n",
              "      <th>12</th>\n",
              "      <td>0.000001</td>\n",
              "    </tr>\n",
              "    <tr>\n",
              "      <th>13</th>\n",
              "      <td>18.307746</td>\n",
              "    </tr>\n",
              "    <tr>\n",
              "      <th>14</th>\n",
              "      <td>0.000002</td>\n",
              "    </tr>\n",
              "    <tr>\n",
              "      <th>15</th>\n",
              "      <td>0.000000</td>\n",
              "    </tr>\n",
              "  </tbody>\n",
              "</table>\n",
              "</div>\n",
              "      <button class=\"colab-df-convert\" onclick=\"convertToInteractive('df-ac56fc56-d1bb-4a46-9bb2-7c4b8c58e9d8')\"\n",
              "              title=\"Convert this dataframe to an interactive table.\"\n",
              "              style=\"display:none;\">\n",
              "        \n",
              "  <svg xmlns=\"http://www.w3.org/2000/svg\" height=\"24px\"viewBox=\"0 0 24 24\"\n",
              "       width=\"24px\">\n",
              "    <path d=\"M0 0h24v24H0V0z\" fill=\"none\"/>\n",
              "    <path d=\"M18.56 5.44l.94 2.06.94-2.06 2.06-.94-2.06-.94-.94-2.06-.94 2.06-2.06.94zm-11 1L8.5 8.5l.94-2.06 2.06-.94-2.06-.94L8.5 2.5l-.94 2.06-2.06.94zm10 10l.94 2.06.94-2.06 2.06-.94-2.06-.94-.94-2.06-.94 2.06-2.06.94z\"/><path d=\"M17.41 7.96l-1.37-1.37c-.4-.4-.92-.59-1.43-.59-.52 0-1.04.2-1.43.59L10.3 9.45l-7.72 7.72c-.78.78-.78 2.05 0 2.83L4 21.41c.39.39.9.59 1.41.59.51 0 1.02-.2 1.41-.59l7.78-7.78 2.81-2.81c.8-.78.8-2.07 0-2.86zM5.41 20L4 18.59l7.72-7.72 1.47 1.35L5.41 20z\"/>\n",
              "  </svg>\n",
              "      </button>\n",
              "      \n",
              "  <style>\n",
              "    .colab-df-container {\n",
              "      display:flex;\n",
              "      flex-wrap:wrap;\n",
              "      gap: 12px;\n",
              "    }\n",
              "\n",
              "    .colab-df-convert {\n",
              "      background-color: #E8F0FE;\n",
              "      border: none;\n",
              "      border-radius: 50%;\n",
              "      cursor: pointer;\n",
              "      display: none;\n",
              "      fill: #1967D2;\n",
              "      height: 32px;\n",
              "      padding: 0 0 0 0;\n",
              "      width: 32px;\n",
              "    }\n",
              "\n",
              "    .colab-df-convert:hover {\n",
              "      background-color: #E2EBFA;\n",
              "      box-shadow: 0px 1px 2px rgba(60, 64, 67, 0.3), 0px 1px 3px 1px rgba(60, 64, 67, 0.15);\n",
              "      fill: #174EA6;\n",
              "    }\n",
              "\n",
              "    [theme=dark] .colab-df-convert {\n",
              "      background-color: #3B4455;\n",
              "      fill: #D2E3FC;\n",
              "    }\n",
              "\n",
              "    [theme=dark] .colab-df-convert:hover {\n",
              "      background-color: #434B5C;\n",
              "      box-shadow: 0px 1px 3px 1px rgba(0, 0, 0, 0.15);\n",
              "      filter: drop-shadow(0px 1px 2px rgba(0, 0, 0, 0.3));\n",
              "      fill: #FFFFFF;\n",
              "    }\n",
              "  </style>\n",
              "\n",
              "      <script>\n",
              "        const buttonEl =\n",
              "          document.querySelector('#df-ac56fc56-d1bb-4a46-9bb2-7c4b8c58e9d8 button.colab-df-convert');\n",
              "        buttonEl.style.display =\n",
              "          google.colab.kernel.accessAllowed ? 'block' : 'none';\n",
              "\n",
              "        async function convertToInteractive(key) {\n",
              "          const element = document.querySelector('#df-ac56fc56-d1bb-4a46-9bb2-7c4b8c58e9d8');\n",
              "          const dataTable =\n",
              "            await google.colab.kernel.invokeFunction('convertToInteractive',\n",
              "                                                     [key], {});\n",
              "          if (!dataTable) return;\n",
              "\n",
              "          const docLinkHtml = 'Like what you see? Visit the ' +\n",
              "            '<a target=\"_blank\" href=https://colab.research.google.com/notebooks/data_table.ipynb>data table notebook</a>'\n",
              "            + ' to learn more about interactive tables.';\n",
              "          element.innerHTML = '';\n",
              "          dataTable['output_type'] = 'display_data';\n",
              "          await google.colab.output.renderOutput(dataTable, element);\n",
              "          const docLink = document.createElement('div');\n",
              "          docLink.innerHTML = docLinkHtml;\n",
              "          element.appendChild(docLink);\n",
              "        }\n",
              "      </script>\n",
              "    </div>\n",
              "  </div>\n",
              "  "
            ]
          },
          "metadata": {},
          "execution_count": 33
        }
      ]
    },
    {
      "cell_type": "markdown",
      "source": [
        "El flujo de pasivos equivale a una suma global de efectivo hoy igual a su valor actual, obtenido descontando las obligaciones futuras. En este caso, para que el fondo de pensiones pueda conseguir los flujos de efectivo suficientes para cubrir los requerimientos de algunos de los pasivos de los próximos 6 años es necesario hallar un portafolio óptimo. Por lo tanto, podemos observar los valores a invertir en los bonos del gobierno:\n",
        "\n",
        "* **Bono 2:** para este bono se deben invertir 11.2149\n",
        "* **Bono 4:** para este bono se deben invertir 6.6338\n",
        "* **Bono 8:** para este bono se deben invertir 6.0086\n",
        "\n",
        "La inversión en estos 10 bonos generá un costo de 2.381,13; el objetivo es minimizar el valor a invertir, ya que entre menor sea el valor del costo es mejor para el fondo. No obstante, este costo que tiene que asumir el fondo de pensiones es alto. Por otro lado, se puede observar que:\n",
        "* Para el primer año el fondo obtuvo un excendente de efectivo de 66.3772, el cual se puede tranferir de este año al segundo año sin generar intereses. \n",
        "* Para el segundo año el fondo tuvo un excedente de efectivo de 32.7544. No obstante, para el año tres no existió un exdente de efectivo, pero el cuarto año el fondo de pensiones si obtuvo un excedente de 18.3077.\n",
        "\n",
        "Por último, el anterior portafolio se puede confirmar con el archivo de excel realizado. \n",
        " \n",
        "\n",
        "\n"
      ],
      "metadata": {
        "id": "t5NbgU_Nt53d"
      }
    }
  ]
}