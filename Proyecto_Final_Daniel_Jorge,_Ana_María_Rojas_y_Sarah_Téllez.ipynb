{
  "nbformat": 4,
  "nbformat_minor": 0,
  "metadata": {
    "colab": {
      "provenance": [],
      "collapsed_sections": [
        "W-tq8qq4QtuX",
        "6KGLmaX3c1R5",
        "kzBAvkGrdK1C",
        "XDA9tMMDdfze",
        "JS8rEVrTd4Sh",
        "_G3zkoOAfFv4",
        "wbNdWh2FK0mi",
        "5X6t27H_LPGk",
        "N4QOoI95eSHG",
        "bHWbiREMrOJx",
        "r2E3mw4rN_Jm"
      ],
      "include_colab_link": true
    },
    "kernelspec": {
      "name": "python3",
      "display_name": "Python 3"
    },
    "language_info": {
      "name": "python"
    }
  },
  "cells": [
    {
      "cell_type": "markdown",
      "metadata": {
        "id": "view-in-github",
        "colab_type": "text"
      },
      "source": [
        "<a href=\"https://colab.research.google.com/github/anamaria1-4/GitHub-Finanzas_-Computacionales/blob/main/Proyecto_Final_Daniel_Jorge%2C_Ana_Mar%C3%ADa_Rojas_y_Sarah_T%C3%A9llez.ipynb\" target=\"_parent\"><img src=\"https://colab.research.google.com/assets/colab-badge.svg\" alt=\"Open In Colab\"/></a>"
      ]
    },
    {
      "cell_type": "markdown",
      "source": [
        "<img src=\"https://www.uexternado.edu.co/wp-content/uploads/2020/07/logo-uec.png\" width=\"180\" height=\"80\"> \n",
        "\n",
        "<center>\n",
        "\n",
        "<br><br>\n",
        "\n",
        "<b>Proyecto Final</b>\n",
        "<div style=\"font-size:175%;color:write; background-color: #0064b0;\">Pregrado en Finanzas y Relaciones Internacionales</div>\n",
        "<div style=\"font-size:175%;color:white; background-color: #0064b0;\">Finanzas Computacionales</div>\n",
        "<div style=\"font-size:175%;color:white; background-color: #0064b0;\">Profesor: Carlos Andrés Zapata Quimbayo</div>\n",
        "<div style=\"font-size:250%;color:white; background-color: #0064b0;\">Estudiantes: Daniel Steven Jorge Cardona, Ana María Rojas Giraldo y Sarah Stephania Téllez Barbosa</div>\n",
        "<div style=\"font-size:175%;color:white; background-color: #0064b0;\">2022</div> \n",
        "</center>"
      ],
      "metadata": {
        "id": "ohXBdEWl8mcT"
      }
    },
    {
      "cell_type": "markdown",
      "metadata": {
        "id": "W-tq8qq4QtuX"
      },
      "source": [
        "#### Se importan las librerias necesarias."
      ]
    },
    {
      "cell_type": "code",
      "execution_count": 2,
      "metadata": {
        "id": "jLKqzhTOez28",
        "colab": {
          "base_uri": "https://localhost:8080/"
        },
        "outputId": "f9a470c1-f71e-436e-c64e-bd5a6e19a6b6"
      },
      "outputs": [
        {
          "output_type": "stream",
          "name": "stdout",
          "text": [
            "  Building wheel for fitter (setup.py) ... \u001b[?25l\u001b[?25hdone\n"
          ]
        }
      ],
      "source": [
        "import pandas as pd\n",
        "import numpy as np\n",
        "import matplotlib.pyplot as plt\n",
        "import warnings\n",
        "import datetime as dt\n",
        "import time\n",
        "warnings.filterwarnings('ignore')\n",
        "!pip install --quiet fitter\n",
        "from fitter import Fitter, get_common_distributions, get_distributions\n",
        "import statsmodels.api as sm\n",
        "from statsmodels.tsa.api import acf, pacf, graphics\n",
        "from statsmodels.graphics.tsaplots import plot_acf\n",
        "from statsmodels.tsa.stattools import adfuller\n",
        "from statsmodels.tsa.arima.model import ARIMA\n",
        "import warnings\n",
        "warnings.filterwarnings('ignore')"
      ]
    },
    {
      "cell_type": "markdown",
      "source": [
        "## PRONÓSTICO PRECIOS DEL DÓLAR "
      ],
      "metadata": {
        "id": "A-P7X40le4SN"
      }
    },
    {
      "cell_type": "markdown",
      "source": [
        "###Pronóstico de la Tasa Representativa del Mercado para el 4 de Noviembre de 2022"
      ],
      "metadata": {
        "id": "wXOHw1Dk_1S9"
      }
    },
    {
      "cell_type": "markdown",
      "source": [
        "#### Se importa la base de datos históricos de la Tasa Representativa del Mercado hasta el mes de Octubre del 2022"
      ],
      "metadata": {
        "id": "-D_7ct0r9rHt"
      }
    },
    {
      "cell_type": "code",
      "source": [
        "TRM_Oct=pd.read_excel(\"TRM-Octubre.xlsx\",parse_dates=True, \n",
        "                 index_col=\"Fecha (dd/mm/aaaa)\")\n",
        "TRM_Oct"
      ],
      "metadata": {
        "id": "JBN8tHAdcSop",
        "colab": {
          "base_uri": "https://localhost:8080/",
          "height": 0
        },
        "outputId": "bb4fbcad-53fc-43f1-a1cc-1ddcb087b130"
      },
      "execution_count": 3,
      "outputs": [
        {
          "output_type": "execute_result",
          "data": {
            "text/plain": [
              "                    TRM (COP/USD)\n",
              "Fecha (dd/mm/aaaa)               \n",
              "2017-11-04                3055.57\n",
              "2017-11-05                3055.57\n",
              "2017-11-06                3055.57\n",
              "2017-11-07                3055.57\n",
              "2017-11-08                3026.94\n",
              "...                           ...\n",
              "2022-09-30                4532.07\n",
              "2022-10-01                4590.54\n",
              "2022-10-02                4590.54\n",
              "2022-10-03                4590.54\n",
              "2022-10-04                4545.66\n",
              "\n",
              "[1796 rows x 1 columns]"
            ],
            "text/html": [
              "\n",
              "  <div id=\"df-dc1ccee4-c908-4887-8cba-9f9cc6529ed2\">\n",
              "    <div class=\"colab-df-container\">\n",
              "      <div>\n",
              "<style scoped>\n",
              "    .dataframe tbody tr th:only-of-type {\n",
              "        vertical-align: middle;\n",
              "    }\n",
              "\n",
              "    .dataframe tbody tr th {\n",
              "        vertical-align: top;\n",
              "    }\n",
              "\n",
              "    .dataframe thead th {\n",
              "        text-align: right;\n",
              "    }\n",
              "</style>\n",
              "<table border=\"1\" class=\"dataframe\">\n",
              "  <thead>\n",
              "    <tr style=\"text-align: right;\">\n",
              "      <th></th>\n",
              "      <th>TRM (COP/USD)</th>\n",
              "    </tr>\n",
              "    <tr>\n",
              "      <th>Fecha (dd/mm/aaaa)</th>\n",
              "      <th></th>\n",
              "    </tr>\n",
              "  </thead>\n",
              "  <tbody>\n",
              "    <tr>\n",
              "      <th>2017-11-04</th>\n",
              "      <td>3055.57</td>\n",
              "    </tr>\n",
              "    <tr>\n",
              "      <th>2017-11-05</th>\n",
              "      <td>3055.57</td>\n",
              "    </tr>\n",
              "    <tr>\n",
              "      <th>2017-11-06</th>\n",
              "      <td>3055.57</td>\n",
              "    </tr>\n",
              "    <tr>\n",
              "      <th>2017-11-07</th>\n",
              "      <td>3055.57</td>\n",
              "    </tr>\n",
              "    <tr>\n",
              "      <th>2017-11-08</th>\n",
              "      <td>3026.94</td>\n",
              "    </tr>\n",
              "    <tr>\n",
              "      <th>...</th>\n",
              "      <td>...</td>\n",
              "    </tr>\n",
              "    <tr>\n",
              "      <th>2022-09-30</th>\n",
              "      <td>4532.07</td>\n",
              "    </tr>\n",
              "    <tr>\n",
              "      <th>2022-10-01</th>\n",
              "      <td>4590.54</td>\n",
              "    </tr>\n",
              "    <tr>\n",
              "      <th>2022-10-02</th>\n",
              "      <td>4590.54</td>\n",
              "    </tr>\n",
              "    <tr>\n",
              "      <th>2022-10-03</th>\n",
              "      <td>4590.54</td>\n",
              "    </tr>\n",
              "    <tr>\n",
              "      <th>2022-10-04</th>\n",
              "      <td>4545.66</td>\n",
              "    </tr>\n",
              "  </tbody>\n",
              "</table>\n",
              "<p>1796 rows × 1 columns</p>\n",
              "</div>\n",
              "      <button class=\"colab-df-convert\" onclick=\"convertToInteractive('df-dc1ccee4-c908-4887-8cba-9f9cc6529ed2')\"\n",
              "              title=\"Convert this dataframe to an interactive table.\"\n",
              "              style=\"display:none;\">\n",
              "        \n",
              "  <svg xmlns=\"http://www.w3.org/2000/svg\" height=\"24px\"viewBox=\"0 0 24 24\"\n",
              "       width=\"24px\">\n",
              "    <path d=\"M0 0h24v24H0V0z\" fill=\"none\"/>\n",
              "    <path d=\"M18.56 5.44l.94 2.06.94-2.06 2.06-.94-2.06-.94-.94-2.06-.94 2.06-2.06.94zm-11 1L8.5 8.5l.94-2.06 2.06-.94-2.06-.94L8.5 2.5l-.94 2.06-2.06.94zm10 10l.94 2.06.94-2.06 2.06-.94-2.06-.94-.94-2.06-.94 2.06-2.06.94z\"/><path d=\"M17.41 7.96l-1.37-1.37c-.4-.4-.92-.59-1.43-.59-.52 0-1.04.2-1.43.59L10.3 9.45l-7.72 7.72c-.78.78-.78 2.05 0 2.83L4 21.41c.39.39.9.59 1.41.59.51 0 1.02-.2 1.41-.59l7.78-7.78 2.81-2.81c.8-.78.8-2.07 0-2.86zM5.41 20L4 18.59l7.72-7.72 1.47 1.35L5.41 20z\"/>\n",
              "  </svg>\n",
              "      </button>\n",
              "      \n",
              "  <style>\n",
              "    .colab-df-container {\n",
              "      display:flex;\n",
              "      flex-wrap:wrap;\n",
              "      gap: 12px;\n",
              "    }\n",
              "\n",
              "    .colab-df-convert {\n",
              "      background-color: #E8F0FE;\n",
              "      border: none;\n",
              "      border-radius: 50%;\n",
              "      cursor: pointer;\n",
              "      display: none;\n",
              "      fill: #1967D2;\n",
              "      height: 32px;\n",
              "      padding: 0 0 0 0;\n",
              "      width: 32px;\n",
              "    }\n",
              "\n",
              "    .colab-df-convert:hover {\n",
              "      background-color: #E2EBFA;\n",
              "      box-shadow: 0px 1px 2px rgba(60, 64, 67, 0.3), 0px 1px 3px 1px rgba(60, 64, 67, 0.15);\n",
              "      fill: #174EA6;\n",
              "    }\n",
              "\n",
              "    [theme=dark] .colab-df-convert {\n",
              "      background-color: #3B4455;\n",
              "      fill: #D2E3FC;\n",
              "    }\n",
              "\n",
              "    [theme=dark] .colab-df-convert:hover {\n",
              "      background-color: #434B5C;\n",
              "      box-shadow: 0px 1px 3px 1px rgba(0, 0, 0, 0.15);\n",
              "      filter: drop-shadow(0px 1px 2px rgba(0, 0, 0, 0.3));\n",
              "      fill: #FFFFFF;\n",
              "    }\n",
              "  </style>\n",
              "\n",
              "      <script>\n",
              "        const buttonEl =\n",
              "          document.querySelector('#df-dc1ccee4-c908-4887-8cba-9f9cc6529ed2 button.colab-df-convert');\n",
              "        buttonEl.style.display =\n",
              "          google.colab.kernel.accessAllowed ? 'block' : 'none';\n",
              "\n",
              "        async function convertToInteractive(key) {\n",
              "          const element = document.querySelector('#df-dc1ccee4-c908-4887-8cba-9f9cc6529ed2');\n",
              "          const dataTable =\n",
              "            await google.colab.kernel.invokeFunction('convertToInteractive',\n",
              "                                                     [key], {});\n",
              "          if (!dataTable) return;\n",
              "\n",
              "          const docLinkHtml = 'Like what you see? Visit the ' +\n",
              "            '<a target=\"_blank\" href=https://colab.research.google.com/notebooks/data_table.ipynb>data table notebook</a>'\n",
              "            + ' to learn more about interactive tables.';\n",
              "          element.innerHTML = '';\n",
              "          dataTable['output_type'] = 'display_data';\n",
              "          await google.colab.output.renderOutput(dataTable, element);\n",
              "          const docLink = document.createElement('div');\n",
              "          docLink.innerHTML = docLinkHtml;\n",
              "          element.appendChild(docLink);\n",
              "        }\n",
              "      </script>\n",
              "    </div>\n",
              "  </div>\n",
              "  "
            ]
          },
          "metadata": {},
          "execution_count": 3
        }
      ]
    },
    {
      "cell_type": "markdown",
      "source": [
        "#### Descripción de los datos "
      ],
      "metadata": {
        "id": "UmDR8s82gXBK"
      }
    },
    {
      "cell_type": "code",
      "source": [
        "TRM_Oct.describe()"
      ],
      "metadata": {
        "id": "896IQh16g38b",
        "colab": {
          "base_uri": "https://localhost:8080/",
          "height": 300
        },
        "outputId": "e053c7cf-b48d-40e3-969c-c3e973130a07"
      },
      "execution_count": 7,
      "outputs": [
        {
          "output_type": "execute_result",
          "data": {
            "text/plain": [
              "       TRM (COP/USD)\n",
              "count    1796.000000\n",
              "mean     3506.654961\n",
              "std       423.493506\n",
              "min      2705.340000\n",
              "25%      3160.480000\n",
              "50%      3515.650000\n",
              "75%      3826.860000\n",
              "max      4627.460000"
            ],
            "text/html": [
              "\n",
              "  <div id=\"df-615562fb-c287-468f-8e19-4bd31e9f38e1\">\n",
              "    <div class=\"colab-df-container\">\n",
              "      <div>\n",
              "<style scoped>\n",
              "    .dataframe tbody tr th:only-of-type {\n",
              "        vertical-align: middle;\n",
              "    }\n",
              "\n",
              "    .dataframe tbody tr th {\n",
              "        vertical-align: top;\n",
              "    }\n",
              "\n",
              "    .dataframe thead th {\n",
              "        text-align: right;\n",
              "    }\n",
              "</style>\n",
              "<table border=\"1\" class=\"dataframe\">\n",
              "  <thead>\n",
              "    <tr style=\"text-align: right;\">\n",
              "      <th></th>\n",
              "      <th>TRM (COP/USD)</th>\n",
              "    </tr>\n",
              "  </thead>\n",
              "  <tbody>\n",
              "    <tr>\n",
              "      <th>count</th>\n",
              "      <td>1796.000000</td>\n",
              "    </tr>\n",
              "    <tr>\n",
              "      <th>mean</th>\n",
              "      <td>3506.654961</td>\n",
              "    </tr>\n",
              "    <tr>\n",
              "      <th>std</th>\n",
              "      <td>423.493506</td>\n",
              "    </tr>\n",
              "    <tr>\n",
              "      <th>min</th>\n",
              "      <td>2705.340000</td>\n",
              "    </tr>\n",
              "    <tr>\n",
              "      <th>25%</th>\n",
              "      <td>3160.480000</td>\n",
              "    </tr>\n",
              "    <tr>\n",
              "      <th>50%</th>\n",
              "      <td>3515.650000</td>\n",
              "    </tr>\n",
              "    <tr>\n",
              "      <th>75%</th>\n",
              "      <td>3826.860000</td>\n",
              "    </tr>\n",
              "    <tr>\n",
              "      <th>max</th>\n",
              "      <td>4627.460000</td>\n",
              "    </tr>\n",
              "  </tbody>\n",
              "</table>\n",
              "</div>\n",
              "      <button class=\"colab-df-convert\" onclick=\"convertToInteractive('df-615562fb-c287-468f-8e19-4bd31e9f38e1')\"\n",
              "              title=\"Convert this dataframe to an interactive table.\"\n",
              "              style=\"display:none;\">\n",
              "        \n",
              "  <svg xmlns=\"http://www.w3.org/2000/svg\" height=\"24px\"viewBox=\"0 0 24 24\"\n",
              "       width=\"24px\">\n",
              "    <path d=\"M0 0h24v24H0V0z\" fill=\"none\"/>\n",
              "    <path d=\"M18.56 5.44l.94 2.06.94-2.06 2.06-.94-2.06-.94-.94-2.06-.94 2.06-2.06.94zm-11 1L8.5 8.5l.94-2.06 2.06-.94-2.06-.94L8.5 2.5l-.94 2.06-2.06.94zm10 10l.94 2.06.94-2.06 2.06-.94-2.06-.94-.94-2.06-.94 2.06-2.06.94z\"/><path d=\"M17.41 7.96l-1.37-1.37c-.4-.4-.92-.59-1.43-.59-.52 0-1.04.2-1.43.59L10.3 9.45l-7.72 7.72c-.78.78-.78 2.05 0 2.83L4 21.41c.39.39.9.59 1.41.59.51 0 1.02-.2 1.41-.59l7.78-7.78 2.81-2.81c.8-.78.8-2.07 0-2.86zM5.41 20L4 18.59l7.72-7.72 1.47 1.35L5.41 20z\"/>\n",
              "  </svg>\n",
              "      </button>\n",
              "      \n",
              "  <style>\n",
              "    .colab-df-container {\n",
              "      display:flex;\n",
              "      flex-wrap:wrap;\n",
              "      gap: 12px;\n",
              "    }\n",
              "\n",
              "    .colab-df-convert {\n",
              "      background-color: #E8F0FE;\n",
              "      border: none;\n",
              "      border-radius: 50%;\n",
              "      cursor: pointer;\n",
              "      display: none;\n",
              "      fill: #1967D2;\n",
              "      height: 32px;\n",
              "      padding: 0 0 0 0;\n",
              "      width: 32px;\n",
              "    }\n",
              "\n",
              "    .colab-df-convert:hover {\n",
              "      background-color: #E2EBFA;\n",
              "      box-shadow: 0px 1px 2px rgba(60, 64, 67, 0.3), 0px 1px 3px 1px rgba(60, 64, 67, 0.15);\n",
              "      fill: #174EA6;\n",
              "    }\n",
              "\n",
              "    [theme=dark] .colab-df-convert {\n",
              "      background-color: #3B4455;\n",
              "      fill: #D2E3FC;\n",
              "    }\n",
              "\n",
              "    [theme=dark] .colab-df-convert:hover {\n",
              "      background-color: #434B5C;\n",
              "      box-shadow: 0px 1px 3px 1px rgba(0, 0, 0, 0.15);\n",
              "      filter: drop-shadow(0px 1px 2px rgba(0, 0, 0, 0.3));\n",
              "      fill: #FFFFFF;\n",
              "    }\n",
              "  </style>\n",
              "\n",
              "      <script>\n",
              "        const buttonEl =\n",
              "          document.querySelector('#df-615562fb-c287-468f-8e19-4bd31e9f38e1 button.colab-df-convert');\n",
              "        buttonEl.style.display =\n",
              "          google.colab.kernel.accessAllowed ? 'block' : 'none';\n",
              "\n",
              "        async function convertToInteractive(key) {\n",
              "          const element = document.querySelector('#df-615562fb-c287-468f-8e19-4bd31e9f38e1');\n",
              "          const dataTable =\n",
              "            await google.colab.kernel.invokeFunction('convertToInteractive',\n",
              "                                                     [key], {});\n",
              "          if (!dataTable) return;\n",
              "\n",
              "          const docLinkHtml = 'Like what you see? Visit the ' +\n",
              "            '<a target=\"_blank\" href=https://colab.research.google.com/notebooks/data_table.ipynb>data table notebook</a>'\n",
              "            + ' to learn more about interactive tables.';\n",
              "          element.innerHTML = '';\n",
              "          dataTable['output_type'] = 'display_data';\n",
              "          await google.colab.output.renderOutput(dataTable, element);\n",
              "          const docLink = document.createElement('div');\n",
              "          docLink.innerHTML = docLinkHtml;\n",
              "          element.appendChild(docLink);\n",
              "        }\n",
              "      </script>\n",
              "    </div>\n",
              "  </div>\n",
              "  "
            ]
          },
          "metadata": {},
          "execution_count": 7
        }
      ]
    },
    {
      "cell_type": "markdown",
      "source": [
        "Se tienen en total 1.796 datos históricos tomados desde el 2017 hasta octubre del año 2022. El precio promedio de la TRM en los últimos 5 años ha sido de 3.507 pesos, aproximadamente. Por otro lado, se observa que el precio de la TRM tiene una desviación estandar de 423,49 pesos, es decir, este valor indica qe tan dispersos estan los precios alrededor de la media. Por último, con respecto al precio mínimo que ha tenido la TRM en los últimos años y el mayor precio alcanzado, se determina que ha tenido una variación de 71,04% aproximadamente en los años analizados. "
      ],
      "metadata": {
        "id": "DgzJWyH7ePTZ"
      }
    },
    {
      "cell_type": "markdown",
      "source": [
        "##### Kurtosis y Asimestría"
      ],
      "metadata": {
        "id": "wGqFhdfoi0rX"
      }
    },
    {
      "cell_type": "code",
      "source": [
        "datos= TRM_Oct['TRM (COP/USD)']\n",
        "from scipy.stats import kurtosis, skew\n",
        "kurtosis(datos), skew(datos)"
      ],
      "metadata": {
        "colab": {
          "base_uri": "https://localhost:8080/"
        },
        "id": "Vh-StgeIiLiz",
        "outputId": "752e076d-25aa-42c7-800b-9d2cedcd6c29"
      },
      "execution_count": 8,
      "outputs": [
        {
          "output_type": "execute_result",
          "data": {
            "text/plain": [
              "(-0.7483804623942576, 0.11058424413932479)"
            ]
          },
          "metadata": {},
          "execution_count": 8
        }
      ]
    },
    {
      "cell_type": "code",
      "source": [
        "TRM_Oct.hist();"
      ],
      "metadata": {
        "colab": {
          "base_uri": "https://localhost:8080/",
          "height": 281
        },
        "id": "3ez9SC-SOqwL",
        "outputId": "76918d7e-c49e-4214-a4f6-0215574831c2"
      },
      "execution_count": 11,
      "outputs": [
        {
          "output_type": "display_data",
          "data": {
            "text/plain": [
              "<Figure size 432x288 with 1 Axes>"
            ],
            "image/png": "[encoded data removed]"
          },
          "metadata": {
            "needs_background": "light"
          }
        }
      ]
    },
    {
      "cell_type": "markdown",
      "source": [
        "* Curtosis: Para la distribución normal estándar se menciona que la curtosis es exactamente igual a 0. No obstante, se puede observar que, la distribución de frecuencia de la TRM, no pertenence a una distribución normal ya que su curtosis no es 0. Las distribución de frecuencia se encuentra clasificada dentro de platicúrtica, es decir, los precios de la TRM están menos concentradas alrededor de la media y conforman una distribución mucho más aplanada que la normal.\n",
        "\n",
        "* Asimetría: Al presentar una asimestría positiva de 0.11 se puede determinar que los datos tienen una distribución sesgada hacia el lado postivo de la gráfica. Es decir, se presenta una forma más escorada hacia la izquierda. "
      ],
      "metadata": {
        "id": "5MEZLgeKpZuS"
      }
    },
    {
      "cell_type": "markdown",
      "source": [
        "#### Se realiza el calculo de los retornos logarítmicos de la serie histórica de los datos."
      ],
      "metadata": {
        "id": "NwYaCBnpAKDh"
      }
    },
    {
      "cell_type": "code",
      "source": [
        "retornos_oct=np.log(TRM_Oct/TRM_Oct.shift()).dropna()\n",
        "retornos_oct "
      ],
      "metadata": {
        "id": "dGAI2B1qn9PP",
        "colab": {
          "base_uri": "https://localhost:8080/",
          "height": 0
        },
        "outputId": "ec753cb9-43b8-439e-e2cb-d5ca73813c43"
      },
      "execution_count": 12,
      "outputs": [
        {
          "output_type": "execute_result",
          "data": {
            "text/plain": [
              "                    TRM (COP/USD)\n",
              "Fecha (dd/mm/aaaa)               \n",
              "2017-11-05               0.000000\n",
              "2017-11-06               0.000000\n",
              "2017-11-07               0.000000\n",
              "2017-11-08              -0.009414\n",
              "2017-11-09              -0.003031\n",
              "...                           ...\n",
              "2022-09-30               0.010008\n",
              "2022-10-01               0.012819\n",
              "2022-10-02               0.000000\n",
              "2022-10-03               0.000000\n",
              "2022-10-04              -0.009825\n",
              "\n",
              "[1795 rows x 1 columns]"
            ],
            "text/html": [
              "\n",
              "  <div id=\"df-ad5b3e73-4eab-4895-94d0-673b61fd9db9\">\n",
              "    <div class=\"colab-df-container\">\n",
              "      <div>\n",
              "<style scoped>\n",
              "    .dataframe tbody tr th:only-of-type {\n",
              "        vertical-align: middle;\n",
              "    }\n",
              "\n",
              "    .dataframe tbody tr th {\n",
              "        vertical-align: top;\n",
              "    }\n",
              "\n",
              "    .dataframe thead th {\n",
              "        text-align: right;\n",
              "    }\n",
              "</style>\n",
              "<table border=\"1\" class=\"dataframe\">\n",
              "  <thead>\n",
              "    <tr style=\"text-align: right;\">\n",
              "      <th></th>\n",
              "      <th>TRM (COP/USD)</th>\n",
              "    </tr>\n",
              "    <tr>\n",
              "      <th>Fecha (dd/mm/aaaa)</th>\n",
              "      <th></th>\n",
              "    </tr>\n",
              "  </thead>\n",
              "  <tbody>\n",
              "    <tr>\n",
              "      <th>2017-11-05</th>\n",
              "      <td>0.000000</td>\n",
              "    </tr>\n",
              "    <tr>\n",
              "      <th>2017-11-06</th>\n",
              "      <td>0.000000</td>\n",
              "    </tr>\n",
              "    <tr>\n",
              "      <th>2017-11-07</th>\n",
              "      <td>0.000000</td>\n",
              "    </tr>\n",
              "    <tr>\n",
              "      <th>2017-11-08</th>\n",
              "      <td>-0.009414</td>\n",
              "    </tr>\n",
              "    <tr>\n",
              "      <th>2017-11-09</th>\n",
              "      <td>-0.003031</td>\n",
              "    </tr>\n",
              "    <tr>\n",
              "      <th>...</th>\n",
              "      <td>...</td>\n",
              "    </tr>\n",
              "    <tr>\n",
              "      <th>2022-09-30</th>\n",
              "      <td>0.010008</td>\n",
              "    </tr>\n",
              "    <tr>\n",
              "      <th>2022-10-01</th>\n",
              "      <td>0.012819</td>\n",
              "    </tr>\n",
              "    <tr>\n",
              "      <th>2022-10-02</th>\n",
              "      <td>0.000000</td>\n",
              "    </tr>\n",
              "    <tr>\n",
              "      <th>2022-10-03</th>\n",
              "      <td>0.000000</td>\n",
              "    </tr>\n",
              "    <tr>\n",
              "      <th>2022-10-04</th>\n",
              "      <td>-0.009825</td>\n",
              "    </tr>\n",
              "  </tbody>\n",
              "</table>\n",
              "<p>1795 rows × 1 columns</p>\n",
              "</div>\n",
              "      <button class=\"colab-df-convert\" onclick=\"convertToInteractive('df-ad5b3e73-4eab-4895-94d0-673b61fd9db9')\"\n",
              "              title=\"Convert this dataframe to an interactive table.\"\n",
              "              style=\"display:none;\">\n",
              "        \n",
              "  <svg xmlns=\"http://www.w3.org/2000/svg\" height=\"24px\"viewBox=\"0 0 24 24\"\n",
              "       width=\"24px\">\n",
              "    <path d=\"M0 0h24v24H0V0z\" fill=\"none\"/>\n",
              "    <path d=\"M18.56 5.44l.94 2.06.94-2.06 2.06-.94-2.06-.94-.94-2.06-.94 2.06-2.06.94zm-11 1L8.5 8.5l.94-2.06 2.06-.94-2.06-.94L8.5 2.5l-.94 2.06-2.06.94zm10 10l.94 2.06.94-2.06 2.06-.94-2.06-.94-.94-2.06-.94 2.06-2.06.94z\"/><path d=\"M17.41 7.96l-1.37-1.37c-.4-.4-.92-.59-1.43-.59-.52 0-1.04.2-1.43.59L10.3 9.45l-7.72 7.72c-.78.78-.78 2.05 0 2.83L4 21.41c.39.39.9.59 1.41.59.51 0 1.02-.2 1.41-.59l7.78-7.78 2.81-2.81c.8-.78.8-2.07 0-2.86zM5.41 20L4 18.59l7.72-7.72 1.47 1.35L5.41 20z\"/>\n",
              "  </svg>\n",
              "      </button>\n",
              "      \n",
              "  <style>\n",
              "    .colab-df-container {\n",
              "      display:flex;\n",
              "      flex-wrap:wrap;\n",
              "      gap: 12px;\n",
              "    }\n",
              "\n",
              "    .colab-df-convert {\n",
              "      background-color: #E8F0FE;\n",
              "      border: none;\n",
              "      border-radius: 50%;\n",
              "      cursor: pointer;\n",
              "      display: none;\n",
              "      fill: #1967D2;\n",
              "      height: 32px;\n",
              "      padding: 0 0 0 0;\n",
              "      width: 32px;\n",
              "    }\n",
              "\n",
              "    .colab-df-convert:hover {\n",
              "      background-color: #E2EBFA;\n",
              "      box-shadow: 0px 1px 2px rgba(60, 64, 67, 0.3), 0px 1px 3px 1px rgba(60, 64, 67, 0.15);\n",
              "      fill: #174EA6;\n",
              "    }\n",
              "\n",
              "    [theme=dark] .colab-df-convert {\n",
              "      background-color: #3B4455;\n",
              "      fill: #D2E3FC;\n",
              "    }\n",
              "\n",
              "    [theme=dark] .colab-df-convert:hover {\n",
              "      background-color: #434B5C;\n",
              "      box-shadow: 0px 1px 3px 1px rgba(0, 0, 0, 0.15);\n",
              "      filter: drop-shadow(0px 1px 2px rgba(0, 0, 0, 0.3));\n",
              "      fill: #FFFFFF;\n",
              "    }\n",
              "  </style>\n",
              "\n",
              "      <script>\n",
              "        const buttonEl =\n",
              "          document.querySelector('#df-ad5b3e73-4eab-4895-94d0-673b61fd9db9 button.colab-df-convert');\n",
              "        buttonEl.style.display =\n",
              "          google.colab.kernel.accessAllowed ? 'block' : 'none';\n",
              "\n",
              "        async function convertToInteractive(key) {\n",
              "          const element = document.querySelector('#df-ad5b3e73-4eab-4895-94d0-673b61fd9db9');\n",
              "          const dataTable =\n",
              "            await google.colab.kernel.invokeFunction('convertToInteractive',\n",
              "                                                     [key], {});\n",
              "          if (!dataTable) return;\n",
              "\n",
              "          const docLinkHtml = 'Like what you see? Visit the ' +\n",
              "            '<a target=\"_blank\" href=https://colab.research.google.com/notebooks/data_table.ipynb>data table notebook</a>'\n",
              "            + ' to learn more about interactive tables.';\n",
              "          element.innerHTML = '';\n",
              "          dataTable['output_type'] = 'display_data';\n",
              "          await google.colab.output.renderOutput(dataTable, element);\n",
              "          const docLink = document.createElement('div');\n",
              "          docLink.innerHTML = docLinkHtml;\n",
              "          element.appendChild(docLink);\n",
              "        }\n",
              "      </script>\n",
              "    </div>\n",
              "  </div>\n",
              "  "
            ]
          },
          "metadata": {},
          "execution_count": 12
        }
      ]
    },
    {
      "cell_type": "code",
      "source": [
        "retornos_oct.plot();"
      ],
      "metadata": {
        "colab": {
          "base_uri": "https://localhost:8080/",
          "height": 0
        },
        "id": "gToeRI5DjzKs",
        "outputId": "4997b1cb-0759-4dc5-870f-810427560461"
      },
      "execution_count": 13,
      "outputs": [
        {
          "output_type": "display_data",
          "data": {
            "text/plain": [
              "<Figure size 432x288 with 1 Axes>"
            ],
            "image/png": "[encoded data removed]"
          },
          "metadata": {
            "needs_background": "light"
          }
        }
      ]
    },
    {
      "cell_type": "markdown",
      "source": [
        "####Función de Autocorrelación total *ACF*"
      ],
      "metadata": {
        "id": "6KGLmaX3c1R5"
      }
    },
    {
      "cell_type": "markdown",
      "metadata": {
        "id": "h6mh8rBNDdQl"
      },
      "source": [
        "* Se importan las librerias necesarias."
      ]
    },
    {
      "cell_type": "code",
      "source": [
        "from statsmodels.tsa.api import acf, pacf, graphics\n",
        "from statsmodels.graphics.tsaplots import plot_acf"
      ],
      "metadata": {
        "id": "VoU9kZ7sc5aq"
      },
      "execution_count": 14,
      "outputs": []
    },
    {
      "cell_type": "markdown",
      "source": [
        "* Gráficas de autocorrelación ACF"
      ],
      "metadata": {
        "id": "kkx6EKycDiAL"
      }
    },
    {
      "cell_type": "code",
      "source": [
        "plot_acf(TRM_Oct, lags=30)"
      ],
      "metadata": {
        "colab": {
          "base_uri": "https://localhost:8080/",
          "height": 0
        },
        "id": "uA4CE7gFDf-P",
        "outputId": "80418d95-3434-444a-84fe-e10fa23f7f72"
      },
      "execution_count": 15,
      "outputs": [
        {
          "output_type": "execute_result",
          "data": {
            "text/plain": [
              "<Figure size 432x288 with 1 Axes>"
            ],
            "image/png": "[encoded data removed]"
          },
          "metadata": {},
          "execution_count": 15
        },
        {
          "output_type": "display_data",
          "data": {
            "text/plain": [
              "<Figure size 432x288 with 1 Axes>"
            ],
            "image/png": "[encoded data removed]"
          },
          "metadata": {
            "needs_background": "light"
          }
        }
      ]
    },
    {
      "cell_type": "markdown",
      "source": [
        "***Análisis:***\n",
        "\n",
        "Se puede observar que la existencia de una correlación en los precios de la TRM, por tanto, los valores pasados influyen en los actuales. Por otra parte, se puede observar una tendencia sostenida que resulta cercana a 1, por ende, en un principio se puede concluir que la serie no es estacionaria. \n"
      ],
      "metadata": {
        "id": "sPiCFm-sk3FR"
      }
    },
    {
      "cell_type": "markdown",
      "source": [
        "####Test Dickey Fuller"
      ],
      "metadata": {
        "id": "kzBAvkGrdK1C"
      }
    },
    {
      "cell_type": "markdown",
      "metadata": {
        "id": "M0IyAjgoDsMM"
      },
      "source": [
        "* Se importan las librerias necesarias."
      ]
    },
    {
      "cell_type": "code",
      "source": [
        "import statsmodels.api as sm\n",
        "from statsmodels.tsa.api import acf, pacf, graphics\n",
        "from statsmodels.graphics.tsaplots import plot_acf\n",
        "from statsmodels.tsa.stattools import adfuller\n",
        "from statsmodels.tsa.arima.model import ARIMA"
      ],
      "metadata": {
        "id": "oXJ2s1ZLdM9c"
      },
      "execution_count": 16,
      "outputs": []
    },
    {
      "cell_type": "markdown",
      "metadata": {
        "id": "lpLzT6oLDyFS"
      },
      "source": [
        "* Se realiza el test de Dickey Fuller"
      ]
    },
    {
      "cell_type": "code",
      "source": [
        "prueba_df = adfuller(TRM_Oct)\n",
        "print(\"ADF test: %f\" % prueba_df[0])\n",
        "print(\"P-value: %f\" % prueba_df[1])\n",
        "print(\"Citical values:\")\n",
        "for key, value in prueba_df[4].items():\n",
        "  print(\"\\t%s: %f\" %(key,value))"
      ],
      "metadata": {
        "colab": {
          "base_uri": "https://localhost:8080/"
        },
        "id": "J0dELdCEdPVs",
        "outputId": "8b1e6a15-78d3-4e53-86b0-16c2fee9a076"
      },
      "execution_count": 17,
      "outputs": [
        {
          "output_type": "stream",
          "name": "stdout",
          "text": [
            "ADF test: -0.521552\n",
            "P-value: 0.887742\n",
            "Citical values:\n",
            "\t1%: -3.434021\n",
            "\t5%: -2.863161\n",
            "\t10%: -2.567633\n"
          ]
        }
      ]
    },
    {
      "cell_type": "markdown",
      "source": [
        "***Análisis:***\n",
        "\n",
        "La hipótesis nula del Test Dickery Fuller permite determinar que los datos son no estacionarios. Por lo tanto, de acuerdo a los resultados obtenidos se puede comprobar que en efecto la serie es no estacionaria. Se asume lo anterior debido a lo siguiente: \n",
        "* En primer lugar, el valor-p resulta mayor que un nivel de significancia usual del 5%, por tanto, no se rechaza la hipótesis nula. \n",
        "* En segundo lugar, se puede observar que el estadístico del Test es de -0.521552 valor que resulta mayor a los valores críticos al 1%, 5% y 10% en términos absolutos.\n",
        "\n",
        "\n"
      ],
      "metadata": {
        "id": "0iezplJMjIuf"
      }
    },
    {
      "cell_type": "markdown",
      "source": [
        "#### Primera diferencia de la de tiempo"
      ],
      "metadata": {
        "id": "XDA9tMMDdfze"
      }
    },
    {
      "cell_type": "code",
      "source": [
        "TRM_diff_oct=TRM_Oct.diff().dropna()\n",
        "TRM_diff_oct\n",
        "prueba_df = adfuller(TRM_diff_oct)\n",
        "print(\"ADF test: %f\" % prueba_df[0])\n",
        "print(\"P-value: %f\" % prueba_df[1])\n",
        "print(\"Citical values:\")\n",
        "for key, value in prueba_df[4].items():\n",
        "  print(\"\\t%s: %f\" %(key,value))"
      ],
      "metadata": {
        "colab": {
          "base_uri": "https://localhost:8080/"
        },
        "id": "7P_hyyvpdiJq",
        "outputId": "38ce64e5-9299-4a04-e749-1cbd9873299e"
      },
      "execution_count": 18,
      "outputs": [
        {
          "output_type": "stream",
          "name": "stdout",
          "text": [
            "ADF test: -12.506732\n",
            "P-value: 0.000000\n",
            "Citical values:\n",
            "\t1%: -3.434021\n",
            "\t5%: -2.863161\n",
            "\t10%: -2.567633\n"
          ]
        }
      ]
    },
    {
      "cell_type": "markdown",
      "source": [
        "***Análisis:***\n",
        "\n",
        "Se puede concluir que la serie se vuelve estacionaria en la primera diferencia, es decir, el orden de integración de la serie es 1. En efecto, se cuenta con un valor-p inferior a un nivel de significancia usual del 5%, por lo tanto, se rechaza la hipótesis nula. Además, el estadístico del Test resulta inferior a los valores críticos del 1%, 5% y 10%, por consiguiente, se concluye que la serie es estacionaria.\n"
      ],
      "metadata": {
        "id": "8JjKLV7fdwh9"
      }
    },
    {
      "cell_type": "markdown",
      "source": [
        "####Modelo ARIMA"
      ],
      "metadata": {
        "id": "JS8rEVrTd4Sh"
      }
    },
    {
      "cell_type": "code",
      "source": [
        "res_Diff_oct = sm.tsa.arma_order_select_ic(retornos_oct, ic='aic', trend=\"nc\") \n",
        "res_Diff_oct"
      ],
      "metadata": {
        "colab": {
          "base_uri": "https://localhost:8080/"
        },
        "id": "Y9ISmJCHdz0G",
        "outputId": "1294f7dd-08f6-4ef9-813b-727f74819531"
      },
      "execution_count": 19,
      "outputs": [
        {
          "output_type": "execute_result",
          "data": {
            "text/plain": [
              "{'aic':               0             1             2\n",
              " 0           NaN -12986.289831 -12984.780561\n",
              " 1 -12985.903746 -12990.555609 -12989.936488\n",
              " 2 -12984.003239 -12990.172325 -12993.529720\n",
              " 3 -12998.333212 -12996.353812 -12994.878512\n",
              " 4 -12996.346512 -12996.151921 -12994.476408, 'aic_min_order': (3, 0)}"
            ]
          },
          "metadata": {},
          "execution_count": 19
        }
      ]
    },
    {
      "cell_type": "markdown",
      "source": [
        "El modelo resulta un AR(3), es decir, el precio de la Tasa Representativa del Mercado depende del precio en 3 periodos atrás."
      ],
      "metadata": {
        "id": "6s29V-lIeCRC"
      }
    },
    {
      "cell_type": "code",
      "source": [
        "ARIMA_Oct = ARIMA(TRM_Oct[\"TRM (COP/USD)\"], order=(3, 1, 0)).fit() \n",
        "print(ARIMA_Oct.summary());"
      ],
      "metadata": {
        "colab": {
          "base_uri": "https://localhost:8080/"
        },
        "id": "ZYMGLLjLeD6J",
        "outputId": "d1de0b76-17a1-400c-aec7-8097e6bb1177"
      },
      "execution_count": 20,
      "outputs": [
        {
          "output_type": "stream",
          "name": "stdout",
          "text": [
            "                               SARIMAX Results                                \n",
            "==============================================================================\n",
            "Dep. Variable:          TRM (COP/USD)   No. Observations:                 1796\n",
            "Model:                 ARIMA(3, 1, 0)   Log Likelihood               -8247.073\n",
            "Date:                Sun, 20 Nov 2022   AIC                          16502.145\n",
            "Time:                        22:50:46   BIC                          16524.116\n",
            "Sample:                    11-04-2017   HQIC                         16510.257\n",
            "                         - 10-04-2022                                         \n",
            "Covariance Type:                  opg                                         \n",
            "==============================================================================\n",
            "                 coef    std err          z      P>|z|      [0.025      0.975]\n",
            "------------------------------------------------------------------------------\n",
            "ar.L1          0.0920      0.014      6.577      0.000       0.065       0.119\n",
            "ar.L2         -0.0190      0.018     -1.068      0.285      -0.054       0.016\n",
            "ar.L3          0.0977      0.011      8.532      0.000       0.075       0.120\n",
            "sigma2       574.0397      8.195     70.047      0.000     557.978     590.102\n",
            "===================================================================================\n",
            "Ljung-Box (L1) (Q):                   0.00   Jarque-Bera (JB):              7478.18\n",
            "Prob(Q):                              0.99   Prob(JB):                         0.00\n",
            "Heteroskedasticity (H):               3.21   Skew:                             0.90\n",
            "Prob(H) (two-sided):                  0.00   Kurtosis:                        12.84\n",
            "===================================================================================\n",
            "\n",
            "Warnings:\n",
            "[1] Covariance matrix calculated using the outer product of gradients (complex-step).\n"
          ]
        }
      ]
    },
    {
      "cell_type": "markdown",
      "source": [
        "* Se realiza la predicción del modelo ARIMA para un periodo de 22 días, es decir, se predice el precio de la TRM para el mes de Noviembre con un total de 22 datos, ya que son los los días hábiles del mes."
      ],
      "metadata": {
        "id": "6ZbW-tMTIAsp"
      }
    },
    {
      "cell_type": "code",
      "source": [
        "predict_arima_oct = ARIMA_Oct.forecast(22) \n",
        "predict_arima_oct = pd.DataFrame(predict_arima_oct.values) \n",
        "#print(predict_arima_oct.iloc[-1,:]) \n",
        "predict_arima_oct"
      ],
      "metadata": {
        "colab": {
          "base_uri": "https://localhost:8080/",
          "height": 739
        },
        "id": "-xeEtP8venhF",
        "outputId": "9be09a0c-207a-42c3-cfe0-b45fe007b244"
      },
      "execution_count": 21,
      "outputs": [
        {
          "output_type": "execute_result",
          "data": {
            "text/plain": [
              "              0\n",
              "0   4541.531920\n",
              "1   4542.004988\n",
              "2   4537.740995\n",
              "3   4536.936382\n",
              "4   4536.989625\n",
              "5   4536.593108\n",
              "6   4536.476993\n",
              "7   4536.479050\n",
              "8   4536.442695\n",
              "9   4536.427965\n",
              "10  4536.427502\n",
              "11  4536.424186\n",
              "12  4536.422451\n",
              "13  4536.422309\n",
              "14  4536.422005\n",
              "15  4536.421810\n",
              "16  4536.421784\n",
              "17  4536.421755\n",
              "18  4536.421734\n",
              "19  4536.421730\n",
              "20  4536.421727\n",
              "21  4536.421725"
            ],
            "text/html": [
              "\n",
              "  <div id=\"df-1621aae3-cac1-4f2c-9a3a-b9b7db53be92\">\n",
              "    <div class=\"colab-df-container\">\n",
              "      <div>\n",
              "<style scoped>\n",
              "    .dataframe tbody tr th:only-of-type {\n",
              "        vertical-align: middle;\n",
              "    }\n",
              "\n",
              "    .dataframe tbody tr th {\n",
              "        vertical-align: top;\n",
              "    }\n",
              "\n",
              "    .dataframe thead th {\n",
              "        text-align: right;\n",
              "    }\n",
              "</style>\n",
              "<table border=\"1\" class=\"dataframe\">\n",
              "  <thead>\n",
              "    <tr style=\"text-align: right;\">\n",
              "      <th></th>\n",
              "      <th>0</th>\n",
              "    </tr>\n",
              "  </thead>\n",
              "  <tbody>\n",
              "    <tr>\n",
              "      <th>0</th>\n",
              "      <td>4541.531920</td>\n",
              "    </tr>\n",
              "    <tr>\n",
              "      <th>1</th>\n",
              "      <td>4542.004988</td>\n",
              "    </tr>\n",
              "    <tr>\n",
              "      <th>2</th>\n",
              "      <td>4537.740995</td>\n",
              "    </tr>\n",
              "    <tr>\n",
              "      <th>3</th>\n",
              "      <td>4536.936382</td>\n",
              "    </tr>\n",
              "    <tr>\n",
              "      <th>4</th>\n",
              "      <td>4536.989625</td>\n",
              "    </tr>\n",
              "    <tr>\n",
              "      <th>5</th>\n",
              "      <td>4536.593108</td>\n",
              "    </tr>\n",
              "    <tr>\n",
              "      <th>6</th>\n",
              "      <td>4536.476993</td>\n",
              "    </tr>\n",
              "    <tr>\n",
              "      <th>7</th>\n",
              "      <td>4536.479050</td>\n",
              "    </tr>\n",
              "    <tr>\n",
              "      <th>8</th>\n",
              "      <td>4536.442695</td>\n",
              "    </tr>\n",
              "    <tr>\n",
              "      <th>9</th>\n",
              "      <td>4536.427965</td>\n",
              "    </tr>\n",
              "    <tr>\n",
              "      <th>10</th>\n",
              "      <td>4536.427502</td>\n",
              "    </tr>\n",
              "    <tr>\n",
              "      <th>11</th>\n",
              "      <td>4536.424186</td>\n",
              "    </tr>\n",
              "    <tr>\n",
              "      <th>12</th>\n",
              "      <td>4536.422451</td>\n",
              "    </tr>\n",
              "    <tr>\n",
              "      <th>13</th>\n",
              "      <td>4536.422309</td>\n",
              "    </tr>\n",
              "    <tr>\n",
              "      <th>14</th>\n",
              "      <td>4536.422005</td>\n",
              "    </tr>\n",
              "    <tr>\n",
              "      <th>15</th>\n",
              "      <td>4536.421810</td>\n",
              "    </tr>\n",
              "    <tr>\n",
              "      <th>16</th>\n",
              "      <td>4536.421784</td>\n",
              "    </tr>\n",
              "    <tr>\n",
              "      <th>17</th>\n",
              "      <td>4536.421755</td>\n",
              "    </tr>\n",
              "    <tr>\n",
              "      <th>18</th>\n",
              "      <td>4536.421734</td>\n",
              "    </tr>\n",
              "    <tr>\n",
              "      <th>19</th>\n",
              "      <td>4536.421730</td>\n",
              "    </tr>\n",
              "    <tr>\n",
              "      <th>20</th>\n",
              "      <td>4536.421727</td>\n",
              "    </tr>\n",
              "    <tr>\n",
              "      <th>21</th>\n",
              "      <td>4536.421725</td>\n",
              "    </tr>\n",
              "  </tbody>\n",
              "</table>\n",
              "</div>\n",
              "      <button class=\"colab-df-convert\" onclick=\"convertToInteractive('df-1621aae3-cac1-4f2c-9a3a-b9b7db53be92')\"\n",
              "              title=\"Convert this dataframe to an interactive table.\"\n",
              "              style=\"display:none;\">\n",
              "        \n",
              "  <svg xmlns=\"http://www.w3.org/2000/svg\" height=\"24px\"viewBox=\"0 0 24 24\"\n",
              "       width=\"24px\">\n",
              "    <path d=\"M0 0h24v24H0V0z\" fill=\"none\"/>\n",
              "    <path d=\"M18.56 5.44l.94 2.06.94-2.06 2.06-.94-2.06-.94-.94-2.06-.94 2.06-2.06.94zm-11 1L8.5 8.5l.94-2.06 2.06-.94-2.06-.94L8.5 2.5l-.94 2.06-2.06.94zm10 10l.94 2.06.94-2.06 2.06-.94-2.06-.94-.94-2.06-.94 2.06-2.06.94z\"/><path d=\"M17.41 7.96l-1.37-1.37c-.4-.4-.92-.59-1.43-.59-.52 0-1.04.2-1.43.59L10.3 9.45l-7.72 7.72c-.78.78-.78 2.05 0 2.83L4 21.41c.39.39.9.59 1.41.59.51 0 1.02-.2 1.41-.59l7.78-7.78 2.81-2.81c.8-.78.8-2.07 0-2.86zM5.41 20L4 18.59l7.72-7.72 1.47 1.35L5.41 20z\"/>\n",
              "  </svg>\n",
              "      </button>\n",
              "      \n",
              "  <style>\n",
              "    .colab-df-container {\n",
              "      display:flex;\n",
              "      flex-wrap:wrap;\n",
              "      gap: 12px;\n",
              "    }\n",
              "\n",
              "    .colab-df-convert {\n",
              "      background-color: #E8F0FE;\n",
              "      border: none;\n",
              "      border-radius: 50%;\n",
              "      cursor: pointer;\n",
              "      display: none;\n",
              "      fill: #1967D2;\n",
              "      height: 32px;\n",
              "      padding: 0 0 0 0;\n",
              "      width: 32px;\n",
              "    }\n",
              "\n",
              "    .colab-df-convert:hover {\n",
              "      background-color: #E2EBFA;\n",
              "      box-shadow: 0px 1px 2px rgba(60, 64, 67, 0.3), 0px 1px 3px 1px rgba(60, 64, 67, 0.15);\n",
              "      fill: #174EA6;\n",
              "    }\n",
              "\n",
              "    [theme=dark] .colab-df-convert {\n",
              "      background-color: #3B4455;\n",
              "      fill: #D2E3FC;\n",
              "    }\n",
              "\n",
              "    [theme=dark] .colab-df-convert:hover {\n",
              "      background-color: #434B5C;\n",
              "      box-shadow: 0px 1px 3px 1px rgba(0, 0, 0, 0.15);\n",
              "      filter: drop-shadow(0px 1px 2px rgba(0, 0, 0, 0.3));\n",
              "      fill: #FFFFFF;\n",
              "    }\n",
              "  </style>\n",
              "\n",
              "      <script>\n",
              "        const buttonEl =\n",
              "          document.querySelector('#df-1621aae3-cac1-4f2c-9a3a-b9b7db53be92 button.colab-df-convert');\n",
              "        buttonEl.style.display =\n",
              "          google.colab.kernel.accessAllowed ? 'block' : 'none';\n",
              "\n",
              "        async function convertToInteractive(key) {\n",
              "          const element = document.querySelector('#df-1621aae3-cac1-4f2c-9a3a-b9b7db53be92');\n",
              "          const dataTable =\n",
              "            await google.colab.kernel.invokeFunction('convertToInteractive',\n",
              "                                                     [key], {});\n",
              "          if (!dataTable) return;\n",
              "\n",
              "          const docLinkHtml = 'Like what you see? Visit the ' +\n",
              "            '<a target=\"_blank\" href=https://colab.research.google.com/notebooks/data_table.ipynb>data table notebook</a>'\n",
              "            + ' to learn more about interactive tables.';\n",
              "          element.innerHTML = '';\n",
              "          dataTable['output_type'] = 'display_data';\n",
              "          await google.colab.output.renderOutput(dataTable, element);\n",
              "          const docLink = document.createElement('div');\n",
              "          docLink.innerHTML = docLinkHtml;\n",
              "          element.appendChild(docLink);\n",
              "        }\n",
              "      </script>\n",
              "    </div>\n",
              "  </div>\n",
              "  "
            ]
          },
          "metadata": {},
          "execution_count": 21
        }
      ]
    },
    {
      "cell_type": "markdown",
      "source": [
        "* Se realiza un ajuste del modelo."
      ],
      "metadata": {
        "id": "H2SiuRlfIa5m"
      }
    },
    {
      "cell_type": "code",
      "source": [
        "fit_arima = ARIMA_Oct.predict() \n",
        "plt.figure(figsize=(8, 4))\n",
        "plt.plot(TRM_Oct, marker=\".\", label=\"Observado\")\n",
        "plt.plot(fit_arima, marker=\".\", label=\"Ajustado\")\n",
        "plt.axhline(predict_arima_oct.iloc[1,0], color='r', label=\"Pronóstico\")\n",
        "plt.xlim(dt.datetime(2017, 11, 4), dt.datetime(2022, 11, 4))\n",
        "plt.legend(loc=\"lower right\")\n",
        "plt.show()"
      ],
      "metadata": {
        "colab": {
          "base_uri": "https://localhost:8080/",
          "height": 265
        },
        "id": "cxVmZ9W4usgI",
        "outputId": "0db4db4e-8dbb-44fd-fce9-e6a9f8c0bea0"
      },
      "execution_count": 22,
      "outputs": [
        {
          "output_type": "display_data",
          "data": {
            "text/plain": [
              "<Figure size 576x288 with 1 Axes>"
            ],
            "image/png": "[encoded data removed]"
          },
          "metadata": {
            "needs_background": "light"
          }
        }
      ]
    },
    {
      "cell_type": "markdown",
      "source": [
        "#### Modelo lineal"
      ],
      "metadata": {
        "id": "_G3zkoOAfFv4"
      }
    },
    {
      "cell_type": "code",
      "source": [
        "precios_oct=TRM_Oct['TRM (COP/USD)']\n",
        "t1 = len(precios_oct)\n",
        "logprice_oct = np.log(precios_oct[1:t1]) \n",
        "lag_logprice_oct = np.log(precios_oct[0:t1-1])"
      ],
      "metadata": {
        "id": "SVP82evMfIpf"
      },
      "execution_count": 27,
      "outputs": []
    },
    {
      "cell_type": "markdown",
      "source": [
        "* Variables"
      ],
      "metadata": {
        "id": "fUDNOUSOKFa1"
      }
    },
    {
      "cell_type": "code",
      "source": [
        "t1 = len(precios_oct)-1 \n",
        "seq1 = pd.DataFrame(np.linspace(1,t1,t1)) "
      ],
      "metadata": {
        "id": "VABjL0BzfcNE"
      },
      "execution_count": 28,
      "outputs": []
    },
    {
      "cell_type": "markdown",
      "source": [
        "* Operaciones Matriciales"
      ],
      "metadata": {
        "id": "kjLhY09AKLB4"
      }
    },
    {
      "cell_type": "code",
      "source": [
        "unos1 = pd.DataFrame(np.repeat(1,t1))\n",
        "x_var1 = pd.DataFrame(lag_logprice_oct.values)\n",
        "y_var1 = pd.DataFrame(logprice_oct.values)\n",
        "\n",
        "variables1 = np.concatenate((unos1,seq1,x_var1),1)\n",
        "X1 = variables1.T @ variables1\n",
        "Xy1 = variables1.T @ y_var1\n",
        "\n",
        "Sol1= np.linalg.solve(X1,Xy1)\n",
        "round(pd.DataFrame(Sol1),4).T"
      ],
      "metadata": {
        "colab": {
          "base_uri": "https://localhost:8080/",
          "height": 0
        },
        "id": "ZsGNDGtwKJ-2",
        "outputId": "dc3a6d48-a6fb-45bb-94e3-3c044f32f8c4"
      },
      "execution_count": 29,
      "outputs": [
        {
          "output_type": "execute_result",
          "data": {
            "text/plain": [
              "        0    1     2\n",
              "0  0.0792  0.0  0.99"
            ],
            "text/html": [
              "\n",
              "  <div id=\"df-a4540ffa-2788-45ec-a962-294a306ba1b5\">\n",
              "    <div class=\"colab-df-container\">\n",
              "      <div>\n",
              "<style scoped>\n",
              "    .dataframe tbody tr th:only-of-type {\n",
              "        vertical-align: middle;\n",
              "    }\n",
              "\n",
              "    .dataframe tbody tr th {\n",
              "        vertical-align: top;\n",
              "    }\n",
              "\n",
              "    .dataframe thead th {\n",
              "        text-align: right;\n",
              "    }\n",
              "</style>\n",
              "<table border=\"1\" class=\"dataframe\">\n",
              "  <thead>\n",
              "    <tr style=\"text-align: right;\">\n",
              "      <th></th>\n",
              "      <th>0</th>\n",
              "      <th>1</th>\n",
              "      <th>2</th>\n",
              "    </tr>\n",
              "  </thead>\n",
              "  <tbody>\n",
              "    <tr>\n",
              "      <th>0</th>\n",
              "      <td>0.0792</td>\n",
              "      <td>0.0</td>\n",
              "      <td>0.99</td>\n",
              "    </tr>\n",
              "  </tbody>\n",
              "</table>\n",
              "</div>\n",
              "      <button class=\"colab-df-convert\" onclick=\"convertToInteractive('df-a4540ffa-2788-45ec-a962-294a306ba1b5')\"\n",
              "              title=\"Convert this dataframe to an interactive table.\"\n",
              "              style=\"display:none;\">\n",
              "        \n",
              "  <svg xmlns=\"http://www.w3.org/2000/svg\" height=\"24px\"viewBox=\"0 0 24 24\"\n",
              "       width=\"24px\">\n",
              "    <path d=\"M0 0h24v24H0V0z\" fill=\"none\"/>\n",
              "    <path d=\"M18.56 5.44l.94 2.06.94-2.06 2.06-.94-2.06-.94-.94-2.06-.94 2.06-2.06.94zm-11 1L8.5 8.5l.94-2.06 2.06-.94-2.06-.94L8.5 2.5l-.94 2.06-2.06.94zm10 10l.94 2.06.94-2.06 2.06-.94-2.06-.94-.94-2.06-.94 2.06-2.06.94z\"/><path d=\"M17.41 7.96l-1.37-1.37c-.4-.4-.92-.59-1.43-.59-.52 0-1.04.2-1.43.59L10.3 9.45l-7.72 7.72c-.78.78-.78 2.05 0 2.83L4 21.41c.39.39.9.59 1.41.59.51 0 1.02-.2 1.41-.59l7.78-7.78 2.81-2.81c.8-.78.8-2.07 0-2.86zM5.41 20L4 18.59l7.72-7.72 1.47 1.35L5.41 20z\"/>\n",
              "  </svg>\n",
              "      </button>\n",
              "      \n",
              "  <style>\n",
              "    .colab-df-container {\n",
              "      display:flex;\n",
              "      flex-wrap:wrap;\n",
              "      gap: 12px;\n",
              "    }\n",
              "\n",
              "    .colab-df-convert {\n",
              "      background-color: #E8F0FE;\n",
              "      border: none;\n",
              "      border-radius: 50%;\n",
              "      cursor: pointer;\n",
              "      display: none;\n",
              "      fill: #1967D2;\n",
              "      height: 32px;\n",
              "      padding: 0 0 0 0;\n",
              "      width: 32px;\n",
              "    }\n",
              "\n",
              "    .colab-df-convert:hover {\n",
              "      background-color: #E2EBFA;\n",
              "      box-shadow: 0px 1px 2px rgba(60, 64, 67, 0.3), 0px 1px 3px 1px rgba(60, 64, 67, 0.15);\n",
              "      fill: #174EA6;\n",
              "    }\n",
              "\n",
              "    [theme=dark] .colab-df-convert {\n",
              "      background-color: #3B4455;\n",
              "      fill: #D2E3FC;\n",
              "    }\n",
              "\n",
              "    [theme=dark] .colab-df-convert:hover {\n",
              "      background-color: #434B5C;\n",
              "      box-shadow: 0px 1px 3px 1px rgba(0, 0, 0, 0.15);\n",
              "      filter: drop-shadow(0px 1px 2px rgba(0, 0, 0, 0.3));\n",
              "      fill: #FFFFFF;\n",
              "    }\n",
              "  </style>\n",
              "\n",
              "      <script>\n",
              "        const buttonEl =\n",
              "          document.querySelector('#df-a4540ffa-2788-45ec-a962-294a306ba1b5 button.colab-df-convert');\n",
              "        buttonEl.style.display =\n",
              "          google.colab.kernel.accessAllowed ? 'block' : 'none';\n",
              "\n",
              "        async function convertToInteractive(key) {\n",
              "          const element = document.querySelector('#df-a4540ffa-2788-45ec-a962-294a306ba1b5');\n",
              "          const dataTable =\n",
              "            await google.colab.kernel.invokeFunction('convertToInteractive',\n",
              "                                                     [key], {});\n",
              "          if (!dataTable) return;\n",
              "\n",
              "          const docLinkHtml = 'Like what you see? Visit the ' +\n",
              "            '<a target=\"_blank\" href=https://colab.research.google.com/notebooks/data_table.ipynb>data table notebook</a>'\n",
              "            + ' to learn more about interactive tables.';\n",
              "          element.innerHTML = '';\n",
              "          dataTable['output_type'] = 'display_data';\n",
              "          await google.colab.output.renderOutput(dataTable, element);\n",
              "          const docLink = document.createElement('div');\n",
              "          docLink.innerHTML = docLinkHtml;\n",
              "          element.appendChild(docLink);\n",
              "        }\n",
              "      </script>\n",
              "    </div>\n",
              "  </div>\n",
              "  "
            ]
          },
          "metadata": {},
          "execution_count": 29
        }
      ]
    },
    {
      "cell_type": "code",
      "source": [
        "X0 = np.log(precios_oct[-1])\n",
        "T1 = t1 + 22\n",
        "intercept2_o  = Sol1[0]\n",
        "tendencia1 = Sol1[1]\n",
        "slope2_o = Sol1[2]\n",
        "price_predict2_o =  intercept2_o + tendencia1 * T1 + slope2_o * X0\n",
        "np.exp(price_predict2_o)"
      ],
      "metadata": {
        "colab": {
          "base_uri": "https://localhost:8080/"
        },
        "id": "RrDfFjKnf6Hd",
        "outputId": "66ed0ba3-62cc-468a-a74d-24631265359b"
      },
      "execution_count": 30,
      "outputs": [
        {
          "output_type": "execute_result",
          "data": {
            "text/plain": [
              "array([4544.66274417])"
            ]
          },
          "metadata": {},
          "execution_count": 30
        }
      ]
    },
    {
      "cell_type": "markdown",
      "source": [
        "#### Conclusión"
      ],
      "metadata": {
        "id": "wbNdWh2FK0mi"
      }
    },
    {
      "cell_type": "markdown",
      "source": [
        "Para el 4 de noviembre de 2022 el valor de la TRM fue de 5058.02 pesos, de modo que, el modelo que más se acerca al valor real es el modelo lineal con un precio de 4544.66 pesos en comparación al SARIMA cuyo precio es de 4536.42 pesos.\n",
        "\n",
        "Ahora bien, claramente la predicción no resulta tan certera al encontrarse por debajo del valor de la TRM en 513.36 pesos. Cabe destacar que, tanto para el modelo ARIMA, como para el modelo lineal, solamente se está teniendo en cuenta los valores pasados de la TRM. No obstante, la TRM se ve afectada por diversos factores tales como: el precio del petróleo, los flujos de capital, la intervención del Banco de la República, entre otros.\n"
      ],
      "metadata": {
        "id": "tDu99Ylqggwi"
      }
    },
    {
      "cell_type": "markdown",
      "source": [
        "###Pronóstico de la Tasa Representativa del Mercado para el 4 de Diciembre de 2022"
      ],
      "metadata": {
        "id": "g9Ix_uPBLAwI"
      }
    },
    {
      "cell_type": "markdown",
      "source": [
        "#### Se importa la base de datos históricos de la Tasa Representativa del Mercado hasta el 11 de Noviembre del 2022."
      ],
      "metadata": {
        "id": "UvYqUw5tLl4i"
      }
    },
    {
      "cell_type": "code",
      "source": [
        "Base=pd.read_excel(\"TRM histórico 11.xlsx\",parse_dates=True, \n",
        "                 index_col=\"Fecha (dd/mm/aaaa)\")\n",
        "Base"
      ],
      "metadata": {
        "colab": {
          "base_uri": "https://localhost:8080/",
          "height": 0
        },
        "id": "wekz5hrbhAop",
        "outputId": "e8e2f78a-9846-423b-94bf-311691bad09f"
      },
      "execution_count": 31,
      "outputs": [
        {
          "output_type": "execute_result",
          "data": {
            "text/plain": [
              "                    TRM (COP/USD)\n",
              "Fecha (dd/mm/aaaa)               \n",
              "2017-11-04                3055.57\n",
              "2017-11-05                3055.57\n",
              "2017-11-06                3055.57\n",
              "2017-11-07                3055.57\n",
              "2017-11-08                3026.94\n",
              "...                           ...\n",
              "2022-10-31                4819.42\n",
              "2022-11-01                4898.74\n",
              "2022-11-02                4975.58\n",
              "2022-11-03                5015.84\n",
              "2022-11-04                5058.02\n",
              "\n",
              "[1827 rows x 1 columns]"
            ],
            "text/html": [
              "\n",
              "  <div id=\"df-2fd97524-2ba8-47e0-93f8-4e198f645fc3\">\n",
              "    <div class=\"colab-df-container\">\n",
              "      <div>\n",
              "<style scoped>\n",
              "    .dataframe tbody tr th:only-of-type {\n",
              "        vertical-align: middle;\n",
              "    }\n",
              "\n",
              "    .dataframe tbody tr th {\n",
              "        vertical-align: top;\n",
              "    }\n",
              "\n",
              "    .dataframe thead th {\n",
              "        text-align: right;\n",
              "    }\n",
              "</style>\n",
              "<table border=\"1\" class=\"dataframe\">\n",
              "  <thead>\n",
              "    <tr style=\"text-align: right;\">\n",
              "      <th></th>\n",
              "      <th>TRM (COP/USD)</th>\n",
              "    </tr>\n",
              "    <tr>\n",
              "      <th>Fecha (dd/mm/aaaa)</th>\n",
              "      <th></th>\n",
              "    </tr>\n",
              "  </thead>\n",
              "  <tbody>\n",
              "    <tr>\n",
              "      <th>2017-11-04</th>\n",
              "      <td>3055.57</td>\n",
              "    </tr>\n",
              "    <tr>\n",
              "      <th>2017-11-05</th>\n",
              "      <td>3055.57</td>\n",
              "    </tr>\n",
              "    <tr>\n",
              "      <th>2017-11-06</th>\n",
              "      <td>3055.57</td>\n",
              "    </tr>\n",
              "    <tr>\n",
              "      <th>2017-11-07</th>\n",
              "      <td>3055.57</td>\n",
              "    </tr>\n",
              "    <tr>\n",
              "      <th>2017-11-08</th>\n",
              "      <td>3026.94</td>\n",
              "    </tr>\n",
              "    <tr>\n",
              "      <th>...</th>\n",
              "      <td>...</td>\n",
              "    </tr>\n",
              "    <tr>\n",
              "      <th>2022-10-31</th>\n",
              "      <td>4819.42</td>\n",
              "    </tr>\n",
              "    <tr>\n",
              "      <th>2022-11-01</th>\n",
              "      <td>4898.74</td>\n",
              "    </tr>\n",
              "    <tr>\n",
              "      <th>2022-11-02</th>\n",
              "      <td>4975.58</td>\n",
              "    </tr>\n",
              "    <tr>\n",
              "      <th>2022-11-03</th>\n",
              "      <td>5015.84</td>\n",
              "    </tr>\n",
              "    <tr>\n",
              "      <th>2022-11-04</th>\n",
              "      <td>5058.02</td>\n",
              "    </tr>\n",
              "  </tbody>\n",
              "</table>\n",
              "<p>1827 rows × 1 columns</p>\n",
              "</div>\n",
              "      <button class=\"colab-df-convert\" onclick=\"convertToInteractive('df-2fd97524-2ba8-47e0-93f8-4e198f645fc3')\"\n",
              "              title=\"Convert this dataframe to an interactive table.\"\n",
              "              style=\"display:none;\">\n",
              "        \n",
              "  <svg xmlns=\"http://www.w3.org/2000/svg\" height=\"24px\"viewBox=\"0 0 24 24\"\n",
              "       width=\"24px\">\n",
              "    <path d=\"M0 0h24v24H0V0z\" fill=\"none\"/>\n",
              "    <path d=\"M18.56 5.44l.94 2.06.94-2.06 2.06-.94-2.06-.94-.94-2.06-.94 2.06-2.06.94zm-11 1L8.5 8.5l.94-2.06 2.06-.94-2.06-.94L8.5 2.5l-.94 2.06-2.06.94zm10 10l.94 2.06.94-2.06 2.06-.94-2.06-.94-.94-2.06-.94 2.06-2.06.94z\"/><path d=\"M17.41 7.96l-1.37-1.37c-.4-.4-.92-.59-1.43-.59-.52 0-1.04.2-1.43.59L10.3 9.45l-7.72 7.72c-.78.78-.78 2.05 0 2.83L4 21.41c.39.39.9.59 1.41.59.51 0 1.02-.2 1.41-.59l7.78-7.78 2.81-2.81c.8-.78.8-2.07 0-2.86zM5.41 20L4 18.59l7.72-7.72 1.47 1.35L5.41 20z\"/>\n",
              "  </svg>\n",
              "      </button>\n",
              "      \n",
              "  <style>\n",
              "    .colab-df-container {\n",
              "      display:flex;\n",
              "      flex-wrap:wrap;\n",
              "      gap: 12px;\n",
              "    }\n",
              "\n",
              "    .colab-df-convert {\n",
              "      background-color: #E8F0FE;\n",
              "      border: none;\n",
              "      border-radius: 50%;\n",
              "      cursor: pointer;\n",
              "      display: none;\n",
              "      fill: #1967D2;\n",
              "      height: 32px;\n",
              "      padding: 0 0 0 0;\n",
              "      width: 32px;\n",
              "    }\n",
              "\n",
              "    .colab-df-convert:hover {\n",
              "      background-color: #E2EBFA;\n",
              "      box-shadow: 0px 1px 2px rgba(60, 64, 67, 0.3), 0px 1px 3px 1px rgba(60, 64, 67, 0.15);\n",
              "      fill: #174EA6;\n",
              "    }\n",
              "\n",
              "    [theme=dark] .colab-df-convert {\n",
              "      background-color: #3B4455;\n",
              "      fill: #D2E3FC;\n",
              "    }\n",
              "\n",
              "    [theme=dark] .colab-df-convert:hover {\n",
              "      background-color: #434B5C;\n",
              "      box-shadow: 0px 1px 3px 1px rgba(0, 0, 0, 0.15);\n",
              "      filter: drop-shadow(0px 1px 2px rgba(0, 0, 0, 0.3));\n",
              "      fill: #FFFFFF;\n",
              "    }\n",
              "  </style>\n",
              "\n",
              "      <script>\n",
              "        const buttonEl =\n",
              "          document.querySelector('#df-2fd97524-2ba8-47e0-93f8-4e198f645fc3 button.colab-df-convert');\n",
              "        buttonEl.style.display =\n",
              "          google.colab.kernel.accessAllowed ? 'block' : 'none';\n",
              "\n",
              "        async function convertToInteractive(key) {\n",
              "          const element = document.querySelector('#df-2fd97524-2ba8-47e0-93f8-4e198f645fc3');\n",
              "          const dataTable =\n",
              "            await google.colab.kernel.invokeFunction('convertToInteractive',\n",
              "                                                     [key], {});\n",
              "          if (!dataTable) return;\n",
              "\n",
              "          const docLinkHtml = 'Like what you see? Visit the ' +\n",
              "            '<a target=\"_blank\" href=https://colab.research.google.com/notebooks/data_table.ipynb>data table notebook</a>'\n",
              "            + ' to learn more about interactive tables.';\n",
              "          element.innerHTML = '';\n",
              "          dataTable['output_type'] = 'display_data';\n",
              "          await google.colab.output.renderOutput(dataTable, element);\n",
              "          const docLink = document.createElement('div');\n",
              "          docLink.innerHTML = docLinkHtml;\n",
              "          element.appendChild(docLink);\n",
              "        }\n",
              "      </script>\n",
              "    </div>\n",
              "  </div>\n",
              "  "
            ]
          },
          "metadata": {},
          "execution_count": 31
        }
      ]
    },
    {
      "cell_type": "markdown",
      "source": [
        "#### Descripción de los datos"
      ],
      "metadata": {
        "id": "nV_XHM0-gdve"
      }
    },
    {
      "cell_type": "code",
      "source": [
        "Base.describe()"
      ],
      "metadata": {
        "colab": {
          "base_uri": "https://localhost:8080/",
          "height": 300
        },
        "id": "wJcV14QHghzk",
        "outputId": "676f5ca0-4517-45ad-9388-14bd1c6d2359"
      },
      "execution_count": 34,
      "outputs": [
        {
          "output_type": "execute_result",
          "data": {
            "text/plain": [
              "       TRM (COP/USD)\n",
              "count    1827.000000\n",
              "mean     3527.996689\n",
              "std       450.700246\n",
              "min      2705.340000\n",
              "25%      3162.400000\n",
              "50%      3534.990000\n",
              "75%      3834.130000\n",
              "max      5058.020000"
            ],
            "text/html": [
              "\n",
              "  <div id=\"df-737dd316-2bb3-49b9-8a84-c5fab04055ac\">\n",
              "    <div class=\"colab-df-container\">\n",
              "      <div>\n",
              "<style scoped>\n",
              "    .dataframe tbody tr th:only-of-type {\n",
              "        vertical-align: middle;\n",
              "    }\n",
              "\n",
              "    .dataframe tbody tr th {\n",
              "        vertical-align: top;\n",
              "    }\n",
              "\n",
              "    .dataframe thead th {\n",
              "        text-align: right;\n",
              "    }\n",
              "</style>\n",
              "<table border=\"1\" class=\"dataframe\">\n",
              "  <thead>\n",
              "    <tr style=\"text-align: right;\">\n",
              "      <th></th>\n",
              "      <th>TRM (COP/USD)</th>\n",
              "    </tr>\n",
              "  </thead>\n",
              "  <tbody>\n",
              "    <tr>\n",
              "      <th>count</th>\n",
              "      <td>1827.000000</td>\n",
              "    </tr>\n",
              "    <tr>\n",
              "      <th>mean</th>\n",
              "      <td>3527.996689</td>\n",
              "    </tr>\n",
              "    <tr>\n",
              "      <th>std</th>\n",
              "      <td>450.700246</td>\n",
              "    </tr>\n",
              "    <tr>\n",
              "      <th>min</th>\n",
              "      <td>2705.340000</td>\n",
              "    </tr>\n",
              "    <tr>\n",
              "      <th>25%</th>\n",
              "      <td>3162.400000</td>\n",
              "    </tr>\n",
              "    <tr>\n",
              "      <th>50%</th>\n",
              "      <td>3534.990000</td>\n",
              "    </tr>\n",
              "    <tr>\n",
              "      <th>75%</th>\n",
              "      <td>3834.130000</td>\n",
              "    </tr>\n",
              "    <tr>\n",
              "      <th>max</th>\n",
              "      <td>5058.020000</td>\n",
              "    </tr>\n",
              "  </tbody>\n",
              "</table>\n",
              "</div>\n",
              "      <button class=\"colab-df-convert\" onclick=\"convertToInteractive('df-737dd316-2bb3-49b9-8a84-c5fab04055ac')\"\n",
              "              title=\"Convert this dataframe to an interactive table.\"\n",
              "              style=\"display:none;\">\n",
              "        \n",
              "  <svg xmlns=\"http://www.w3.org/2000/svg\" height=\"24px\"viewBox=\"0 0 24 24\"\n",
              "       width=\"24px\">\n",
              "    <path d=\"M0 0h24v24H0V0z\" fill=\"none\"/>\n",
              "    <path d=\"M18.56 5.44l.94 2.06.94-2.06 2.06-.94-2.06-.94-.94-2.06-.94 2.06-2.06.94zm-11 1L8.5 8.5l.94-2.06 2.06-.94-2.06-.94L8.5 2.5l-.94 2.06-2.06.94zm10 10l.94 2.06.94-2.06 2.06-.94-2.06-.94-.94-2.06-.94 2.06-2.06.94z\"/><path d=\"M17.41 7.96l-1.37-1.37c-.4-.4-.92-.59-1.43-.59-.52 0-1.04.2-1.43.59L10.3 9.45l-7.72 7.72c-.78.78-.78 2.05 0 2.83L4 21.41c.39.39.9.59 1.41.59.51 0 1.02-.2 1.41-.59l7.78-7.78 2.81-2.81c.8-.78.8-2.07 0-2.86zM5.41 20L4 18.59l7.72-7.72 1.47 1.35L5.41 20z\"/>\n",
              "  </svg>\n",
              "      </button>\n",
              "      \n",
              "  <style>\n",
              "    .colab-df-container {\n",
              "      display:flex;\n",
              "      flex-wrap:wrap;\n",
              "      gap: 12px;\n",
              "    }\n",
              "\n",
              "    .colab-df-convert {\n",
              "      background-color: #E8F0FE;\n",
              "      border: none;\n",
              "      border-radius: 50%;\n",
              "      cursor: pointer;\n",
              "      display: none;\n",
              "      fill: #1967D2;\n",
              "      height: 32px;\n",
              "      padding: 0 0 0 0;\n",
              "      width: 32px;\n",
              "    }\n",
              "\n",
              "    .colab-df-convert:hover {\n",
              "      background-color: #E2EBFA;\n",
              "      box-shadow: 0px 1px 2px rgba(60, 64, 67, 0.3), 0px 1px 3px 1px rgba(60, 64, 67, 0.15);\n",
              "      fill: #174EA6;\n",
              "    }\n",
              "\n",
              "    [theme=dark] .colab-df-convert {\n",
              "      background-color: #3B4455;\n",
              "      fill: #D2E3FC;\n",
              "    }\n",
              "\n",
              "    [theme=dark] .colab-df-convert:hover {\n",
              "      background-color: #434B5C;\n",
              "      box-shadow: 0px 1px 3px 1px rgba(0, 0, 0, 0.15);\n",
              "      filter: drop-shadow(0px 1px 2px rgba(0, 0, 0, 0.3));\n",
              "      fill: #FFFFFF;\n",
              "    }\n",
              "  </style>\n",
              "\n",
              "      <script>\n",
              "        const buttonEl =\n",
              "          document.querySelector('#df-737dd316-2bb3-49b9-8a84-c5fab04055ac button.colab-df-convert');\n",
              "        buttonEl.style.display =\n",
              "          google.colab.kernel.accessAllowed ? 'block' : 'none';\n",
              "\n",
              "        async function convertToInteractive(key) {\n",
              "          const element = document.querySelector('#df-737dd316-2bb3-49b9-8a84-c5fab04055ac');\n",
              "          const dataTable =\n",
              "            await google.colab.kernel.invokeFunction('convertToInteractive',\n",
              "                                                     [key], {});\n",
              "          if (!dataTable) return;\n",
              "\n",
              "          const docLinkHtml = 'Like what you see? Visit the ' +\n",
              "            '<a target=\"_blank\" href=https://colab.research.google.com/notebooks/data_table.ipynb>data table notebook</a>'\n",
              "            + ' to learn more about interactive tables.';\n",
              "          element.innerHTML = '';\n",
              "          dataTable['output_type'] = 'display_data';\n",
              "          await google.colab.output.renderOutput(dataTable, element);\n",
              "          const docLink = document.createElement('div');\n",
              "          docLink.innerHTML = docLinkHtml;\n",
              "          element.appendChild(docLink);\n",
              "        }\n",
              "      </script>\n",
              "    </div>\n",
              "  </div>\n",
              "  "
            ]
          },
          "metadata": {},
          "execution_count": 34
        }
      ]
    },
    {
      "cell_type": "markdown",
      "source": [
        "Se tienen en total 1.827 datos históricos tomados desde el 2017 hasta el 11 de Noviembre del año 2022. El precio promedio de la TRM en los últimos 5 años ha sido de 3.528 pesos, aproximadamente. Por otro lado, se observa que el precio de la TRM tiene una desviación estandar de 450,7 pesos, es decir, este valor indica qe tan dispersos están los precios alrededor de su media. Por último, con respecto al precio mínimo que ha tenido la TRM en los últimos años y el mayor precio alcanzado, se determina que ha tenido una variación de 86,96%% aproximadamente en los años y lo que va corriedo del 2022. Se puede ver que la TRM está en aumento constante y ha tenido un alza significativa en los últimos meses, debido a los fuertes conflictos a nivel internacional y l incertidumbre que genera la llegada de un nuevo gobierno al país."
      ],
      "metadata": {
        "id": "6Lsp_4B-g557"
      }
    },
    {
      "cell_type": "markdown",
      "source": [
        "##### Kurtosis y Asimestría"
      ],
      "metadata": {
        "id": "WzhgcsUpjCPv"
      }
    },
    {
      "cell_type": "code",
      "source": [
        "datos1= Base['TRM (COP/USD)']\n",
        "from scipy.stats import kurtosis, skew\n",
        "kurtosis(datos1), skew(datos1)"
      ],
      "metadata": {
        "colab": {
          "base_uri": "https://localhost:8080/"
        },
        "id": "m5m0t1Z5jGBa",
        "outputId": "69555ca4-8e46-471f-e4ba-cf9f6de4e0bf"
      },
      "execution_count": 33,
      "outputs": [
        {
          "output_type": "execute_result",
          "data": {
            "text/plain": [
              "(-0.22167831598181476, 0.33473643782101564)"
            ]
          },
          "metadata": {},
          "execution_count": 33
        }
      ]
    },
    {
      "cell_type": "code",
      "source": [
        "datos1.hist();"
      ],
      "metadata": {
        "colab": {
          "base_uri": "https://localhost:8080/",
          "height": 265
        },
        "id": "K0Jh4dryPUyS",
        "outputId": "2c4033a8-6ff4-44e0-9e8a-ec52b3dd78ad"
      },
      "execution_count": 35,
      "outputs": [
        {
          "output_type": "display_data",
          "data": {
            "text/plain": [
              "<Figure size 432x288 with 1 Axes>"
            ],
            "image/png": "[encoded data removed]"
          },
          "metadata": {
            "needs_background": "light"
          }
        }
      ]
    },
    {
      "cell_type": "markdown",
      "source": [
        "* Curtosis: Para la distribución normal estándar se menciona que la curtosis es exactamente igual a 0. No obstante, se puede observar que, la distribución de frecuencia de la TRM, no pertenence a una distribución normal ya que su curtosis no es 0. Las distribución de frecuencia se encuentra clasificada dentro de platicúrtica, es decir, los precios de la TRM están menos concentradas alrededor de la media y conforman una distribución mucho más aplanada que la normal.\n",
        "\n",
        "* Asimetría: Al presentar una asimestría positiva de 0.334 se puede determinar que los datos tienen una distribución sesgada hacia el lado postivo de la gráfica. Es decir, se presenta una forma más escorada hacia la izquierda."
      ],
      "metadata": {
        "id": "SkKVivEGjbOB"
      }
    },
    {
      "cell_type": "markdown",
      "source": [
        "#### Se realiza el calculo de los retornos logarítmicos de la serie histórica de los datos."
      ],
      "metadata": {
        "id": "5X6t27H_LPGk"
      }
    },
    {
      "cell_type": "code",
      "source": [
        "retornos=np.log(Base/Base.shift()).dropna() \n",
        "retornos"
      ],
      "metadata": {
        "id": "zzmi1rXadGOK",
        "colab": {
          "base_uri": "https://localhost:8080/",
          "height": 455
        },
        "outputId": "2709d3b0-2834-4f4a-f5fb-78dc98e5c63c"
      },
      "execution_count": 36,
      "outputs": [
        {
          "output_type": "execute_result",
          "data": {
            "text/plain": [
              "                    TRM (COP/USD)\n",
              "Fecha (dd/mm/aaaa)               \n",
              "2017-11-05               0.000000\n",
              "2017-11-06               0.000000\n",
              "2017-11-07               0.000000\n",
              "2017-11-08              -0.009414\n",
              "2017-11-09              -0.003031\n",
              "...                           ...\n",
              "2022-10-31               0.000000\n",
              "2022-11-01               0.016324\n",
              "2022-11-02               0.015564\n",
              "2022-11-03               0.008059\n",
              "2022-11-04               0.008374\n",
              "\n",
              "[1826 rows x 1 columns]"
            ],
            "text/html": [
              "\n",
              "  <div id=\"df-7ee5097e-fbde-4e34-bba7-677886d4a2b5\">\n",
              "    <div class=\"colab-df-container\">\n",
              "      <div>\n",
              "<style scoped>\n",
              "    .dataframe tbody tr th:only-of-type {\n",
              "        vertical-align: middle;\n",
              "    }\n",
              "\n",
              "    .dataframe tbody tr th {\n",
              "        vertical-align: top;\n",
              "    }\n",
              "\n",
              "    .dataframe thead th {\n",
              "        text-align: right;\n",
              "    }\n",
              "</style>\n",
              "<table border=\"1\" class=\"dataframe\">\n",
              "  <thead>\n",
              "    <tr style=\"text-align: right;\">\n",
              "      <th></th>\n",
              "      <th>TRM (COP/USD)</th>\n",
              "    </tr>\n",
              "    <tr>\n",
              "      <th>Fecha (dd/mm/aaaa)</th>\n",
              "      <th></th>\n",
              "    </tr>\n",
              "  </thead>\n",
              "  <tbody>\n",
              "    <tr>\n",
              "      <th>2017-11-05</th>\n",
              "      <td>0.000000</td>\n",
              "    </tr>\n",
              "    <tr>\n",
              "      <th>2017-11-06</th>\n",
              "      <td>0.000000</td>\n",
              "    </tr>\n",
              "    <tr>\n",
              "      <th>2017-11-07</th>\n",
              "      <td>0.000000</td>\n",
              "    </tr>\n",
              "    <tr>\n",
              "      <th>2017-11-08</th>\n",
              "      <td>-0.009414</td>\n",
              "    </tr>\n",
              "    <tr>\n",
              "      <th>2017-11-09</th>\n",
              "      <td>-0.003031</td>\n",
              "    </tr>\n",
              "    <tr>\n",
              "      <th>...</th>\n",
              "      <td>...</td>\n",
              "    </tr>\n",
              "    <tr>\n",
              "      <th>2022-10-31</th>\n",
              "      <td>0.000000</td>\n",
              "    </tr>\n",
              "    <tr>\n",
              "      <th>2022-11-01</th>\n",
              "      <td>0.016324</td>\n",
              "    </tr>\n",
              "    <tr>\n",
              "      <th>2022-11-02</th>\n",
              "      <td>0.015564</td>\n",
              "    </tr>\n",
              "    <tr>\n",
              "      <th>2022-11-03</th>\n",
              "      <td>0.008059</td>\n",
              "    </tr>\n",
              "    <tr>\n",
              "      <th>2022-11-04</th>\n",
              "      <td>0.008374</td>\n",
              "    </tr>\n",
              "  </tbody>\n",
              "</table>\n",
              "<p>1826 rows × 1 columns</p>\n",
              "</div>\n",
              "      <button class=\"colab-df-convert\" onclick=\"convertToInteractive('df-7ee5097e-fbde-4e34-bba7-677886d4a2b5')\"\n",
              "              title=\"Convert this dataframe to an interactive table.\"\n",
              "              style=\"display:none;\">\n",
              "        \n",
              "  <svg xmlns=\"http://www.w3.org/2000/svg\" height=\"24px\"viewBox=\"0 0 24 24\"\n",
              "       width=\"24px\">\n",
              "    <path d=\"M0 0h24v24H0V0z\" fill=\"none\"/>\n",
              "    <path d=\"M18.56 5.44l.94 2.06.94-2.06 2.06-.94-2.06-.94-.94-2.06-.94 2.06-2.06.94zm-11 1L8.5 8.5l.94-2.06 2.06-.94-2.06-.94L8.5 2.5l-.94 2.06-2.06.94zm10 10l.94 2.06.94-2.06 2.06-.94-2.06-.94-.94-2.06-.94 2.06-2.06.94z\"/><path d=\"M17.41 7.96l-1.37-1.37c-.4-.4-.92-.59-1.43-.59-.52 0-1.04.2-1.43.59L10.3 9.45l-7.72 7.72c-.78.78-.78 2.05 0 2.83L4 21.41c.39.39.9.59 1.41.59.51 0 1.02-.2 1.41-.59l7.78-7.78 2.81-2.81c.8-.78.8-2.07 0-2.86zM5.41 20L4 18.59l7.72-7.72 1.47 1.35L5.41 20z\"/>\n",
              "  </svg>\n",
              "      </button>\n",
              "      \n",
              "  <style>\n",
              "    .colab-df-container {\n",
              "      display:flex;\n",
              "      flex-wrap:wrap;\n",
              "      gap: 12px;\n",
              "    }\n",
              "\n",
              "    .colab-df-convert {\n",
              "      background-color: #E8F0FE;\n",
              "      border: none;\n",
              "      border-radius: 50%;\n",
              "      cursor: pointer;\n",
              "      display: none;\n",
              "      fill: #1967D2;\n",
              "      height: 32px;\n",
              "      padding: 0 0 0 0;\n",
              "      width: 32px;\n",
              "    }\n",
              "\n",
              "    .colab-df-convert:hover {\n",
              "      background-color: #E2EBFA;\n",
              "      box-shadow: 0px 1px 2px rgba(60, 64, 67, 0.3), 0px 1px 3px 1px rgba(60, 64, 67, 0.15);\n",
              "      fill: #174EA6;\n",
              "    }\n",
              "\n",
              "    [theme=dark] .colab-df-convert {\n",
              "      background-color: #3B4455;\n",
              "      fill: #D2E3FC;\n",
              "    }\n",
              "\n",
              "    [theme=dark] .colab-df-convert:hover {\n",
              "      background-color: #434B5C;\n",
              "      box-shadow: 0px 1px 3px 1px rgba(0, 0, 0, 0.15);\n",
              "      filter: drop-shadow(0px 1px 2px rgba(0, 0, 0, 0.3));\n",
              "      fill: #FFFFFF;\n",
              "    }\n",
              "  </style>\n",
              "\n",
              "      <script>\n",
              "        const buttonEl =\n",
              "          document.querySelector('#df-7ee5097e-fbde-4e34-bba7-677886d4a2b5 button.colab-df-convert');\n",
              "        buttonEl.style.display =\n",
              "          google.colab.kernel.accessAllowed ? 'block' : 'none';\n",
              "\n",
              "        async function convertToInteractive(key) {\n",
              "          const element = document.querySelector('#df-7ee5097e-fbde-4e34-bba7-677886d4a2b5');\n",
              "          const dataTable =\n",
              "            await google.colab.kernel.invokeFunction('convertToInteractive',\n",
              "                                                     [key], {});\n",
              "          if (!dataTable) return;\n",
              "\n",
              "          const docLinkHtml = 'Like what you see? Visit the ' +\n",
              "            '<a target=\"_blank\" href=https://colab.research.google.com/notebooks/data_table.ipynb>data table notebook</a>'\n",
              "            + ' to learn more about interactive tables.';\n",
              "          element.innerHTML = '';\n",
              "          dataTable['output_type'] = 'display_data';\n",
              "          await google.colab.output.renderOutput(dataTable, element);\n",
              "          const docLink = document.createElement('div');\n",
              "          docLink.innerHTML = docLinkHtml;\n",
              "          element.appendChild(docLink);\n",
              "        }\n",
              "      </script>\n",
              "    </div>\n",
              "  </div>\n",
              "  "
            ]
          },
          "metadata": {},
          "execution_count": 36
        }
      ]
    },
    {
      "cell_type": "markdown",
      "source": [
        "* Gráfica de los retornos logarítmicos"
      ],
      "metadata": {
        "id": "hApnsp9JLweN"
      }
    },
    {
      "cell_type": "code",
      "source": [
        "retornos.plot();"
      ],
      "metadata": {
        "colab": {
          "base_uri": "https://localhost:8080/",
          "height": 279
        },
        "id": "mId7Do7ydKwR",
        "outputId": "e7d8c11f-0013-4f0c-b5cc-ae7376b38ef0"
      },
      "execution_count": null,
      "outputs": [
        {
          "output_type": "display_data",
          "data": {
            "text/plain": [
              "<Figure size 432x288 with 1 Axes>"
            ],
            "image/png": "[encoded data removed]"
          },
          "metadata": {
            "needs_background": "light"
          }
        }
      ]
    },
    {
      "cell_type": "markdown",
      "source": [
        "* Gráfica de los precios históricos"
      ],
      "metadata": {
        "id": "nrhV0kskL9b-"
      }
    },
    {
      "cell_type": "code",
      "source": [
        "Base.plot();"
      ],
      "metadata": {
        "colab": {
          "base_uri": "https://localhost:8080/",
          "height": 279
        },
        "id": "FBba2-Haw2Mp",
        "outputId": "2c1fbc4d-1820-4530-d21b-cb35ed2d8083"
      },
      "execution_count": null,
      "outputs": [
        {
          "output_type": "display_data",
          "data": {
            "text/plain": [
              "<Figure size 432x288 with 1 Axes>"
            ],
            "image/png": "[encoded data removed]"
          },
          "metadata": {
            "needs_background": "light"
          }
        }
      ]
    },
    {
      "cell_type": "markdown",
      "source": [
        "#### Modelo lineal"
      ],
      "metadata": {
        "id": "N4QOoI95eSHG"
      }
    },
    {
      "cell_type": "code",
      "source": [
        "precios=Base['TRM (COP/USD)']\n",
        "t = len(precios)\n",
        "logprice = np.log(precios[1:t]) #aquí el inicio \n",
        "lag_logprice = np.log(precios[0:t-1])"
      ],
      "metadata": {
        "id": "aSjuly2QVKz_"
      },
      "execution_count": 37,
      "outputs": []
    },
    {
      "cell_type": "markdown",
      "source": [
        "* Variables"
      ],
      "metadata": {
        "id": "PYmYHMsoMdOq"
      }
    },
    {
      "cell_type": "code",
      "source": [
        "t = len(precios)-1 \n",
        "seq = pd.DataFrame(np.linspace(1,t,t)) "
      ],
      "metadata": {
        "id": "TzaiYUjqalmJ"
      },
      "execution_count": 38,
      "outputs": []
    },
    {
      "cell_type": "markdown",
      "source": [
        "* Operaciones Matriciales"
      ],
      "metadata": {
        "id": "4l8X0MxAMkG2"
      }
    },
    {
      "cell_type": "code",
      "source": [
        "unos = pd.DataFrame(np.repeat(1,t))\n",
        "x_var = pd.DataFrame(lag_logprice.values) #rezago. \n",
        "y_var = pd.DataFrame(logprice.values)\n",
        "\n",
        "variables = np.concatenate((unos,seq,x_var),1)\n",
        "X = variables.T @ variables\n",
        "Xy = variables.T @ y_var\n",
        "\n",
        "Sol= np.linalg.solve(X,Xy)\n",
        "round(pd.DataFrame(Sol),4).T"
      ],
      "metadata": {
        "colab": {
          "base_uri": "https://localhost:8080/",
          "height": 0
        },
        "id": "K9aBSJUSMhmL",
        "outputId": "1fd67758-d794-4051-cd14-bf7085523b3d"
      },
      "execution_count": 39,
      "outputs": [
        {
          "output_type": "execute_result",
          "data": {
            "text/plain": [
              "        0    1       2\n",
              "0  0.0538  0.0  0.9932"
            ],
            "text/html": [
              "\n",
              "  <div id=\"df-03bffba5-62c4-4ffc-b41b-1ae1f8b75d5d\">\n",
              "    <div class=\"colab-df-container\">\n",
              "      <div>\n",
              "<style scoped>\n",
              "    .dataframe tbody tr th:only-of-type {\n",
              "        vertical-align: middle;\n",
              "    }\n",
              "\n",
              "    .dataframe tbody tr th {\n",
              "        vertical-align: top;\n",
              "    }\n",
              "\n",
              "    .dataframe thead th {\n",
              "        text-align: right;\n",
              "    }\n",
              "</style>\n",
              "<table border=\"1\" class=\"dataframe\">\n",
              "  <thead>\n",
              "    <tr style=\"text-align: right;\">\n",
              "      <th></th>\n",
              "      <th>0</th>\n",
              "      <th>1</th>\n",
              "      <th>2</th>\n",
              "    </tr>\n",
              "  </thead>\n",
              "  <tbody>\n",
              "    <tr>\n",
              "      <th>0</th>\n",
              "      <td>0.0538</td>\n",
              "      <td>0.0</td>\n",
              "      <td>0.9932</td>\n",
              "    </tr>\n",
              "  </tbody>\n",
              "</table>\n",
              "</div>\n",
              "      <button class=\"colab-df-convert\" onclick=\"convertToInteractive('df-03bffba5-62c4-4ffc-b41b-1ae1f8b75d5d')\"\n",
              "              title=\"Convert this dataframe to an interactive table.\"\n",
              "              style=\"display:none;\">\n",
              "        \n",
              "  <svg xmlns=\"http://www.w3.org/2000/svg\" height=\"24px\"viewBox=\"0 0 24 24\"\n",
              "       width=\"24px\">\n",
              "    <path d=\"M0 0h24v24H0V0z\" fill=\"none\"/>\n",
              "    <path d=\"M18.56 5.44l.94 2.06.94-2.06 2.06-.94-2.06-.94-.94-2.06-.94 2.06-2.06.94zm-11 1L8.5 8.5l.94-2.06 2.06-.94-2.06-.94L8.5 2.5l-.94 2.06-2.06.94zm10 10l.94 2.06.94-2.06 2.06-.94-2.06-.94-.94-2.06-.94 2.06-2.06.94z\"/><path d=\"M17.41 7.96l-1.37-1.37c-.4-.4-.92-.59-1.43-.59-.52 0-1.04.2-1.43.59L10.3 9.45l-7.72 7.72c-.78.78-.78 2.05 0 2.83L4 21.41c.39.39.9.59 1.41.59.51 0 1.02-.2 1.41-.59l7.78-7.78 2.81-2.81c.8-.78.8-2.07 0-2.86zM5.41 20L4 18.59l7.72-7.72 1.47 1.35L5.41 20z\"/>\n",
              "  </svg>\n",
              "      </button>\n",
              "      \n",
              "  <style>\n",
              "    .colab-df-container {\n",
              "      display:flex;\n",
              "      flex-wrap:wrap;\n",
              "      gap: 12px;\n",
              "    }\n",
              "\n",
              "    .colab-df-convert {\n",
              "      background-color: #E8F0FE;\n",
              "      border: none;\n",
              "      border-radius: 50%;\n",
              "      cursor: pointer;\n",
              "      display: none;\n",
              "      fill: #1967D2;\n",
              "      height: 32px;\n",
              "      padding: 0 0 0 0;\n",
              "      width: 32px;\n",
              "    }\n",
              "\n",
              "    .colab-df-convert:hover {\n",
              "      background-color: #E2EBFA;\n",
              "      box-shadow: 0px 1px 2px rgba(60, 64, 67, 0.3), 0px 1px 3px 1px rgba(60, 64, 67, 0.15);\n",
              "      fill: #174EA6;\n",
              "    }\n",
              "\n",
              "    [theme=dark] .colab-df-convert {\n",
              "      background-color: #3B4455;\n",
              "      fill: #D2E3FC;\n",
              "    }\n",
              "\n",
              "    [theme=dark] .colab-df-convert:hover {\n",
              "      background-color: #434B5C;\n",
              "      box-shadow: 0px 1px 3px 1px rgba(0, 0, 0, 0.15);\n",
              "      filter: drop-shadow(0px 1px 2px rgba(0, 0, 0, 0.3));\n",
              "      fill: #FFFFFF;\n",
              "    }\n",
              "  </style>\n",
              "\n",
              "      <script>\n",
              "        const buttonEl =\n",
              "          document.querySelector('#df-03bffba5-62c4-4ffc-b41b-1ae1f8b75d5d button.colab-df-convert');\n",
              "        buttonEl.style.display =\n",
              "          google.colab.kernel.accessAllowed ? 'block' : 'none';\n",
              "\n",
              "        async function convertToInteractive(key) {\n",
              "          const element = document.querySelector('#df-03bffba5-62c4-4ffc-b41b-1ae1f8b75d5d');\n",
              "          const dataTable =\n",
              "            await google.colab.kernel.invokeFunction('convertToInteractive',\n",
              "                                                     [key], {});\n",
              "          if (!dataTable) return;\n",
              "\n",
              "          const docLinkHtml = 'Like what you see? Visit the ' +\n",
              "            '<a target=\"_blank\" href=https://colab.research.google.com/notebooks/data_table.ipynb>data table notebook</a>'\n",
              "            + ' to learn more about interactive tables.';\n",
              "          element.innerHTML = '';\n",
              "          dataTable['output_type'] = 'display_data';\n",
              "          await google.colab.output.renderOutput(dataTable, element);\n",
              "          const docLink = document.createElement('div');\n",
              "          docLink.innerHTML = docLinkHtml;\n",
              "          element.appendChild(docLink);\n",
              "        }\n",
              "      </script>\n",
              "    </div>\n",
              "  </div>\n",
              "  "
            ]
          },
          "metadata": {},
          "execution_count": 39
        }
      ]
    },
    {
      "cell_type": "code",
      "source": [
        "X0=np.log(precios[-1])\n",
        "T = t + 22 \n",
        "intercept2  = Sol[0]\n",
        "tendencia = Sol[1]\n",
        "slope2 = Sol[2]\n",
        "price_predict2 =  intercept2 + tendencia * T + slope2 * X0\n",
        "np.exp(price_predict2)"
      ],
      "metadata": {
        "colab": {
          "base_uri": "https://localhost:8080/"
        },
        "id": "tYMLjvPNaohf",
        "outputId": "6e64a8c4-5a31-4320-b9eb-4f1df7ae7b7e"
      },
      "execution_count": 40,
      "outputs": [
        {
          "output_type": "execute_result",
          "data": {
            "text/plain": [
              "array([5055.90617939])"
            ]
          },
          "metadata": {},
          "execution_count": 40
        }
      ]
    },
    {
      "cell_type": "markdown",
      "source": [
        "Para diciembre 4 del 2022, se estima que el precio de la TRM sea aproximadamente de 5.056 pesos."
      ],
      "metadata": {
        "id": "Lj44DazqxzyZ"
      }
    },
    {
      "cell_type": "markdown",
      "source": [
        "#### Probabilidad"
      ],
      "metadata": {
        "id": "-01wQLpAxPP5"
      }
    },
    {
      "cell_type": "markdown",
      "source": [
        "##### Ajuste de probabilidad"
      ],
      "metadata": {
        "id": "bHWbiREMrOJx"
      }
    },
    {
      "cell_type": "code",
      "source": [
        "fit = Fitter(retornos,distributions= get_common_distributions())\n",
        "fit.fit()\n",
        "fit.summary()"
      ],
      "metadata": {
        "colab": {
          "base_uri": "https://localhost:8080/",
          "height": 0
        },
        "id": "wA5J0TjGxdOD",
        "outputId": "2a2435e4-bf7d-45a1-ff77-dc330e744e40"
      },
      "execution_count": 41,
      "outputs": [
        {
          "output_type": "stream",
          "name": "stderr",
          "text": [
            "Fitting 10 distributions: 100%|██████████| 10/10 [00:01<00:00,  7.62it/s]\n"
          ]
        },
        {
          "output_type": "execute_result",
          "data": {
            "text/plain": [
              "          sumsquare_error          aic          bic  kl_div  ks_statistic  \\\n",
              "cauchy       75650.432262   -55.978147  6815.035315     inf      0.180410   \n",
              "rayleigh    128495.402946          inf  7782.395289     inf      0.436759   \n",
              "lognorm     128988.427944   907.560450  7796.897959     inf      0.174646   \n",
              "norm        129324.416309  1225.098580  7794.138247     inf      0.187054   \n",
              "chi2        130509.701066  1019.291386  7818.307567     inf      0.192517   \n",
              "\n",
              "              ks_pvalue  \n",
              "cauchy     1.788303e-52  \n",
              "rayleigh  2.088155e-317  \n",
              "lognorm    3.516835e-49  \n",
              "norm       2.083693e-56  \n",
              "chi2       9.434948e-60  "
            ],
            "text/html": [
              "\n",
              "  <div id=\"df-8300923b-c64d-4414-b92c-5432e4c1fd91\">\n",
              "    <div class=\"colab-df-container\">\n",
              "      <div>\n",
              "<style scoped>\n",
              "    .dataframe tbody tr th:only-of-type {\n",
              "        vertical-align: middle;\n",
              "    }\n",
              "\n",
              "    .dataframe tbody tr th {\n",
              "        vertical-align: top;\n",
              "    }\n",
              "\n",
              "    .dataframe thead th {\n",
              "        text-align: right;\n",
              "    }\n",
              "</style>\n",
              "<table border=\"1\" class=\"dataframe\">\n",
              "  <thead>\n",
              "    <tr style=\"text-align: right;\">\n",
              "      <th></th>\n",
              "      <th>sumsquare_error</th>\n",
              "      <th>aic</th>\n",
              "      <th>bic</th>\n",
              "      <th>kl_div</th>\n",
              "      <th>ks_statistic</th>\n",
              "      <th>ks_pvalue</th>\n",
              "    </tr>\n",
              "  </thead>\n",
              "  <tbody>\n",
              "    <tr>\n",
              "      <th>cauchy</th>\n",
              "      <td>75650.432262</td>\n",
              "      <td>-55.978147</td>\n",
              "      <td>6815.035315</td>\n",
              "      <td>inf</td>\n",
              "      <td>0.180410</td>\n",
              "      <td>1.788303e-52</td>\n",
              "    </tr>\n",
              "    <tr>\n",
              "      <th>rayleigh</th>\n",
              "      <td>128495.402946</td>\n",
              "      <td>inf</td>\n",
              "      <td>7782.395289</td>\n",
              "      <td>inf</td>\n",
              "      <td>0.436759</td>\n",
              "      <td>2.088155e-317</td>\n",
              "    </tr>\n",
              "    <tr>\n",
              "      <th>lognorm</th>\n",
              "      <td>128988.427944</td>\n",
              "      <td>907.560450</td>\n",
              "      <td>7796.897959</td>\n",
              "      <td>inf</td>\n",
              "      <td>0.174646</td>\n",
              "      <td>3.516835e-49</td>\n",
              "    </tr>\n",
              "    <tr>\n",
              "      <th>norm</th>\n",
              "      <td>129324.416309</td>\n",
              "      <td>1225.098580</td>\n",
              "      <td>7794.138247</td>\n",
              "      <td>inf</td>\n",
              "      <td>0.187054</td>\n",
              "      <td>2.083693e-56</td>\n",
              "    </tr>\n",
              "    <tr>\n",
              "      <th>chi2</th>\n",
              "      <td>130509.701066</td>\n",
              "      <td>1019.291386</td>\n",
              "      <td>7818.307567</td>\n",
              "      <td>inf</td>\n",
              "      <td>0.192517</td>\n",
              "      <td>9.434948e-60</td>\n",
              "    </tr>\n",
              "  </tbody>\n",
              "</table>\n",
              "</div>\n",
              "      <button class=\"colab-df-convert\" onclick=\"convertToInteractive('df-8300923b-c64d-4414-b92c-5432e4c1fd91')\"\n",
              "              title=\"Convert this dataframe to an interactive table.\"\n",
              "              style=\"display:none;\">\n",
              "        \n",
              "  <svg xmlns=\"http://www.w3.org/2000/svg\" height=\"24px\"viewBox=\"0 0 24 24\"\n",
              "       width=\"24px\">\n",
              "    <path d=\"M0 0h24v24H0V0z\" fill=\"none\"/>\n",
              "    <path d=\"M18.56 5.44l.94 2.06.94-2.06 2.06-.94-2.06-.94-.94-2.06-.94 2.06-2.06.94zm-11 1L8.5 8.5l.94-2.06 2.06-.94-2.06-.94L8.5 2.5l-.94 2.06-2.06.94zm10 10l.94 2.06.94-2.06 2.06-.94-2.06-.94-.94-2.06-.94 2.06-2.06.94z\"/><path d=\"M17.41 7.96l-1.37-1.37c-.4-.4-.92-.59-1.43-.59-.52 0-1.04.2-1.43.59L10.3 9.45l-7.72 7.72c-.78.78-.78 2.05 0 2.83L4 21.41c.39.39.9.59 1.41.59.51 0 1.02-.2 1.41-.59l7.78-7.78 2.81-2.81c.8-.78.8-2.07 0-2.86zM5.41 20L4 18.59l7.72-7.72 1.47 1.35L5.41 20z\"/>\n",
              "  </svg>\n",
              "      </button>\n",
              "      \n",
              "  <style>\n",
              "    .colab-df-container {\n",
              "      display:flex;\n",
              "      flex-wrap:wrap;\n",
              "      gap: 12px;\n",
              "    }\n",
              "\n",
              "    .colab-df-convert {\n",
              "      background-color: #E8F0FE;\n",
              "      border: none;\n",
              "      border-radius: 50%;\n",
              "      cursor: pointer;\n",
              "      display: none;\n",
              "      fill: #1967D2;\n",
              "      height: 32px;\n",
              "      padding: 0 0 0 0;\n",
              "      width: 32px;\n",
              "    }\n",
              "\n",
              "    .colab-df-convert:hover {\n",
              "      background-color: #E2EBFA;\n",
              "      box-shadow: 0px 1px 2px rgba(60, 64, 67, 0.3), 0px 1px 3px 1px rgba(60, 64, 67, 0.15);\n",
              "      fill: #174EA6;\n",
              "    }\n",
              "\n",
              "    [theme=dark] .colab-df-convert {\n",
              "      background-color: #3B4455;\n",
              "      fill: #D2E3FC;\n",
              "    }\n",
              "\n",
              "    [theme=dark] .colab-df-convert:hover {\n",
              "      background-color: #434B5C;\n",
              "      box-shadow: 0px 1px 3px 1px rgba(0, 0, 0, 0.15);\n",
              "      filter: drop-shadow(0px 1px 2px rgba(0, 0, 0, 0.3));\n",
              "      fill: #FFFFFF;\n",
              "    }\n",
              "  </style>\n",
              "\n",
              "      <script>\n",
              "        const buttonEl =\n",
              "          document.querySelector('#df-8300923b-c64d-4414-b92c-5432e4c1fd91 button.colab-df-convert');\n",
              "        buttonEl.style.display =\n",
              "          google.colab.kernel.accessAllowed ? 'block' : 'none';\n",
              "\n",
              "        async function convertToInteractive(key) {\n",
              "          const element = document.querySelector('#df-8300923b-c64d-4414-b92c-5432e4c1fd91');\n",
              "          const dataTable =\n",
              "            await google.colab.kernel.invokeFunction('convertToInteractive',\n",
              "                                                     [key], {});\n",
              "          if (!dataTable) return;\n",
              "\n",
              "          const docLinkHtml = 'Like what you see? Visit the ' +\n",
              "            '<a target=\"_blank\" href=https://colab.research.google.com/notebooks/data_table.ipynb>data table notebook</a>'\n",
              "            + ' to learn more about interactive tables.';\n",
              "          element.innerHTML = '';\n",
              "          dataTable['output_type'] = 'display_data';\n",
              "          await google.colab.output.renderOutput(dataTable, element);\n",
              "          const docLink = document.createElement('div');\n",
              "          docLink.innerHTML = docLinkHtml;\n",
              "          element.appendChild(docLink);\n",
              "        }\n",
              "      </script>\n",
              "    </div>\n",
              "  </div>\n",
              "  "
            ]
          },
          "metadata": {},
          "execution_count": 41
        },
        {
          "output_type": "display_data",
          "data": {
            "text/plain": [
              "<Figure size 432x288 with 1 Axes>"
            ],
            "image/png": "[encoded data removed]"
          },
          "metadata": {
            "needs_background": "light"
          }
        }
      ]
    },
    {
      "cell_type": "markdown",
      "source": [
        "* Parámetros de la distribución"
      ],
      "metadata": {
        "id": "J_gjlgiVM8tN"
      }
    },
    {
      "cell_type": "code",
      "source": [
        "fit.get_best(method = 'ks_statistic')"
      ],
      "metadata": {
        "colab": {
          "base_uri": "https://localhost:8080/"
        },
        "id": "O8R3tkHSxhZK",
        "outputId": "15861c7e-fe3e-4816-a9cd-9233adbf4db8"
      },
      "execution_count": 42,
      "outputs": [
        {
          "output_type": "execute_result",
          "data": {
            "text/plain": [
              "{'lognorm': {'s': 0.06313412809038915,\n",
              "  'loc': -0.10268901757946919,\n",
              "  'scale': 0.10275938893692241}}"
            ]
          },
          "metadata": {},
          "execution_count": 42
        }
      ]
    },
    {
      "cell_type": "markdown",
      "source": [
        "##### Simulación"
      ],
      "metadata": {
        "id": "hi3IEywsrTxw"
      }
    },
    {
      "cell_type": "code",
      "source": [
        "def PathsGBM(S0,mu,sigma,T,NS,M):    \n",
        "    Z = np.random.normal(0.0,1.0,[NS,M])\n",
        "    S = np.zeros([NS, M+1])\n",
        "    S[:,0] = S0\n",
        "    dt = T / M\n",
        "    for t in range(0,M):\n",
        "        S[:,t+1] = S[:,t] * np.exp((mu - 0.5 * sigma ** 2) * dt + sigma * np.sqrt(dt) *Z[:,t])\n",
        "    St = S \n",
        "    return St"
      ],
      "metadata": {
        "id": "7xV8w-EarEyB"
      },
      "execution_count": 43,
      "outputs": []
    },
    {
      "cell_type": "code",
      "source": [
        "Precios=Base['TRM (COP/USD)']\n",
        "S0 = Precios.iloc[-1] \n",
        "mu1 =0.06313412809038915  \n",
        "sigma1 =0.10275938893692241  \n",
        "T = 1/12 \n",
        "M = 22\n",
        "NS = 10000 \n",
        "St = PathsGBM(S0,mu1,sigma1,T,NS,M) \n",
        "St[:,-1].mean()"
      ],
      "metadata": {
        "id": "Svm0gEsZhtjB",
        "colab": {
          "base_uri": "https://localhost:8080/"
        },
        "outputId": "bf784a71-dea3-4d9c-b385-61819b85e82e"
      },
      "execution_count": 44,
      "outputs": [
        {
          "output_type": "execute_result",
          "data": {
            "text/plain": [
              "5086.06287406921"
            ]
          },
          "metadata": {},
          "execution_count": 44
        }
      ]
    },
    {
      "cell_type": "markdown",
      "source": [
        "***Análisis***\n",
        "\n",
        "En principio, se realizó un ajuste de probabilidad para los retornos y como resultado se obtuvo que los datos siguen una disrtibución de probabilidad lognormal. Seguido a ello, una vez establecidos los parámetros de dicha distribución se ejecutó una simulación del precio de la TRM para diciembre 04 de 2022 en donde el precio obtenido para esta fecha es de 5082.29 pesos.\n",
        "\n",
        "***Recomendación***\n",
        "\n",
        "En efecto, mediante la simulación del método de Monte Carlo se pudo observar que para el 04 de diciembre del 2022 el valor de la TRM resultó mayor que el del 04 de noviembre de 2022 (estimado por el modelo lineal), es decir, 5082.29 pesos > 4544.66 pesos. De otro lado, el modelo lineal arrojó como resultado que para el 04 de diciembre de 2022 el valor de la TRM sería de 5055.91 pesos, por lo tanto, se puede comprobar que se espera un mayor valor de la TRM a 4544.66 pesos.\n",
        "\n",
        "De este modo, se recomienda al importador acogerse a un forward a un plazo de un mes a una tasa de cambio de 4544.66 pesos, dado que en diciembre se espera que aumente la TRM. Con ello el importador podrá protegerse de la volatilidad que ha presentado el tipo de cambio en el caso colombiano y de esta forma proteger la operación de su negocio."
      ],
      "metadata": {
        "id": "M-aNJnS4lzlo"
      }
    }
  ]
}